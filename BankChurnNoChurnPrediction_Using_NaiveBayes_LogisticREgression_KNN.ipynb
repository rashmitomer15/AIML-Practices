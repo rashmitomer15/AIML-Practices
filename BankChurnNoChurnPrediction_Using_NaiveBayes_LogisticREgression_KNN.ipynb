{
 "cells": [
  {
   "cell_type": "markdown",
   "metadata": {},
   "source": [
    "# Bank Churn No Churn Identification"
   ]
  },
  {
   "cell_type": "markdown",
   "metadata": {},
   "source": [
    "The case study is from an open-source dataset from Kaggle. \n",
    "\n",
    "Link to the Kaggle project site:\n",
    "\n",
    "https://www.kaggle.com/barelydedicated/bank-customer-churn-modeling\n",
    "\n",
    "Given a Bank customer, can we build a classifier that can determine whether they will leave or not using Neural networks?\n",
    "\n",
    "Let us see how the Machine learning Algo based model perform on this dataset."
   ]
  },
  {
   "cell_type": "markdown",
   "metadata": {},
   "source": [
    "### Read the data set"
   ]
  },
  {
   "cell_type": "code",
   "execution_count": 1,
   "metadata": {},
   "outputs": [],
   "source": [
    "import pandas as pd\n",
    "import numpy as np"
   ]
  },
  {
   "cell_type": "code",
   "execution_count": 2,
   "metadata": {},
   "outputs": [],
   "source": [
    "data = pd.read_csv(\"Churn_Modelling.csv\")"
   ]
  },
  {
   "cell_type": "code",
   "execution_count": 3,
   "metadata": {},
   "outputs": [
    {
     "data": {
      "text/html": [
       "<div>\n",
       "<style scoped>\n",
       "    .dataframe tbody tr th:only-of-type {\n",
       "        vertical-align: middle;\n",
       "    }\n",
       "\n",
       "    .dataframe tbody tr th {\n",
       "        vertical-align: top;\n",
       "    }\n",
       "\n",
       "    .dataframe thead th {\n",
       "        text-align: right;\n",
       "    }\n",
       "</style>\n",
       "<table border=\"1\" class=\"dataframe\">\n",
       "  <thead>\n",
       "    <tr style=\"text-align: right;\">\n",
       "      <th></th>\n",
       "      <th>RowNumber</th>\n",
       "      <th>CustomerId</th>\n",
       "      <th>Surname</th>\n",
       "      <th>CreditScore</th>\n",
       "      <th>Geography</th>\n",
       "      <th>Gender</th>\n",
       "      <th>Age</th>\n",
       "      <th>Tenure</th>\n",
       "      <th>Balance</th>\n",
       "      <th>NumOfProducts</th>\n",
       "      <th>HasCrCard</th>\n",
       "      <th>IsActiveMember</th>\n",
       "      <th>EstimatedSalary</th>\n",
       "      <th>Exited</th>\n",
       "    </tr>\n",
       "  </thead>\n",
       "  <tbody>\n",
       "    <tr>\n",
       "      <th>0</th>\n",
       "      <td>1</td>\n",
       "      <td>15634602</td>\n",
       "      <td>Hargrave</td>\n",
       "      <td>619</td>\n",
       "      <td>France</td>\n",
       "      <td>Female</td>\n",
       "      <td>42</td>\n",
       "      <td>2</td>\n",
       "      <td>0.00</td>\n",
       "      <td>1</td>\n",
       "      <td>1</td>\n",
       "      <td>1</td>\n",
       "      <td>101348.88</td>\n",
       "      <td>1</td>\n",
       "    </tr>\n",
       "    <tr>\n",
       "      <th>1</th>\n",
       "      <td>2</td>\n",
       "      <td>15647311</td>\n",
       "      <td>Hill</td>\n",
       "      <td>608</td>\n",
       "      <td>Spain</td>\n",
       "      <td>Female</td>\n",
       "      <td>41</td>\n",
       "      <td>1</td>\n",
       "      <td>83807.86</td>\n",
       "      <td>1</td>\n",
       "      <td>0</td>\n",
       "      <td>1</td>\n",
       "      <td>112542.58</td>\n",
       "      <td>0</td>\n",
       "    </tr>\n",
       "  </tbody>\n",
       "</table>\n",
       "</div>"
      ],
      "text/plain": [
       "   RowNumber  CustomerId   Surname  CreditScore Geography  Gender  Age  \\\n",
       "0          1    15634602  Hargrave          619    France  Female   42   \n",
       "1          2    15647311      Hill          608     Spain  Female   41   \n",
       "\n",
       "   Tenure   Balance  NumOfProducts  HasCrCard  IsActiveMember  \\\n",
       "0       2      0.00              1          1               1   \n",
       "1       1  83807.86              1          0               1   \n",
       "\n",
       "   EstimatedSalary  Exited  \n",
       "0        101348.88       1  \n",
       "1        112542.58       0  "
      ]
     },
     "execution_count": 3,
     "metadata": {},
     "output_type": "execute_result"
    }
   ],
   "source": [
    "data.head(2)"
   ]
  },
  {
   "cell_type": "code",
   "execution_count": 4,
   "metadata": {},
   "outputs": [
    {
     "data": {
      "text/html": [
       "<div>\n",
       "<style scoped>\n",
       "    .dataframe tbody tr th:only-of-type {\n",
       "        vertical-align: middle;\n",
       "    }\n",
       "\n",
       "    .dataframe tbody tr th {\n",
       "        vertical-align: top;\n",
       "    }\n",
       "\n",
       "    .dataframe thead th {\n",
       "        text-align: right;\n",
       "    }\n",
       "</style>\n",
       "<table border=\"1\" class=\"dataframe\">\n",
       "  <thead>\n",
       "    <tr style=\"text-align: right;\">\n",
       "      <th></th>\n",
       "      <th>0</th>\n",
       "      <th>1</th>\n",
       "    </tr>\n",
       "  </thead>\n",
       "  <tbody>\n",
       "    <tr>\n",
       "      <th>RowNumber</th>\n",
       "      <td>1</td>\n",
       "      <td>2</td>\n",
       "    </tr>\n",
       "    <tr>\n",
       "      <th>CustomerId</th>\n",
       "      <td>15634602</td>\n",
       "      <td>15647311</td>\n",
       "    </tr>\n",
       "    <tr>\n",
       "      <th>Surname</th>\n",
       "      <td>Hargrave</td>\n",
       "      <td>Hill</td>\n",
       "    </tr>\n",
       "    <tr>\n",
       "      <th>CreditScore</th>\n",
       "      <td>619</td>\n",
       "      <td>608</td>\n",
       "    </tr>\n",
       "    <tr>\n",
       "      <th>Geography</th>\n",
       "      <td>France</td>\n",
       "      <td>Spain</td>\n",
       "    </tr>\n",
       "    <tr>\n",
       "      <th>Gender</th>\n",
       "      <td>Female</td>\n",
       "      <td>Female</td>\n",
       "    </tr>\n",
       "    <tr>\n",
       "      <th>Age</th>\n",
       "      <td>42</td>\n",
       "      <td>41</td>\n",
       "    </tr>\n",
       "    <tr>\n",
       "      <th>Tenure</th>\n",
       "      <td>2</td>\n",
       "      <td>1</td>\n",
       "    </tr>\n",
       "    <tr>\n",
       "      <th>Balance</th>\n",
       "      <td>0</td>\n",
       "      <td>83807.9</td>\n",
       "    </tr>\n",
       "    <tr>\n",
       "      <th>NumOfProducts</th>\n",
       "      <td>1</td>\n",
       "      <td>1</td>\n",
       "    </tr>\n",
       "    <tr>\n",
       "      <th>HasCrCard</th>\n",
       "      <td>1</td>\n",
       "      <td>0</td>\n",
       "    </tr>\n",
       "    <tr>\n",
       "      <th>IsActiveMember</th>\n",
       "      <td>1</td>\n",
       "      <td>1</td>\n",
       "    </tr>\n",
       "    <tr>\n",
       "      <th>EstimatedSalary</th>\n",
       "      <td>101349</td>\n",
       "      <td>112543</td>\n",
       "    </tr>\n",
       "    <tr>\n",
       "      <th>Exited</th>\n",
       "      <td>1</td>\n",
       "      <td>0</td>\n",
       "    </tr>\n",
       "  </tbody>\n",
       "</table>\n",
       "</div>"
      ],
      "text/plain": [
       "                        0         1\n",
       "RowNumber               1         2\n",
       "CustomerId       15634602  15647311\n",
       "Surname          Hargrave      Hill\n",
       "CreditScore           619       608\n",
       "Geography          France     Spain\n",
       "Gender             Female    Female\n",
       "Age                    42        41\n",
       "Tenure                  2         1\n",
       "Balance                 0   83807.9\n",
       "NumOfProducts           1         1\n",
       "HasCrCard               1         0\n",
       "IsActiveMember          1         1\n",
       "EstimatedSalary    101349    112543\n",
       "Exited                  1         0"
      ]
     },
     "execution_count": 4,
     "metadata": {},
     "output_type": "execute_result"
    }
   ],
   "source": [
    "data.head(2).T"
   ]
  },
  {
   "cell_type": "markdown",
   "metadata": {},
   "source": [
    "# Process non-numeric data"
   ]
  },
  {
   "cell_type": "markdown",
   "metadata": {},
   "source": [
    "Separate data into train and test sets ( 70:30). Use random seed as 7 "
   ]
  },
  {
   "cell_type": "markdown",
   "metadata": {},
   "source": [
    "# 1. Build best accuracy using Logistic Regression to find defaulters\n",
    "1. Calculate train and test accuracies\n",
    "2. Print 'Confusion Matrix'\n",
    "3. Calculate Precision and Recall\n",
    "4. Calculate ROC-AUC"
   ]
  },
  {
   "cell_type": "code",
   "execution_count": 5,
   "metadata": {},
   "outputs": [
    {
     "name": "stderr",
     "output_type": "stream",
     "text": [
      "C:\\Users\\rashm\\Anaconda3.6\\lib\\site-packages\\sklearn\\utils\\validation.py:760: DataConversionWarning: A column-vector y was passed when a 1d array was expected. Please change the shape of y to (n_samples, ), for example using ravel().\n",
      "  y = column_or_1d(y, warn=True)\n"
     ]
    },
    {
     "name": "stdout",
     "output_type": "stream",
     "text": [
      "Model score : 0.7985714285714286 m1_score_test= 0.791\n"
     ]
    }
   ],
   "source": [
    "from sklearn.model_selection import train_test_split\n",
    "from sklearn.linear_model import LogisticRegression\n",
    "from sklearn import metrics\n",
    "from sklearn.preprocessing import StandardScaler\n",
    "\n",
    "#data cleaning\n",
    "data=pd.get_dummies(data,drop_first=True)\n",
    "\n",
    "# Decision tree in Python can take only numerical / categorical colums. It cannot take string / obeject types. \n",
    "# The following code loops through each column and checks if the column type is object then converts those columns\n",
    "# into categorical with each distinct value becoming a category or code.\n",
    "\n",
    "for feature in data.columns: # Loop through all columns in the dataframe\n",
    "    if data[feature].dtype == 'object': # Only apply for columns with categorical strings\n",
    "        data[feature] = pd.Categorical(data[feature]).codes # Replace strings with an integer\n",
    "\n",
    " # many columns are of type object i.e. strings. These need to be converted to ordinal type\n",
    "x = data.drop([\"Exited\"], axis=1)\n",
    "y = data[[\"Exited\"]]\n",
    "\n",
    "x_train, x_test, y_train, y_test = train_test_split(x, y, test_size=0.3, random_state=1)\n",
    "\n",
    "##transform the data\n",
    "scalar=StandardScaler()\n",
    "scalar.fit(x_train) #Note: train data only used to fit;not test\n",
    "\n",
    "x_train_std=scalar.transform(x_train)  # this will do (mean-m)/np.sqrt(v)\n",
    "x_test_std=scalar.transform(x_test)\n",
    "\n",
    "m1 = LogisticRegression()\n",
    "m1.fit(x_train, y_train)\n",
    "m1_score_train = m1.score(x_train, y_train) #test accuracy\n",
    "m1_score = m1.score(x_test, y_test) #test accuracy\n",
    "print('Model score :',m1_score_train,'m1_score_test=',m1_score)"
   ]
  },
  {
   "cell_type": "code",
   "execution_count": 6,
   "metadata": {},
   "outputs": [
    {
     "data": {
      "text/plain": [
       "array([[2373,  627],\n",
       "       [   0,    0]], dtype=int64)"
      ]
     },
     "execution_count": 6,
     "metadata": {},
     "output_type": "execute_result"
    }
   ],
   "source": [
    "from sklearn.metrics import accuracy_score, confusion_matrix, recall_score, precision_score, f1_score, auc, roc_curve\n",
    "# make predictions\n",
    "predicted = m1.predict(x_test)\n",
    "metrics.confusion_matrix(predicted, y_test)"
   ]
  },
  {
   "cell_type": "code",
   "execution_count": 7,
   "metadata": {},
   "outputs": [
    {
     "name": "stdout",
     "output_type": "stream",
     "text": [
      "tAccuracy= 0.791 ,tRecall= 0.0 ,tPrecision= 0.0\n"
     ]
    },
    {
     "name": "stderr",
     "output_type": "stream",
     "text": [
      "C:\\Users\\rashm\\Anaconda3.6\\lib\\site-packages\\sklearn\\metrics\\_classification.py:1272: UndefinedMetricWarning: Precision is ill-defined and being set to 0.0 due to no predicted samples. Use `zero_division` parameter to control this behavior.\n",
      "  _warn_prf(average, modifier, msg_start, len(result))\n"
     ]
    }
   ],
   "source": [
    "#Precision and Recall of test\n",
    "tAccuracy = accuracy_score(y_test, predicted)\n",
    "tRecall = recall_score(y_test, predicted)\n",
    "tPrecision = precision_score(y_test, predicted)\n",
    "print('tAccuracy=',tAccuracy,',tRecall=',tRecall,',tPrecision=',tPrecision)"
   ]
  },
  {
   "cell_type": "code",
   "execution_count": 8,
   "metadata": {},
   "outputs": [
    {
     "data": {
      "text/plain": [
       "0.5702369358633914"
      ]
     },
     "execution_count": 8,
     "metadata": {},
     "output_type": "execute_result"
    }
   ],
   "source": [
    "#rocauc\n",
    "from sklearn.metrics import roc_curve, auc\n",
    "y_predictProb = m1.predict_proba(x_test)\n",
    "fpr, tpr, thresholds = roc_curve(y_test, y_predictProb[::,1])\n",
    "roc_auc = auc(fpr, tpr)\n",
    "roc_auc"
   ]
  },
  {
   "cell_type": "markdown",
   "metadata": {},
   "source": [
    "# 2. Build best accuracy using Naive Bayes to find defaulters\n",
    "1. Calculate train and test accuracies\n",
    "2. Print 'Confusion Matrix'\n",
    "3. Calculate Precision and Recall\n",
    "4. Calculate ROC-AUC"
   ]
  },
  {
   "cell_type": "code",
   "execution_count": 9,
   "metadata": {},
   "outputs": [
    {
     "name": "stderr",
     "output_type": "stream",
     "text": [
      "C:\\Users\\rashm\\Anaconda3.6\\lib\\site-packages\\sklearn\\naive_bayes.py:206: DataConversionWarning: A column-vector y was passed when a 1d array was expected. Please change the shape of y to (n_samples, ), for example using ravel().\n",
      "  y = column_or_1d(y, warn=True)\n"
     ]
    },
    {
     "name": "stdout",
     "output_type": "stream",
     "text": [
      "Model score train : 0.7877142857142857 m2_score_test= 0.782\n"
     ]
    }
   ],
   "source": [
    "from sklearn.model_selection import train_test_split\n",
    "from sklearn.naive_bayes import GaussianNB\n",
    "from sklearn import metrics\n",
    "from sklearn.preprocessing import StandardScaler\n",
    "\n",
    "#data cleaning\n",
    "#data cleaning\n",
    "data=pd.get_dummies(data,drop_first=True)\n",
    "\n",
    "# Decision tree in Python can take only numerical / categorical colums. It cannot take string / obeject types. \n",
    "# The following code loops through each column and checks if the column type is object then converts those columns\n",
    "# into categorical with each distinct value becoming a category or code.\n",
    "\n",
    "for feature in data.columns: # Loop through all columns in the dataframe\n",
    "    if data[feature].dtype == 'object': # Only apply for columns with categorical strings\n",
    "        data[feature] = pd.Categorical(data[feature]).codes # Replace strings with an integer\n",
    "\n",
    " # many columns are of type object i.e. strings. These need to be converted to ordinal type\n",
    "x = data.drop([\"Exited\"], axis=1)\n",
    "y = data[[\"Exited\"]]\n",
    "\n",
    "x_train, x_test, y_train, y_test = train_test_split(x, y, test_size=0.3, random_state=1)\n",
    "\n",
    "##transform the data\n",
    "scalar=StandardScaler()\n",
    "scalar.fit(x_train) #Note: train data only used to fit;not test\n",
    "\n",
    "x_train_std=scalar.transform(x_train)  # this will do (mean-m)/np.sqrt(v)\n",
    "x_test_std=scalar.transform(x_test)\n",
    "\n",
    "m2 = GaussianNB()\n",
    "m2.fit(x_train, y_train)\n",
    "m2_score_train = m2.score(x_train, y_train) #test accuracy\n",
    "m2_score = m2.score(x_test, y_test) #test accuracy\n",
    "print('Model score train :',m2_score_train,'m2_score_test=',m2_score)"
   ]
  },
  {
   "cell_type": "code",
   "execution_count": 10,
   "metadata": {},
   "outputs": [
    {
     "data": {
      "text/plain": [
       "array([[2312,  593],\n",
       "       [  61,   34]], dtype=int64)"
      ]
     },
     "execution_count": 10,
     "metadata": {},
     "output_type": "execute_result"
    }
   ],
   "source": [
    "from sklearn.metrics import accuracy_score, confusion_matrix, recall_score, precision_score, f1_score, auc, roc_curve\n",
    "# make predictions\n",
    "predicted = m2.predict(x_test)\n",
    "metrics.confusion_matrix(predicted, y_test)"
   ]
  },
  {
   "cell_type": "code",
   "execution_count": 11,
   "metadata": {},
   "outputs": [
    {
     "name": "stdout",
     "output_type": "stream",
     "text": [
      "Precision and Recall of test\n",
      "tAccuracy= 0.782 ,tRecall= 0.05422647527910686 ,tPrecision= 0.35789473684210527\n"
     ]
    }
   ],
   "source": [
    "#Precision and Recall of train\n",
    "print('Precision and Recall of test')\n",
    "tAccuracy = accuracy_score(y_test, predicted)\n",
    "tRecall = recall_score(y_test, predicted)\n",
    "tPrecision = precision_score(y_test, predicted)\n",
    "print('tAccuracy=',tAccuracy,',tRecall=',tRecall,',tPrecision=',tPrecision)"
   ]
  },
  {
   "cell_type": "code",
   "execution_count": 12,
   "metadata": {},
   "outputs": [
    {
     "data": {
      "text/plain": [
       "0.751022098017906"
      ]
     },
     "execution_count": 12,
     "metadata": {},
     "output_type": "execute_result"
    }
   ],
   "source": [
    "#rocauc\n",
    "from sklearn.metrics import roc_curve, auc\n",
    "y_predictProb = m2.predict_proba(x_test)\n",
    "fpr, tpr, thresholds = roc_curve(y_test, y_predictProb[::,1])\n",
    "roc_auc = auc(fpr, tpr)\n",
    "roc_auc"
   ]
  },
  {
   "cell_type": "markdown",
   "metadata": {},
   "source": [
    "# 3. Build best accuracy using KNN Classifier to find defaulters\n",
    "1. Calculate train and test accuracies\n",
    "2. Print 'Confusion Matrix'\n",
    "3. Calculate Precision and Recall"
   ]
  },
  {
   "cell_type": "code",
   "execution_count": 13,
   "metadata": {},
   "outputs": [
    {
     "name": "stderr",
     "output_type": "stream",
     "text": [
      "C:\\Users\\rashm\\Anaconda3.6\\lib\\site-packages\\ipykernel_launcher.py:32: DataConversionWarning: A column-vector y was passed when a 1d array was expected. Please change the shape of y to (n_samples, ), for example using ravel().\n"
     ]
    },
    {
     "name": "stdout",
     "output_type": "stream",
     "text": [
      "Model score train : 0.8348571428571429 m2_score_test= 0.7356666666666667\n"
     ]
    }
   ],
   "source": [
    "from sklearn.model_selection import train_test_split\n",
    "from sklearn import metrics\n",
    "from sklearn.preprocessing import StandardScaler\n",
    "from sklearn.neighbors import KNeighborsClassifier\n",
    "\n",
    "#data cleaning\n",
    "data=pd.get_dummies(data,drop_first=True)\n",
    "\n",
    "# Decision tree in Python can take only numerical / categorical colums. It cannot take string / obeject types. \n",
    "# The following code loops through each column and checks if the column type is object then converts those columns\n",
    "# into categorical with each distinct value becoming a category or code.\n",
    "\n",
    "for feature in data.columns: # Loop through all columns in the dataframe\n",
    "    if data[feature].dtype == 'object': # Only apply for columns with categorical strings\n",
    "        data[feature] = pd.Categorical(data[feature]).codes # Replace strings with an integer\n",
    "\n",
    " # many columns are of type object i.e. strings. These need to be converted to ordinal type\n",
    "x = data.drop([\"Exited\"], axis=1)\n",
    "y = data[[\"Exited\"]]\n",
    "\n",
    "x_train, x_test, y_train, y_test = train_test_split(x, y, test_size=0.3, random_state=1)\n",
    "\n",
    "##transform the data\n",
    "scalar=StandardScaler()\n",
    "scalar.fit(x_train) #Note: train data only used to fit;not test\n",
    "\n",
    "x_train_std=scalar.transform(x_train)  # this will do (mean-m)/np.sqrt(v)\n",
    "x_test_std=scalar.transform(x_test)\n",
    "\n",
    "NNH = KNeighborsClassifier(n_neighbors=3)\n",
    "#NNH = KNeighborsClassifier()\n",
    "NNH.fit(x_train, y_train)\n",
    "m2_score=NNH.score(x_test, y_test)\n",
    "m2_score_train=NNH.score(x_train, y_train)\n",
    "print('Model score train :',m2_score_train,'m2_score_test=',m2_score)\n"
   ]
  }
 ],
 "metadata": {
  "kernelspec": {
   "display_name": "Python 3",
   "language": "python",
   "name": "python3"
  },
  "language_info": {
   "codemirror_mode": {
    "name": "ipython",
    "version": 3
   },
   "file_extension": ".py",
   "mimetype": "text/x-python",
   "name": "python",
   "nbconvert_exporter": "python",
   "pygments_lexer": "ipython3",
   "version": "3.7.6"
  }
 },
 "nbformat": 4,
 "nbformat_minor": 2
}
