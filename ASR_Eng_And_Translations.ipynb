{
  "cells": [
    {
      "cell_type": "markdown",
      "id": "5e6c51b1",
      "metadata": {
        "id": "5e6c51b1"
      },
      "source": [
        "# Automatic Speech Recognition- ENGLISH\n"
      ]
    },
    {
      "cell_type": "code",
      "execution_count": 2,
      "id": "5qYczv5bb10d",
      "metadata": {
        "colab": {
          "base_uri": "https://localhost:8080/"
        },
        "id": "5qYczv5bb10d",
        "outputId": "ba97eb3f-2036-4310-d2f0-3ea8ad3cdb37"
      },
      "outputs": [
        {
          "name": "stdout",
          "output_type": "stream",
          "text": [
            "Requirement already satisfied: transformers in c:\\users\\etomras\\appdata\\local\\programs\\python\\python39\\lib\\site-packages (4.42.3)\n",
            "Requirement already satisfied: filelock in c:\\users\\etomras\\appdata\\local\\programs\\python\\python39\\lib\\site-packages (from transformers) (3.15.4)\n",
            "Requirement already satisfied: huggingface-hub<1.0,>=0.23.2 in c:\\users\\etomras\\appdata\\local\\programs\\python\\python39\\lib\\site-packages (from transformers) (0.23.4)\n",
            "Requirement already satisfied: numpy<2.0,>=1.17 in c:\\users\\etomras\\appdata\\local\\programs\\python\\python39\\lib\\site-packages (from transformers) (1.23.4)\n",
            "Requirement already satisfied: packaging>=20.0 in c:\\users\\etomras\\appdata\\local\\programs\\python\\python39\\lib\\site-packages (from transformers) (21.3)\n",
            "Requirement already satisfied: pyyaml>=5.1 in c:\\users\\etomras\\appdata\\local\\programs\\python\\python39\\lib\\site-packages (from transformers) (6.0)\n",
            "Requirement already satisfied: regex!=2019.12.17 in c:\\users\\etomras\\appdata\\local\\programs\\python\\python39\\lib\\site-packages (from transformers) (2024.5.15)\n",
            "Requirement already satisfied: requests in c:\\users\\etomras\\appdata\\local\\programs\\python\\python39\\lib\\site-packages (from transformers) (2.32.3)\n",
            "Requirement already satisfied: safetensors>=0.4.1 in c:\\users\\etomras\\appdata\\local\\programs\\python\\python39\\lib\\site-packages (from transformers) (0.4.3)\n",
            "Requirement already satisfied: tokenizers<0.20,>=0.19 in c:\\users\\etomras\\appdata\\local\\programs\\python\\python39\\lib\\site-packages (from transformers) (0.19.1)\n",
            "Requirement already satisfied: tqdm>=4.27 in c:\\users\\etomras\\appdata\\local\\programs\\python\\python39\\lib\\site-packages (from transformers) (4.66.4)\n",
            "Requirement already satisfied: fsspec>=2023.5.0 in c:\\users\\etomras\\appdata\\local\\programs\\python\\python39\\lib\\site-packages (from huggingface-hub<1.0,>=0.23.2->transformers) (2024.6.1)\n",
            "Requirement already satisfied: typing-extensions>=3.7.4.3 in c:\\users\\etomras\\appdata\\local\\programs\\python\\python39\\lib\\site-packages (from huggingface-hub<1.0,>=0.23.2->transformers) (4.12.2)\n",
            "Requirement already satisfied: pyparsing!=3.0.5,>=2.0.2 in c:\\users\\etomras\\appdata\\local\\programs\\python\\python39\\lib\\site-packages (from packaging>=20.0->transformers) (3.0.9)\n",
            "Requirement already satisfied: colorama in c:\\users\\etomras\\appdata\\local\\programs\\python\\python39\\lib\\site-packages (from tqdm>=4.27->transformers) (0.4.6)\n",
            "Requirement already satisfied: charset-normalizer<4,>=2 in c:\\users\\etomras\\appdata\\local\\programs\\python\\python39\\lib\\site-packages (from requests->transformers) (2.1.1)\n",
            "Requirement already satisfied: idna<4,>=2.5 in c:\\users\\etomras\\appdata\\local\\programs\\python\\python39\\lib\\site-packages (from requests->transformers) (3.4)\n",
            "Requirement already satisfied: urllib3<3,>=1.21.1 in c:\\users\\etomras\\appdata\\local\\programs\\python\\python39\\lib\\site-packages (from requests->transformers) (2.2.2)\n",
            "Requirement already satisfied: certifi>=2017.4.17 in c:\\users\\etomras\\appdata\\local\\programs\\python\\python39\\lib\\site-packages (from requests->transformers) (2022.9.24)\n",
            "Note: you may need to restart the kernel to use updated packages.\n",
            "Requirement already satisfied: datasets in c:\\users\\etomras\\appdata\\local\\programs\\python\\python39\\lib\\site-packages (2.21.0)\n",
            "Requirement already satisfied: filelock in c:\\users\\etomras\\appdata\\local\\programs\\python\\python39\\lib\\site-packages (from datasets) (3.15.4)\n",
            "Requirement already satisfied: numpy>=1.17 in c:\\users\\etomras\\appdata\\local\\programs\\python\\python39\\lib\\site-packages (from datasets) (1.23.4)\n",
            "Requirement already satisfied: pyarrow>=15.0.0 in c:\\users\\etomras\\appdata\\local\\programs\\python\\python39\\lib\\site-packages (from datasets) (17.0.0)\n",
            "Requirement already satisfied: dill<0.3.9,>=0.3.0 in c:\\users\\etomras\\appdata\\local\\programs\\python\\python39\\lib\\site-packages (from datasets) (0.3.8)\n",
            "Requirement already satisfied: pandas in c:\\users\\etomras\\appdata\\local\\programs\\python\\python39\\lib\\site-packages (from datasets) (1.3.5)\n",
            "Requirement already satisfied: requests>=2.32.2 in c:\\users\\etomras\\appdata\\local\\programs\\python\\python39\\lib\\site-packages (from datasets) (2.32.3)\n",
            "Requirement already satisfied: tqdm>=4.66.3 in c:\\users\\etomras\\appdata\\local\\programs\\python\\python39\\lib\\site-packages (from datasets) (4.66.4)\n",
            "Requirement already satisfied: xxhash in c:\\users\\etomras\\appdata\\local\\programs\\python\\python39\\lib\\site-packages (from datasets) (3.5.0)\n",
            "Requirement already satisfied: multiprocess in c:\\users\\etomras\\appdata\\local\\programs\\python\\python39\\lib\\site-packages (from datasets) (0.70.16)\n",
            "Requirement already satisfied: fsspec<=2024.6.1,>=2023.1.0 in c:\\users\\etomras\\appdata\\local\\programs\\python\\python39\\lib\\site-packages (from fsspec[http]<=2024.6.1,>=2023.1.0->datasets) (2024.6.1)\n",
            "Requirement already satisfied: aiohttp in c:\\users\\etomras\\appdata\\local\\programs\\python\\python39\\lib\\site-packages (from datasets) (3.10.5)\n",
            "Requirement already satisfied: huggingface-hub>=0.21.2 in c:\\users\\etomras\\appdata\\local\\programs\\python\\python39\\lib\\site-packages (from datasets) (0.23.4)\n",
            "Requirement already satisfied: packaging in c:\\users\\etomras\\appdata\\local\\programs\\python\\python39\\lib\\site-packages (from datasets) (21.3)\n",
            "Requirement already satisfied: pyyaml>=5.1 in c:\\users\\etomras\\appdata\\local\\programs\\python\\python39\\lib\\site-packages (from datasets) (6.0)\n",
            "Requirement already satisfied: aiohappyeyeballs>=2.3.0 in c:\\users\\etomras\\appdata\\local\\programs\\python\\python39\\lib\\site-packages (from aiohttp->datasets) (2.4.0)\n",
            "Requirement already satisfied: aiosignal>=1.1.2 in c:\\users\\etomras\\appdata\\local\\programs\\python\\python39\\lib\\site-packages (from aiohttp->datasets) (1.3.1)\n",
            "Requirement already satisfied: attrs>=17.3.0 in c:\\users\\etomras\\appdata\\local\\programs\\python\\python39\\lib\\site-packages (from aiohttp->datasets) (24.2.0)\n",
            "Requirement already satisfied: frozenlist>=1.1.1 in c:\\users\\etomras\\appdata\\local\\programs\\python\\python39\\lib\\site-packages (from aiohttp->datasets) (1.4.1)\n",
            "Requirement already satisfied: multidict<7.0,>=4.5 in c:\\users\\etomras\\appdata\\local\\programs\\python\\python39\\lib\\site-packages (from aiohttp->datasets) (6.0.5)\n",
            "Requirement already satisfied: yarl<2.0,>=1.0 in c:\\users\\etomras\\appdata\\local\\programs\\python\\python39\\lib\\site-packages (from aiohttp->datasets) (1.9.8)\n",
            "Requirement already satisfied: async-timeout<5.0,>=4.0 in c:\\users\\etomras\\appdata\\local\\programs\\python\\python39\\lib\\site-packages (from aiohttp->datasets) (4.0.3)\n",
            "Requirement already satisfied: typing-extensions>=3.7.4.3 in c:\\users\\etomras\\appdata\\local\\programs\\python\\python39\\lib\\site-packages (from huggingface-hub>=0.21.2->datasets) (4.12.2)\n",
            "Requirement already satisfied: pyparsing!=3.0.5,>=2.0.2 in c:\\users\\etomras\\appdata\\local\\programs\\python\\python39\\lib\\site-packages (from packaging->datasets) (3.0.9)\n",
            "Requirement already satisfied: charset-normalizer<4,>=2 in c:\\users\\etomras\\appdata\\local\\programs\\python\\python39\\lib\\site-packages (from requests>=2.32.2->datasets) (2.1.1)\n",
            "Requirement already satisfied: idna<4,>=2.5 in c:\\users\\etomras\\appdata\\local\\programs\\python\\python39\\lib\\site-packages (from requests>=2.32.2->datasets) (3.4)\n",
            "Requirement already satisfied: urllib3<3,>=1.21.1 in c:\\users\\etomras\\appdata\\local\\programs\\python\\python39\\lib\\site-packages (from requests>=2.32.2->datasets) (2.2.2)\n",
            "Requirement already satisfied: certifi>=2017.4.17 in c:\\users\\etomras\\appdata\\local\\programs\\python\\python39\\lib\\site-packages (from requests>=2.32.2->datasets) (2022.9.24)\n",
            "Requirement already satisfied: colorama in c:\\users\\etomras\\appdata\\local\\programs\\python\\python39\\lib\\site-packages (from tqdm>=4.66.3->datasets) (0.4.6)\n",
            "Requirement already satisfied: python-dateutil>=2.7.3 in c:\\users\\etomras\\appdata\\local\\programs\\python\\python39\\lib\\site-packages (from pandas->datasets) (2.8.2)\n",
            "Requirement already satisfied: pytz>=2017.3 in c:\\users\\etomras\\appdata\\local\\programs\\python\\python39\\lib\\site-packages (from pandas->datasets) (2022.6)\n",
            "Requirement already satisfied: six>=1.5 in c:\\users\\etomras\\appdata\\local\\programs\\python\\python39\\lib\\site-packages (from python-dateutil>=2.7.3->pandas->datasets) (1.16.0)\n",
            "Note: you may need to restart the kernel to use updated packages.\n",
            "Requirement already satisfied: soundfile in c:\\users\\etomras\\appdata\\local\\programs\\python\\python39\\lib\\site-packages (0.12.1)Note: you may need to restart the kernel to use updated packages.\n",
            "\n",
            "Requirement already satisfied: cffi>=1.0 in c:\\users\\etomras\\appdata\\local\\programs\\python\\python39\\lib\\site-packages (from soundfile) (1.17.0)\n",
            "Requirement already satisfied: pycparser in c:\\users\\etomras\\appdata\\local\\programs\\python\\python39\\lib\\site-packages (from cffi>=1.0->soundfile) (2.22)\n",
            "Requirement already satisfied: librosa in c:\\users\\etomras\\appdata\\local\\programs\\python\\python39\\lib\\site-packages (0.10.2.post1)\n",
            "Requirement already satisfied: audioread>=2.1.9 in c:\\users\\etomras\\appdata\\local\\programs\\python\\python39\\lib\\site-packages (from librosa) (3.0.1)\n",
            "Requirement already satisfied: numpy!=1.22.0,!=1.22.1,!=1.22.2,>=1.20.3 in c:\\users\\etomras\\appdata\\local\\programs\\python\\python39\\lib\\site-packages (from librosa) (1.23.4)\n",
            "Requirement already satisfied: scipy>=1.2.0 in c:\\users\\etomras\\appdata\\local\\programs\\python\\python39\\lib\\site-packages (from librosa) (1.13.1)\n",
            "Requirement already satisfied: scikit-learn>=0.20.0 in c:\\users\\etomras\\appdata\\local\\programs\\python\\python39\\lib\\site-packages (from librosa) (1.5.1)\n",
            "Requirement already satisfied: joblib>=0.14 in c:\\users\\etomras\\appdata\\local\\programs\\python\\python39\\lib\\site-packages (from librosa) (1.2.0)\n",
            "Requirement already satisfied: decorator>=4.3.0 in c:\\users\\etomras\\appdata\\roaming\\python\\python39\\site-packages (from librosa) (5.1.1)\n",
            "Requirement already satisfied: numba>=0.51.0 in c:\\users\\etomras\\appdata\\local\\programs\\python\\python39\\lib\\site-packages (from librosa) (0.60.0)\n",
            "Requirement already satisfied: soundfile>=0.12.1 in c:\\users\\etomras\\appdata\\local\\programs\\python\\python39\\lib\\site-packages (from librosa) (0.12.1)\n",
            "Requirement already satisfied: pooch>=1.1 in c:\\users\\etomras\\appdata\\local\\programs\\python\\python39\\lib\\site-packages (from librosa) (1.8.2)\n",
            "Requirement already satisfied: soxr>=0.3.2 in c:\\users\\etomras\\appdata\\local\\programs\\python\\python39\\lib\\site-packages (from librosa) (0.5.0.post1)\n",
            "Requirement already satisfied: typing-extensions>=4.1.1 in c:\\users\\etomras\\appdata\\local\\programs\\python\\python39\\lib\\site-packages (from librosa) (4.12.2)\n",
            "Requirement already satisfied: lazy-loader>=0.1 in c:\\users\\etomras\\appdata\\local\\programs\\python\\python39\\lib\\site-packages (from librosa) (0.4)\n",
            "Requirement already satisfied: msgpack>=1.0 in c:\\users\\etomras\\appdata\\local\\programs\\python\\python39\\lib\\site-packages (from librosa) (1.0.8)\n",
            "Requirement already satisfied: packaging in c:\\users\\etomras\\appdata\\local\\programs\\python\\python39\\lib\\site-packages (from lazy-loader>=0.1->librosa) (21.3)\n",
            "Requirement already satisfied: llvmlite<0.44,>=0.43.0dev0 in c:\\users\\etomras\\appdata\\local\\programs\\python\\python39\\lib\\site-packages (from numba>=0.51.0->librosa) (0.43.0)\n",
            "Requirement already satisfied: platformdirs>=2.5.0 in c:\\users\\etomras\\appdata\\roaming\\python\\python39\\site-packages (from pooch>=1.1->librosa) (4.2.1)\n",
            "Requirement already satisfied: requests>=2.19.0 in c:\\users\\etomras\\appdata\\local\\programs\\python\\python39\\lib\\site-packages (from pooch>=1.1->librosa) (2.32.3)\n",
            "Requirement already satisfied: threadpoolctl>=3.1.0 in c:\\users\\etomras\\appdata\\local\\programs\\python\\python39\\lib\\site-packages (from scikit-learn>=0.20.0->librosa) (3.5.0)\n",
            "Requirement already satisfied: cffi>=1.0 in c:\\users\\etomras\\appdata\\local\\programs\\python\\python39\\lib\\site-packages (from soundfile>=0.12.1->librosa) (1.17.0)\n",
            "Requirement already satisfied: pycparser in c:\\users\\etomras\\appdata\\local\\programs\\python\\python39\\lib\\site-packages (from cffi>=1.0->soundfile>=0.12.1->librosa) (2.22)\n",
            "Requirement already satisfied: pyparsing!=3.0.5,>=2.0.2 in c:\\users\\etomras\\appdata\\local\\programs\\python\\python39\\lib\\site-packages (from packaging->lazy-loader>=0.1->librosa) (3.0.9)\n",
            "Requirement already satisfied: charset-normalizer<4,>=2 in c:\\users\\etomras\\appdata\\local\\programs\\python\\python39\\lib\\site-packages (from requests>=2.19.0->pooch>=1.1->librosa) (2.1.1)\n",
            "Requirement already satisfied: idna<4,>=2.5 in c:\\users\\etomras\\appdata\\local\\programs\\python\\python39\\lib\\site-packages (from requests>=2.19.0->pooch>=1.1->librosa) (3.4)\n",
            "Requirement already satisfied: urllib3<3,>=1.21.1 in c:\\users\\etomras\\appdata\\local\\programs\\python\\python39\\lib\\site-packages (from requests>=2.19.0->pooch>=1.1->librosa) (2.2.2)\n",
            "Requirement already satisfied: certifi>=2017.4.17 in c:\\users\\etomras\\appdata\\local\\programs\\python\\python39\\lib\\site-packages (from requests>=2.19.0->pooch>=1.1->librosa) (2022.9.24)\n",
            "Note: you may need to restart the kernel to use updated packages.\n",
            "Requirement already satisfied: gradio in c:\\users\\etomras\\appdata\\local\\programs\\python\\python39\\lib\\site-packages (4.42.0)\n",
            "Requirement already satisfied: aiofiles<24.0,>=22.0 in c:\\users\\etomras\\appdata\\local\\programs\\python\\python39\\lib\\site-packages (from gradio) (23.2.1)\n",
            "Requirement already satisfied: anyio<5.0,>=3.0 in c:\\users\\etomras\\appdata\\local\\programs\\python\\python39\\lib\\site-packages (from gradio) (3.6.2)\n",
            "Requirement already satisfied: fastapi in c:\\users\\etomras\\appdata\\local\\programs\\python\\python39\\lib\\site-packages (from gradio) (0.112.2)\n",
            "Requirement already satisfied: ffmpy in c:\\users\\etomras\\appdata\\local\\programs\\python\\python39\\lib\\site-packages (from gradio) (0.4.0)\n",
            "Requirement already satisfied: gradio-client==1.3.0 in c:\\users\\etomras\\appdata\\local\\programs\\python\\python39\\lib\\site-packages (from gradio) (1.3.0)\n",
            "Requirement already satisfied: httpx>=0.24.1 in c:\\users\\etomras\\appdata\\local\\programs\\python\\python39\\lib\\site-packages (from gradio) (0.27.2)\n",
            "Requirement already satisfied: huggingface-hub>=0.19.3 in c:\\users\\etomras\\appdata\\local\\programs\\python\\python39\\lib\\site-packages (from gradio) (0.23.4)\n",
            "Requirement already satisfied: importlib-resources<7.0,>=1.3 in c:\\users\\etomras\\appdata\\local\\programs\\python\\python39\\lib\\site-packages (from gradio) (6.4.4)\n",
            "Requirement already satisfied: jinja2<4.0 in c:\\users\\etomras\\appdata\\local\\programs\\python\\python39\\lib\\site-packages (from gradio) (3.1.2)\n",
            "Requirement already satisfied: markupsafe~=2.0 in c:\\users\\etomras\\appdata\\local\\programs\\python\\python39\\lib\\site-packages (from gradio) (2.1.1)\n",
            "Requirement already satisfied: matplotlib~=3.0 in c:\\users\\etomras\\appdata\\local\\programs\\python\\python39\\lib\\site-packages (from gradio) (3.9.2)\n",
            "Requirement already satisfied: numpy<3.0,>=1.0 in c:\\users\\etomras\\appdata\\local\\programs\\python\\python39\\lib\\site-packages (from gradio) (1.23.4)\n",
            "Requirement already satisfied: orjson~=3.0 in c:\\users\\etomras\\appdata\\local\\programs\\python\\python39\\lib\\site-packages (from gradio) (3.10.7)\n",
            "Requirement already satisfied: packaging in c:\\users\\etomras\\appdata\\local\\programs\\python\\python39\\lib\\site-packages (from gradio) (21.3)\n",
            "Requirement already satisfied: pandas<3.0,>=1.0 in c:\\users\\etomras\\appdata\\local\\programs\\python\\python39\\lib\\site-packages (from gradio) (1.3.5)\n",
            "Requirement already satisfied: pillow<11.0,>=8.0 in c:\\users\\etomras\\appdata\\local\\programs\\python\\python39\\lib\\site-packages (from gradio) (10.4.0)\n",
            "Requirement already satisfied: pydantic>=2.0 in c:\\users\\etomras\\appdata\\local\\programs\\python\\python39\\lib\\site-packages (from gradio) (2.8.2)\n",
            "Requirement already satisfied: pydub in c:\\users\\etomras\\appdata\\local\\programs\\python\\python39\\lib\\site-packages (from gradio) (0.25.1)\n",
            "Requirement already satisfied: python-multipart>=0.0.9 in c:\\users\\etomras\\appdata\\local\\programs\\python\\python39\\lib\\site-packages (from gradio) (0.0.9)\n",
            "Requirement already satisfied: pyyaml<7.0,>=5.0 in c:\\users\\etomras\\appdata\\local\\programs\\python\\python39\\lib\\site-packages (from gradio) (6.0)\n",
            "Requirement already satisfied: ruff>=0.2.2 in c:\\users\\etomras\\appdata\\local\\programs\\python\\python39\\lib\\site-packages (from gradio) (0.6.3)\n",
            "Requirement already satisfied: semantic-version~=2.0 in c:\\users\\etomras\\appdata\\local\\programs\\python\\python39\\lib\\site-packages (from gradio) (2.10.0)\n",
            "Requirement already satisfied: tomlkit==0.12.0 in c:\\users\\etomras\\appdata\\local\\programs\\python\\python39\\lib\\site-packages (from gradio) (0.12.0)\n",
            "Requirement already satisfied: typer<1.0,>=0.12 in c:\\users\\etomras\\appdata\\local\\programs\\python\\python39\\lib\\site-packages (from gradio) (0.12.3)\n",
            "Requirement already satisfied: typing-extensions~=4.0 in c:\\users\\etomras\\appdata\\local\\programs\\python\\python39\\lib\\site-packages (from gradio) (4.12.2)\n",
            "Requirement already satisfied: urllib3~=2.0 in c:\\users\\etomras\\appdata\\local\\programs\\python\\python39\\lib\\site-packages (from gradio) (2.2.2)\n",
            "Requirement already satisfied: uvicorn>=0.14.0 in c:\\users\\etomras\\appdata\\local\\programs\\python\\python39\\lib\\site-packages (from gradio) (0.20.0)\n",
            "Requirement already satisfied: fsspec in c:\\users\\etomras\\appdata\\local\\programs\\python\\python39\\lib\\site-packages (from gradio-client==1.3.0->gradio) (2024.6.1)\n",
            "Requirement already satisfied: websockets<13.0,>=10.0 in c:\\users\\etomras\\appdata\\local\\programs\\python\\python39\\lib\\site-packages (from gradio-client==1.3.0->gradio) (10.4)\n",
            "Requirement already satisfied: idna>=2.8 in c:\\users\\etomras\\appdata\\local\\programs\\python\\python39\\lib\\site-packages (from anyio<5.0,>=3.0->gradio) (3.4)\n",
            "Requirement already satisfied: sniffio>=1.1 in c:\\users\\etomras\\appdata\\local\\programs\\python\\python39\\lib\\site-packages (from anyio<5.0,>=3.0->gradio) (1.3.0)\n",
            "Requirement already satisfied: certifi in c:\\users\\etomras\\appdata\\local\\programs\\python\\python39\\lib\\site-packages (from httpx>=0.24.1->gradio) (2022.9.24)\n",
            "Requirement already satisfied: httpcore==1.* in c:\\users\\etomras\\appdata\\local\\programs\\python\\python39\\lib\\site-packages (from httpx>=0.24.1->gradio) (1.0.5)\n",
            "Requirement already satisfied: h11<0.15,>=0.13 in c:\\users\\etomras\\appdata\\local\\programs\\python\\python39\\lib\\site-packages (from httpcore==1.*->httpx>=0.24.1->gradio) (0.14.0)\n",
            "Requirement already satisfied: filelock in c:\\users\\etomras\\appdata\\local\\programs\\python\\python39\\lib\\site-packages (from huggingface-hub>=0.19.3->gradio) (3.15.4)\n",
            "Requirement already satisfied: requests in c:\\users\\etomras\\appdata\\local\\programs\\python\\python39\\lib\\site-packages (from huggingface-hub>=0.19.3->gradio) (2.32.3)\n",
            "Requirement already satisfied: tqdm>=4.42.1 in c:\\users\\etomras\\appdata\\local\\programs\\python\\python39\\lib\\site-packages (from huggingface-hub>=0.19.3->gradio) (4.66.4)\n",
            "Requirement already satisfied: zipp>=3.1.0 in c:\\users\\etomras\\appdata\\local\\programs\\python\\python39\\lib\\site-packages (from importlib-resources<7.0,>=1.3->gradio) (3.10.0)\n",
            "Requirement already satisfied: contourpy>=1.0.1 in c:\\users\\etomras\\appdata\\local\\programs\\python\\python39\\lib\\site-packages (from matplotlib~=3.0->gradio) (1.3.0)\n",
            "Requirement already satisfied: cycler>=0.10 in c:\\users\\etomras\\appdata\\local\\programs\\python\\python39\\lib\\site-packages (from matplotlib~=3.0->gradio) (0.12.1)\n",
            "Requirement already satisfied: fonttools>=4.22.0 in c:\\users\\etomras\\appdata\\local\\programs\\python\\python39\\lib\\site-packages (from matplotlib~=3.0->gradio) (4.53.1)\n",
            "Requirement already satisfied: kiwisolver>=1.3.1 in c:\\users\\etomras\\appdata\\local\\programs\\python\\python39\\lib\\site-packages (from matplotlib~=3.0->gradio) (1.4.6)\n",
            "Requirement already satisfied: pyparsing>=2.3.1 in c:\\users\\etomras\\appdata\\local\\programs\\python\\python39\\lib\\site-packages (from matplotlib~=3.0->gradio) (3.0.9)\n",
            "Requirement already satisfied: python-dateutil>=2.7 in c:\\users\\etomras\\appdata\\local\\programs\\python\\python39\\lib\\site-packages (from matplotlib~=3.0->gradio) (2.8.2)\n",
            "Requirement already satisfied: pytz>=2017.3 in c:\\users\\etomras\\appdata\\local\\programs\\python\\python39\\lib\\site-packages (from pandas<3.0,>=1.0->gradio) (2022.6)\n",
            "Requirement already satisfied: annotated-types>=0.4.0 in c:\\users\\etomras\\appdata\\local\\programs\\python\\python39\\lib\\site-packages (from pydantic>=2.0->gradio) (0.7.0)\n",
            "Requirement already satisfied: pydantic-core==2.20.1 in c:\\users\\etomras\\appdata\\local\\programs\\python\\python39\\lib\\site-packages (from pydantic>=2.0->gradio) (2.20.1)\n",
            "Requirement already satisfied: click>=8.0.0 in c:\\users\\etomras\\appdata\\local\\programs\\python\\python39\\lib\\site-packages (from typer<1.0,>=0.12->gradio) (8.1.3)\n",
            "Requirement already satisfied: shellingham>=1.3.0 in c:\\users\\etomras\\appdata\\local\\programs\\python\\python39\\lib\\site-packages (from typer<1.0,>=0.12->gradio) (1.5.4)\n",
            "Requirement already satisfied: rich>=10.11.0 in c:\\users\\etomras\\appdata\\local\\programs\\python\\python39\\lib\\site-packages (from typer<1.0,>=0.12->gradio) (13.7.1)\n",
            "Requirement already satisfied: starlette<0.39.0,>=0.37.2 in c:\\users\\etomras\\appdata\\local\\programs\\python\\python39\\lib\\site-packages (from fastapi->gradio) (0.38.4)\n",
            "Requirement already satisfied: colorama in c:\\users\\etomras\\appdata\\local\\programs\\python\\python39\\lib\\site-packages (from click>=8.0.0->typer<1.0,>=0.12->gradio) (0.4.6)\n",
            "Requirement already satisfied: six>=1.5 in c:\\users\\etomras\\appdata\\local\\programs\\python\\python39\\lib\\site-packages (from python-dateutil>=2.7->matplotlib~=3.0->gradio) (1.16.0)\n",
            "Requirement already satisfied: markdown-it-py>=2.2.0 in c:\\users\\etomras\\appdata\\local\\programs\\python\\python39\\lib\\site-packages (from rich>=10.11.0->typer<1.0,>=0.12->gradio) (3.0.0)\n",
            "Requirement already satisfied: pygments<3.0.0,>=2.13.0 in c:\\users\\etomras\\appdata\\local\\programs\\python\\python39\\lib\\site-packages (from rich>=10.11.0->typer<1.0,>=0.12->gradio) (2.13.0)\n",
            "Requirement already satisfied: charset-normalizer<4,>=2 in c:\\users\\etomras\\appdata\\local\\programs\\python\\python39\\lib\\site-packages (from requests->huggingface-hub>=0.19.3->gradio) (2.1.1)\n",
            "Requirement already satisfied: mdurl~=0.1 in c:\\users\\etomras\\appdata\\local\\programs\\python\\python39\\lib\\site-packages (from markdown-it-py>=2.2.0->rich>=10.11.0->typer<1.0,>=0.12->gradio) (0.1.2)\n",
            "Note: you may need to restart the kernel to use updated packages.\n",
            "Requirement already satisfied: ffmpeg-python in c:\\users\\etomras\\appdata\\local\\programs\\python\\python39\\lib\\site-packages (0.2.0)\n",
            "Requirement already satisfied: future in c:\\users\\etomras\\appdata\\local\\programs\\python\\python39\\lib\\site-packages (from ffmpeg-python) (1.0.0)\n",
            "Note: you may need to restart the kernel to use updated packages.\n"
          ]
        }
      ],
      "source": [
        "%pip install transformers\n",
        "%pip install -U datasets\n",
        "%pip install soundfile\n",
        "%pip install librosa\n",
        "%pip install gradio\n",
        "\n",
        "%pip install ffmpeg-python"
      ]
    },
    {
      "cell_type": "code",
      "execution_count": null,
      "id": "e67003a0",
      "metadata": {},
      "outputs": [],
      "source": []
    },
    {
      "cell_type": "code",
      "execution_count": null,
      "id": "8ee8da5d",
      "metadata": {},
      "outputs": [],
      "source": [
        "%pip install --upgrade pip"
      ]
    },
    {
      "cell_type": "markdown",
      "id": "bVXpf6rabsOu",
      "metadata": {
        "id": "bVXpf6rabsOu"
      },
      "source": [
        "The `librosa` library may need to have [ffmpeg](https://www.ffmpeg.org/download.html) installed.\n",
        "- This page on [librosa](https://pypi.org/project/librosa/) provides installation instructions for ffmpeg."
      ]
    },
    {
      "cell_type": "code",
      "execution_count": 3,
      "id": "3f3f4054-9a14-4f41-820f-e07197890390",
      "metadata": {
        "height": 47,
        "id": "3f3f4054-9a14-4f41-820f-e07197890390"
      },
      "outputs": [
        {
          "name": "stderr",
          "output_type": "stream",
          "text": [
            "c:\\Users\\etomras\\AppData\\Local\\Programs\\Python\\Python39\\lib\\site-packages\\tqdm\\auto.py:21: TqdmWarning: IProgress not found. Please update jupyter and ipywidgets. See https://ipywidgets.readthedocs.io/en/stable/user_install.html\n",
            "  from .autonotebook import tqdm as notebook_tqdm\n"
          ]
        }
      ],
      "source": [
        "from transformers.utils import logging\n",
        "logging.set_verbosity_error()"
      ]
    },
    {
      "cell_type": "markdown",
      "id": "61707b14",
      "metadata": {
        "id": "61707b14"
      },
      "source": [
        "### Data preparation"
      ]
    },
    {
      "cell_type": "code",
      "execution_count": null,
      "id": "8e11e596",
      "metadata": {
        "colab": {
          "base_uri": "https://localhost:8080/",
          "height": 205,
          "referenced_widgets": [
            "9a7993ed79a94e85a31e486e36cce27c",
            "285acf7cde3b4280b1827e0fb7b1dc7e",
            "207eed94262e4f3d9bab8cb08af042a0",
            "0737782662cc4719acd4d6e239317f06",
            "ce9b7d1cc9854cdc98153cad95ee2f8d",
            "6bfb5fe93b9e4bf199ad1486d878a9a5",
            "53c9eb4fea594903b0713cb4cfd24b20",
            "183b17f1059e4cb79ca6ca5e45d2fc57",
            "ac7c3981562145c8a08f346f676bae1b",
            "471906c4f5194d2cbb64a722ff85ca9a",
            "e9a07851379d48b4bf6b6e5ac0db7fb8",
            "43aa1e23296b4cf4b7e137f646630eb1",
            "43e408cbc90446e2adc2e6136e86abbe",
            "ebc9ba5d951049d4ba383ad90b95fed1",
            "a1353f82d46a46b2ab1a3c341b46fe18",
            "21dfdae27e42442eb3319ce4ccc27278",
            "86fddaf616ec4f57bbbc71024308d91e",
            "0151783b0fc24f6697830f07652d5c1f",
            "ff84329d707649eba6fdd0e69534a3c7",
            "c7f32564139f4cfd8061988f559c78af",
            "f1cb4ece0c3e426fb44ca3ebaa789b5a",
            "b9833a9c3a19476e86c77c431773f824"
          ]
        },
        "height": 30,
        "id": "8e11e596",
        "outputId": "e45ed6fb-b1e8-4a87-a1e0-21cfb427fa2b",
        "tags": []
      },
      "outputs": [],
      "source": [
        "from datasets import load_dataset\n",
        "dataset = load_dataset(\"librispeech_asr\",\n",
        "                       split=\"train.clean.100\",\n",
        "                       streaming=True,\n",
        "                       trust_remote_code=True)"
      ]
    },
    {
      "cell_type": "code",
      "execution_count": null,
      "id": "dc38a0be-db12-46f3-ba59-6a6f990423c4",
      "metadata": {
        "height": 30,
        "id": "dc38a0be-db12-46f3-ba59-6a6f990423c4"
      },
      "outputs": [],
      "source": [
        "example = next(iter(dataset))\n",
        "dataset_head = dataset.take(3)\n",
        "list(dataset_head)"
      ]
    },
    {
      "cell_type": "code",
      "execution_count": null,
      "id": "ba094634-00a2-469b-8862-ee7d68e72d86",
      "metadata": {
        "colab": {
          "base_uri": "https://localhost:8080/"
        },
        "height": 30,
        "id": "ba094634-00a2-469b-8862-ee7d68e72d86",
        "outputId": "e0a6422a-7aeb-4e9f-be2f-9c69d6f1f9dd"
      },
      "outputs": [],
      "source": [
        "list(dataset_head)[2]"
      ]
    },
    {
      "cell_type": "code",
      "execution_count": null,
      "id": "c2932356-2ea0-4797-a1eb-d0cd30cacedc",
      "metadata": {
        "colab": {
          "base_uri": "https://localhost:8080/"
        },
        "height": 30,
        "id": "c2932356-2ea0-4797-a1eb-d0cd30cacedc",
        "outputId": "fe6484b4-9f59-4ba3-e9ac-6f0610d447a9"
      },
      "outputs": [],
      "source": [
        "example"
      ]
    },
    {
      "cell_type": "code",
      "execution_count": null,
      "id": "1ff63caa-aa7b-4da2-9317-4ec30999c0af",
      "metadata": {
        "colab": {
          "base_uri": "https://localhost:8080/",
          "height": 76
        },
        "height": 81,
        "id": "1ff63caa-aa7b-4da2-9317-4ec30999c0af",
        "outputId": "d9bd3168-adb3-407b-97eb-45e24ae2b24d"
      },
      "outputs": [],
      "source": [
        "from IPython.display import Audio as IPythonAudio\n",
        "\n",
        "IPythonAudio(example[\"audio\"][\"array\"],\n",
        "             rate=example[\"audio\"][\"sampling_rate\"])"
      ]
    },
    {
      "cell_type": "markdown",
      "id": "5fda63f6",
      "metadata": {
        "id": "5fda63f6"
      },
      "source": [
        "### Build the pipeline"
      ]
    },
    {
      "cell_type": "code",
      "execution_count": 4,
      "id": "cb518e06",
      "metadata": {
        "height": 30,
        "id": "cb518e06"
      },
      "outputs": [],
      "source": [
        "from transformers import pipeline\n",
        "model_id = \"distil-whisper/distil-small.en\"\n",
        "asr = pipeline(task=\"automatic-speech-recognition\", model=model_id ) \n",
        "#\"./models/distil-whisper/distil-small.en\")"
      ]
    },
    {
      "cell_type": "markdown",
      "id": "c2755a2f",
      "metadata": {
        "id": "c2755a2f"
      },
      "source": [
        "Info about [distil-whisper/distil-small.en](https://huggingface.co/distil-whisper)"
      ]
    },
    {
      "cell_type": "code",
      "execution_count": 5,
      "id": "ea81f743-6e8b-4021-b9b1-1d1873b88fd0",
      "metadata": {
        "colab": {
          "base_uri": "https://localhost:8080/"
        },
        "height": 30,
        "id": "ea81f743-6e8b-4021-b9b1-1d1873b88fd0",
        "outputId": "70823aef-ecbc-42f5-aee9-8675339f7ef7"
      },
      "outputs": [
        {
          "data": {
            "text/plain": [
              "16000"
            ]
          },
          "execution_count": 5,
          "metadata": {},
          "output_type": "execute_result"
        }
      ],
      "source": [
        "asr.feature_extractor.sampling_rate"
      ]
    },
    {
      "cell_type": "code",
      "execution_count": null,
      "id": "786cca9b-1fe0-404c-baf3-26e03a6d1ab1",
      "metadata": {
        "colab": {
          "base_uri": "https://localhost:8080/"
        },
        "height": 30,
        "id": "786cca9b-1fe0-404c-baf3-26e03a6d1ab1",
        "outputId": "ea609839-3e3f-4ad4-eaae-1224bbce5b3b"
      },
      "outputs": [],
      "source": [
        "asr(example[\"audio\"][\"array\"])"
      ]
    },
    {
      "cell_type": "code",
      "execution_count": null,
      "id": "05e5a0ef-81b8-4e4d-8a15-cd063860a9de",
      "metadata": {
        "colab": {
          "base_uri": "https://localhost:8080/",
          "height": 53
        },
        "height": 30,
        "id": "05e5a0ef-81b8-4e4d-8a15-cd063860a9de",
        "outputId": "8a5be8a4-2974-44a2-cc08-11e51998c41d"
      },
      "outputs": [],
      "source": [
        "example[\"text\"]"
      ]
    },
    {
      "cell_type": "markdown",
      "id": "ac81083e",
      "metadata": {
        "id": "ac81083e"
      },
      "source": [
        "### Building a shareable app with Gradio"
      ]
    },
    {
      "cell_type": "markdown",
      "id": "9ca98d74",
      "metadata": {
        "id": "9ca98d74"
      },
      "source": [
        "* Testing with a longer audio file"
      ]
    },
    {
      "cell_type": "code",
      "execution_count": 6,
      "id": "d9d63aee-d3f4-48d6-b4d3-c0249c4e8732",
      "metadata": {
        "height": 30,
        "id": "d9d63aee-d3f4-48d6-b4d3-c0249c4e8732"
      },
      "outputs": [],
      "source": [
        "import librosa"
      ]
    },
    {
      "cell_type": "markdown",
      "id": "713cb23a",
      "metadata": {
        "id": "713cb23a"
      },
      "source": [
        "* Build the Gradio interface."
      ]
    },
    {
      "cell_type": "code",
      "execution_count": 7,
      "id": "e891c095-e8f3-4917-8d91-4f8c5f94fcfb",
      "metadata": {
        "height": 47,
        "id": "e891c095-e8f3-4917-8d91-4f8c5f94fcfb"
      },
      "outputs": [],
      "source": [
        "import os\n",
        "import ffmpeg\n",
        "import gradio as gr\n",
        "demo = gr.Blocks()"
      ]
    },
    {
      "cell_type": "code",
      "execution_count": 8,
      "id": "f3f27d78-de74-45a1-96e8-ebd9b0d367f4",
      "metadata": {
        "height": 200,
        "id": "f3f27d78-de74-45a1-96e8-ebd9b0d367f4"
      },
      "outputs": [],
      "source": [
        "def transcribe_long_form(filepath):\n",
        "    if filepath is None:\n",
        "        gr.Warning(\"No audio found, please retry.\")\n",
        "        return \"\"\n",
        "    output = asr(\n",
        "      filepath,\n",
        "      max_new_tokens=256,\n",
        "      chunk_length_s=30,\n",
        "      batch_size=8,\n",
        "    )\n",
        "    return output[\"text\"]"
      ]
    },
    {
      "cell_type": "code",
      "execution_count": 9,
      "id": "9eec7801-aab9-4014-85f4-5b8c01ab4edd",
      "metadata": {
        "height": 285,
        "id": "9eec7801-aab9-4014-85f4-5b8c01ab4edd"
      },
      "outputs": [],
      "source": [
        "mic_transcribe = gr.Interface(\n",
        "    fn=transcribe_long_form,\n",
        "    inputs=gr.Audio(sources=\"microphone\", type=\"filepath\"),\n",
        "    outputs=gr.Textbox(label=\"Transcription\", lines=3),\n",
        "    allow_flagging=\"never\")\n",
        "\n",
        "file_transcribe = gr.Interface(\n",
        "    fn=transcribe_long_form,\n",
        "    inputs=gr.Audio(sources=\"upload\", type=\"filepath\"),\n",
        "    outputs=gr.Textbox(label=\"Transcription\",lines=3),\n",
        "    allow_flagging=\"never\",\n",
        ")"
      ]
    },
    {
      "cell_type": "code",
      "execution_count": null,
      "id": "d97e0b2d-8745-406c-b9c3-32b8e76f9512",
      "metadata": {
        "colab": {
          "base_uri": "https://localhost:8080/",
          "height": 611
        },
        "height": 166,
        "id": "d97e0b2d-8745-406c-b9c3-32b8e76f9512",
        "outputId": "6647094c-7ee0-48eb-89f7-034f555734f6"
      },
      "outputs": [
        {
          "name": "stdout",
          "output_type": "stream",
          "text": [
            "Running on local URL:  http://127.0.0.1:8000\n",
            "\n",
            "Could not create share link. Please check your internet connection or our status page: https://status.gradio.app.\n"
          ]
        },
        {
          "data": {
            "text/html": [
              "<div><iframe src=\"http://127.0.0.1:8000/\" width=\"100%\" height=\"500\" allow=\"autoplay; camera; microphone; clipboard-read; clipboard-write;\" frameborder=\"0\" allowfullscreen></iframe></div>"
            ],
            "text/plain": [
              "<IPython.core.display.HTML object>"
            ]
          },
          "metadata": {},
          "output_type": "display_data"
        },
        {
          "data": {
            "text/plain": []
          },
          "execution_count": 10,
          "metadata": {},
          "output_type": "execute_result"
        },
        {
          "name": "stderr",
          "output_type": "stream",
          "text": [
            "ERROR:    Exception in ASGI application\n",
            "Traceback (most recent call last):\n",
            "  File \"c:\\Users\\etomras\\AppData\\Local\\Programs\\Python\\Python39\\lib\\site-packages\\uvicorn\\protocols\\http\\httptools_impl.py\", line 419, in run_asgi\n",
            "    result = await app(  # type: ignore[func-returns-value]\n",
            "  File \"c:\\Users\\etomras\\AppData\\Local\\Programs\\Python\\Python39\\lib\\site-packages\\uvicorn\\middleware\\proxy_headers.py\", line 78, in __call__\n",
            "    return await self.app(scope, receive, send)\n",
            "  File \"c:\\Users\\etomras\\AppData\\Local\\Programs\\Python\\Python39\\lib\\site-packages\\fastapi\\applications.py\", line 1054, in __call__\n",
            "    await super().__call__(scope, receive, send)\n",
            "  File \"c:\\Users\\etomras\\AppData\\Local\\Programs\\Python\\Python39\\lib\\site-packages\\starlette\\applications.py\", line 113, in __call__\n",
            "    await self.middleware_stack(scope, receive, send)\n",
            "  File \"c:\\Users\\etomras\\AppData\\Local\\Programs\\Python\\Python39\\lib\\site-packages\\starlette\\middleware\\errors.py\", line 187, in __call__\n",
            "    raise exc\n",
            "  File \"c:\\Users\\etomras\\AppData\\Local\\Programs\\Python\\Python39\\lib\\site-packages\\starlette\\middleware\\errors.py\", line 165, in __call__\n",
            "    await self.app(scope, receive, _send)\n",
            "  File \"c:\\Users\\etomras\\AppData\\Local\\Programs\\Python\\Python39\\lib\\site-packages\\gradio\\route_utils.py\", line 760, in __call__\n",
            "    await self.app(scope, receive, send)\n",
            "  File \"c:\\Users\\etomras\\AppData\\Local\\Programs\\Python\\Python39\\lib\\site-packages\\starlette\\middleware\\exceptions.py\", line 62, in __call__\n",
            "    await wrap_app_handling_exceptions(self.app, conn)(scope, receive, send)\n",
            "  File \"c:\\Users\\etomras\\AppData\\Local\\Programs\\Python\\Python39\\lib\\site-packages\\starlette\\_exception_handler.py\", line 62, in wrapped_app\n",
            "    raise exc\n",
            "  File \"c:\\Users\\etomras\\AppData\\Local\\Programs\\Python\\Python39\\lib\\site-packages\\starlette\\_exception_handler.py\", line 51, in wrapped_app\n",
            "    await app(scope, receive, sender)\n",
            "  File \"c:\\Users\\etomras\\AppData\\Local\\Programs\\Python\\Python39\\lib\\site-packages\\starlette\\routing.py\", line 715, in __call__\n",
            "    await self.middleware_stack(scope, receive, send)\n",
            "  File \"c:\\Users\\etomras\\AppData\\Local\\Programs\\Python\\Python39\\lib\\site-packages\\starlette\\routing.py\", line 735, in app\n",
            "    await route.handle(scope, receive, send)\n",
            "  File \"c:\\Users\\etomras\\AppData\\Local\\Programs\\Python\\Python39\\lib\\site-packages\\starlette\\routing.py\", line 288, in handle\n",
            "    await self.app(scope, receive, send)\n",
            "  File \"c:\\Users\\etomras\\AppData\\Local\\Programs\\Python\\Python39\\lib\\site-packages\\starlette\\routing.py\", line 76, in app\n",
            "    await wrap_app_handling_exceptions(app, request)(scope, receive, send)\n",
            "  File \"c:\\Users\\etomras\\AppData\\Local\\Programs\\Python\\Python39\\lib\\site-packages\\starlette\\_exception_handler.py\", line 62, in wrapped_app\n",
            "    raise exc\n",
            "  File \"c:\\Users\\etomras\\AppData\\Local\\Programs\\Python\\Python39\\lib\\site-packages\\starlette\\_exception_handler.py\", line 51, in wrapped_app\n",
            "    await app(scope, receive, sender)\n",
            "  File \"c:\\Users\\etomras\\AppData\\Local\\Programs\\Python\\Python39\\lib\\site-packages\\starlette\\routing.py\", line 74, in app\n",
            "    await response(scope, receive, send)\n",
            "  File \"c:\\Users\\etomras\\AppData\\Local\\Programs\\Python\\Python39\\lib\\site-packages\\starlette\\responses.py\", line 338, in __call__\n",
            "    await send(\n",
            "  File \"c:\\Users\\etomras\\AppData\\Local\\Programs\\Python\\Python39\\lib\\site-packages\\starlette\\_exception_handler.py\", line 48, in sender\n",
            "    await send(message)\n",
            "  File \"c:\\Users\\etomras\\AppData\\Local\\Programs\\Python\\Python39\\lib\\site-packages\\starlette\\_exception_handler.py\", line 48, in sender\n",
            "    await send(message)\n",
            "  File \"c:\\Users\\etomras\\AppData\\Local\\Programs\\Python\\Python39\\lib\\site-packages\\starlette\\middleware\\errors.py\", line 162, in _send\n",
            "    await send(message)\n",
            "  File \"c:\\Users\\etomras\\AppData\\Local\\Programs\\Python\\Python39\\lib\\site-packages\\uvicorn\\protocols\\http\\httptools_impl.py\", line 561, in send\n",
            "    raise RuntimeError(\"Response content shorter than Content-Length\")\n",
            "RuntimeError: Response content shorter than Content-Length\n",
            "ERROR:    Exception in ASGI application\n",
            "Traceback (most recent call last):\n",
            "  File \"c:\\Users\\etomras\\AppData\\Local\\Programs\\Python\\Python39\\lib\\site-packages\\uvicorn\\protocols\\http\\httptools_impl.py\", line 419, in run_asgi\n",
            "    result = await app(  # type: ignore[func-returns-value]\n",
            "  File \"c:\\Users\\etomras\\AppData\\Local\\Programs\\Python\\Python39\\lib\\site-packages\\uvicorn\\middleware\\proxy_headers.py\", line 78, in __call__\n",
            "    return await self.app(scope, receive, send)\n",
            "  File \"c:\\Users\\etomras\\AppData\\Local\\Programs\\Python\\Python39\\lib\\site-packages\\fastapi\\applications.py\", line 1054, in __call__\n",
            "    await super().__call__(scope, receive, send)\n",
            "  File \"c:\\Users\\etomras\\AppData\\Local\\Programs\\Python\\Python39\\lib\\site-packages\\starlette\\applications.py\", line 113, in __call__\n",
            "    await self.middleware_stack(scope, receive, send)\n",
            "  File \"c:\\Users\\etomras\\AppData\\Local\\Programs\\Python\\Python39\\lib\\site-packages\\starlette\\middleware\\errors.py\", line 187, in __call__\n",
            "    raise exc\n",
            "  File \"c:\\Users\\etomras\\AppData\\Local\\Programs\\Python\\Python39\\lib\\site-packages\\starlette\\middleware\\errors.py\", line 165, in __call__\n",
            "    await self.app(scope, receive, _send)\n",
            "  File \"c:\\Users\\etomras\\AppData\\Local\\Programs\\Python\\Python39\\lib\\site-packages\\gradio\\route_utils.py\", line 760, in __call__\n",
            "    await self.app(scope, receive, send)\n",
            "  File \"c:\\Users\\etomras\\AppData\\Local\\Programs\\Python\\Python39\\lib\\site-packages\\starlette\\middleware\\exceptions.py\", line 62, in __call__\n",
            "    await wrap_app_handling_exceptions(self.app, conn)(scope, receive, send)\n",
            "  File \"c:\\Users\\etomras\\AppData\\Local\\Programs\\Python\\Python39\\lib\\site-packages\\starlette\\_exception_handler.py\", line 62, in wrapped_app\n",
            "    raise exc\n",
            "  File \"c:\\Users\\etomras\\AppData\\Local\\Programs\\Python\\Python39\\lib\\site-packages\\starlette\\_exception_handler.py\", line 51, in wrapped_app\n",
            "    await app(scope, receive, sender)\n",
            "  File \"c:\\Users\\etomras\\AppData\\Local\\Programs\\Python\\Python39\\lib\\site-packages\\starlette\\routing.py\", line 715, in __call__\n",
            "    await self.middleware_stack(scope, receive, send)\n",
            "  File \"c:\\Users\\etomras\\AppData\\Local\\Programs\\Python\\Python39\\lib\\site-packages\\starlette\\routing.py\", line 735, in app\n",
            "    await route.handle(scope, receive, send)\n",
            "  File \"c:\\Users\\etomras\\AppData\\Local\\Programs\\Python\\Python39\\lib\\site-packages\\starlette\\routing.py\", line 288, in handle\n",
            "    await self.app(scope, receive, send)\n",
            "  File \"c:\\Users\\etomras\\AppData\\Local\\Programs\\Python\\Python39\\lib\\site-packages\\starlette\\routing.py\", line 76, in app\n",
            "    await wrap_app_handling_exceptions(app, request)(scope, receive, send)\n",
            "  File \"c:\\Users\\etomras\\AppData\\Local\\Programs\\Python\\Python39\\lib\\site-packages\\starlette\\_exception_handler.py\", line 62, in wrapped_app\n",
            "    raise exc\n",
            "  File \"c:\\Users\\etomras\\AppData\\Local\\Programs\\Python\\Python39\\lib\\site-packages\\starlette\\_exception_handler.py\", line 51, in wrapped_app\n",
            "    await app(scope, receive, sender)\n",
            "  File \"c:\\Users\\etomras\\AppData\\Local\\Programs\\Python\\Python39\\lib\\site-packages\\starlette\\routing.py\", line 74, in app\n",
            "    await response(scope, receive, send)\n",
            "  File \"c:\\Users\\etomras\\AppData\\Local\\Programs\\Python\\Python39\\lib\\site-packages\\starlette\\responses.py\", line 338, in __call__\n",
            "    await send(\n",
            "  File \"c:\\Users\\etomras\\AppData\\Local\\Programs\\Python\\Python39\\lib\\site-packages\\starlette\\_exception_handler.py\", line 48, in sender\n",
            "    await send(message)\n",
            "  File \"c:\\Users\\etomras\\AppData\\Local\\Programs\\Python\\Python39\\lib\\site-packages\\starlette\\_exception_handler.py\", line 48, in sender\n",
            "    await send(message)\n",
            "  File \"c:\\Users\\etomras\\AppData\\Local\\Programs\\Python\\Python39\\lib\\site-packages\\starlette\\middleware\\errors.py\", line 162, in _send\n",
            "    await send(message)\n",
            "  File \"c:\\Users\\etomras\\AppData\\Local\\Programs\\Python\\Python39\\lib\\site-packages\\uvicorn\\protocols\\http\\httptools_impl.py\", line 561, in send\n",
            "    raise RuntimeError(\"Response content shorter than Content-Length\")\n",
            "RuntimeError: Response content shorter than Content-Length\n",
            "ERROR:    Exception in ASGI application\n",
            "Traceback (most recent call last):\n",
            "  File \"c:\\Users\\etomras\\AppData\\Local\\Programs\\Python\\Python39\\lib\\site-packages\\uvicorn\\protocols\\http\\httptools_impl.py\", line 419, in run_asgi\n",
            "    result = await app(  # type: ignore[func-returns-value]\n",
            "  File \"c:\\Users\\etomras\\AppData\\Local\\Programs\\Python\\Python39\\lib\\site-packages\\uvicorn\\middleware\\proxy_headers.py\", line 78, in __call__\n",
            "    return await self.app(scope, receive, send)\n",
            "  File \"c:\\Users\\etomras\\AppData\\Local\\Programs\\Python\\Python39\\lib\\site-packages\\fastapi\\applications.py\", line 1054, in __call__\n",
            "    await super().__call__(scope, receive, send)\n",
            "  File \"c:\\Users\\etomras\\AppData\\Local\\Programs\\Python\\Python39\\lib\\site-packages\\starlette\\applications.py\", line 113, in __call__\n",
            "    await self.middleware_stack(scope, receive, send)\n",
            "  File \"c:\\Users\\etomras\\AppData\\Local\\Programs\\Python\\Python39\\lib\\site-packages\\starlette\\middleware\\errors.py\", line 187, in __call__\n",
            "    raise exc\n",
            "  File \"c:\\Users\\etomras\\AppData\\Local\\Programs\\Python\\Python39\\lib\\site-packages\\starlette\\middleware\\errors.py\", line 165, in __call__\n",
            "    await self.app(scope, receive, _send)\n",
            "  File \"c:\\Users\\etomras\\AppData\\Local\\Programs\\Python\\Python39\\lib\\site-packages\\gradio\\route_utils.py\", line 760, in __call__\n",
            "    await self.app(scope, receive, send)\n",
            "  File \"c:\\Users\\etomras\\AppData\\Local\\Programs\\Python\\Python39\\lib\\site-packages\\starlette\\middleware\\exceptions.py\", line 62, in __call__\n",
            "    await wrap_app_handling_exceptions(self.app, conn)(scope, receive, send)\n",
            "  File \"c:\\Users\\etomras\\AppData\\Local\\Programs\\Python\\Python39\\lib\\site-packages\\starlette\\_exception_handler.py\", line 62, in wrapped_app\n",
            "    raise exc\n",
            "  File \"c:\\Users\\etomras\\AppData\\Local\\Programs\\Python\\Python39\\lib\\site-packages\\starlette\\_exception_handler.py\", line 51, in wrapped_app\n",
            "    await app(scope, receive, sender)\n",
            "  File \"c:\\Users\\etomras\\AppData\\Local\\Programs\\Python\\Python39\\lib\\site-packages\\starlette\\routing.py\", line 715, in __call__\n",
            "    await self.middleware_stack(scope, receive, send)\n",
            "  File \"c:\\Users\\etomras\\AppData\\Local\\Programs\\Python\\Python39\\lib\\site-packages\\starlette\\routing.py\", line 735, in app\n",
            "    await route.handle(scope, receive, send)\n",
            "  File \"c:\\Users\\etomras\\AppData\\Local\\Programs\\Python\\Python39\\lib\\site-packages\\starlette\\routing.py\", line 288, in handle\n",
            "    await self.app(scope, receive, send)\n",
            "  File \"c:\\Users\\etomras\\AppData\\Local\\Programs\\Python\\Python39\\lib\\site-packages\\starlette\\routing.py\", line 76, in app\n",
            "    await wrap_app_handling_exceptions(app, request)(scope, receive, send)\n",
            "  File \"c:\\Users\\etomras\\AppData\\Local\\Programs\\Python\\Python39\\lib\\site-packages\\starlette\\_exception_handler.py\", line 62, in wrapped_app\n",
            "    raise exc\n",
            "  File \"c:\\Users\\etomras\\AppData\\Local\\Programs\\Python\\Python39\\lib\\site-packages\\starlette\\_exception_handler.py\", line 51, in wrapped_app\n",
            "    await app(scope, receive, sender)\n",
            "  File \"c:\\Users\\etomras\\AppData\\Local\\Programs\\Python\\Python39\\lib\\site-packages\\starlette\\routing.py\", line 74, in app\n",
            "    await response(scope, receive, send)\n",
            "  File \"c:\\Users\\etomras\\AppData\\Local\\Programs\\Python\\Python39\\lib\\site-packages\\starlette\\responses.py\", line 338, in __call__\n",
            "    await send(\n",
            "  File \"c:\\Users\\etomras\\AppData\\Local\\Programs\\Python\\Python39\\lib\\site-packages\\starlette\\_exception_handler.py\", line 48, in sender\n",
            "    await send(message)\n",
            "  File \"c:\\Users\\etomras\\AppData\\Local\\Programs\\Python\\Python39\\lib\\site-packages\\starlette\\_exception_handler.py\", line 48, in sender\n",
            "    await send(message)\n",
            "  File \"c:\\Users\\etomras\\AppData\\Local\\Programs\\Python\\Python39\\lib\\site-packages\\starlette\\middleware\\errors.py\", line 162, in _send\n",
            "    await send(message)\n",
            "  File \"c:\\Users\\etomras\\AppData\\Local\\Programs\\Python\\Python39\\lib\\site-packages\\uvicorn\\protocols\\http\\httptools_impl.py\", line 561, in send\n",
            "    raise RuntimeError(\"Response content shorter than Content-Length\")\n",
            "RuntimeError: Response content shorter than Content-Length\n",
            "Traceback (most recent call last):\n",
            "  File \"c:\\Users\\etomras\\AppData\\Local\\Programs\\Python\\Python39\\lib\\site-packages\\transformers\\pipelines\\audio_utils.py\", line 34, in ffmpeg_read\n",
            "    with subprocess.Popen(ffmpeg_command, stdin=subprocess.PIPE, stdout=subprocess.PIPE) as ffmpeg_process:\n",
            "  File \"c:\\Users\\etomras\\AppData\\Local\\Programs\\Python\\Python39\\lib\\subprocess.py\", line 951, in __init__\n",
            "    self._execute_child(args, executable, preexec_fn, close_fds,\n",
            "  File \"c:\\Users\\etomras\\AppData\\Local\\Programs\\Python\\Python39\\lib\\subprocess.py\", line 1420, in _execute_child\n",
            "    hp, ht, pid, tid = _winapi.CreateProcess(executable, args,\n",
            "FileNotFoundError: [WinError 2] The system cannot find the file specified\n",
            "\n",
            "The above exception was the direct cause of the following exception:\n",
            "\n",
            "Traceback (most recent call last):\n",
            "  File \"c:\\Users\\etomras\\AppData\\Local\\Programs\\Python\\Python39\\lib\\site-packages\\gradio\\queueing.py\", line 536, in process_events\n",
            "    response = await route_utils.call_process_api(\n",
            "  File \"c:\\Users\\etomras\\AppData\\Local\\Programs\\Python\\Python39\\lib\\site-packages\\gradio\\route_utils.py\", line 321, in call_process_api\n",
            "    output = await app.get_blocks().process_api(\n",
            "  File \"c:\\Users\\etomras\\AppData\\Local\\Programs\\Python\\Python39\\lib\\site-packages\\gradio\\blocks.py\", line 1935, in process_api\n",
            "    result = await self.call_function(\n",
            "  File \"c:\\Users\\etomras\\AppData\\Local\\Programs\\Python\\Python39\\lib\\site-packages\\gradio\\blocks.py\", line 1520, in call_function\n",
            "    prediction = await anyio.to_thread.run_sync(  # type: ignore\n",
            "  File \"c:\\Users\\etomras\\AppData\\Local\\Programs\\Python\\Python39\\lib\\site-packages\\anyio\\to_thread.py\", line 31, in run_sync\n",
            "    return await get_asynclib().run_sync_in_worker_thread(\n",
            "  File \"c:\\Users\\etomras\\AppData\\Local\\Programs\\Python\\Python39\\lib\\site-packages\\anyio\\_backends\\_asyncio.py\", line 937, in run_sync_in_worker_thread\n",
            "    return await future\n",
            "  File \"c:\\Users\\etomras\\AppData\\Local\\Programs\\Python\\Python39\\lib\\site-packages\\anyio\\_backends\\_asyncio.py\", line 867, in run\n",
            "    result = context.run(func, *args)\n",
            "  File \"c:\\Users\\etomras\\AppData\\Local\\Programs\\Python\\Python39\\lib\\site-packages\\gradio\\utils.py\", line 826, in wrapper\n",
            "    response = f(*args, **kwargs)\n",
            "  File \"C:\\Users\\etomras\\AppData\\Local\\Temp\\ipykernel_19264\\766074757.py\", line 5, in transcribe_long_form\n",
            "    output = asr(\n",
            "  File \"c:\\Users\\etomras\\AppData\\Local\\Programs\\Python\\Python39\\lib\\site-packages\\transformers\\pipelines\\automatic_speech_recognition.py\", line 284, in __call__\n",
            "    return super().__call__(inputs, **kwargs)\n",
            "  File \"c:\\Users\\etomras\\AppData\\Local\\Programs\\Python\\Python39\\lib\\site-packages\\transformers\\pipelines\\base.py\", line 1246, in __call__\n",
            "    return next(\n",
            "  File \"c:\\Users\\etomras\\AppData\\Local\\Programs\\Python\\Python39\\lib\\site-packages\\transformers\\pipelines\\pt_utils.py\", line 124, in __next__\n",
            "    item = next(self.iterator)\n",
            "  File \"c:\\Users\\etomras\\AppData\\Local\\Programs\\Python\\Python39\\lib\\site-packages\\transformers\\pipelines\\pt_utils.py\", line 269, in __next__\n",
            "    processed = self.infer(next(self.iterator), **self.params)\n",
            "  File \"c:\\Users\\etomras\\AppData\\Local\\Programs\\Python\\Python39\\lib\\site-packages\\torch\\utils\\data\\dataloader.py\", line 631, in __next__\n",
            "    data = self._next_data()\n",
            "  File \"c:\\Users\\etomras\\AppData\\Local\\Programs\\Python\\Python39\\lib\\site-packages\\torch\\utils\\data\\dataloader.py\", line 675, in _next_data\n",
            "    data = self._dataset_fetcher.fetch(index)  # may raise StopIteration\n",
            "  File \"c:\\Users\\etomras\\AppData\\Local\\Programs\\Python\\Python39\\lib\\site-packages\\torch\\utils\\data\\_utils\\fetch.py\", line 32, in fetch\n",
            "    data.append(next(self.dataset_iter))\n",
            "  File \"c:\\Users\\etomras\\AppData\\Local\\Programs\\Python\\Python39\\lib\\site-packages\\transformers\\pipelines\\pt_utils.py\", line 186, in __next__\n",
            "    processed = next(self.subiterator)\n",
            "  File \"c:\\Users\\etomras\\AppData\\Local\\Programs\\Python\\Python39\\lib\\site-packages\\transformers\\pipelines\\automatic_speech_recognition.py\", line 361, in preprocess\n",
            "    inputs = ffmpeg_read(inputs, self.feature_extractor.sampling_rate)\n",
            "  File \"c:\\Users\\etomras\\AppData\\Local\\Programs\\Python\\Python39\\lib\\site-packages\\transformers\\pipelines\\audio_utils.py\", line 37, in ffmpeg_read\n",
            "    raise ValueError(\"ffmpeg was not found but is required to load audio files from filename\") from error\n",
            "ValueError: ffmpeg was not found but is required to load audio files from filename\n",
            "Traceback (most recent call last):\n",
            "  File \"c:\\Users\\etomras\\AppData\\Local\\Programs\\Python\\Python39\\lib\\site-packages\\transformers\\pipelines\\audio_utils.py\", line 34, in ffmpeg_read\n",
            "    with subprocess.Popen(ffmpeg_command, stdin=subprocess.PIPE, stdout=subprocess.PIPE) as ffmpeg_process:\n",
            "  File \"c:\\Users\\etomras\\AppData\\Local\\Programs\\Python\\Python39\\lib\\subprocess.py\", line 951, in __init__\n",
            "    self._execute_child(args, executable, preexec_fn, close_fds,\n",
            "  File \"c:\\Users\\etomras\\AppData\\Local\\Programs\\Python\\Python39\\lib\\subprocess.py\", line 1420, in _execute_child\n",
            "    hp, ht, pid, tid = _winapi.CreateProcess(executable, args,\n",
            "FileNotFoundError: [WinError 2] The system cannot find the file specified\n",
            "\n",
            "The above exception was the direct cause of the following exception:\n",
            "\n",
            "Traceback (most recent call last):\n",
            "  File \"c:\\Users\\etomras\\AppData\\Local\\Programs\\Python\\Python39\\lib\\site-packages\\gradio\\queueing.py\", line 536, in process_events\n",
            "    response = await route_utils.call_process_api(\n",
            "  File \"c:\\Users\\etomras\\AppData\\Local\\Programs\\Python\\Python39\\lib\\site-packages\\gradio\\route_utils.py\", line 321, in call_process_api\n",
            "    output = await app.get_blocks().process_api(\n",
            "  File \"c:\\Users\\etomras\\AppData\\Local\\Programs\\Python\\Python39\\lib\\site-packages\\gradio\\blocks.py\", line 1935, in process_api\n",
            "    result = await self.call_function(\n",
            "  File \"c:\\Users\\etomras\\AppData\\Local\\Programs\\Python\\Python39\\lib\\site-packages\\gradio\\blocks.py\", line 1520, in call_function\n",
            "    prediction = await anyio.to_thread.run_sync(  # type: ignore\n",
            "  File \"c:\\Users\\etomras\\AppData\\Local\\Programs\\Python\\Python39\\lib\\site-packages\\anyio\\to_thread.py\", line 31, in run_sync\n",
            "    return await get_asynclib().run_sync_in_worker_thread(\n",
            "  File \"c:\\Users\\etomras\\AppData\\Local\\Programs\\Python\\Python39\\lib\\site-packages\\anyio\\_backends\\_asyncio.py\", line 937, in run_sync_in_worker_thread\n",
            "    return await future\n",
            "  File \"c:\\Users\\etomras\\AppData\\Local\\Programs\\Python\\Python39\\lib\\site-packages\\anyio\\_backends\\_asyncio.py\", line 867, in run\n",
            "    result = context.run(func, *args)\n",
            "  File \"c:\\Users\\etomras\\AppData\\Local\\Programs\\Python\\Python39\\lib\\site-packages\\gradio\\utils.py\", line 826, in wrapper\n",
            "    response = f(*args, **kwargs)\n",
            "  File \"C:\\Users\\etomras\\AppData\\Local\\Temp\\ipykernel_19264\\766074757.py\", line 5, in transcribe_long_form\n",
            "    output = asr(\n",
            "  File \"c:\\Users\\etomras\\AppData\\Local\\Programs\\Python\\Python39\\lib\\site-packages\\transformers\\pipelines\\automatic_speech_recognition.py\", line 284, in __call__\n",
            "    return super().__call__(inputs, **kwargs)\n",
            "  File \"c:\\Users\\etomras\\AppData\\Local\\Programs\\Python\\Python39\\lib\\site-packages\\transformers\\pipelines\\base.py\", line 1246, in __call__\n",
            "    return next(\n",
            "  File \"c:\\Users\\etomras\\AppData\\Local\\Programs\\Python\\Python39\\lib\\site-packages\\transformers\\pipelines\\pt_utils.py\", line 124, in __next__\n",
            "    item = next(self.iterator)\n",
            "  File \"c:\\Users\\etomras\\AppData\\Local\\Programs\\Python\\Python39\\lib\\site-packages\\transformers\\pipelines\\pt_utils.py\", line 269, in __next__\n",
            "    processed = self.infer(next(self.iterator), **self.params)\n",
            "  File \"c:\\Users\\etomras\\AppData\\Local\\Programs\\Python\\Python39\\lib\\site-packages\\torch\\utils\\data\\dataloader.py\", line 631, in __next__\n",
            "    data = self._next_data()\n",
            "  File \"c:\\Users\\etomras\\AppData\\Local\\Programs\\Python\\Python39\\lib\\site-packages\\torch\\utils\\data\\dataloader.py\", line 675, in _next_data\n",
            "    data = self._dataset_fetcher.fetch(index)  # may raise StopIteration\n",
            "  File \"c:\\Users\\etomras\\AppData\\Local\\Programs\\Python\\Python39\\lib\\site-packages\\torch\\utils\\data\\_utils\\fetch.py\", line 32, in fetch\n",
            "    data.append(next(self.dataset_iter))\n",
            "  File \"c:\\Users\\etomras\\AppData\\Local\\Programs\\Python\\Python39\\lib\\site-packages\\transformers\\pipelines\\pt_utils.py\", line 186, in __next__\n",
            "    processed = next(self.subiterator)\n",
            "  File \"c:\\Users\\etomras\\AppData\\Local\\Programs\\Python\\Python39\\lib\\site-packages\\transformers\\pipelines\\automatic_speech_recognition.py\", line 361, in preprocess\n",
            "    inputs = ffmpeg_read(inputs, self.feature_extractor.sampling_rate)\n",
            "  File \"c:\\Users\\etomras\\AppData\\Local\\Programs\\Python\\Python39\\lib\\site-packages\\transformers\\pipelines\\audio_utils.py\", line 37, in ffmpeg_read\n",
            "    raise ValueError(\"ffmpeg was not found but is required to load audio files from filename\") from error\n",
            "ValueError: ffmpeg was not found but is required to load audio files from filename\n"
          ]
        }
      ],
      "source": [
        "with demo:\n",
        "    gr.TabbedInterface(\n",
        "        [mic_transcribe,\n",
        "         file_transcribe],\n",
        "        [\"Transcribe Microphone\",\n",
        "         \"Transcribe Audio File\"],\n",
        "    )\n",
        "#demo.launch(share=True, server_port=int(os.environ['PORT1']))\n",
        "\n",
        "demo.launch(share=True, server_port=int(8000))"
      ]
    },
    {
      "cell_type": "code",
      "execution_count": null,
      "id": "e0484ebb",
      "metadata": {
        "colab": {
          "base_uri": "https://localhost:8080/",
          "height": 141
        },
        "height": 30,
        "id": "e0484ebb",
        "outputId": "f634c0f2-a897-47e7-b30c-b38acbceb2a5"
      },
      "outputs": [],
      "source": [
        "demo.close()"
      ]
    },
    {
      "cell_type": "code",
      "execution_count": null,
      "id": "32807f4d",
      "metadata": {},
      "outputs": [],
      "source": []
    },
    {
      "cell_type": "code",
      "execution_count": null,
      "id": "e289198d",
      "metadata": {},
      "outputs": [],
      "source": []
    },
    {
      "cell_type": "markdown",
      "id": "NxENPjPScjqq",
      "metadata": {
        "id": "NxENPjPScjqq"
      },
      "source": [
        "## Translation: Translate the English text into french and Vice-versa!!"
      ]
    },
    {
      "cell_type": "code",
      "execution_count": null,
      "id": "6CQYlNpycMCl",
      "metadata": {
        "id": "6CQYlNpycMCl"
      },
      "outputs": [],
      "source": []
    },
    {
      "cell_type": "code",
      "execution_count": null,
      "id": "a9693143",
      "metadata": {},
      "outputs": [],
      "source": [
        "# Load model directly\n",
        "from transformers import AutoProcessor, pipeline,AutoTokenizer, AutoModelForSeq2SeqLM\n",
        "import torch\n",
        "\n",
        "model_path=r\"C:\\\\Users\\\\etomras\\\\SLOP\\\\SpeechToText\\\\RT\\\\models\\\\NLLB-200-distilled-600M\"\n",
        "#model_path=\".\\RT\\models\\nllb-200-distilled-600M\"\n",
        "\n",
        "tokenizer = AutoTokenizer.from_pretrained(model_path)\n",
        "model = AutoModelForSeq2SeqLM.from_pretrained(model_path)\n",
        "\n",
        "#device = \"cuda:0\" if torch.cuda.is_available() else \"cpu\"\n",
        "#torch_dtype = torch.float16 if torch.cuda.is_available() else torch.float32\n",
        "#model.to(device)\n"
      ]
    },
    {
      "cell_type": "code",
      "execution_count": null,
      "id": "87172bd4",
      "metadata": {},
      "outputs": [],
      "source": [
        "eng_text = \"\"\"\\\n",
        "My puppy is adorable, \\\n",
        "Your kitten is cute.\n",
        "Her panda is friendly.\n",
        "His llama is thoughtful. \\\n",
        "We all have nice pets!\"\"\"\n",
        "\n",
        "french_text = \"\"\"\\\n",
        "Diminuez la vitesse du vent.\n",
        "!\"\"\""
      ]
    },
    {
      "cell_type": "code",
      "execution_count": null,
      "id": "8b7a607d",
      "metadata": {},
      "outputs": [],
      "source": [
        "#Examples: \"en\" for English, \"fr\" for French, \"de\" for German, \"es\" for Spanish, \"zh\" for Chinese, etc; translation_en_to_fr translates English to French\n",
        "# You can view all the lists of languages here - https://huggingface.co/languages\n",
        "translator_en_fr = pipeline(\"translation_en_to_fr\", model=model,\n",
        "                        tokenizer=tokenizer,\n",
        "    max_new_tokens=128,\n",
        "    batch_size=16,\n",
        "    torch_dtype=torch.bfloat16)"
      ]
    },
    {
      "cell_type": "code",
      "execution_count": null,
      "id": "2d58ad79",
      "metadata": {},
      "outputs": [],
      "source": [
        "text_translated_in_fr = translator_en_fr(eng_text, src_lang=\"eng_Latn\", tgt_lang=\"fra_Latn\")\n",
        "print(text_translated_in_fr)"
      ]
    },
    {
      "cell_type": "code",
      "execution_count": null,
      "id": "17c278bd",
      "metadata": {},
      "outputs": [],
      "source": [
        "#Examples: \"en\" for English, \"fr\" for French, \"de\" for German, \"es\" for Spanish, \"zh\" for Chinese, etc; translation_en_to_fr translates English to French\n",
        "# You can view all the lists of languages here - https://huggingface.co/languages\n",
        "translator_fr_en = pipeline(\"translation_fr_to_en\", model=model,\n",
        "                        tokenizer=tokenizer,\n",
        "    max_new_tokens=128,\n",
        "    batch_size=16,\n",
        "    torch_dtype=torch.bfloat16)\n",
        "\n",
        "text_translated_in_en = translator_fr_en(french_text,src_lang=\"fra_Latn\", tgt_lang=\"eng_Latn\", )\n",
        "text_translated_in_en"
      ]
    }
  ],
  "metadata": {
    "colab": {
      "provenance": []
    },
    "kernelspec": {
      "display_name": "Python 3 (ipykernel)",
      "language": "python",
      "name": "python3"
    },
    "language_info": {
      "codemirror_mode": {
        "name": "ipython",
        "version": 3
      },
      "file_extension": ".py",
      "mimetype": "text/x-python",
      "name": "python",
      "nbconvert_exporter": "python",
      "pygments_lexer": "ipython3",
      "version": "3.9.5"
    },
    "widgets": {
      "application/vnd.jupyter.widget-state+json": {
        "0151783b0fc24f6697830f07652d5c1f": {
          "model_module": "@jupyter-widgets/controls",
          "model_module_version": "1.5.0",
          "model_name": "DescriptionStyleModel",
          "state": {
            "_model_module": "@jupyter-widgets/controls",
            "_model_module_version": "1.5.0",
            "_model_name": "DescriptionStyleModel",
            "_view_count": null,
            "_view_module": "@jupyter-widgets/base",
            "_view_module_version": "1.2.0",
            "_view_name": "StyleView",
            "description_width": ""
          }
        },
        "0737782662cc4719acd4d6e239317f06": {
          "model_module": "@jupyter-widgets/controls",
          "model_module_version": "1.5.0",
          "model_name": "HTMLModel",
          "state": {
            "_dom_classes": [],
            "_model_module": "@jupyter-widgets/controls",
            "_model_module_version": "1.5.0",
            "_model_name": "HTMLModel",
            "_view_count": null,
            "_view_module": "@jupyter-widgets/controls",
            "_view_module_version": "1.5.0",
            "_view_name": "HTMLView",
            "description": "",
            "description_tooltip": null,
            "layout": "IPY_MODEL_471906c4f5194d2cbb64a722ff85ca9a",
            "placeholder": "​",
            "style": "IPY_MODEL_e9a07851379d48b4bf6b6e5ac0db7fb8",
            "value": " 11.4k/11.4k [00:00&lt;00:00, 44.1kB/s]"
          }
        },
        "183b17f1059e4cb79ca6ca5e45d2fc57": {
          "model_module": "@jupyter-widgets/base",
          "model_module_version": "1.2.0",
          "model_name": "LayoutModel",
          "state": {
            "_model_module": "@jupyter-widgets/base",
            "_model_module_version": "1.2.0",
            "_model_name": "LayoutModel",
            "_view_count": null,
            "_view_module": "@jupyter-widgets/base",
            "_view_module_version": "1.2.0",
            "_view_name": "LayoutView",
            "align_content": null,
            "align_items": null,
            "align_self": null,
            "border": null,
            "bottom": null,
            "display": null,
            "flex": null,
            "flex_flow": null,
            "grid_area": null,
            "grid_auto_columns": null,
            "grid_auto_flow": null,
            "grid_auto_rows": null,
            "grid_column": null,
            "grid_gap": null,
            "grid_row": null,
            "grid_template_areas": null,
            "grid_template_columns": null,
            "grid_template_rows": null,
            "height": null,
            "justify_content": null,
            "justify_items": null,
            "left": null,
            "margin": null,
            "max_height": null,
            "max_width": null,
            "min_height": null,
            "min_width": null,
            "object_fit": null,
            "object_position": null,
            "order": null,
            "overflow": null,
            "overflow_x": null,
            "overflow_y": null,
            "padding": null,
            "right": null,
            "top": null,
            "visibility": null,
            "width": null
          }
        },
        "207eed94262e4f3d9bab8cb08af042a0": {
          "model_module": "@jupyter-widgets/controls",
          "model_module_version": "1.5.0",
          "model_name": "FloatProgressModel",
          "state": {
            "_dom_classes": [],
            "_model_module": "@jupyter-widgets/controls",
            "_model_module_version": "1.5.0",
            "_model_name": "FloatProgressModel",
            "_view_count": null,
            "_view_module": "@jupyter-widgets/controls",
            "_view_module_version": "1.5.0",
            "_view_name": "ProgressView",
            "bar_style": "success",
            "description": "",
            "description_tooltip": null,
            "layout": "IPY_MODEL_183b17f1059e4cb79ca6ca5e45d2fc57",
            "max": 11369,
            "min": 0,
            "orientation": "horizontal",
            "style": "IPY_MODEL_ac7c3981562145c8a08f346f676bae1b",
            "value": 11369
          }
        },
        "21dfdae27e42442eb3319ce4ccc27278": {
          "model_module": "@jupyter-widgets/base",
          "model_module_version": "1.2.0",
          "model_name": "LayoutModel",
          "state": {
            "_model_module": "@jupyter-widgets/base",
            "_model_module_version": "1.2.0",
            "_model_name": "LayoutModel",
            "_view_count": null,
            "_view_module": "@jupyter-widgets/base",
            "_view_module_version": "1.2.0",
            "_view_name": "LayoutView",
            "align_content": null,
            "align_items": null,
            "align_self": null,
            "border": null,
            "bottom": null,
            "display": null,
            "flex": null,
            "flex_flow": null,
            "grid_area": null,
            "grid_auto_columns": null,
            "grid_auto_flow": null,
            "grid_auto_rows": null,
            "grid_column": null,
            "grid_gap": null,
            "grid_row": null,
            "grid_template_areas": null,
            "grid_template_columns": null,
            "grid_template_rows": null,
            "height": null,
            "justify_content": null,
            "justify_items": null,
            "left": null,
            "margin": null,
            "max_height": null,
            "max_width": null,
            "min_height": null,
            "min_width": null,
            "object_fit": null,
            "object_position": null,
            "order": null,
            "overflow": null,
            "overflow_x": null,
            "overflow_y": null,
            "padding": null,
            "right": null,
            "top": null,
            "visibility": null,
            "width": null
          }
        },
        "285acf7cde3b4280b1827e0fb7b1dc7e": {
          "model_module": "@jupyter-widgets/controls",
          "model_module_version": "1.5.0",
          "model_name": "HTMLModel",
          "state": {
            "_dom_classes": [],
            "_model_module": "@jupyter-widgets/controls",
            "_model_module_version": "1.5.0",
            "_model_name": "HTMLModel",
            "_view_count": null,
            "_view_module": "@jupyter-widgets/controls",
            "_view_module_version": "1.5.0",
            "_view_name": "HTMLView",
            "description": "",
            "description_tooltip": null,
            "layout": "IPY_MODEL_6bfb5fe93b9e4bf199ad1486d878a9a5",
            "placeholder": "​",
            "style": "IPY_MODEL_53c9eb4fea594903b0713cb4cfd24b20",
            "value": "Downloading builder script: 100%"
          }
        },
        "43aa1e23296b4cf4b7e137f646630eb1": {
          "model_module": "@jupyter-widgets/controls",
          "model_module_version": "1.5.0",
          "model_name": "HBoxModel",
          "state": {
            "_dom_classes": [],
            "_model_module": "@jupyter-widgets/controls",
            "_model_module_version": "1.5.0",
            "_model_name": "HBoxModel",
            "_view_count": null,
            "_view_module": "@jupyter-widgets/controls",
            "_view_module_version": "1.5.0",
            "_view_name": "HBoxView",
            "box_style": "",
            "children": [
              "IPY_MODEL_43e408cbc90446e2adc2e6136e86abbe",
              "IPY_MODEL_ebc9ba5d951049d4ba383ad90b95fed1",
              "IPY_MODEL_a1353f82d46a46b2ab1a3c341b46fe18"
            ],
            "layout": "IPY_MODEL_21dfdae27e42442eb3319ce4ccc27278"
          }
        },
        "43e408cbc90446e2adc2e6136e86abbe": {
          "model_module": "@jupyter-widgets/controls",
          "model_module_version": "1.5.0",
          "model_name": "HTMLModel",
          "state": {
            "_dom_classes": [],
            "_model_module": "@jupyter-widgets/controls",
            "_model_module_version": "1.5.0",
            "_model_name": "HTMLModel",
            "_view_count": null,
            "_view_module": "@jupyter-widgets/controls",
            "_view_module_version": "1.5.0",
            "_view_name": "HTMLView",
            "description": "",
            "description_tooltip": null,
            "layout": "IPY_MODEL_86fddaf616ec4f57bbbc71024308d91e",
            "placeholder": "​",
            "style": "IPY_MODEL_0151783b0fc24f6697830f07652d5c1f",
            "value": "Downloading readme: 100%"
          }
        },
        "471906c4f5194d2cbb64a722ff85ca9a": {
          "model_module": "@jupyter-widgets/base",
          "model_module_version": "1.2.0",
          "model_name": "LayoutModel",
          "state": {
            "_model_module": "@jupyter-widgets/base",
            "_model_module_version": "1.2.0",
            "_model_name": "LayoutModel",
            "_view_count": null,
            "_view_module": "@jupyter-widgets/base",
            "_view_module_version": "1.2.0",
            "_view_name": "LayoutView",
            "align_content": null,
            "align_items": null,
            "align_self": null,
            "border": null,
            "bottom": null,
            "display": null,
            "flex": null,
            "flex_flow": null,
            "grid_area": null,
            "grid_auto_columns": null,
            "grid_auto_flow": null,
            "grid_auto_rows": null,
            "grid_column": null,
            "grid_gap": null,
            "grid_row": null,
            "grid_template_areas": null,
            "grid_template_columns": null,
            "grid_template_rows": null,
            "height": null,
            "justify_content": null,
            "justify_items": null,
            "left": null,
            "margin": null,
            "max_height": null,
            "max_width": null,
            "min_height": null,
            "min_width": null,
            "object_fit": null,
            "object_position": null,
            "order": null,
            "overflow": null,
            "overflow_x": null,
            "overflow_y": null,
            "padding": null,
            "right": null,
            "top": null,
            "visibility": null,
            "width": null
          }
        },
        "53c9eb4fea594903b0713cb4cfd24b20": {
          "model_module": "@jupyter-widgets/controls",
          "model_module_version": "1.5.0",
          "model_name": "DescriptionStyleModel",
          "state": {
            "_model_module": "@jupyter-widgets/controls",
            "_model_module_version": "1.5.0",
            "_model_name": "DescriptionStyleModel",
            "_view_count": null,
            "_view_module": "@jupyter-widgets/base",
            "_view_module_version": "1.2.0",
            "_view_name": "StyleView",
            "description_width": ""
          }
        },
        "6bfb5fe93b9e4bf199ad1486d878a9a5": {
          "model_module": "@jupyter-widgets/base",
          "model_module_version": "1.2.0",
          "model_name": "LayoutModel",
          "state": {
            "_model_module": "@jupyter-widgets/base",
            "_model_module_version": "1.2.0",
            "_model_name": "LayoutModel",
            "_view_count": null,
            "_view_module": "@jupyter-widgets/base",
            "_view_module_version": "1.2.0",
            "_view_name": "LayoutView",
            "align_content": null,
            "align_items": null,
            "align_self": null,
            "border": null,
            "bottom": null,
            "display": null,
            "flex": null,
            "flex_flow": null,
            "grid_area": null,
            "grid_auto_columns": null,
            "grid_auto_flow": null,
            "grid_auto_rows": null,
            "grid_column": null,
            "grid_gap": null,
            "grid_row": null,
            "grid_template_areas": null,
            "grid_template_columns": null,
            "grid_template_rows": null,
            "height": null,
            "justify_content": null,
            "justify_items": null,
            "left": null,
            "margin": null,
            "max_height": null,
            "max_width": null,
            "min_height": null,
            "min_width": null,
            "object_fit": null,
            "object_position": null,
            "order": null,
            "overflow": null,
            "overflow_x": null,
            "overflow_y": null,
            "padding": null,
            "right": null,
            "top": null,
            "visibility": null,
            "width": null
          }
        },
        "86fddaf616ec4f57bbbc71024308d91e": {
          "model_module": "@jupyter-widgets/base",
          "model_module_version": "1.2.0",
          "model_name": "LayoutModel",
          "state": {
            "_model_module": "@jupyter-widgets/base",
            "_model_module_version": "1.2.0",
            "_model_name": "LayoutModel",
            "_view_count": null,
            "_view_module": "@jupyter-widgets/base",
            "_view_module_version": "1.2.0",
            "_view_name": "LayoutView",
            "align_content": null,
            "align_items": null,
            "align_self": null,
            "border": null,
            "bottom": null,
            "display": null,
            "flex": null,
            "flex_flow": null,
            "grid_area": null,
            "grid_auto_columns": null,
            "grid_auto_flow": null,
            "grid_auto_rows": null,
            "grid_column": null,
            "grid_gap": null,
            "grid_row": null,
            "grid_template_areas": null,
            "grid_template_columns": null,
            "grid_template_rows": null,
            "height": null,
            "justify_content": null,
            "justify_items": null,
            "left": null,
            "margin": null,
            "max_height": null,
            "max_width": null,
            "min_height": null,
            "min_width": null,
            "object_fit": null,
            "object_position": null,
            "order": null,
            "overflow": null,
            "overflow_x": null,
            "overflow_y": null,
            "padding": null,
            "right": null,
            "top": null,
            "visibility": null,
            "width": null
          }
        },
        "9a7993ed79a94e85a31e486e36cce27c": {
          "model_module": "@jupyter-widgets/controls",
          "model_module_version": "1.5.0",
          "model_name": "HBoxModel",
          "state": {
            "_dom_classes": [],
            "_model_module": "@jupyter-widgets/controls",
            "_model_module_version": "1.5.0",
            "_model_name": "HBoxModel",
            "_view_count": null,
            "_view_module": "@jupyter-widgets/controls",
            "_view_module_version": "1.5.0",
            "_view_name": "HBoxView",
            "box_style": "",
            "children": [
              "IPY_MODEL_285acf7cde3b4280b1827e0fb7b1dc7e",
              "IPY_MODEL_207eed94262e4f3d9bab8cb08af042a0",
              "IPY_MODEL_0737782662cc4719acd4d6e239317f06"
            ],
            "layout": "IPY_MODEL_ce9b7d1cc9854cdc98153cad95ee2f8d"
          }
        },
        "a1353f82d46a46b2ab1a3c341b46fe18": {
          "model_module": "@jupyter-widgets/controls",
          "model_module_version": "1.5.0",
          "model_name": "HTMLModel",
          "state": {
            "_dom_classes": [],
            "_model_module": "@jupyter-widgets/controls",
            "_model_module_version": "1.5.0",
            "_model_name": "HTMLModel",
            "_view_count": null,
            "_view_module": "@jupyter-widgets/controls",
            "_view_module_version": "1.5.0",
            "_view_name": "HTMLView",
            "description": "",
            "description_tooltip": null,
            "layout": "IPY_MODEL_f1cb4ece0c3e426fb44ca3ebaa789b5a",
            "placeholder": "​",
            "style": "IPY_MODEL_b9833a9c3a19476e86c77c431773f824",
            "value": " 10.2k/10.2k [00:00&lt;00:00, 41.3kB/s]"
          }
        },
        "ac7c3981562145c8a08f346f676bae1b": {
          "model_module": "@jupyter-widgets/controls",
          "model_module_version": "1.5.0",
          "model_name": "ProgressStyleModel",
          "state": {
            "_model_module": "@jupyter-widgets/controls",
            "_model_module_version": "1.5.0",
            "_model_name": "ProgressStyleModel",
            "_view_count": null,
            "_view_module": "@jupyter-widgets/base",
            "_view_module_version": "1.2.0",
            "_view_name": "StyleView",
            "bar_color": null,
            "description_width": ""
          }
        },
        "b9833a9c3a19476e86c77c431773f824": {
          "model_module": "@jupyter-widgets/controls",
          "model_module_version": "1.5.0",
          "model_name": "DescriptionStyleModel",
          "state": {
            "_model_module": "@jupyter-widgets/controls",
            "_model_module_version": "1.5.0",
            "_model_name": "DescriptionStyleModel",
            "_view_count": null,
            "_view_module": "@jupyter-widgets/base",
            "_view_module_version": "1.2.0",
            "_view_name": "StyleView",
            "description_width": ""
          }
        },
        "c7f32564139f4cfd8061988f559c78af": {
          "model_module": "@jupyter-widgets/controls",
          "model_module_version": "1.5.0",
          "model_name": "ProgressStyleModel",
          "state": {
            "_model_module": "@jupyter-widgets/controls",
            "_model_module_version": "1.5.0",
            "_model_name": "ProgressStyleModel",
            "_view_count": null,
            "_view_module": "@jupyter-widgets/base",
            "_view_module_version": "1.2.0",
            "_view_name": "StyleView",
            "bar_color": null,
            "description_width": ""
          }
        },
        "ce9b7d1cc9854cdc98153cad95ee2f8d": {
          "model_module": "@jupyter-widgets/base",
          "model_module_version": "1.2.0",
          "model_name": "LayoutModel",
          "state": {
            "_model_module": "@jupyter-widgets/base",
            "_model_module_version": "1.2.0",
            "_model_name": "LayoutModel",
            "_view_count": null,
            "_view_module": "@jupyter-widgets/base",
            "_view_module_version": "1.2.0",
            "_view_name": "LayoutView",
            "align_content": null,
            "align_items": null,
            "align_self": null,
            "border": null,
            "bottom": null,
            "display": null,
            "flex": null,
            "flex_flow": null,
            "grid_area": null,
            "grid_auto_columns": null,
            "grid_auto_flow": null,
            "grid_auto_rows": null,
            "grid_column": null,
            "grid_gap": null,
            "grid_row": null,
            "grid_template_areas": null,
            "grid_template_columns": null,
            "grid_template_rows": null,
            "height": null,
            "justify_content": null,
            "justify_items": null,
            "left": null,
            "margin": null,
            "max_height": null,
            "max_width": null,
            "min_height": null,
            "min_width": null,
            "object_fit": null,
            "object_position": null,
            "order": null,
            "overflow": null,
            "overflow_x": null,
            "overflow_y": null,
            "padding": null,
            "right": null,
            "top": null,
            "visibility": null,
            "width": null
          }
        },
        "e9a07851379d48b4bf6b6e5ac0db7fb8": {
          "model_module": "@jupyter-widgets/controls",
          "model_module_version": "1.5.0",
          "model_name": "DescriptionStyleModel",
          "state": {
            "_model_module": "@jupyter-widgets/controls",
            "_model_module_version": "1.5.0",
            "_model_name": "DescriptionStyleModel",
            "_view_count": null,
            "_view_module": "@jupyter-widgets/base",
            "_view_module_version": "1.2.0",
            "_view_name": "StyleView",
            "description_width": ""
          }
        },
        "ebc9ba5d951049d4ba383ad90b95fed1": {
          "model_module": "@jupyter-widgets/controls",
          "model_module_version": "1.5.0",
          "model_name": "FloatProgressModel",
          "state": {
            "_dom_classes": [],
            "_model_module": "@jupyter-widgets/controls",
            "_model_module_version": "1.5.0",
            "_model_name": "FloatProgressModel",
            "_view_count": null,
            "_view_module": "@jupyter-widgets/controls",
            "_view_module_version": "1.5.0",
            "_view_name": "ProgressView",
            "bar_style": "success",
            "description": "",
            "description_tooltip": null,
            "layout": "IPY_MODEL_ff84329d707649eba6fdd0e69534a3c7",
            "max": 10184,
            "min": 0,
            "orientation": "horizontal",
            "style": "IPY_MODEL_c7f32564139f4cfd8061988f559c78af",
            "value": 10184
          }
        },
        "f1cb4ece0c3e426fb44ca3ebaa789b5a": {
          "model_module": "@jupyter-widgets/base",
          "model_module_version": "1.2.0",
          "model_name": "LayoutModel",
          "state": {
            "_model_module": "@jupyter-widgets/base",
            "_model_module_version": "1.2.0",
            "_model_name": "LayoutModel",
            "_view_count": null,
            "_view_module": "@jupyter-widgets/base",
            "_view_module_version": "1.2.0",
            "_view_name": "LayoutView",
            "align_content": null,
            "align_items": null,
            "align_self": null,
            "border": null,
            "bottom": null,
            "display": null,
            "flex": null,
            "flex_flow": null,
            "grid_area": null,
            "grid_auto_columns": null,
            "grid_auto_flow": null,
            "grid_auto_rows": null,
            "grid_column": null,
            "grid_gap": null,
            "grid_row": null,
            "grid_template_areas": null,
            "grid_template_columns": null,
            "grid_template_rows": null,
            "height": null,
            "justify_content": null,
            "justify_items": null,
            "left": null,
            "margin": null,
            "max_height": null,
            "max_width": null,
            "min_height": null,
            "min_width": null,
            "object_fit": null,
            "object_position": null,
            "order": null,
            "overflow": null,
            "overflow_x": null,
            "overflow_y": null,
            "padding": null,
            "right": null,
            "top": null,
            "visibility": null,
            "width": null
          }
        },
        "ff84329d707649eba6fdd0e69534a3c7": {
          "model_module": "@jupyter-widgets/base",
          "model_module_version": "1.2.0",
          "model_name": "LayoutModel",
          "state": {
            "_model_module": "@jupyter-widgets/base",
            "_model_module_version": "1.2.0",
            "_model_name": "LayoutModel",
            "_view_count": null,
            "_view_module": "@jupyter-widgets/base",
            "_view_module_version": "1.2.0",
            "_view_name": "LayoutView",
            "align_content": null,
            "align_items": null,
            "align_self": null,
            "border": null,
            "bottom": null,
            "display": null,
            "flex": null,
            "flex_flow": null,
            "grid_area": null,
            "grid_auto_columns": null,
            "grid_auto_flow": null,
            "grid_auto_rows": null,
            "grid_column": null,
            "grid_gap": null,
            "grid_row": null,
            "grid_template_areas": null,
            "grid_template_columns": null,
            "grid_template_rows": null,
            "height": null,
            "justify_content": null,
            "justify_items": null,
            "left": null,
            "margin": null,
            "max_height": null,
            "max_width": null,
            "min_height": null,
            "min_width": null,
            "object_fit": null,
            "object_position": null,
            "order": null,
            "overflow": null,
            "overflow_x": null,
            "overflow_y": null,
            "padding": null,
            "right": null,
            "top": null,
            "visibility": null,
            "width": null
          }
        }
      }
    }
  },
  "nbformat": 4,
  "nbformat_minor": 5
}
