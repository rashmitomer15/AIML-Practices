{
 "cells": [
  {
   "cell_type": "markdown",
   "metadata": {
    "colab_type": "text",
    "id": "MyfMmMnPJjvn"
   },
   "source": [
    "The case study is from an open-source dataset from Kaggle. \n",
    "\n",
    "Link to the Kaggle project site:\n",
    "\n",
    "https://www.kaggle.com/barelydedicated/bank-customer-churn-modeling\n",
    "\n",
    "Given a Bank customer, can we build a classifier that can determine whether they will leave or not using Neural networks?"
   ]
  },
  {
   "cell_type": "markdown",
   "metadata": {
    "colab_type": "text",
    "id": "jR0Pl2XjJjvq"
   },
   "source": [
    "### Load the  `Bank.csv`  dataset\n",
    "\n",
    "** Use keras.datasets to load the dataset **"
   ]
  },
  {
   "cell_type": "code",
   "execution_count": 1,
   "metadata": {
    "colab": {
     "base_uri": "https://localhost:8080/",
     "height": 99
    },
    "colab_type": "code",
    "id": "o9K1a3n-VcYg",
    "outputId": "8d511511-d3ea-4c27-abf1-1278fee6d8b7"
   },
   "outputs": [
    {
     "name": "stderr",
     "output_type": "stream",
     "text": [
      "Using TensorFlow backend.\n"
     ]
    },
    {
     "data": {
      "text/html": [
       "<p style=\"color: red;\">\n",
       "The default version of TensorFlow in Colab will soon switch to TensorFlow 2.x.<br>\n",
       "We recommend you <a href=\"https://www.tensorflow.org/guide/migrate\" target=\"_blank\">upgrade</a> now \n",
       "or ensure your notebook will continue to use TensorFlow 1.x via the <code>%tensorflow_version 1.x</code> magic:\n",
       "<a href=\"https://colab.research.google.com/notebooks/tensorflow_version.ipynb\" target=\"_blank\">more info</a>.</p>\n"
      ],
      "text/plain": [
       "<IPython.core.display.HTML object>"
      ]
     },
     "metadata": {
      "tags": []
     },
     "output_type": "display_data"
    },
    {
     "name": "stdout",
     "output_type": "stream",
     "text": [
      "Drive already mounted at /content/drive; to attempt to forcibly remount, call drive.mount(\"/content/drive\", force_remount=True).\n"
     ]
    }
   ],
   "source": [
    "import numpy as np\n",
    "import pandas as pd\n",
    "import keras\n",
    "\n",
    "from matplotlib import pyplot as plt\n",
    "import seaborn as sns\n",
    "plt.rcParams['figure.figsize'] = (15, 8)\n",
    "\n",
    "from google.colab import drive\n",
    "drive.mount('/content/drive')"
   ]
  },
  {
   "cell_type": "code",
   "execution_count": 0,
   "metadata": {
    "colab": {},
    "colab_type": "code",
    "id": "BUPigLZynCXS"
   },
   "outputs": [],
   "source": [
    "bank_df = pd.read_csv('/content/drive/My Drive/ClassNotes/RES-7Deep/Project-Deep Learning/bank.csv',index_col='RowNumber')"
   ]
  },
  {
   "cell_type": "code",
   "execution_count": 3,
   "metadata": {
    "colab": {
     "base_uri": "https://localhost:8080/",
     "height": 253
    },
    "colab_type": "code",
    "id": "swS2JAO8nCqk",
    "outputId": "b875fc75-29b3-4d8c-d2ac-5ea4a8cfa028"
   },
   "outputs": [
    {
     "data": {
      "text/html": [
       "<div>\n",
       "<style scoped>\n",
       "    .dataframe tbody tr th:only-of-type {\n",
       "        vertical-align: middle;\n",
       "    }\n",
       "\n",
       "    .dataframe tbody tr th {\n",
       "        vertical-align: top;\n",
       "    }\n",
       "\n",
       "    .dataframe thead th {\n",
       "        text-align: right;\n",
       "    }\n",
       "</style>\n",
       "<table border=\"1\" class=\"dataframe\">\n",
       "  <thead>\n",
       "    <tr style=\"text-align: right;\">\n",
       "      <th></th>\n",
       "      <th>CustomerId</th>\n",
       "      <th>Surname</th>\n",
       "      <th>CreditScore</th>\n",
       "      <th>Geography</th>\n",
       "      <th>Gender</th>\n",
       "      <th>Age</th>\n",
       "      <th>Tenure</th>\n",
       "      <th>Balance</th>\n",
       "      <th>NumOfProducts</th>\n",
       "      <th>HasCrCard</th>\n",
       "      <th>IsActiveMember</th>\n",
       "      <th>EstimatedSalary</th>\n",
       "      <th>Exited</th>\n",
       "    </tr>\n",
       "    <tr>\n",
       "      <th>RowNumber</th>\n",
       "      <th></th>\n",
       "      <th></th>\n",
       "      <th></th>\n",
       "      <th></th>\n",
       "      <th></th>\n",
       "      <th></th>\n",
       "      <th></th>\n",
       "      <th></th>\n",
       "      <th></th>\n",
       "      <th></th>\n",
       "      <th></th>\n",
       "      <th></th>\n",
       "      <th></th>\n",
       "    </tr>\n",
       "  </thead>\n",
       "  <tbody>\n",
       "    <tr>\n",
       "      <th>1</th>\n",
       "      <td>15634602</td>\n",
       "      <td>Hargrave</td>\n",
       "      <td>619</td>\n",
       "      <td>France</td>\n",
       "      <td>Female</td>\n",
       "      <td>42</td>\n",
       "      <td>2</td>\n",
       "      <td>0.00</td>\n",
       "      <td>1</td>\n",
       "      <td>1</td>\n",
       "      <td>1</td>\n",
       "      <td>101348.88</td>\n",
       "      <td>1</td>\n",
       "    </tr>\n",
       "    <tr>\n",
       "      <th>2</th>\n",
       "      <td>15647311</td>\n",
       "      <td>Hill</td>\n",
       "      <td>608</td>\n",
       "      <td>Spain</td>\n",
       "      <td>Female</td>\n",
       "      <td>41</td>\n",
       "      <td>1</td>\n",
       "      <td>83807.86</td>\n",
       "      <td>1</td>\n",
       "      <td>0</td>\n",
       "      <td>1</td>\n",
       "      <td>112542.58</td>\n",
       "      <td>0</td>\n",
       "    </tr>\n",
       "    <tr>\n",
       "      <th>3</th>\n",
       "      <td>15619304</td>\n",
       "      <td>Onio</td>\n",
       "      <td>502</td>\n",
       "      <td>France</td>\n",
       "      <td>Female</td>\n",
       "      <td>42</td>\n",
       "      <td>8</td>\n",
       "      <td>159660.80</td>\n",
       "      <td>3</td>\n",
       "      <td>1</td>\n",
       "      <td>0</td>\n",
       "      <td>113931.57</td>\n",
       "      <td>1</td>\n",
       "    </tr>\n",
       "    <tr>\n",
       "      <th>4</th>\n",
       "      <td>15701354</td>\n",
       "      <td>Boni</td>\n",
       "      <td>699</td>\n",
       "      <td>France</td>\n",
       "      <td>Female</td>\n",
       "      <td>39</td>\n",
       "      <td>1</td>\n",
       "      <td>0.00</td>\n",
       "      <td>2</td>\n",
       "      <td>0</td>\n",
       "      <td>0</td>\n",
       "      <td>93826.63</td>\n",
       "      <td>0</td>\n",
       "    </tr>\n",
       "    <tr>\n",
       "      <th>5</th>\n",
       "      <td>15737888</td>\n",
       "      <td>Mitchell</td>\n",
       "      <td>850</td>\n",
       "      <td>Spain</td>\n",
       "      <td>Female</td>\n",
       "      <td>43</td>\n",
       "      <td>2</td>\n",
       "      <td>125510.82</td>\n",
       "      <td>1</td>\n",
       "      <td>1</td>\n",
       "      <td>1</td>\n",
       "      <td>79084.10</td>\n",
       "      <td>0</td>\n",
       "    </tr>\n",
       "  </tbody>\n",
       "</table>\n",
       "</div>"
      ],
      "text/plain": [
       "           CustomerId   Surname  ...  EstimatedSalary Exited\n",
       "RowNumber                        ...                        \n",
       "1            15634602  Hargrave  ...        101348.88      1\n",
       "2            15647311      Hill  ...        112542.58      0\n",
       "3            15619304      Onio  ...        113931.57      1\n",
       "4            15701354      Boni  ...         93826.63      0\n",
       "5            15737888  Mitchell  ...         79084.10      0\n",
       "\n",
       "[5 rows x 13 columns]"
      ]
     },
     "execution_count": 3,
     "metadata": {
      "tags": []
     },
     "output_type": "execute_result"
    }
   ],
   "source": [
    "bank_df.head()"
   ]
  },
  {
   "cell_type": "code",
   "execution_count": 4,
   "metadata": {
    "colab": {
     "base_uri": "https://localhost:8080/",
     "height": 355
    },
    "colab_type": "code",
    "id": "Tr57drOVoRmN",
    "outputId": "bea63984-b981-4d65-a8d6-30e1fb4fc1fb"
   },
   "outputs": [
    {
     "data": {
      "text/html": [
       "<div>\n",
       "<style scoped>\n",
       "    .dataframe tbody tr th:only-of-type {\n",
       "        vertical-align: middle;\n",
       "    }\n",
       "\n",
       "    .dataframe tbody tr th {\n",
       "        vertical-align: top;\n",
       "    }\n",
       "\n",
       "    .dataframe thead th {\n",
       "        text-align: right;\n",
       "    }\n",
       "</style>\n",
       "<table border=\"1\" class=\"dataframe\">\n",
       "  <thead>\n",
       "    <tr style=\"text-align: right;\">\n",
       "      <th></th>\n",
       "      <th>count</th>\n",
       "      <th>mean</th>\n",
       "      <th>std</th>\n",
       "      <th>min</th>\n",
       "      <th>25%</th>\n",
       "      <th>50%</th>\n",
       "      <th>75%</th>\n",
       "      <th>max</th>\n",
       "    </tr>\n",
       "  </thead>\n",
       "  <tbody>\n",
       "    <tr>\n",
       "      <th>CustomerId</th>\n",
       "      <td>10000.0</td>\n",
       "      <td>1.569094e+07</td>\n",
       "      <td>71936.186123</td>\n",
       "      <td>15565701.00</td>\n",
       "      <td>15628528.25</td>\n",
       "      <td>1.569074e+07</td>\n",
       "      <td>1.575323e+07</td>\n",
       "      <td>15815690.00</td>\n",
       "    </tr>\n",
       "    <tr>\n",
       "      <th>CreditScore</th>\n",
       "      <td>10000.0</td>\n",
       "      <td>6.505288e+02</td>\n",
       "      <td>96.653299</td>\n",
       "      <td>350.00</td>\n",
       "      <td>584.00</td>\n",
       "      <td>6.520000e+02</td>\n",
       "      <td>7.180000e+02</td>\n",
       "      <td>850.00</td>\n",
       "    </tr>\n",
       "    <tr>\n",
       "      <th>Age</th>\n",
       "      <td>10000.0</td>\n",
       "      <td>3.892180e+01</td>\n",
       "      <td>10.487806</td>\n",
       "      <td>18.00</td>\n",
       "      <td>32.00</td>\n",
       "      <td>3.700000e+01</td>\n",
       "      <td>4.400000e+01</td>\n",
       "      <td>92.00</td>\n",
       "    </tr>\n",
       "    <tr>\n",
       "      <th>Tenure</th>\n",
       "      <td>10000.0</td>\n",
       "      <td>5.012800e+00</td>\n",
       "      <td>2.892174</td>\n",
       "      <td>0.00</td>\n",
       "      <td>3.00</td>\n",
       "      <td>5.000000e+00</td>\n",
       "      <td>7.000000e+00</td>\n",
       "      <td>10.00</td>\n",
       "    </tr>\n",
       "    <tr>\n",
       "      <th>Balance</th>\n",
       "      <td>10000.0</td>\n",
       "      <td>7.648589e+04</td>\n",
       "      <td>62397.405202</td>\n",
       "      <td>0.00</td>\n",
       "      <td>0.00</td>\n",
       "      <td>9.719854e+04</td>\n",
       "      <td>1.276442e+05</td>\n",
       "      <td>250898.09</td>\n",
       "    </tr>\n",
       "    <tr>\n",
       "      <th>NumOfProducts</th>\n",
       "      <td>10000.0</td>\n",
       "      <td>1.530200e+00</td>\n",
       "      <td>0.581654</td>\n",
       "      <td>1.00</td>\n",
       "      <td>1.00</td>\n",
       "      <td>1.000000e+00</td>\n",
       "      <td>2.000000e+00</td>\n",
       "      <td>4.00</td>\n",
       "    </tr>\n",
       "    <tr>\n",
       "      <th>HasCrCard</th>\n",
       "      <td>10000.0</td>\n",
       "      <td>7.055000e-01</td>\n",
       "      <td>0.455840</td>\n",
       "      <td>0.00</td>\n",
       "      <td>0.00</td>\n",
       "      <td>1.000000e+00</td>\n",
       "      <td>1.000000e+00</td>\n",
       "      <td>1.00</td>\n",
       "    </tr>\n",
       "    <tr>\n",
       "      <th>IsActiveMember</th>\n",
       "      <td>10000.0</td>\n",
       "      <td>5.151000e-01</td>\n",
       "      <td>0.499797</td>\n",
       "      <td>0.00</td>\n",
       "      <td>0.00</td>\n",
       "      <td>1.000000e+00</td>\n",
       "      <td>1.000000e+00</td>\n",
       "      <td>1.00</td>\n",
       "    </tr>\n",
       "    <tr>\n",
       "      <th>EstimatedSalary</th>\n",
       "      <td>10000.0</td>\n",
       "      <td>1.000902e+05</td>\n",
       "      <td>57510.492818</td>\n",
       "      <td>11.58</td>\n",
       "      <td>51002.11</td>\n",
       "      <td>1.001939e+05</td>\n",
       "      <td>1.493882e+05</td>\n",
       "      <td>199992.48</td>\n",
       "    </tr>\n",
       "    <tr>\n",
       "      <th>Exited</th>\n",
       "      <td>10000.0</td>\n",
       "      <td>2.037000e-01</td>\n",
       "      <td>0.402769</td>\n",
       "      <td>0.00</td>\n",
       "      <td>0.00</td>\n",
       "      <td>0.000000e+00</td>\n",
       "      <td>0.000000e+00</td>\n",
       "      <td>1.00</td>\n",
       "    </tr>\n",
       "  </tbody>\n",
       "</table>\n",
       "</div>"
      ],
      "text/plain": [
       "                   count          mean  ...           75%          max\n",
       "CustomerId       10000.0  1.569094e+07  ...  1.575323e+07  15815690.00\n",
       "CreditScore      10000.0  6.505288e+02  ...  7.180000e+02       850.00\n",
       "Age              10000.0  3.892180e+01  ...  4.400000e+01        92.00\n",
       "Tenure           10000.0  5.012800e+00  ...  7.000000e+00        10.00\n",
       "Balance          10000.0  7.648589e+04  ...  1.276442e+05    250898.09\n",
       "NumOfProducts    10000.0  1.530200e+00  ...  2.000000e+00         4.00\n",
       "HasCrCard        10000.0  7.055000e-01  ...  1.000000e+00         1.00\n",
       "IsActiveMember   10000.0  5.151000e-01  ...  1.000000e+00         1.00\n",
       "EstimatedSalary  10000.0  1.000902e+05  ...  1.493882e+05    199992.48\n",
       "Exited           10000.0  2.037000e-01  ...  0.000000e+00         1.00\n",
       "\n",
       "[10 rows x 8 columns]"
      ]
     },
     "execution_count": 4,
     "metadata": {
      "tags": []
     },
     "output_type": "execute_result"
    }
   ],
   "source": [
    "bank_df.describe().T"
   ]
  },
  {
   "cell_type": "code",
   "execution_count": 5,
   "metadata": {
    "colab": {
     "base_uri": "https://localhost:8080/",
     "height": 329
    },
    "colab_type": "code",
    "id": "GaigM2pHoRph",
    "outputId": "684ef4df-6ddd-4112-fcaa-dc2b1cef5491"
   },
   "outputs": [
    {
     "name": "stdout",
     "output_type": "stream",
     "text": [
      "<class 'pandas.core.frame.DataFrame'>\n",
      "Int64Index: 10000 entries, 1 to 10000\n",
      "Data columns (total 13 columns):\n",
      "CustomerId         10000 non-null int64\n",
      "Surname            10000 non-null object\n",
      "CreditScore        10000 non-null int64\n",
      "Geography          10000 non-null object\n",
      "Gender             10000 non-null object\n",
      "Age                10000 non-null int64\n",
      "Tenure             10000 non-null int64\n",
      "Balance            10000 non-null float64\n",
      "NumOfProducts      10000 non-null int64\n",
      "HasCrCard          10000 non-null int64\n",
      "IsActiveMember     10000 non-null int64\n",
      "EstimatedSalary    10000 non-null float64\n",
      "Exited             10000 non-null int64\n",
      "dtypes: float64(2), int64(8), object(3)\n",
      "memory usage: 1.1+ MB\n"
     ]
    }
   ],
   "source": [
    "bank_df.info()"
   ]
  },
  {
   "cell_type": "markdown",
   "metadata": {
    "colab_type": "text",
    "id": "BlQ3iGnzqPjq"
   },
   "source": [
    "##2. Drop the columns which are unique for all users like IDs\n"
   ]
  },
  {
   "cell_type": "code",
   "execution_count": 0,
   "metadata": {
    "colab": {},
    "colab_type": "code",
    "id": "D2R870meoRvq"
   },
   "outputs": [],
   "source": [
    "## Removing surname as onhot encoding will cause issues for each one of them\n",
    "bank_df=bank_df.drop(['CustomerId','Surname'], axis=1)\n"
   ]
  },
  {
   "cell_type": "markdown",
   "metadata": {
    "colab_type": "text",
    "id": "6eCvVxyIqJag"
   },
   "source": [
    "##3. Distinguish the feature and target set.\n"
   ]
  },
  {
   "cell_type": "code",
   "execution_count": 7,
   "metadata": {
    "colab": {
     "base_uri": "https://localhost:8080/",
     "height": 295
    },
    "colab_type": "code",
    "id": "gd877vKfC5Wz",
    "outputId": "3588ee98-3796-4a80-9788-14e6a83576ed"
   },
   "outputs": [
    {
     "name": "stdout",
     "output_type": "stream",
     "text": [
      "<class 'pandas.core.frame.DataFrame'>\n",
      "Int64Index: 10000 entries, 1 to 10000\n",
      "Data columns (total 11 columns):\n",
      "CreditScore        10000 non-null int64\n",
      "Geography          10000 non-null object\n",
      "Gender             10000 non-null object\n",
      "Age                10000 non-null int64\n",
      "Tenure             10000 non-null int64\n",
      "Balance            10000 non-null float64\n",
      "NumOfProducts      10000 non-null int64\n",
      "HasCrCard          10000 non-null int64\n",
      "IsActiveMember     10000 non-null int64\n",
      "EstimatedSalary    10000 non-null float64\n",
      "Exited             10000 non-null int64\n",
      "dtypes: float64(2), int64(7), object(2)\n",
      "memory usage: 937.5+ KB\n"
     ]
    }
   ],
   "source": [
    "bank_df.info()    ## now we have 2 columns that have Object type.\n",
    "                  ## Geography,Gender are 2 categorical variables, we need to encode them to make them numerical."
   ]
  },
  {
   "cell_type": "code",
   "execution_count": 0,
   "metadata": {
    "colab": {},
    "colab_type": "code",
    "id": "LtYiNs2nDSo_"
   },
   "outputs": [],
   "source": [
    "from sklearn import preprocessing\n",
    "le = preprocessing.LabelEncoder()"
   ]
  },
  {
   "cell_type": "code",
   "execution_count": 9,
   "metadata": {
    "colab": {
     "base_uri": "https://localhost:8080/",
     "height": 35
    },
    "colab_type": "code",
    "id": "4MmHV5EftSga",
    "outputId": "6b236722-79d5-42a4-9bfe-afdd04115e5a"
   },
   "outputs": [
    {
     "data": {
      "text/plain": [
       "array(['Female', 'Male'], dtype=object)"
      ]
     },
     "execution_count": 9,
     "metadata": {
      "tags": []
     },
     "output_type": "execute_result"
    }
   ],
   "source": [
    "## before splitting Data set into test and train, let us label encode the Gender and Geography.\n",
    "bank_df.Gender.unique()   "
   ]
  },
  {
   "cell_type": "code",
   "execution_count": 10,
   "metadata": {
    "colab": {
     "base_uri": "https://localhost:8080/",
     "height": 35
    },
    "colab_type": "code",
    "id": "mW7s0O4x3YV-",
    "outputId": "3c286971-8ef0-4e8b-b6d4-8754a0ffd769"
   },
   "outputs": [
    {
     "data": {
      "text/plain": [
       "array([0, 1])"
      ]
     },
     "execution_count": 10,
     "metadata": {
      "tags": []
     },
     "output_type": "execute_result"
    }
   ],
   "source": [
    "bank_df.Gender=le.fit_transform(bank_df.Gender)\n",
    "bank_df.Gender.unique()   "
   ]
  },
  {
   "cell_type": "code",
   "execution_count": 11,
   "metadata": {
    "colab": {
     "base_uri": "https://localhost:8080/",
     "height": 35
    },
    "colab_type": "code",
    "id": "9-Q7qPYCtTaq",
    "outputId": "23149efd-d002-415a-9aae-28705b2d2dc7"
   },
   "outputs": [
    {
     "data": {
      "text/plain": [
       "array(['France', 'Spain', 'Germany'], dtype=object)"
      ]
     },
     "execution_count": 11,
     "metadata": {
      "tags": []
     },
     "output_type": "execute_result"
    }
   ],
   "source": [
    "bank_df.Geography.unique()"
   ]
  },
  {
   "cell_type": "code",
   "execution_count": 12,
   "metadata": {
    "colab": {
     "base_uri": "https://localhost:8080/",
     "height": 35
    },
    "colab_type": "code",
    "id": "ERQIGd68BAtO",
    "outputId": "36572886-4443-4948-c665-95c31a8d3256"
   },
   "outputs": [
    {
     "data": {
      "text/plain": [
       "array([0, 2, 1])"
      ]
     },
     "execution_count": 12,
     "metadata": {
      "tags": []
     },
     "output_type": "execute_result"
    }
   ],
   "source": [
    "bank_df.Geography=le.fit_transform(bank_df.Geography)\n",
    "bank_df.Geography.unique()"
   ]
  },
  {
   "cell_type": "code",
   "execution_count": 13,
   "metadata": {
    "colab": {
     "base_uri": "https://localhost:8080/",
     "height": 233
    },
    "colab_type": "code",
    "id": "nH8YMnthDlDA",
    "outputId": "7201425e-fc44-46a8-a36e-5f7ec930018a"
   },
   "outputs": [
    {
     "data": {
      "text/html": [
       "<div>\n",
       "<style scoped>\n",
       "    .dataframe tbody tr th:only-of-type {\n",
       "        vertical-align: middle;\n",
       "    }\n",
       "\n",
       "    .dataframe tbody tr th {\n",
       "        vertical-align: top;\n",
       "    }\n",
       "\n",
       "    .dataframe thead th {\n",
       "        text-align: right;\n",
       "    }\n",
       "</style>\n",
       "<table border=\"1\" class=\"dataframe\">\n",
       "  <thead>\n",
       "    <tr style=\"text-align: right;\">\n",
       "      <th></th>\n",
       "      <th>CreditScore</th>\n",
       "      <th>Geography</th>\n",
       "      <th>Gender</th>\n",
       "      <th>Age</th>\n",
       "      <th>Tenure</th>\n",
       "      <th>Balance</th>\n",
       "      <th>NumOfProducts</th>\n",
       "      <th>HasCrCard</th>\n",
       "      <th>IsActiveMember</th>\n",
       "      <th>EstimatedSalary</th>\n",
       "      <th>Exited</th>\n",
       "    </tr>\n",
       "    <tr>\n",
       "      <th>RowNumber</th>\n",
       "      <th></th>\n",
       "      <th></th>\n",
       "      <th></th>\n",
       "      <th></th>\n",
       "      <th></th>\n",
       "      <th></th>\n",
       "      <th></th>\n",
       "      <th></th>\n",
       "      <th></th>\n",
       "      <th></th>\n",
       "      <th></th>\n",
       "    </tr>\n",
       "  </thead>\n",
       "  <tbody>\n",
       "    <tr>\n",
       "      <th>1</th>\n",
       "      <td>619</td>\n",
       "      <td>0</td>\n",
       "      <td>0</td>\n",
       "      <td>42</td>\n",
       "      <td>2</td>\n",
       "      <td>0.00</td>\n",
       "      <td>1</td>\n",
       "      <td>1</td>\n",
       "      <td>1</td>\n",
       "      <td>101348.88</td>\n",
       "      <td>1</td>\n",
       "    </tr>\n",
       "    <tr>\n",
       "      <th>2</th>\n",
       "      <td>608</td>\n",
       "      <td>2</td>\n",
       "      <td>0</td>\n",
       "      <td>41</td>\n",
       "      <td>1</td>\n",
       "      <td>83807.86</td>\n",
       "      <td>1</td>\n",
       "      <td>0</td>\n",
       "      <td>1</td>\n",
       "      <td>112542.58</td>\n",
       "      <td>0</td>\n",
       "    </tr>\n",
       "    <tr>\n",
       "      <th>3</th>\n",
       "      <td>502</td>\n",
       "      <td>0</td>\n",
       "      <td>0</td>\n",
       "      <td>42</td>\n",
       "      <td>8</td>\n",
       "      <td>159660.80</td>\n",
       "      <td>3</td>\n",
       "      <td>1</td>\n",
       "      <td>0</td>\n",
       "      <td>113931.57</td>\n",
       "      <td>1</td>\n",
       "    </tr>\n",
       "    <tr>\n",
       "      <th>4</th>\n",
       "      <td>699</td>\n",
       "      <td>0</td>\n",
       "      <td>0</td>\n",
       "      <td>39</td>\n",
       "      <td>1</td>\n",
       "      <td>0.00</td>\n",
       "      <td>2</td>\n",
       "      <td>0</td>\n",
       "      <td>0</td>\n",
       "      <td>93826.63</td>\n",
       "      <td>0</td>\n",
       "    </tr>\n",
       "    <tr>\n",
       "      <th>5</th>\n",
       "      <td>850</td>\n",
       "      <td>2</td>\n",
       "      <td>0</td>\n",
       "      <td>43</td>\n",
       "      <td>2</td>\n",
       "      <td>125510.82</td>\n",
       "      <td>1</td>\n",
       "      <td>1</td>\n",
       "      <td>1</td>\n",
       "      <td>79084.10</td>\n",
       "      <td>0</td>\n",
       "    </tr>\n",
       "  </tbody>\n",
       "</table>\n",
       "</div>"
      ],
      "text/plain": [
       "           CreditScore  Geography  ...  EstimatedSalary  Exited\n",
       "RowNumber                          ...                         \n",
       "1                  619          0  ...        101348.88       1\n",
       "2                  608          2  ...        112542.58       0\n",
       "3                  502          0  ...        113931.57       1\n",
       "4                  699          0  ...         93826.63       0\n",
       "5                  850          2  ...         79084.10       0\n",
       "\n",
       "[5 rows x 11 columns]"
      ]
     },
     "execution_count": 13,
     "metadata": {
      "tags": []
     },
     "output_type": "execute_result"
    }
   ],
   "source": [
    "bank_df.head()"
   ]
  },
  {
   "cell_type": "code",
   "execution_count": 0,
   "metadata": {
    "colab": {},
    "colab_type": "code",
    "id": "IaqfFo6moRyF"
   },
   "outputs": [],
   "source": [
    "X = np.array(bank_df.drop(\"Exited\", axis=1))  ## defining X, Feature set"
   ]
  },
  {
   "cell_type": "code",
   "execution_count": 15,
   "metadata": {
    "colab": {
     "base_uri": "https://localhost:8080/",
     "height": 35
    },
    "colab_type": "code",
    "id": "bgJ07kG7PnLC",
    "outputId": "ad4a02b9-6444-4020-a537-becfbdbe346a"
   },
   "outputs": [
    {
     "data": {
      "text/plain": [
       "array([1, 0])"
      ]
     },
     "execution_count": 15,
     "metadata": {
      "tags": []
     },
     "output_type": "execute_result"
    }
   ],
   "source": [
    "y = np.array(bank_df[\"Exited\"])   ## defining y, target Varible\n",
    "bank_df.Exited.unique()"
   ]
  },
  {
   "cell_type": "code",
   "execution_count": 16,
   "metadata": {
    "colab": {
     "base_uri": "https://localhost:8080/",
     "height": 35
    },
    "colab_type": "code",
    "id": "D8C4xJMxuHWx",
    "outputId": "dd40fb16-7ec5-4c77-9e18-a2e46a2f67d2"
   },
   "outputs": [
    {
     "data": {
      "text/plain": [
       "(10000, 2)"
      ]
     },
     "execution_count": 16,
     "metadata": {
      "tags": []
     },
     "output_type": "execute_result"
    }
   ],
   "source": [
    "y = keras.utils.to_categorical(y, num_classes=2)  #Encoding the output class label (One-Hot Encoding)\n",
    "y.shape"
   ]
  },
  {
   "cell_type": "markdown",
   "metadata": {
    "colab_type": "text",
    "id": "Vv17zl5TqqX-"
   },
   "source": [
    "##4. Divide the data set into training and test sets\n"
   ]
  },
  {
   "cell_type": "code",
   "execution_count": 0,
   "metadata": {
    "colab": {},
    "colab_type": "code",
    "id": "EDh8yEmz1kVv"
   },
   "outputs": [],
   "source": [
    "from sklearn.model_selection import train_test_split"
   ]
  },
  {
   "cell_type": "code",
   "execution_count": 0,
   "metadata": {
    "colab": {},
    "colab_type": "code",
    "id": "Qr75v_UYJjvs"
   },
   "outputs": [],
   "source": [
    "test_size = 0.30 # taking 70:30 training and test set\n",
    "seed = 7  # Random numbmer seeding for reapeatability of the code\n",
    "x_train, x_test, y_train, y_test = train_test_split(X, y, test_size=test_size, random_state=seed)"
   ]
  },
  {
   "cell_type": "markdown",
   "metadata": {
    "colab_type": "text",
    "id": "Qu0RsLLgrBil"
   },
   "source": [
    "##5.Normalie the Data"
   ]
  },
  {
   "cell_type": "code",
   "execution_count": 0,
   "metadata": {
    "colab": {},
    "colab_type": "code",
    "id": "H-Gf8lrOrFeH"
   },
   "outputs": [],
   "source": [
    "from sklearn.preprocessing import StandardScaler\n",
    "sc = StandardScaler()\n",
    "x_train = sc.fit_transform(x_train)\n",
    "x_test = sc.transform(x_test)"
   ]
  },
  {
   "cell_type": "markdown",
   "metadata": {
    "colab_type": "text",
    "id": "WytT2eRnJjv4"
   },
   "source": [
    "### Find dimensions of an image in the dataset"
   ]
  },
  {
   "cell_type": "code",
   "execution_count": 20,
   "metadata": {
    "colab": {
     "base_uri": "https://localhost:8080/",
     "height": 87
    },
    "colab_type": "code",
    "id": "XycQGBSGJjv5",
    "outputId": "9ee487c7-ab39-4dba-f143-61d00fc979af"
   },
   "outputs": [
    {
     "name": "stdout",
     "output_type": "stream",
     "text": [
      "Dimension of train samples: (7000, 10)\n",
      "Dimension of test samples: (3000, 10)\n",
      "Dimension of train samples: (7000, 2)\n",
      "Dimension of test samples: (3000, 2)\n"
     ]
    }
   ],
   "source": [
    "print(\"Dimension of train samples:\",x_train.shape)\n",
    "print(\"Dimension of test samples:\",x_test.shape)\n",
    "print(\"Dimension of train samples:\",y_train.shape)\n",
    "print(\"Dimension of test samples:\",y_test.shape)"
   ]
  },
  {
   "cell_type": "markdown",
   "metadata": {
    "colab_type": "text",
    "id": "OFRRTJq8JjwQ"
   },
   "source": [
    "### Import the necessary layers from keras to build the model"
   ]
  },
  {
   "cell_type": "code",
   "execution_count": 0,
   "metadata": {
    "colab": {},
    "colab_type": "code",
    "id": "dWTZYnKSJjwR"
   },
   "outputs": [],
   "source": [
    "from keras.models import Sequential\n",
    "from keras.layers import Dense, Activation, Dropout, Flatten, Reshape\n",
    "from keras.utils import np_utils\n",
    "import pickle\n",
    "\n",
    "import warnings\n",
    "warnings.filterwarnings('ignore')"
   ]
  },
  {
   "cell_type": "markdown",
   "metadata": {
    "colab_type": "text",
    "id": "C18AoS7eJjwU"
   },
   "source": [
    "### Build a model \n",
    "\n"
   ]
  },
  {
   "cell_type": "code",
   "execution_count": 22,
   "metadata": {
    "colab": {
     "base_uri": "https://localhost:8080/",
     "height": 297
    },
    "colab_type": "code",
    "id": "DORCLgSwJjwV",
    "outputId": "741bc6ca-0464-4d99-9509-3463931536ae"
   },
   "outputs": [
    {
     "name": "stdout",
     "output_type": "stream",
     "text": [
      "WARNING:tensorflow:From /usr/local/lib/python3.6/dist-packages/keras/backend/tensorflow_backend.py:66: The name tf.get_default_graph is deprecated. Please use tf.compat.v1.get_default_graph instead.\n",
      "\n",
      "WARNING:tensorflow:From /usr/local/lib/python3.6/dist-packages/keras/backend/tensorflow_backend.py:541: The name tf.placeholder is deprecated. Please use tf.compat.v1.placeholder instead.\n",
      "\n",
      "WARNING:tensorflow:From /usr/local/lib/python3.6/dist-packages/keras/backend/tensorflow_backend.py:4432: The name tf.random_uniform is deprecated. Please use tf.random.uniform instead.\n",
      "\n",
      "WARNING:tensorflow:From /usr/local/lib/python3.6/dist-packages/keras/backend/tensorflow_backend.py:148: The name tf.placeholder_with_default is deprecated. Please use tf.compat.v1.placeholder_with_default instead.\n",
      "\n",
      "WARNING:tensorflow:From /usr/local/lib/python3.6/dist-packages/keras/optimizers.py:793: The name tf.train.Optimizer is deprecated. Please use tf.compat.v1.train.Optimizer instead.\n",
      "\n",
      "WARNING:tensorflow:From /usr/local/lib/python3.6/dist-packages/keras/backend/tensorflow_backend.py:3657: The name tf.log is deprecated. Please use tf.math.log instead.\n",
      "\n",
      "WARNING:tensorflow:From /usr/local/lib/python3.6/dist-packages/tensorflow_core/python/ops/nn_impl.py:183: where (from tensorflow.python.ops.array_ops) is deprecated and will be removed in a future version.\n",
      "Instructions for updating:\n",
      "Use tf.where in 2.0, which has the same broadcast rule as np.where\n"
     ]
    }
   ],
   "source": [
    "# Define model\n",
    "model = Sequential()\n",
    "\n",
    "model.add(keras.layers.Dense(output_dim = 20, init = 'uniform', activation = 'relu', input_dim = 10))\n",
    "# Normalize the data\n",
    "model.add(keras.layers.BatchNormalization())\n",
    "model.add(keras.layers.Dense(output_dim = 10, init = 'uniform', activation = 'relu'))\n",
    "model.add(keras.layers.Dense(output_dim = 6, init = 'uniform', activation = 'relu'))\n",
    "model.add(keras.layers.Dense(output_dim = 2, init = 'uniform', activation = 'softmax'))\n",
    "\n",
    "# Loss and Optimizer\n",
    "model.compile(optimizer = 'adam', loss = 'binary_crossentropy', metrics = ['accuracy'])"
   ]
  },
  {
   "cell_type": "code",
   "execution_count": 23,
   "metadata": {
    "colab": {
     "base_uri": "https://localhost:8080/",
     "height": 329
    },
    "colab_type": "code",
    "id": "Ygmx1pQDNPh2",
    "outputId": "e000f608-a47d-47bf-b80f-5fd80858daa7"
   },
   "outputs": [
    {
     "name": "stdout",
     "output_type": "stream",
     "text": [
      "Model: \"sequential_1\"\n",
      "_________________________________________________________________\n",
      "Layer (type)                 Output Shape              Param #   \n",
      "=================================================================\n",
      "dense_1 (Dense)              (None, 20)                220       \n",
      "_________________________________________________________________\n",
      "batch_normalization_1 (Batch (None, 20)                80        \n",
      "_________________________________________________________________\n",
      "dense_2 (Dense)              (None, 10)                210       \n",
      "_________________________________________________________________\n",
      "dense_3 (Dense)              (None, 6)                 66        \n",
      "_________________________________________________________________\n",
      "dense_4 (Dense)              (None, 2)                 14        \n",
      "=================================================================\n",
      "Total params: 590\n",
      "Trainable params: 550\n",
      "Non-trainable params: 40\n",
      "_________________________________________________________________\n"
     ]
    }
   ],
   "source": [
    "model.summary()"
   ]
  },
  {
   "cell_type": "code",
   "execution_count": 24,
   "metadata": {
    "colab": {
     "base_uri": "https://localhost:8080/",
     "height": 1000
    },
    "colab_type": "code",
    "id": "bOK2IjBPVact",
    "outputId": "f36e1983-1b59-41e2-a9dc-287d1739ba82"
   },
   "outputs": [
    {
     "name": "stdout",
     "output_type": "stream",
     "text": [
      "WARNING:tensorflow:From /usr/local/lib/python3.6/dist-packages/keras/backend/tensorflow_backend.py:1033: The name tf.assign_add is deprecated. Please use tf.compat.v1.assign_add instead.\n",
      "\n",
      "WARNING:tensorflow:From /usr/local/lib/python3.6/dist-packages/keras/backend/tensorflow_backend.py:1020: The name tf.assign is deprecated. Please use tf.compat.v1.assign instead.\n",
      "\n",
      "WARNING:tensorflow:From /usr/local/lib/python3.6/dist-packages/keras/backend/tensorflow_backend.py:3005: The name tf.Session is deprecated. Please use tf.compat.v1.Session instead.\n",
      "\n",
      "Train on 7000 samples, validate on 3000 samples\n",
      "Epoch 1/100\n",
      "WARNING:tensorflow:From /usr/local/lib/python3.6/dist-packages/keras/backend/tensorflow_backend.py:190: The name tf.get_default_session is deprecated. Please use tf.compat.v1.get_default_session instead.\n",
      "\n",
      "WARNING:tensorflow:From /usr/local/lib/python3.6/dist-packages/keras/backend/tensorflow_backend.py:197: The name tf.ConfigProto is deprecated. Please use tf.compat.v1.ConfigProto instead.\n",
      "\n",
      "WARNING:tensorflow:From /usr/local/lib/python3.6/dist-packages/keras/backend/tensorflow_backend.py:207: The name tf.global_variables is deprecated. Please use tf.compat.v1.global_variables instead.\n",
      "\n",
      "WARNING:tensorflow:From /usr/local/lib/python3.6/dist-packages/keras/backend/tensorflow_backend.py:216: The name tf.is_variable_initialized is deprecated. Please use tf.compat.v1.is_variable_initialized instead.\n",
      "\n",
      "WARNING:tensorflow:From /usr/local/lib/python3.6/dist-packages/keras/backend/tensorflow_backend.py:223: The name tf.variables_initializer is deprecated. Please use tf.compat.v1.variables_initializer instead.\n",
      "\n",
      "7000/7000 [==============================] - 3s 407us/step - loss: 0.6299 - acc: 0.7936 - val_loss: 0.5788 - val_acc: 0.7983\n",
      "Epoch 2/100\n",
      "7000/7000 [==============================] - 2s 218us/step - loss: 0.5529 - acc: 0.7954 - val_loss: 0.5300 - val_acc: 0.7983\n",
      "Epoch 3/100\n",
      "7000/7000 [==============================] - 2s 215us/step - loss: 0.5220 - acc: 0.7954 - val_loss: 0.5115 - val_acc: 0.7983\n",
      "Epoch 4/100\n",
      "7000/7000 [==============================] - 2s 220us/step - loss: 0.5112 - acc: 0.7954 - val_loss: 0.5054 - val_acc: 0.7983\n",
      "Epoch 5/100\n",
      "7000/7000 [==============================] - 2s 222us/step - loss: 0.5078 - acc: 0.7954 - val_loss: 0.5034 - val_acc: 0.7983\n",
      "Epoch 6/100\n",
      "7000/7000 [==============================] - 2s 223us/step - loss: 0.5069 - acc: 0.7954 - val_loss: 0.5029 - val_acc: 0.7983\n",
      "Epoch 7/100\n",
      "7000/7000 [==============================] - 2s 215us/step - loss: 0.5068 - acc: 0.7954 - val_loss: 0.5028 - val_acc: 0.7983\n",
      "Epoch 8/100\n",
      "7000/7000 [==============================] - 2s 223us/step - loss: 0.4546 - acc: 0.8094 - val_loss: 0.3844 - val_acc: 0.8457\n",
      "Epoch 9/100\n",
      "7000/7000 [==============================] - 1s 213us/step - loss: 0.3713 - acc: 0.8467 - val_loss: 0.3559 - val_acc: 0.8563\n",
      "Epoch 10/100\n",
      "7000/7000 [==============================] - 2s 219us/step - loss: 0.3578 - acc: 0.8523 - val_loss: 0.3508 - val_acc: 0.8577\n",
      "Epoch 11/100\n",
      "7000/7000 [==============================] - 2s 227us/step - loss: 0.3534 - acc: 0.8574 - val_loss: 0.3481 - val_acc: 0.8543\n",
      "Epoch 12/100\n",
      "7000/7000 [==============================] - 2s 223us/step - loss: 0.3512 - acc: 0.8550 - val_loss: 0.3433 - val_acc: 0.8533\n",
      "Epoch 13/100\n",
      "7000/7000 [==============================] - 2s 223us/step - loss: 0.3510 - acc: 0.8581 - val_loss: 0.3430 - val_acc: 0.8617\n",
      "Epoch 14/100\n",
      "7000/7000 [==============================] - 2s 225us/step - loss: 0.3474 - acc: 0.8590 - val_loss: 0.3444 - val_acc: 0.8597\n",
      "Epoch 15/100\n",
      "7000/7000 [==============================] - 2s 217us/step - loss: 0.3440 - acc: 0.8586 - val_loss: 0.3426 - val_acc: 0.8597\n",
      "Epoch 16/100\n",
      "7000/7000 [==============================] - 2s 238us/step - loss: 0.3475 - acc: 0.8544 - val_loss: 0.3462 - val_acc: 0.8573\n",
      "Epoch 17/100\n",
      "7000/7000 [==============================] - 2s 240us/step - loss: 0.3436 - acc: 0.8604 - val_loss: 0.3425 - val_acc: 0.8570\n",
      "Epoch 18/100\n",
      "7000/7000 [==============================] - 2s 229us/step - loss: 0.3414 - acc: 0.8577 - val_loss: 0.3430 - val_acc: 0.8580\n",
      "Epoch 19/100\n",
      "7000/7000 [==============================] - 2s 237us/step - loss: 0.3442 - acc: 0.8563 - val_loss: 0.3430 - val_acc: 0.8603\n",
      "Epoch 20/100\n",
      "7000/7000 [==============================] - 2s 233us/step - loss: 0.3424 - acc: 0.8590 - val_loss: 0.3444 - val_acc: 0.8567\n",
      "Epoch 21/100\n",
      "7000/7000 [==============================] - 2s 238us/step - loss: 0.3396 - acc: 0.8620 - val_loss: 0.3418 - val_acc: 0.8557\n",
      "Epoch 22/100\n",
      "7000/7000 [==============================] - 2s 229us/step - loss: 0.3385 - acc: 0.8607 - val_loss: 0.3411 - val_acc: 0.8587\n",
      "Epoch 23/100\n",
      "7000/7000 [==============================] - 2s 218us/step - loss: 0.3411 - acc: 0.8594 - val_loss: 0.3416 - val_acc: 0.8590\n",
      "Epoch 24/100\n",
      "7000/7000 [==============================] - 2s 220us/step - loss: 0.3387 - acc: 0.8593 - val_loss: 0.3428 - val_acc: 0.8583\n",
      "Epoch 25/100\n",
      "7000/7000 [==============================] - 2s 220us/step - loss: 0.3378 - acc: 0.8576 - val_loss: 0.3420 - val_acc: 0.8603\n",
      "Epoch 26/100\n",
      "7000/7000 [==============================] - 2s 221us/step - loss: 0.3370 - acc: 0.8587 - val_loss: 0.3425 - val_acc: 0.8550\n",
      "Epoch 27/100\n",
      "7000/7000 [==============================] - 2s 220us/step - loss: 0.3354 - acc: 0.8620 - val_loss: 0.3435 - val_acc: 0.8523\n",
      "Epoch 28/100\n",
      "7000/7000 [==============================] - 2s 226us/step - loss: 0.3401 - acc: 0.8596 - val_loss: 0.3408 - val_acc: 0.8563\n",
      "Epoch 29/100\n",
      "7000/7000 [==============================] - 2s 231us/step - loss: 0.3390 - acc: 0.8599 - val_loss: 0.3424 - val_acc: 0.8517\n",
      "Epoch 30/100\n",
      "7000/7000 [==============================] - 2s 217us/step - loss: 0.3368 - acc: 0.8599 - val_loss: 0.3442 - val_acc: 0.8533\n",
      "Epoch 31/100\n",
      "7000/7000 [==============================] - 2s 233us/step - loss: 0.3354 - acc: 0.8584 - val_loss: 0.3416 - val_acc: 0.8577\n",
      "Epoch 32/100\n",
      "7000/7000 [==============================] - 2s 219us/step - loss: 0.3335 - acc: 0.8620 - val_loss: 0.3407 - val_acc: 0.8620\n",
      "Epoch 33/100\n",
      "7000/7000 [==============================] - 2s 216us/step - loss: 0.3364 - acc: 0.8617 - val_loss: 0.3402 - val_acc: 0.8620\n",
      "Epoch 34/100\n",
      "7000/7000 [==============================] - 2s 236us/step - loss: 0.3339 - acc: 0.8620 - val_loss: 0.3399 - val_acc: 0.8577\n",
      "Epoch 35/100\n",
      "7000/7000 [==============================] - 2s 220us/step - loss: 0.3352 - acc: 0.8636 - val_loss: 0.3437 - val_acc: 0.8600\n",
      "Epoch 36/100\n",
      "7000/7000 [==============================] - 2s 235us/step - loss: 0.3368 - acc: 0.8590 - val_loss: 0.3380 - val_acc: 0.8600\n",
      "Epoch 37/100\n",
      "7000/7000 [==============================] - 2s 219us/step - loss: 0.3337 - acc: 0.8607 - val_loss: 0.3409 - val_acc: 0.8550\n",
      "Epoch 38/100\n",
      "7000/7000 [==============================] - 2s 216us/step - loss: 0.3339 - acc: 0.8624 - val_loss: 0.3409 - val_acc: 0.8573\n",
      "Epoch 39/100\n",
      "7000/7000 [==============================] - 2s 220us/step - loss: 0.3350 - acc: 0.8601 - val_loss: 0.3394 - val_acc: 0.8547\n",
      "Epoch 40/100\n",
      "7000/7000 [==============================] - 2s 219us/step - loss: 0.3358 - acc: 0.8633 - val_loss: 0.3408 - val_acc: 0.8570\n",
      "Epoch 41/100\n",
      "7000/7000 [==============================] - 2s 218us/step - loss: 0.3338 - acc: 0.8581 - val_loss: 0.3415 - val_acc: 0.8587\n",
      "Epoch 42/100\n",
      "7000/7000 [==============================] - 2s 218us/step - loss: 0.3338 - acc: 0.8620 - val_loss: 0.3405 - val_acc: 0.8590\n",
      "Epoch 43/100\n",
      "7000/7000 [==============================] - 2s 218us/step - loss: 0.3333 - acc: 0.8630 - val_loss: 0.3392 - val_acc: 0.8607\n",
      "Epoch 44/100\n",
      "7000/7000 [==============================] - 2s 223us/step - loss: 0.3298 - acc: 0.8629 - val_loss: 0.3401 - val_acc: 0.8587\n",
      "Epoch 45/100\n",
      "7000/7000 [==============================] - 2s 215us/step - loss: 0.3314 - acc: 0.8669 - val_loss: 0.3418 - val_acc: 0.8587\n",
      "Epoch 46/100\n",
      "7000/7000 [==============================] - 2s 219us/step - loss: 0.3316 - acc: 0.8633 - val_loss: 0.3403 - val_acc: 0.8577\n",
      "Epoch 47/100\n",
      "7000/7000 [==============================] - 2s 215us/step - loss: 0.3312 - acc: 0.8637 - val_loss: 0.3407 - val_acc: 0.8617\n",
      "Epoch 48/100\n",
      "7000/7000 [==============================] - 1s 211us/step - loss: 0.3314 - acc: 0.8650 - val_loss: 0.3381 - val_acc: 0.8600\n",
      "Epoch 49/100\n",
      "7000/7000 [==============================] - 1s 213us/step - loss: 0.3288 - acc: 0.8637 - val_loss: 0.3397 - val_acc: 0.8603\n",
      "Epoch 50/100\n",
      "7000/7000 [==============================] - 2s 216us/step - loss: 0.3311 - acc: 0.8660 - val_loss: 0.3411 - val_acc: 0.8520\n",
      "Epoch 51/100\n",
      "7000/7000 [==============================] - 2s 219us/step - loss: 0.3314 - acc: 0.8621 - val_loss: 0.3404 - val_acc: 0.8557\n",
      "Epoch 52/100\n",
      "7000/7000 [==============================] - 2s 216us/step - loss: 0.3323 - acc: 0.8631 - val_loss: 0.3397 - val_acc: 0.8563\n",
      "Epoch 53/100\n",
      "7000/7000 [==============================] - 2s 215us/step - loss: 0.3292 - acc: 0.8650 - val_loss: 0.3462 - val_acc: 0.8513\n",
      "Epoch 54/100\n",
      "7000/7000 [==============================] - 2s 216us/step - loss: 0.3275 - acc: 0.8656 - val_loss: 0.3396 - val_acc: 0.8593\n",
      "Epoch 55/100\n",
      "7000/7000 [==============================] - 2s 224us/step - loss: 0.3276 - acc: 0.8677 - val_loss: 0.3401 - val_acc: 0.8590\n",
      "Epoch 56/100\n",
      "7000/7000 [==============================] - 2s 220us/step - loss: 0.3289 - acc: 0.8644 - val_loss: 0.3407 - val_acc: 0.8587\n",
      "Epoch 57/100\n",
      "7000/7000 [==============================] - 2s 217us/step - loss: 0.3267 - acc: 0.8646 - val_loss: 0.3405 - val_acc: 0.8577\n",
      "Epoch 58/100\n",
      "7000/7000 [==============================] - 2s 217us/step - loss: 0.3274 - acc: 0.8623 - val_loss: 0.3423 - val_acc: 0.8533\n",
      "Epoch 59/100\n",
      "7000/7000 [==============================] - 2s 217us/step - loss: 0.3305 - acc: 0.8634 - val_loss: 0.3438 - val_acc: 0.8557\n",
      "Epoch 60/100\n",
      "7000/7000 [==============================] - 2s 219us/step - loss: 0.3273 - acc: 0.8633 - val_loss: 0.3414 - val_acc: 0.8580\n",
      "Epoch 61/100\n",
      "7000/7000 [==============================] - 2s 220us/step - loss: 0.3249 - acc: 0.8664 - val_loss: 0.3439 - val_acc: 0.8587\n",
      "Epoch 62/100\n",
      "7000/7000 [==============================] - 2s 222us/step - loss: 0.3285 - acc: 0.8639 - val_loss: 0.3444 - val_acc: 0.8563\n",
      "Epoch 63/100\n",
      "7000/7000 [==============================] - 2s 219us/step - loss: 0.3257 - acc: 0.8636 - val_loss: 0.3395 - val_acc: 0.8617\n",
      "Epoch 64/100\n",
      "7000/7000 [==============================] - 2s 224us/step - loss: 0.3297 - acc: 0.8639 - val_loss: 0.3456 - val_acc: 0.8563\n",
      "Epoch 65/100\n",
      "7000/7000 [==============================] - 2s 222us/step - loss: 0.3257 - acc: 0.8667 - val_loss: 0.3385 - val_acc: 0.8590\n",
      "Epoch 66/100\n",
      "7000/7000 [==============================] - 2s 224us/step - loss: 0.3300 - acc: 0.8633 - val_loss: 0.3419 - val_acc: 0.8547\n",
      "Epoch 67/100\n",
      "7000/7000 [==============================] - 2s 217us/step - loss: 0.3294 - acc: 0.8646 - val_loss: 0.3405 - val_acc: 0.8580\n",
      "Epoch 68/100\n",
      "7000/7000 [==============================] - 2s 235us/step - loss: 0.3260 - acc: 0.8677 - val_loss: 0.3393 - val_acc: 0.8587\n",
      "Epoch 69/100\n",
      "7000/7000 [==============================] - 2s 219us/step - loss: 0.3273 - acc: 0.8674 - val_loss: 0.3400 - val_acc: 0.8607\n",
      "Epoch 70/100\n",
      "7000/7000 [==============================] - 2s 231us/step - loss: 0.3287 - acc: 0.8649 - val_loss: 0.3365 - val_acc: 0.8607\n",
      "Epoch 71/100\n",
      "7000/7000 [==============================] - 2s 218us/step - loss: 0.3220 - acc: 0.8679 - val_loss: 0.3433 - val_acc: 0.8543\n",
      "Epoch 72/100\n",
      "7000/7000 [==============================] - 2s 221us/step - loss: 0.3282 - acc: 0.8626 - val_loss: 0.3376 - val_acc: 0.8620\n",
      "Epoch 73/100\n",
      "7000/7000 [==============================] - 2s 230us/step - loss: 0.3275 - acc: 0.8667 - val_loss: 0.3381 - val_acc: 0.8627\n",
      "Epoch 74/100\n",
      "7000/7000 [==============================] - 2s 214us/step - loss: 0.3267 - acc: 0.8660 - val_loss: 0.3409 - val_acc: 0.8560\n",
      "Epoch 75/100\n",
      "7000/7000 [==============================] - 2s 236us/step - loss: 0.3256 - acc: 0.8663 - val_loss: 0.3435 - val_acc: 0.8530\n",
      "Epoch 76/100\n",
      "7000/7000 [==============================] - 2s 215us/step - loss: 0.3281 - acc: 0.8636 - val_loss: 0.3389 - val_acc: 0.8573\n",
      "Epoch 77/100\n",
      "7000/7000 [==============================] - 1s 214us/step - loss: 0.3255 - acc: 0.8646 - val_loss: 0.3384 - val_acc: 0.8620\n",
      "Epoch 78/100\n",
      "7000/7000 [==============================] - 1s 211us/step - loss: 0.3279 - acc: 0.8650 - val_loss: 0.3391 - val_acc: 0.8623\n",
      "Epoch 79/100\n",
      "7000/7000 [==============================] - 2s 218us/step - loss: 0.3260 - acc: 0.8623 - val_loss: 0.3386 - val_acc: 0.8583\n",
      "Epoch 80/100\n",
      "7000/7000 [==============================] - 1s 212us/step - loss: 0.3257 - acc: 0.8636 - val_loss: 0.3405 - val_acc: 0.8593\n",
      "Epoch 81/100\n",
      "7000/7000 [==============================] - 2s 218us/step - loss: 0.3238 - acc: 0.8671 - val_loss: 0.3424 - val_acc: 0.8543\n",
      "Epoch 82/100\n",
      "7000/7000 [==============================] - 2s 219us/step - loss: 0.3251 - acc: 0.8694 - val_loss: 0.3411 - val_acc: 0.8590\n",
      "Epoch 83/100\n",
      "7000/7000 [==============================] - 2s 216us/step - loss: 0.3248 - acc: 0.8669 - val_loss: 0.3414 - val_acc: 0.8590\n",
      "Epoch 84/100\n",
      "7000/7000 [==============================] - 2s 217us/step - loss: 0.3251 - acc: 0.8633 - val_loss: 0.3390 - val_acc: 0.8587\n",
      "Epoch 85/100\n",
      "7000/7000 [==============================] - 2s 224us/step - loss: 0.3271 - acc: 0.8640 - val_loss: 0.3403 - val_acc: 0.8617\n",
      "Epoch 86/100\n",
      "7000/7000 [==============================] - 2s 215us/step - loss: 0.3259 - acc: 0.8656 - val_loss: 0.3424 - val_acc: 0.8567\n",
      "Epoch 87/100\n",
      "7000/7000 [==============================] - 1s 213us/step - loss: 0.3258 - acc: 0.8669 - val_loss: 0.3415 - val_acc: 0.8603\n",
      "Epoch 88/100\n",
      "7000/7000 [==============================] - 2s 237us/step - loss: 0.3294 - acc: 0.8637 - val_loss: 0.3404 - val_acc: 0.8577\n",
      "Epoch 89/100\n",
      "7000/7000 [==============================] - 2s 221us/step - loss: 0.3222 - acc: 0.8683 - val_loss: 0.3454 - val_acc: 0.8520\n",
      "Epoch 90/100\n",
      "7000/7000 [==============================] - 2s 225us/step - loss: 0.3260 - acc: 0.8694 - val_loss: 0.3396 - val_acc: 0.8603\n",
      "Epoch 91/100\n",
      "7000/7000 [==============================] - 2s 216us/step - loss: 0.3231 - acc: 0.8637 - val_loss: 0.3398 - val_acc: 0.8560\n",
      "Epoch 92/100\n",
      "7000/7000 [==============================] - 2s 218us/step - loss: 0.3275 - acc: 0.8654 - val_loss: 0.3419 - val_acc: 0.8610\n",
      "Epoch 93/100\n",
      "7000/7000 [==============================] - 2s 223us/step - loss: 0.3256 - acc: 0.8654 - val_loss: 0.3377 - val_acc: 0.8603\n",
      "Epoch 94/100\n",
      "7000/7000 [==============================] - 2s 226us/step - loss: 0.3252 - acc: 0.8641 - val_loss: 0.3411 - val_acc: 0.8613\n",
      "Epoch 95/100\n",
      "7000/7000 [==============================] - 2s 216us/step - loss: 0.3232 - acc: 0.8641 - val_loss: 0.3392 - val_acc: 0.8663\n",
      "Epoch 96/100\n",
      "7000/7000 [==============================] - 2s 216us/step - loss: 0.3232 - acc: 0.8656 - val_loss: 0.3393 - val_acc: 0.8640\n",
      "Epoch 97/100\n",
      "7000/7000 [==============================] - 2s 221us/step - loss: 0.3239 - acc: 0.8660 - val_loss: 0.3407 - val_acc: 0.8590\n",
      "Epoch 98/100\n",
      "7000/7000 [==============================] - 2s 219us/step - loss: 0.3249 - acc: 0.8661 - val_loss: 0.3403 - val_acc: 0.8623\n",
      "Epoch 99/100\n",
      "7000/7000 [==============================] - 2s 217us/step - loss: 0.3232 - acc: 0.8667 - val_loss: 0.3380 - val_acc: 0.8590\n",
      "Epoch 100/100\n",
      "7000/7000 [==============================] - 2s 216us/step - loss: 0.3260 - acc: 0.8663 - val_loss: 0.3400 - val_acc: 0.8630\n"
     ]
    }
   ],
   "source": [
    "# Train the model\n",
    "history=model.fit(x_train, y_train, batch_size = 25, nb_epoch = 100,validation_data=(x_test, y_test))"
   ]
  },
  {
   "cell_type": "markdown",
   "metadata": {
    "colab_type": "text",
    "id": "VJ7w5IA6Wgv0"
   },
   "source": [
    "##7.Predict the results using 0.5 as a threshold"
   ]
  },
  {
   "cell_type": "code",
   "execution_count": 0,
   "metadata": {
    "colab": {},
    "colab_type": "code",
    "id": "Y6J7Wbvz016H"
   },
   "outputs": [],
   "source": [
    "y_pred = model.predict(x_test)\n",
    "y_pred = (y_pred > 0.5)   "
   ]
  },
  {
   "cell_type": "code",
   "execution_count": 26,
   "metadata": {
    "colab": {
     "base_uri": "https://localhost:8080/",
     "height": 104
    },
    "colab_type": "code",
    "id": "vfae8TvYZMpe",
    "outputId": "4e661611-2d1d-4cee-a953-4e02afa9d32d"
   },
   "outputs": [
    {
     "data": {
      "text/plain": [
       "array([[False,  True],\n",
       "       [ True, False],\n",
       "       [ True, False],\n",
       "       [False,  True],\n",
       "       [ True, False]])"
      ]
     },
     "execution_count": 26,
     "metadata": {
      "tags": []
     },
     "output_type": "execute_result"
    }
   ],
   "source": [
    "y_pred[0:5]"
   ]
  },
  {
   "cell_type": "code",
   "execution_count": 0,
   "metadata": {
    "colab": {},
    "colab_type": "code",
    "id": "E-9_XinsY2U9"
   },
   "outputs": [],
   "source": [
    "y_pred = y_pred.astype('float32')"
   ]
  },
  {
   "cell_type": "code",
   "execution_count": 28,
   "metadata": {
    "colab": {
     "base_uri": "https://localhost:8080/",
     "height": 35
    },
    "colab_type": "code",
    "id": "IUXZp44aaX39",
    "outputId": "bbca4eb7-9df8-4200-d8cf-f251a9b4766a"
   },
   "outputs": [
    {
     "data": {
      "text/plain": [
       "(3000, 2)"
      ]
     },
     "execution_count": 28,
     "metadata": {
      "tags": []
     },
     "output_type": "execute_result"
    }
   ],
   "source": [
    "y_test.shape"
   ]
  },
  {
   "cell_type": "markdown",
   "metadata": {
    "colab_type": "text",
    "id": "c9xiKh32fJCQ"
   },
   "source": [
    "##8.Print the Accuracy score and confusion matrix"
   ]
  },
  {
   "cell_type": "code",
   "execution_count": 29,
   "metadata": {
    "colab": {
     "base_uri": "https://localhost:8080/",
     "height": 52
    },
    "colab_type": "code",
    "id": "vawUf_KO03M8",
    "outputId": "494055a4-9216-46ed-f810-7fb3a65351c0"
   },
   "outputs": [
    {
     "name": "stdout",
     "output_type": "stream",
     "text": [
      "[[2302   93]\n",
      " [ 318  287]]\n"
     ]
    }
   ],
   "source": [
    "from sklearn.metrics import confusion_matrix\n",
    "cm = confusion_matrix(y_test.argmax(axis=1), y_pred.argmax(axis=1))\n",
    "print(cm)"
   ]
  },
  {
   "cell_type": "code",
   "execution_count": 0,
   "metadata": {
    "colab": {},
    "colab_type": "code",
    "id": "uhyHZ0eEJXq_"
   },
   "outputs": [],
   "source": [
    "#### Significance of the confusion matrix values are as below:\n",
    "\n",
    " #### Predicted -->       No\t  |    Yes\n",
    " #### Actual: No\t-->    2290\t  |    105\n",
    " #### Actual: Yes\t-->     329\t  |    276"
   ]
  },
  {
   "cell_type": "code",
   "execution_count": 31,
   "metadata": {
    "colab": {
     "base_uri": "https://localhost:8080/",
     "height": 35
    },
    "colab_type": "code",
    "id": "84OgEQmTIMbw",
    "outputId": "9ef12402-7610-450f-b2b5-f853f5d82799"
   },
   "outputs": [
    {
     "name": "stdout",
     "output_type": "stream",
     "text": [
      "86.3 % of testing data was classified correctly\n"
     ]
    }
   ],
   "source": [
    "print (((cm[0][0]+cm[1][1])*100)/(len(y_test)), '% of testing data was classified correctly')"
   ]
  },
  {
   "cell_type": "code",
   "execution_count": 32,
   "metadata": {
    "colab": {
     "base_uri": "https://localhost:8080/",
     "height": 52
    },
    "colab_type": "code",
    "id": "SrL9sIOnWEA-",
    "outputId": "eb98c409-9638-4fdb-f846-0355fb59600c"
   },
   "outputs": [
    {
     "name": "stdout",
     "output_type": "stream",
     "text": [
      "Train Loss= 0.31032640876088824 ; Accuracy= 0.8714285714285714\n",
      "Test Loss= 0.3400018909374873 ; Accuracy= 0.8629999998410542\n"
     ]
    }
   ],
   "source": [
    "score_train = model.evaluate(x_train, y_train,verbose=0)\n",
    "print(\"Train Loss=\",score_train[0],\"; Accuracy=\",score_train[1])\n",
    "score = model.evaluate(x_test, y_test,verbose=0)\n",
    "print(\"Test Loss=\",score[0],\"; Accuracy=\",score[1])"
   ]
  },
  {
   "cell_type": "code",
   "execution_count": 33,
   "metadata": {
    "colab": {
     "base_uri": "https://localhost:8080/",
     "height": 295
    },
    "colab_type": "code",
    "id": "oHUB-43ZF1Un",
    "outputId": "82be7227-2ce3-41f0-ae3c-e1f1b99c2651"
   },
   "outputs": [
    {
     "data": {
      "image/png": "[encoded data removed]",
      "text/plain": [
       "<Figure size 432x288 with 1 Axes>"
      ]
     },
     "metadata": {
      "tags": []
     },
     "output_type": "display_data"
    }
   ],
   "source": [
    "import matplotlib.pyplot as plt\n",
    "%matplotlib inline\n",
    "plt.plot(np.array(history.history['acc']) * 100)\n",
    "plt.plot(np.array(history.history['val_acc']) * 100)\n",
    "plt.ylabel('accuracy')\n",
    "plt.xlabel('epochs')\n",
    "plt.legend(['train', 'validation'])\n",
    "plt.title('Accuracy over epochs')\n",
    "plt.show()"
   ]
  }
 ],
 "metadata": {
  "accelerator": "GPU",
  "colab": {
   "collapsed_sections": [],
   "name": "R7_BankTurnoverDataset_ChurnOrNotIn6Month.ipynb",
   "provenance": []
  },
  "kernelspec": {
   "display_name": "Python 3",
   "language": "python",
   "name": "python3"
  }
 },
 "nbformat": 4,
 "nbformat_minor": 1
}
