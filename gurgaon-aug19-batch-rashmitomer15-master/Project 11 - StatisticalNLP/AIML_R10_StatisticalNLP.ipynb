{
 "cells": [
  {
   "cell_type": "markdown",
   "metadata": {},
   "source": [
    "# Statistical NLP"
   ]
  },
  {
   "cell_type": "markdown",
   "metadata": {},
   "source": [
    "Classification is probably the most popular task that you would deal with in real life.  Text in the form of blogs, posts, articles, etc. is written every second. It is a challenge to predict the  information about the writer without knowing about him/her.     We are going to create a classifier that predicts multiple features of the author of a given text.  We have designed it as a Multilabel classification problem"
   ]
  },
  {
   "cell_type": "markdown",
   "metadata": {},
   "source": [
    "Blog Authorship Corpus \n",
    "\n",
    "\n",
    "Over 600,000 posts from more than 19 thousand bloggers   \n",
    "\n",
    "The Blog Authorship Corpus consists of the collected posts of 19,320 bloggers gathered from  blogger.com in August 2004. The corpus incorporates a total of 681,288 posts and over 140 million  words - or approximately 35 posts and 7250 words per person.  \n",
    "\n",
    "\n",
    "Each blog is presented as a separate file, the name of which indicates a blogger id# and the  blogger’s self-provided gender, age, industry, and astrological sign. (All are labeled for gender and  age but for many, industry and/or sign is marked as unknown.)  \n",
    "All bloggers included in the corpus fall into one of three age groups:  8240 \"10s\" blogs (ages 13-17),  8086 \"20s\" blogs(ages 23-27)  2994 \"30s\" blogs (ages 33-47) \n",
    " "
   ]
  },
  {
   "cell_type": "code",
   "execution_count": 1,
   "metadata": {},
   "outputs": [],
   "source": [
    "import numpy as np\n",
    "import pandas as pd"
   ]
  },
  {
   "cell_type": "markdown",
   "metadata": {},
   "source": [
    "# 1.Load the dataset"
   ]
  },
  {
   "cell_type": "code",
   "execution_count": 2,
   "metadata": {},
   "outputs": [
    {
     "data": {
      "text/html": [
       "<div>\n",
       "<style scoped>\n",
       "    .dataframe tbody tr th:only-of-type {\n",
       "        vertical-align: middle;\n",
       "    }\n",
       "\n",
       "    .dataframe tbody tr th {\n",
       "        vertical-align: top;\n",
       "    }\n",
       "\n",
       "    .dataframe thead th {\n",
       "        text-align: right;\n",
       "    }\n",
       "</style>\n",
       "<table border=\"1\" class=\"dataframe\">\n",
       "  <thead>\n",
       "    <tr style=\"text-align: right;\">\n",
       "      <th></th>\n",
       "      <th>id</th>\n",
       "      <th>gender</th>\n",
       "      <th>age</th>\n",
       "      <th>topic</th>\n",
       "      <th>sign</th>\n",
       "      <th>date</th>\n",
       "      <th>text</th>\n",
       "    </tr>\n",
       "  </thead>\n",
       "  <tbody>\n",
       "    <tr>\n",
       "      <th>0</th>\n",
       "      <td>2059027</td>\n",
       "      <td>male</td>\n",
       "      <td>15</td>\n",
       "      <td>Student</td>\n",
       "      <td>Leo</td>\n",
       "      <td>14,May,2004</td>\n",
       "      <td>Info has been found (+/- 100 pages,...</td>\n",
       "    </tr>\n",
       "    <tr>\n",
       "      <th>1</th>\n",
       "      <td>2059027</td>\n",
       "      <td>male</td>\n",
       "      <td>15</td>\n",
       "      <td>Student</td>\n",
       "      <td>Leo</td>\n",
       "      <td>13,May,2004</td>\n",
       "      <td>These are the team members:   Drewe...</td>\n",
       "    </tr>\n",
       "    <tr>\n",
       "      <th>2</th>\n",
       "      <td>2059027</td>\n",
       "      <td>male</td>\n",
       "      <td>15</td>\n",
       "      <td>Student</td>\n",
       "      <td>Leo</td>\n",
       "      <td>12,May,2004</td>\n",
       "      <td>In het kader van kernfusie op aarde...</td>\n",
       "    </tr>\n",
       "    <tr>\n",
       "      <th>3</th>\n",
       "      <td>2059027</td>\n",
       "      <td>male</td>\n",
       "      <td>15</td>\n",
       "      <td>Student</td>\n",
       "      <td>Leo</td>\n",
       "      <td>12,May,2004</td>\n",
       "      <td>testing!!!  testing!!!</td>\n",
       "    </tr>\n",
       "    <tr>\n",
       "      <th>4</th>\n",
       "      <td>3581210</td>\n",
       "      <td>male</td>\n",
       "      <td>33</td>\n",
       "      <td>InvestmentBanking</td>\n",
       "      <td>Aquarius</td>\n",
       "      <td>11,June,2004</td>\n",
       "      <td>Thanks to Yahoo!'s Toolbar I can ...</td>\n",
       "    </tr>\n",
       "  </tbody>\n",
       "</table>\n",
       "</div>"
      ],
      "text/plain": [
       "        id gender  age              topic      sign          date  \\\n",
       "0  2059027   male   15            Student       Leo   14,May,2004   \n",
       "1  2059027   male   15            Student       Leo   13,May,2004   \n",
       "2  2059027   male   15            Student       Leo   12,May,2004   \n",
       "3  2059027   male   15            Student       Leo   12,May,2004   \n",
       "4  3581210   male   33  InvestmentBanking  Aquarius  11,June,2004   \n",
       "\n",
       "                                                text  \n",
       "0             Info has been found (+/- 100 pages,...  \n",
       "1             These are the team members:   Drewe...  \n",
       "2             In het kader van kernfusie op aarde...  \n",
       "3                   testing!!!  testing!!!            \n",
       "4               Thanks to Yahoo!'s Toolbar I can ...  "
      ]
     },
     "execution_count": 2,
     "metadata": {},
     "output_type": "execute_result"
    }
   ],
   "source": [
    "blogtext_df=pd.read_csv(\"blogtext.csv\")\n",
    "blogtext_df.head()"
   ]
  },
  {
   "cell_type": "code",
   "execution_count": 3,
   "metadata": {},
   "outputs": [
    {
     "data": {
      "text/plain": [
       "(681284, 7)"
      ]
     },
     "execution_count": 3,
     "metadata": {},
     "output_type": "execute_result"
    }
   ],
   "source": [
    "blogtext_df.shape"
   ]
  },
  {
   "cell_type": "code",
   "execution_count": 4,
   "metadata": {},
   "outputs": [
    {
     "name": "stdout",
     "output_type": "stream",
     "text": [
      "<class 'pandas.core.frame.DataFrame'>\n",
      "RangeIndex: 681284 entries, 0 to 681283\n",
      "Data columns (total 7 columns):\n",
      " #   Column  Non-Null Count   Dtype \n",
      "---  ------  --------------   ----- \n",
      " 0   id      681284 non-null  int64 \n",
      " 1   gender  681284 non-null  object\n",
      " 2   age     681284 non-null  int64 \n",
      " 3   topic   681284 non-null  object\n",
      " 4   sign    681284 non-null  object\n",
      " 5   date    681284 non-null  object\n",
      " 6   text    681284 non-null  object\n",
      "dtypes: int64(2), object(5)\n",
      "memory usage: 36.4+ MB\n"
     ]
    }
   ],
   "source": [
    "blogtext_df.info()"
   ]
  },
  {
   "cell_type": "code",
   "execution_count": 5,
   "metadata": {},
   "outputs": [
    {
     "data": {
      "text/html": [
       "<div>\n",
       "<style scoped>\n",
       "    .dataframe tbody tr th:only-of-type {\n",
       "        vertical-align: middle;\n",
       "    }\n",
       "\n",
       "    .dataframe tbody tr th {\n",
       "        vertical-align: top;\n",
       "    }\n",
       "\n",
       "    .dataframe thead th {\n",
       "        text-align: right;\n",
       "    }\n",
       "</style>\n",
       "<table border=\"1\" class=\"dataframe\">\n",
       "  <thead>\n",
       "    <tr style=\"text-align: right;\">\n",
       "      <th></th>\n",
       "      <th>count</th>\n",
       "      <th>mean</th>\n",
       "      <th>std</th>\n",
       "      <th>min</th>\n",
       "      <th>25%</th>\n",
       "      <th>50%</th>\n",
       "      <th>75%</th>\n",
       "      <th>max</th>\n",
       "    </tr>\n",
       "  </thead>\n",
       "  <tbody>\n",
       "    <tr>\n",
       "      <th>id</th>\n",
       "      <td>681284.0</td>\n",
       "      <td>2.397802e+06</td>\n",
       "      <td>1.247723e+06</td>\n",
       "      <td>5114.0</td>\n",
       "      <td>1239610.0</td>\n",
       "      <td>2607577.0</td>\n",
       "      <td>3525660.0</td>\n",
       "      <td>4337650.0</td>\n",
       "    </tr>\n",
       "    <tr>\n",
       "      <th>age</th>\n",
       "      <td>681284.0</td>\n",
       "      <td>2.393233e+01</td>\n",
       "      <td>7.786009e+00</td>\n",
       "      <td>13.0</td>\n",
       "      <td>17.0</td>\n",
       "      <td>24.0</td>\n",
       "      <td>26.0</td>\n",
       "      <td>48.0</td>\n",
       "    </tr>\n",
       "  </tbody>\n",
       "</table>\n",
       "</div>"
      ],
      "text/plain": [
       "        count          mean           std     min        25%        50%  \\\n",
       "id   681284.0  2.397802e+06  1.247723e+06  5114.0  1239610.0  2607577.0   \n",
       "age  681284.0  2.393233e+01  7.786009e+00    13.0       17.0       24.0   \n",
       "\n",
       "           75%        max  \n",
       "id   3525660.0  4337650.0  \n",
       "age       26.0       48.0  "
      ]
     },
     "execution_count": 5,
     "metadata": {},
     "output_type": "execute_result"
    }
   ],
   "source": [
    "blogtext_df.describe().T"
   ]
  },
  {
   "cell_type": "markdown",
   "metadata": {},
   "source": [
    "# 2. Preprocess rows of the “text” column "
   ]
  },
  {
   "cell_type": "code",
   "execution_count": 6,
   "metadata": {},
   "outputs": [],
   "source": [
    "blogtext_df[\"age\"]=blogtext_df[\"age\"].astype(str)"
   ]
  },
  {
   "cell_type": "code",
   "execution_count": 7,
   "metadata": {},
   "outputs": [],
   "source": [
    "#blogtext_df.info()\n",
    "blogtext_df=blogtext_df[0:50000]   ##  NOTE : considerring only 50k records of 681284. to reduce compute time."
   ]
  },
  {
   "cell_type": "code",
   "execution_count": 8,
   "metadata": {},
   "outputs": [],
   "source": [
    "import nltk\n",
    "import scipy as sp\n",
    "from sklearn.model_selection import train_test_split\n",
    "from sklearn.feature_extraction.text import CountVectorizer, TfidfVectorizer\n",
    "from sklearn.linear_model import LogisticRegression\n",
    "from sklearn import metrics\n",
    "%matplotlib inline\n",
    "\n",
    "import warnings\n",
    "warnings.filterwarnings('ignore')"
   ]
  },
  {
   "cell_type": "code",
   "execution_count": 9,
   "metadata": {},
   "outputs": [
    {
     "data": {
      "text/plain": [
       "0                   Info has been found (+/- 100 pages,...\n",
       "1                   These are the team members:   Drewe...\n",
       "2                   In het kader van kernfusie op aarde...\n",
       "3                         testing!!!  testing!!!          \n",
       "4                     Thanks to Yahoo!'s Toolbar I can ...\n",
       "                               ...                        \n",
       "49995           Aug 7th Thur... Bought Her Mua Chee & S...\n",
       "49996           Aug 6th Wed.. Her 1st Day @ Work Back @...\n",
       "49997           Aug 4th Mon Zing's BD !! Went To Her Pl...\n",
       "49998           Aug 3rd Sun.. Went To Her Place B4 Goin...\n",
       "49999           Aug 1st Fri.. Met Her To Go Shoppin' @ ...\n",
       "Name: text, Length: 50000, dtype: object"
      ]
     },
     "execution_count": 9,
     "metadata": {},
     "output_type": "execute_result"
    }
   ],
   "source": [
    "blogtext_df[\"text\"]"
   ]
  },
  {
   "cell_type": "code",
   "execution_count": 23,
   "metadata": {},
   "outputs": [
    {
     "data": {
      "text/html": [
       "<div>\n",
       "<style scoped>\n",
       "    .dataframe tbody tr th:only-of-type {\n",
       "        vertical-align: middle;\n",
       "    }\n",
       "\n",
       "    .dataframe tbody tr th {\n",
       "        vertical-align: top;\n",
       "    }\n",
       "\n",
       "    .dataframe thead th {\n",
       "        text-align: right;\n",
       "    }\n",
       "</style>\n",
       "<table border=\"1\" class=\"dataframe\">\n",
       "  <thead>\n",
       "    <tr style=\"text-align: right;\">\n",
       "      <th></th>\n",
       "      <th>id</th>\n",
       "      <th>gender</th>\n",
       "      <th>age</th>\n",
       "      <th>topic</th>\n",
       "      <th>sign</th>\n",
       "      <th>date</th>\n",
       "      <th>text</th>\n",
       "      <th>text_nostop</th>\n",
       "    </tr>\n",
       "  </thead>\n",
       "  <tbody>\n",
       "    <tr>\n",
       "      <th>0</th>\n",
       "      <td>2059027</td>\n",
       "      <td>male</td>\n",
       "      <td>15</td>\n",
       "      <td>Student</td>\n",
       "      <td>Leo</td>\n",
       "      <td>14,May,2004</td>\n",
       "      <td>Info has been found (+/- 100 pages,...</td>\n",
       "      <td>info found 100 pages 45 mb pdf files wait unt...</td>\n",
       "    </tr>\n",
       "    <tr>\n",
       "      <th>1</th>\n",
       "      <td>2059027</td>\n",
       "      <td>male</td>\n",
       "      <td>15</td>\n",
       "      <td>Student</td>\n",
       "      <td>Leo</td>\n",
       "      <td>13,May,2004</td>\n",
       "      <td>These are the team members:   Drewe...</td>\n",
       "      <td>team members drewes van der laag urllink mail...</td>\n",
       "    </tr>\n",
       "    <tr>\n",
       "      <th>2</th>\n",
       "      <td>2059027</td>\n",
       "      <td>male</td>\n",
       "      <td>15</td>\n",
       "      <td>Student</td>\n",
       "      <td>Leo</td>\n",
       "      <td>12,May,2004</td>\n",
       "      <td>In het kader van kernfusie op aarde...</td>\n",
       "      <td>het kader van kernfusie op aarde maak je eige...</td>\n",
       "    </tr>\n",
       "    <tr>\n",
       "      <th>3</th>\n",
       "      <td>2059027</td>\n",
       "      <td>male</td>\n",
       "      <td>15</td>\n",
       "      <td>Student</td>\n",
       "      <td>Leo</td>\n",
       "      <td>12,May,2004</td>\n",
       "      <td>testing!!!  testing!!!</td>\n",
       "      <td>testing testing</td>\n",
       "    </tr>\n",
       "    <tr>\n",
       "      <th>4</th>\n",
       "      <td>3581210</td>\n",
       "      <td>male</td>\n",
       "      <td>33</td>\n",
       "      <td>InvestmentBanking</td>\n",
       "      <td>Aquarius</td>\n",
       "      <td>11,June,2004</td>\n",
       "      <td>Thanks to Yahoo!'s Toolbar I can ...</td>\n",
       "      <td>thanks yahoos toolbar capture urls popupswhic...</td>\n",
       "    </tr>\n",
       "  </tbody>\n",
       "</table>\n",
       "</div>"
      ],
      "text/plain": [
       "        id gender age              topic      sign          date  \\\n",
       "0  2059027   male  15            Student       Leo   14,May,2004   \n",
       "1  2059027   male  15            Student       Leo   13,May,2004   \n",
       "2  2059027   male  15            Student       Leo   12,May,2004   \n",
       "3  2059027   male  15            Student       Leo   12,May,2004   \n",
       "4  3581210   male  33  InvestmentBanking  Aquarius  11,June,2004   \n",
       "\n",
       "                                                text  \\\n",
       "0             Info has been found (+/- 100 pages,...   \n",
       "1             These are the team members:   Drewe...   \n",
       "2             In het kader van kernfusie op aarde...   \n",
       "3                   testing!!!  testing!!!             \n",
       "4               Thanks to Yahoo!'s Toolbar I can ...   \n",
       "\n",
       "                                         text_nostop  \n",
       "0   info found 100 pages 45 mb pdf files wait unt...  \n",
       "1   team members drewes van der laag urllink mail...  \n",
       "2   het kader van kernfusie op aarde maak je eige...  \n",
       "3                                   testing testing   \n",
       "4   thanks yahoos toolbar capture urls popupswhic...  "
      ]
     },
     "execution_count": 23,
     "metadata": {},
     "output_type": "execute_result"
    }
   ],
   "source": [
    "import re\n",
    "import string\n",
    "#string.punctuation\n",
    "stopwords = nltk.corpus.stopwords.words('english')\n",
    "\n",
    "def clean_text(text):\n",
    "    text = \"\".join([word for word in text if word not in string.punctuation])  ## a. Remove unwanted characters\n",
    "    new_text = re.sub(r\"[\\n\\t\\'+]\", \"\", text)\n",
    "    new_text = re.sub(r\"~[0-9]\", \"\", new_text)\n",
    "    tokens = re.split('\\W+', new_text)                                            ## c. Remove unwanted spaces \n",
    "    text = [word for word in tokens if word not in stopwords]                  ##d. Remove stopwords\n",
    "    return \" \".join([word for word in text])\n",
    "\n",
    "blogtext_df['text_nostop'] = blogtext_df['text'].apply(lambda x: clean_text(x.lower()))  ##b. Convert text to lowercase\n",
    "\n",
    "blogtext_df.head()"
   ]
  },
  {
   "cell_type": "code",
   "execution_count": 24,
   "metadata": {},
   "outputs": [],
   "source": [
    "blogtext_df1=blogtext_df  ##[0:681284]"
   ]
  },
  {
   "cell_type": "markdown",
   "metadata": {},
   "source": [
    "# 3. Merge all labels together\n"
   ]
  },
  {
   "cell_type": "code",
   "execution_count": 25,
   "metadata": {},
   "outputs": [
    {
     "data": {
      "text/html": [
       "<div>\n",
       "<style scoped>\n",
       "    .dataframe tbody tr th:only-of-type {\n",
       "        vertical-align: middle;\n",
       "    }\n",
       "\n",
       "    .dataframe tbody tr th {\n",
       "        vertical-align: top;\n",
       "    }\n",
       "\n",
       "    .dataframe thead th {\n",
       "        text-align: right;\n",
       "    }\n",
       "</style>\n",
       "<table border=\"1\" class=\"dataframe\">\n",
       "  <thead>\n",
       "    <tr style=\"text-align: right;\">\n",
       "      <th></th>\n",
       "      <th>id</th>\n",
       "      <th>gender</th>\n",
       "      <th>age</th>\n",
       "      <th>topic</th>\n",
       "      <th>sign</th>\n",
       "      <th>date</th>\n",
       "      <th>text</th>\n",
       "      <th>text_nostop</th>\n",
       "      <th>labels</th>\n",
       "    </tr>\n",
       "  </thead>\n",
       "  <tbody>\n",
       "    <tr>\n",
       "      <th>0</th>\n",
       "      <td>2059027</td>\n",
       "      <td>male</td>\n",
       "      <td>15</td>\n",
       "      <td>Student</td>\n",
       "      <td>Leo</td>\n",
       "      <td>14,May,2004</td>\n",
       "      <td>Info has been found (+/- 100 pages,...</td>\n",
       "      <td>info found 100 pages 45 mb pdf files wait unt...</td>\n",
       "      <td>[male, 15, Student, Leo]</td>\n",
       "    </tr>\n",
       "    <tr>\n",
       "      <th>1</th>\n",
       "      <td>2059027</td>\n",
       "      <td>male</td>\n",
       "      <td>15</td>\n",
       "      <td>Student</td>\n",
       "      <td>Leo</td>\n",
       "      <td>13,May,2004</td>\n",
       "      <td>These are the team members:   Drewe...</td>\n",
       "      <td>team members drewes van der laag urllink mail...</td>\n",
       "      <td>[male, 15, Student, Leo]</td>\n",
       "    </tr>\n",
       "    <tr>\n",
       "      <th>2</th>\n",
       "      <td>2059027</td>\n",
       "      <td>male</td>\n",
       "      <td>15</td>\n",
       "      <td>Student</td>\n",
       "      <td>Leo</td>\n",
       "      <td>12,May,2004</td>\n",
       "      <td>In het kader van kernfusie op aarde...</td>\n",
       "      <td>het kader van kernfusie op aarde maak je eige...</td>\n",
       "      <td>[male, 15, Student, Leo]</td>\n",
       "    </tr>\n",
       "    <tr>\n",
       "      <th>3</th>\n",
       "      <td>2059027</td>\n",
       "      <td>male</td>\n",
       "      <td>15</td>\n",
       "      <td>Student</td>\n",
       "      <td>Leo</td>\n",
       "      <td>12,May,2004</td>\n",
       "      <td>testing!!!  testing!!!</td>\n",
       "      <td>testing testing</td>\n",
       "      <td>[male, 15, Student, Leo]</td>\n",
       "    </tr>\n",
       "    <tr>\n",
       "      <th>4</th>\n",
       "      <td>3581210</td>\n",
       "      <td>male</td>\n",
       "      <td>33</td>\n",
       "      <td>InvestmentBanking</td>\n",
       "      <td>Aquarius</td>\n",
       "      <td>11,June,2004</td>\n",
       "      <td>Thanks to Yahoo!'s Toolbar I can ...</td>\n",
       "      <td>thanks yahoos toolbar capture urls popupswhic...</td>\n",
       "      <td>[male, 33, InvestmentBanking, Aquarius]</td>\n",
       "    </tr>\n",
       "  </tbody>\n",
       "</table>\n",
       "</div>"
      ],
      "text/plain": [
       "        id gender age              topic      sign          date  \\\n",
       "0  2059027   male  15            Student       Leo   14,May,2004   \n",
       "1  2059027   male  15            Student       Leo   13,May,2004   \n",
       "2  2059027   male  15            Student       Leo   12,May,2004   \n",
       "3  2059027   male  15            Student       Leo   12,May,2004   \n",
       "4  3581210   male  33  InvestmentBanking  Aquarius  11,June,2004   \n",
       "\n",
       "                                                text  \\\n",
       "0             Info has been found (+/- 100 pages,...   \n",
       "1             These are the team members:   Drewe...   \n",
       "2             In het kader van kernfusie op aarde...   \n",
       "3                   testing!!!  testing!!!             \n",
       "4               Thanks to Yahoo!'s Toolbar I can ...   \n",
       "\n",
       "                                         text_nostop  \\\n",
       "0   info found 100 pages 45 mb pdf files wait unt...   \n",
       "1   team members drewes van der laag urllink mail...   \n",
       "2   het kader van kernfusie op aarde maak je eige...   \n",
       "3                                   testing testing    \n",
       "4   thanks yahoos toolbar capture urls popupswhic...   \n",
       "\n",
       "                                    labels  \n",
       "0                 [male, 15, Student, Leo]  \n",
       "1                 [male, 15, Student, Leo]  \n",
       "2                 [male, 15, Student, Leo]  \n",
       "3                 [male, 15, Student, Leo]  \n",
       "4  [male, 33, InvestmentBanking, Aquarius]  "
      ]
     },
     "execution_count": 25,
     "metadata": {},
     "output_type": "execute_result"
    }
   ],
   "source": [
    " #a. Label columns to merge: “gender”, “age”, “topic”, “sign\"\n",
    "\n",
    "def clean_label(row):\n",
    "    text=','.join(row.values.astype(str))\n",
    "    tokens = re.split('\\W+', text)\n",
    "    text = [word for word in tokens]\n",
    "    return text\n",
    "\n",
    "cols = ['gender', 'age', 'topic', 'sign']\n",
    "blogtext_df1['labels'] = blogtext_df1[cols].apply(lambda row: clean_label(row), axis=1) \n",
    "\n",
    "blogtext_df1.head()"
   ]
  },
  {
   "cell_type": "code",
   "execution_count": 26,
   "metadata": {},
   "outputs": [
    {
     "data": {
      "text/plain": [
       "Index(['id', 'gender', 'age', 'topic', 'sign', 'date', 'text', 'text_nostop',\n",
       "       'labels'],\n",
       "      dtype='object')"
      ]
     },
     "execution_count": 26,
     "metadata": {},
     "output_type": "execute_result"
    }
   ],
   "source": [
    "blogtext_df1.columns"
   ]
  },
  {
   "cell_type": "code",
   "execution_count": 27,
   "metadata": {},
   "outputs": [
    {
     "data": {
      "text/html": [
       "<div>\n",
       "<style scoped>\n",
       "    .dataframe tbody tr th:only-of-type {\n",
       "        vertical-align: middle;\n",
       "    }\n",
       "\n",
       "    .dataframe tbody tr th {\n",
       "        vertical-align: top;\n",
       "    }\n",
       "\n",
       "    .dataframe thead th {\n",
       "        text-align: right;\n",
       "    }\n",
       "</style>\n",
       "<table border=\"1\" class=\"dataframe\">\n",
       "  <thead>\n",
       "    <tr style=\"text-align: right;\">\n",
       "      <th></th>\n",
       "      <th>text_nostop</th>\n",
       "      <th>labels</th>\n",
       "    </tr>\n",
       "  </thead>\n",
       "  <tbody>\n",
       "    <tr>\n",
       "      <th>0</th>\n",
       "      <td>info found 100 pages 45 mb pdf files wait unt...</td>\n",
       "      <td>[male, 15, Student, Leo]</td>\n",
       "    </tr>\n",
       "    <tr>\n",
       "      <th>1</th>\n",
       "      <td>team members drewes van der laag urllink mail...</td>\n",
       "      <td>[male, 15, Student, Leo]</td>\n",
       "    </tr>\n",
       "    <tr>\n",
       "      <th>2</th>\n",
       "      <td>het kader van kernfusie op aarde maak je eige...</td>\n",
       "      <td>[male, 15, Student, Leo]</td>\n",
       "    </tr>\n",
       "    <tr>\n",
       "      <th>3</th>\n",
       "      <td>testing testing</td>\n",
       "      <td>[male, 15, Student, Leo]</td>\n",
       "    </tr>\n",
       "    <tr>\n",
       "      <th>4</th>\n",
       "      <td>thanks yahoos toolbar capture urls popupswhic...</td>\n",
       "      <td>[male, 33, InvestmentBanking, Aquarius]</td>\n",
       "    </tr>\n",
       "  </tbody>\n",
       "</table>\n",
       "</div>"
      ],
      "text/plain": [
       "                                         text_nostop  \\\n",
       "0   info found 100 pages 45 mb pdf files wait unt...   \n",
       "1   team members drewes van der laag urllink mail...   \n",
       "2   het kader van kernfusie op aarde maak je eige...   \n",
       "3                                   testing testing    \n",
       "4   thanks yahoos toolbar capture urls popupswhic...   \n",
       "\n",
       "                                    labels  \n",
       "0                 [male, 15, Student, Leo]  \n",
       "1                 [male, 15, Student, Leo]  \n",
       "2                 [male, 15, Student, Leo]  \n",
       "3                 [male, 15, Student, Leo]  \n",
       "4  [male, 33, InvestmentBanking, Aquarius]  "
      ]
     },
     "execution_count": 27,
     "metadata": {},
     "output_type": "execute_result"
    }
   ],
   "source": [
    "blogtext_df1=blogtext_df1.drop(columns=[\"text\",\"id\",\"gender\",\"age\",\"topic\",\"sign\",\"date\"], axis=1)\n",
    "blogtext_df1.head()"
   ]
  },
  {
   "cell_type": "markdown",
   "metadata": {},
   "source": [
    "# 4. Separate features and labels, and split the data into training and testing"
   ]
  },
  {
   "cell_type": "code",
   "execution_count": 28,
   "metadata": {},
   "outputs": [
    {
     "name": "stdout",
     "output_type": "stream",
     "text": [
      "(50000,)\n"
     ]
    }
   ],
   "source": [
    "X = blogtext_df1.text_nostop\n",
    "print(X.shape)"
   ]
  },
  {
   "cell_type": "code",
   "execution_count": 29,
   "metadata": {},
   "outputs": [],
   "source": [
    "y = blogtext_df1.labels\n",
    "#print(y.shape)"
   ]
  },
  {
   "cell_type": "code",
   "execution_count": 30,
   "metadata": {},
   "outputs": [
    {
     "name": "stdout",
     "output_type": "stream",
     "text": [
      "(35000,) (15000,) (35000,) (15000,)\n"
     ]
    }
   ],
   "source": [
    "# split X and y into training and testing sets\n",
    "from sklearn.model_selection import train_test_split\n",
    "X_train, X_test, y_train, y_test = train_test_split(X, y, test_size = 0.30, random_state=4)\n",
    "\n",
    "print(X_train.shape, X_test.shape, y_train.shape,y_test.shape)"
   ]
  },
  {
   "cell_type": "markdown",
   "metadata": {},
   "source": [
    "# 5.Vectorize the features "
   ]
  },
  {
   "cell_type": "code",
   "execution_count": 31,
   "metadata": {},
   "outputs": [],
   "source": [
    "#a. Create a Bag of Words using count vectorizer and vectorize training and test "
   ]
  },
  {
   "cell_type": "code",
   "execution_count": 32,
   "metadata": {},
   "outputs": [],
   "source": [
    "# instantiate the vectorizer\n",
    "vect = CountVectorizer(ngram_range=(1, 2))"
   ]
  },
  {
   "cell_type": "code",
   "execution_count": 33,
   "metadata": {},
   "outputs": [],
   "source": [
    "## Fit and transform on training data\n",
    "X_train_dtm = vect.fit_transform(X_train)\n",
    "\n",
    "# transform testing data (using fitted vocabulary) into a document-term matrix\n",
    "X_test_dtm = vect.transform(X_test)"
   ]
  },
  {
   "cell_type": "code",
   "execution_count": 34,
   "metadata": {},
   "outputs": [
    {
     "data": {
      "text/plain": [
       "2380863"
      ]
     },
     "execution_count": 34,
     "metadata": {},
     "output_type": "execute_result"
    }
   ],
   "source": [
    "len(vect.get_feature_names())  ## there are 20931987 features"
   ]
  },
  {
   "cell_type": "code",
   "execution_count": 35,
   "metadata": {},
   "outputs": [
    {
     "name": "stdout",
     "output_type": "stream",
     "text": [
      "  (1, 1005427)\t33\n",
      "  (1, 2249396)\t2\n",
      "  (1, 955523)\t4\n",
      "  (1, 223584)\t1\n",
      "  (1, 156008)\t1\n",
      "  (1, 2276207)\t3\n",
      "  (1, 1318141)\t2\n",
      "  (1, 625530)\t2\n",
      "  (1, 264787)\t1\n",
      "  (1, 822062)\t1\n",
      "  (1, 736258)\t1\n",
      "  (1, 1933282)\t3\n",
      "  (1, 820995)\t1\n",
      "  (1, 928268)\t4\n",
      "  (1, 835366)\t1\n",
      "  (1, 2306513)\t1\n",
      "  (1, 905025)\t2\n",
      "  (1, 2187362)\t1\n",
      "  (1, 826769)\t1\n",
      "  (1, 658199)\t1\n",
      "  (1, 2286846)\t1\n",
      "  (1, 552201)\t12\n",
      "  (1, 1133587)\t1\n",
      "  (1, 2170961)\t1\n",
      "  (1, 553846)\t1\n",
      "  :\t:\n",
      "  (34999, 870019)\t1\n",
      "  (34999, 181285)\t1\n",
      "  (34999, 1968792)\t1\n",
      "  (34999, 2013198)\t1\n",
      "  (34999, 678985)\t1\n",
      "  (34999, 364019)\t1\n",
      "  (34999, 422762)\t1\n",
      "  (34999, 1969010)\t1\n",
      "  (34999, 293625)\t1\n",
      "  (34999, 64479)\t1\n",
      "  (34999, 2267236)\t1\n",
      "  (34999, 2266950)\t1\n",
      "  (34999, 785620)\t1\n",
      "  (34999, 359044)\t1\n",
      "  (34999, 679456)\t1\n",
      "  (34999, 246297)\t1\n",
      "  (34999, 2093515)\t1\n",
      "  (34999, 359034)\t1\n",
      "  (34999, 1473141)\t1\n",
      "  (34999, 857243)\t1\n",
      "  (34999, 2267278)\t1\n",
      "  (34999, 953929)\t1\n",
      "  (34999, 2267250)\t1\n",
      "  (34999, 2330399)\t1\n",
      "  (34999, 2108757)\t1\n",
      "  (0, 197208)\t1\n",
      "  (0, 349152)\t1\n",
      "  (0, 393856)\t1\n",
      "  (0, 393926)\t1\n",
      "  (0, 402645)\t1\n",
      "  (0, 550338)\t1\n",
      "  (0, 550392)\t1\n",
      "  (0, 677778)\t1\n",
      "  (0, 678407)\t1\n",
      "  (0, 721596)\t1\n",
      "  (0, 721696)\t1\n",
      "  (0, 744438)\t1\n",
      "  (0, 745070)\t1\n",
      "  (0, 801090)\t1\n",
      "  (0, 813166)\t1\n",
      "  (0, 814459)\t1\n",
      "  (0, 841323)\t1\n",
      "  (0, 864567)\t1\n",
      "  (0, 971324)\t1\n",
      "  (0, 1069548)\t1\n",
      "  (0, 1070723)\t1\n",
      "  (0, 1093866)\t1\n",
      "  (0, 1176132)\t1\n",
      "  (0, 1176336)\t1\n",
      "  (0, 1204884)\t1\n",
      "  :\t:\n",
      "  (14999, 357352)\t1\n",
      "  (14999, 522871)\t1\n",
      "  (14999, 523340)\t1\n",
      "  (14999, 554867)\t1\n",
      "  (14999, 857792)\t1\n",
      "  (14999, 861123)\t1\n",
      "  (14999, 955652)\t1\n",
      "  (14999, 956033)\t1\n",
      "  (14999, 1015046)\t1\n",
      "  (14999, 1016761)\t1\n",
      "  (14999, 1069548)\t1\n",
      "  (14999, 1069913)\t1\n",
      "  (14999, 1150572)\t1\n",
      "  (14999, 1209046)\t1\n",
      "  (14999, 1209048)\t1\n",
      "  (14999, 1216376)\t2\n",
      "  (14999, 1261258)\t1\n",
      "  (14999, 1261650)\t1\n",
      "  (14999, 1360578)\t1\n",
      "  (14999, 1596868)\t1\n",
      "  (14999, 1906079)\t1\n",
      "  (14999, 2153519)\t2\n",
      "  (14999, 2154207)\t1\n",
      "  (14999, 2154529)\t1\n",
      "  (14999, 2220194)\t1\n"
     ]
    }
   ],
   "source": [
    "# b.  Print the term-document matrix\n",
    "print(X_train_dtm)\n",
    "print(X_test_dtm)"
   ]
  },
  {
   "cell_type": "code",
   "execution_count": 36,
   "metadata": {},
   "outputs": [
    {
     "data": {
      "text/plain": [
       "CountVectorizer(analyzer='word', binary=False, decode_error='strict',\n",
       "                dtype=<class 'numpy.int64'>, encoding='utf-8', input='content',\n",
       "                lowercase=True, max_df=1.0, max_features=None, min_df=1,\n",
       "                ngram_range=(1, 2), preprocessor=None, stop_words=None,\n",
       "                strip_accents=None, token_pattern='(?u)\\\\b\\\\w\\\\w+\\\\b',\n",
       "                tokenizer=None, vocabulary=None)"
      ]
     },
     "execution_count": 36,
     "metadata": {},
     "output_type": "execute_result"
    }
   ],
   "source": [
    "vect"
   ]
  },
  {
   "cell_type": "markdown",
   "metadata": {},
   "source": [
    "# 6.Create a dictionary to get the count of every label "
   ]
  },
  {
   "cell_type": "code",
   "execution_count": 37,
   "metadata": {},
   "outputs": [],
   "source": [
    "##   i.e. the key will be label name and value will  be the total count of the label.\n",
    "from sklearn.preprocessing import MultiLabelBinarizer"
   ]
  },
  {
   "cell_type": "code",
   "execution_count": 41,
   "metadata": {},
   "outputs": [],
   "source": [
    "mlb = MultiLabelBinarizer()"
   ]
  },
  {
   "cell_type": "code",
   "execution_count": 42,
   "metadata": {},
   "outputs": [],
   "source": [
    "labels_tr = mlb.fit_transform(blogtext_df1['labels'])\n",
    "\n",
    "labels_df = pd.DataFrame(labels_tr, columns=mlb.classes_)"
   ]
  },
  {
   "cell_type": "code",
   "execution_count": 43,
   "metadata": {},
   "outputs": [],
   "source": [
    "labels_dict = dict(labels_df.sum())"
   ]
  },
  {
   "cell_type": "code",
   "execution_count": 44,
   "metadata": {
    "scrolled": true
   },
   "outputs": [
    {
     "data": {
      "text/plain": [
       "{'13': 745,\n",
       " '14': 2043,\n",
       " '15': 3508,\n",
       " '16': 4156,\n",
       " '17': 6859,\n",
       " '23': 5518,\n",
       " '24': 5746,\n",
       " '25': 2837,\n",
       " '26': 2869,\n",
       " '27': 4094,\n",
       " '33': 1654,\n",
       " '34': 1886,\n",
       " '35': 3365,\n",
       " '36': 1985,\n",
       " '37': 310,\n",
       " '38': 196,\n",
       " '39': 412,\n",
       " '40': 192,\n",
       " '41': 394,\n",
       " '42': 96,\n",
       " '43': 150,\n",
       " '44': 38,\n",
       " '45': 93,\n",
       " '46': 330,\n",
       " '47': 206,\n",
       " '48': 318,\n",
       " 'Accounting': 364,\n",
       " 'Advertising': 273,\n",
       " 'Agriculture': 78,\n",
       " 'Aquarius': 4784,\n",
       " 'Architecture': 70,\n",
       " 'Aries': 7795,\n",
       " 'Arts': 1817,\n",
       " 'Automotive': 116,\n",
       " 'Banking': 283,\n",
       " 'Biotech': 101,\n",
       " 'BusinessServices': 416,\n",
       " 'Cancer': 4589,\n",
       " 'Capricorn': 3819,\n",
       " 'Chemicals': 75,\n",
       " 'Communications': 1603,\n",
       " 'Construction': 28,\n",
       " 'Consulting': 243,\n",
       " 'Education': 2646,\n",
       " 'Engineering': 1402,\n",
       " 'Environment': 6,\n",
       " 'Fashion': 1805,\n",
       " 'Gemini': 2558,\n",
       " 'Government': 599,\n",
       " 'HumanResources': 79,\n",
       " 'Internet': 1420,\n",
       " 'InvestmentBanking': 85,\n",
       " 'Law': 308,\n",
       " 'LawEnforcement': 125,\n",
       " 'Leo': 3904,\n",
       " 'Libra': 4378,\n",
       " 'Libraries': 285,\n",
       " 'Manufacturing': 441,\n",
       " 'Maritime': 54,\n",
       " 'Marketing': 414,\n",
       " 'Media': 1603,\n",
       " 'Military': 194,\n",
       " 'Museums': 285,\n",
       " 'Non': 491,\n",
       " 'Pisces': 4142,\n",
       " 'Profit': 491,\n",
       " 'Publishing': 207,\n",
       " 'RealEstate': 17,\n",
       " 'Recreation': 120,\n",
       " 'Religion': 258,\n",
       " 'Sagittarius': 4571,\n",
       " 'Science': 705,\n",
       " 'Scorpio': 3243,\n",
       " 'Security': 125,\n",
       " 'Sports': 120,\n",
       " 'Student': 10660,\n",
       " 'Taurus': 3390,\n",
       " 'Technology': 4379,\n",
       " 'Telecommunications': 12,\n",
       " 'Tourism': 65,\n",
       " 'Transportation': 196,\n",
       " 'Virgo': 2827,\n",
       " 'female': 24185,\n",
       " 'indUnk': 17560,\n",
       " 'male': 25815}"
      ]
     },
     "execution_count": 44,
     "metadata": {},
     "output_type": "execute_result"
    }
   ],
   "source": [
    "labels_dict"
   ]
  },
  {
   "cell_type": "markdown",
   "metadata": {},
   "source": [
    "# 7. Transform the label"
   ]
  },
  {
   "cell_type": "code",
   "execution_count": 45,
   "metadata": {},
   "outputs": [],
   "source": [
    "#a. Convert your train and test labels using MultiLabelBinarizer"
   ]
  },
  {
   "cell_type": "code",
   "execution_count": 46,
   "metadata": {},
   "outputs": [],
   "source": [
    "y_train_tr = mlb.transform(y_train)"
   ]
  },
  {
   "cell_type": "code",
   "execution_count": 47,
   "metadata": {},
   "outputs": [],
   "source": [
    "y_test_tr = mlb.transform(y_test)"
   ]
  },
  {
   "cell_type": "markdown",
   "metadata": {},
   "source": [
    "# 8. Choose a classifier "
   ]
  },
  {
   "cell_type": "code",
   "execution_count": 48,
   "metadata": {},
   "outputs": [],
   "source": [
    "from sklearn.multiclass import OneVsRestClassifier\n",
    "from sklearn.linear_model import LogisticRegression"
   ]
  },
  {
   "cell_type": "code",
   "execution_count": 49,
   "metadata": {},
   "outputs": [],
   "source": [
    "#a. Use a linear classifier, wrap it up in OneVsRestClassifier to train it on  every label  \n",
    "\n",
    "# Note:In the multiclass case, the training algorithm uses the one-vs-rest (OvR) scheme if the ‘multi_class’ is set to ‘ovr’\n",
    "lgr = LogisticRegression(solver='lbfgs', multi_class=\"ovr\",n_jobs=-1)\n",
    "ovrc = OneVsRestClassifier(lgr)"
   ]
  },
  {
   "cell_type": "markdown",
   "metadata": {},
   "source": [
    "# 9.  Fit the classifier, make predictions and get the accuracy "
   ]
  },
  {
   "cell_type": "code",
   "execution_count": 50,
   "metadata": {},
   "outputs": [
    {
     "data": {
      "text/plain": [
       "OneVsRestClassifier(estimator=LogisticRegression(C=1.0, class_weight=None,\n",
       "                                                 dual=False, fit_intercept=True,\n",
       "                                                 intercept_scaling=1,\n",
       "                                                 l1_ratio=None, max_iter=100,\n",
       "                                                 multi_class='ovr', n_jobs=-1,\n",
       "                                                 penalty='l2',\n",
       "                                                 random_state=None,\n",
       "                                                 solver='lbfgs', tol=0.0001,\n",
       "                                                 verbose=0, warm_start=False),\n",
       "                    n_jobs=None)"
      ]
     },
     "execution_count": 50,
     "metadata": {},
     "output_type": "execute_result"
    }
   ],
   "source": [
    "ovrc.fit(X_train_dtm, y_train_tr)"
   ]
  },
  {
   "cell_type": "code",
   "execution_count": 51,
   "metadata": {},
   "outputs": [
    {
     "name": "stdout",
     "output_type": "stream",
     "text": [
      "Training Accuracy:  0.9270285714285714\n"
     ]
    }
   ],
   "source": [
    "print(\"Training Accuracy: \", metrics.accuracy_score(y_train_tr, ovrc.predict(X_train_dtm)))"
   ]
  },
  {
   "cell_type": "code",
   "execution_count": 53,
   "metadata": {},
   "outputs": [
    {
     "name": "stdout",
     "output_type": "stream",
     "text": [
      "Training Accuracy:  0.12433333333333334\n"
     ]
    }
   ],
   "source": [
    "y_pred = ovrc.predict(X_test_dtm)\n",
    "print(\"Training Accuracy: \", metrics.accuracy_score(y_test_tr, y_pred))"
   ]
  },
  {
   "cell_type": "markdown",
   "metadata": {},
   "source": [
    "The accuracy measurement of multi-label classification is different than single-label classification.\n",
    "In multi-lable classification, mis-classification is no hard right or wrong. The subset of prediction class is better than non-predicting even a single label.\n",
    "\n",
    "In micro-averaging all TPs, TNs, FPs and FNs for each class are summed up and then the average is taken. Micro-average aggregates the contributions of all classes to compute the average metric.Micro-averaging can be a useful measure when the class imbalance is already known.\n",
    "\n",
    "Macro-average computes the metric independently for each class and then take the average i.e. treating all classes equally.\n",
    "Macro-averaging is useful when we want to know how the system performs overall across the sets of data.\n",
    "\n",
    "In Weighted-averaging, each class contribution to the average is weighted by the relative number of examples available for it."
   ]
  },
  {
   "cell_type": "code",
   "execution_count": 54,
   "metadata": {},
   "outputs": [
    {
     "name": "stdout",
     "output_type": "stream",
     "text": [
      "Micro-averaging :\n",
      "F1 Score:  0.49144107191687175\n",
      "Precision Score:  0.7326180537438038\n",
      "Recall Score:  0.3697272921775481\n"
     ]
    }
   ],
   "source": [
    "print(\"Micro-averaging :\")\n",
    "print(\"F1 Score: \", metrics.f1_score(y_test_tr, y_pred, average='micro'))\n",
    "print(\"Precision Score: \", metrics.precision_score(y_test_tr, y_pred, average='micro'))\n",
    "print(\"Recall Score: \", metrics.recall_score(y_test_tr, y_pred, average='micro'))"
   ]
  },
  {
   "cell_type": "code",
   "execution_count": 55,
   "metadata": {},
   "outputs": [
    {
     "name": "stdout",
     "output_type": "stream",
     "text": [
      "Macro-averaging :\n",
      "F1 Score:  0.23526936306351495\n",
      "Precision Score:  0.5823387810960329\n",
      "Recall Score:  0.1615928424949917\n"
     ]
    }
   ],
   "source": [
    "print(\"Macro-averaging :\")\n",
    "print(\"F1 Score: \", metrics.f1_score(y_test_tr, y_pred, average='macro'))\n",
    "print(\"Precision Score: \", metrics.precision_score(y_test_tr, y_pred, average='macro'))\n",
    "print(\"Recall Score: \", metrics.recall_score(y_test_tr, y_pred, average='macro'))"
   ]
  },
  {
   "cell_type": "code",
   "execution_count": 56,
   "metadata": {},
   "outputs": [
    {
     "name": "stdout",
     "output_type": "stream",
     "text": [
      "Weighted-averaging  :\n",
      "F1 Score:  0.4476699209916955\n",
      "Precision Score:  0.7117039411788949\n",
      "Recall Score:  0.3697272921775481\n"
     ]
    }
   ],
   "source": [
    "print(\"Weighted-averaging  :\")\n",
    "print(\"F1 Score: \", metrics.f1_score(y_test_tr, y_pred, average='weighted'))\n",
    "print(\"Precision Score: \", metrics.precision_score(y_test_tr, y_pred, average='weighted'))\n",
    "print(\"Recall Score: \", metrics.recall_score(y_test_tr, y_pred, average='weighted'))"
   ]
  },
  {
   "cell_type": "markdown",
   "metadata": {},
   "source": [
    "# 10.  Print true label and predicted label for any five examples "
   ]
  },
  {
   "cell_type": "code",
   "execution_count": 58,
   "metadata": {
    "scrolled": true
   },
   "outputs": [
    {
     "name": "stdout",
     "output_type": "stream",
     "text": [
      "Test: ('34', 'Aquarius', 'Education', 'male')\n",
      "predicted : ('35', 'Technology', 'male')\n",
      "Test: ('14', 'Aquarius', 'Student', 'female')\n",
      "predicted : ('14', 'Student', 'male')\n",
      "Test: ('17', 'Aquarius', 'female', 'indUnk')\n",
      "predicted : ('17', 'Aquarius', 'female', 'indUnk')\n",
      "Test: ('15', 'Scorpio', 'female', 'indUnk')\n",
      "predicted : ('17', 'male')\n",
      "Test: ('34', 'Sagittarius', 'female', 'indUnk')\n",
      "predicted : ('34', 'Sagittarius', 'female', 'indUnk')\n"
     ]
    }
   ],
   "source": [
    "for ii in np.random.randint(10, len(y_test_tr), 5):\n",
    "    print(\"Test:\",mlb.inverse_transform(y_test_tr)[ii])\n",
    "    print(\"predicted :\",mlb.inverse_transform(y_pred)[ii])"
   ]
  },
  {
   "cell_type": "markdown",
   "metadata": {},
   "source": [
    "# Conclusion :"
   ]
  },
  {
   "cell_type": "markdown",
   "metadata": {},
   "source": [
    " 1. I have used 50,000(cell [7] of above) data points and it took almost 2 hours of training hours to reach training accuracy of approx 93%. \n",
    " \n",
    "2. I have used, njobs=-1(to best utilise the CPUs) helped me with reducing time to compute.\n",
    "\n",
    "3. The testing accuracy of the model is very poor, just close to 12-13%. \n",
    "   Some more iterations and model tuning exercise should be conducted to improve it.\n",
    "\n",
    "Note : With 5k records I could get 95% on train and 42% on test data. further increasing the number of records , increases the number of features and labels too. Hence I expected a lesser accuracy on test.\n",
    "   \n",
    "4. This is also reflected from the above True and Predicted labels. We couldn't get prediction for all classes and these classes are also not predicted correctly.\n",
    "\n",
    "5. Also,note that I havent remove any numbers from text column, that also adds to features and we can see that there is good number of occurance to them in dictionary created above.\n",
    "\n",
    "6. We also see significant difference between the Precision/Recall Score by Micro/Macro and averaging methods. The label classes seem to be highly imbalance. So, it would be better to go with Micro-averaging method."
   ]
  },
  {
   "cell_type": "code",
   "execution_count": null,
   "metadata": {},
   "outputs": [],
   "source": []
  }
 ],
 "metadata": {
  "kernelspec": {
   "display_name": "Python 3",
   "language": "python",
   "name": "python3"
  },
  "language_info": {
   "codemirror_mode": {
    "name": "ipython",
    "version": 3
   },
   "file_extension": ".py",
   "mimetype": "text/x-python",
   "name": "python",
   "nbconvert_exporter": "python",
   "pygments_lexer": "ipython3",
   "version": "3.7.6"
  }
 },
 "nbformat": 4,
 "nbformat_minor": 4
}
