{
 "cells": [
  {
   "cell_type": "markdown",
   "metadata": {},
   "source": [
    "# plant-seedlings-classification"
   ]
  },
  {
   "cell_type": "markdown",
   "metadata": {},
   "source": [
    "Can you differentiate a weed from a crop seedling?\n",
    "\n",
    "The ability to do so effectively can mean better crop yields and better stewardship of the environment.\n",
    "\n",
    "The Aarhus University Signal Processing group, in collaboration with the University of Southern Denmark, \n",
    "\n",
    "has recently released a dataset containing images of approximately 960 unique plants belonging to 12 species at several \n",
    "growth stages."
   ]
  },
  {
   "cell_type": "code",
   "execution_count": 2,
   "metadata": {},
   "outputs": [
    {
     "name": "stderr",
     "output_type": "stream",
     "text": [
      "C:\\Users\\rashm\\Anaconda3.6\\lib\\site-packages\\tensorboard\\compat\\tensorflow_stub\\dtypes.py:541: FutureWarning: Passing (type, 1) or '1type' as a synonym of type is deprecated; in a future version of numpy, it will be understood as (type, (1,)) / '(1,)type'.\n",
      "  _np_qint8 = np.dtype([(\"qint8\", np.int8, 1)])\n",
      "C:\\Users\\rashm\\Anaconda3.6\\lib\\site-packages\\tensorboard\\compat\\tensorflow_stub\\dtypes.py:542: FutureWarning: Passing (type, 1) or '1type' as a synonym of type is deprecated; in a future version of numpy, it will be understood as (type, (1,)) / '(1,)type'.\n",
      "  _np_quint8 = np.dtype([(\"quint8\", np.uint8, 1)])\n",
      "C:\\Users\\rashm\\Anaconda3.6\\lib\\site-packages\\tensorboard\\compat\\tensorflow_stub\\dtypes.py:543: FutureWarning: Passing (type, 1) or '1type' as a synonym of type is deprecated; in a future version of numpy, it will be understood as (type, (1,)) / '(1,)type'.\n",
      "  _np_qint16 = np.dtype([(\"qint16\", np.int16, 1)])\n",
      "C:\\Users\\rashm\\Anaconda3.6\\lib\\site-packages\\tensorboard\\compat\\tensorflow_stub\\dtypes.py:544: FutureWarning: Passing (type, 1) or '1type' as a synonym of type is deprecated; in a future version of numpy, it will be understood as (type, (1,)) / '(1,)type'.\n",
      "  _np_quint16 = np.dtype([(\"quint16\", np.uint16, 1)])\n",
      "C:\\Users\\rashm\\Anaconda3.6\\lib\\site-packages\\tensorboard\\compat\\tensorflow_stub\\dtypes.py:545: FutureWarning: Passing (type, 1) or '1type' as a synonym of type is deprecated; in a future version of numpy, it will be understood as (type, (1,)) / '(1,)type'.\n",
      "  _np_qint32 = np.dtype([(\"qint32\", np.int32, 1)])\n",
      "C:\\Users\\rashm\\Anaconda3.6\\lib\\site-packages\\tensorboard\\compat\\tensorflow_stub\\dtypes.py:550: FutureWarning: Passing (type, 1) or '1type' as a synonym of type is deprecated; in a future version of numpy, it will be understood as (type, (1,)) / '(1,)type'.\n",
      "  np_resource = np.dtype([(\"resource\", np.ubyte, 1)])\n",
      "Using TensorFlow backend.\n"
     ]
    }
   ],
   "source": [
    "import pandas as pd\n",
    "import numpy as np\n",
    "import os\n",
    "import imageio\n",
    "import tensorflow as tensorflow\n",
    "\n",
    "from keras.utils import plot_model\n",
    "from keras.models import Model\n",
    "from keras.layers import Input\n",
    "from keras.layers import Dense\n",
    "from keras.layers import Flatten\n",
    "from keras.layers import Activation\n",
    "from keras.layers import Dropout\n",
    "from keras.layers import Maximum\n",
    "from keras.layers import ZeroPadding2D\n",
    "from keras.layers.convolutional import Conv2D\n",
    "from keras.layers.pooling import MaxPooling2D\n",
    "from keras.layers.merge import concatenate\n",
    "from keras import regularizers\n",
    "from keras.layers import BatchNormalization\n",
    "from keras.optimizers import Adam, SGD\n",
    "from keras.preprocessing.image import ImageDataGenerator\n",
    "from keras.callbacks import ModelCheckpoint, ReduceLROnPlateau\n",
    "from keras.layers.advanced_activations import LeakyReLU\n",
    "from keras.utils import to_categorical\n",
    "from sklearn.model_selection import train_test_split\n",
    "from skimage.transform import resize as imresize\n",
    "from tqdm import tqdm\n"
   ]
  },
  {
   "cell_type": "code",
   "execution_count": 3,
   "metadata": {},
   "outputs": [
    {
     "data": {
      "text/plain": [
       "'2.2.0'"
      ]
     },
     "execution_count": 3,
     "metadata": {},
     "output_type": "execute_result"
    }
   ],
   "source": [
    "tensorflow.__version__"
   ]
  },
  {
   "cell_type": "code",
   "execution_count": 4,
   "metadata": {},
   "outputs": [],
   "source": [
    "## looking at dataset under train and test folders, we can see there are images of 12 classes as below, \n",
    "## hence created dictionary for ease\n",
    "CLASS = {\n",
    "    'Black-grass': 0,\n",
    "    'Charlock': 1,\n",
    "    'Cleavers': 2,\n",
    "    'Common Chickweed': 3,\n",
    "    'Common wheat': 4,\n",
    "    'Fat Hen': 5,\n",
    "    'Loose Silky-bent': 6,\n",
    "    'Maize': 7,\n",
    "    'Scentless Mayweed': 8,\n",
    "    'Shepherds Purse': 9,\n",
    "    'Small-flowered Cranesbill': 10,\n",
    "    'Sugar beet': 11\n",
    "}"
   ]
  },
  {
   "cell_type": "code",
   "execution_count": 5,
   "metadata": {},
   "outputs": [],
   "source": [
    "# created encoding of numeric value back to plants category for easy mapping of predicted results \n",
    "INV_CLASS = {\n",
    "    0: 'Black-grass',\n",
    "    1: 'Charlock',\n",
    "    2: 'Cleavers',\n",
    "    3: 'Common Chickweed',\n",
    "    4: 'Common wheat',\n",
    "    5: 'Fat Hen',\n",
    "    6: 'Loose Silky-bent',\n",
    "    7: 'Maize',\n",
    "    8: 'Scentless Mayweed',\n",
    "    9: 'Shepherds Purse',\n",
    "    10: 'Small-flowered Cranesbill',\n",
    "    11: 'Sugar beet'\n",
    "}"
   ]
  },
  {
   "cell_type": "code",
   "execution_count": 6,
   "metadata": {},
   "outputs": [],
   "source": [
    "PATH_TO_PROJECT=\"D:/PG-AIML/Labs/Assessment/Project12-ComputerVision\""
   ]
  },
  {
   "cell_type": "markdown",
   "metadata": {},
   "source": [
    "## Reading and preprocessing of train and test images"
   ]
  },
  {
   "cell_type": "code",
   "execution_count": 7,
   "metadata": {},
   "outputs": [],
   "source": [
    "# Resize all image to 51x51 \n",
    "def img_reshape(img):\n",
    "    img = imresize(img, (51, 51, 3))\n",
    "    return img\n",
    "\n",
    "# get image tag\n",
    "def img_label(path):\n",
    "    return str(str(path.split('/')[-1]))\n",
    "\n",
    "# get plant class on image\n",
    "def img_class(path):\n",
    "    #print(\"img_class: \",str(path.split(\"\\\\\")[-2]))\n",
    "    return str(path.split(\"\\\\\")[-2])"
   ]
  },
  {
   "cell_type": "code",
   "execution_count": 8,
   "metadata": {},
   "outputs": [],
   "source": [
    "# fill train and test dict\n",
    "def fill_dict(paths, some_dict):\n",
    "    text = ''\n",
    "    if 'train' in paths[0]:\n",
    "        text = 'Start fill train_dict'\n",
    "    elif 'test' in paths[0]:\n",
    "        text = 'Start fill test_dict'\n",
    "\n",
    "    for p in tqdm(paths, ascii=True, ncols=85, desc=text):\n",
    "        img = imageio.imread(p)\n",
    "        img = img_reshape(img)\n",
    "        some_dict['image'].append(img)\n",
    "        some_dict['label'].append(img_label(p))\n",
    "        if 'train' in paths[0]:\n",
    "           # print(\"for train setting class\",p)\n",
    "            some_dict['class'].append(img_class(p))\n",
    "\n",
    "    return some_dict"
   ]
  },
  {
   "cell_type": "code",
   "execution_count": 9,
   "metadata": {},
   "outputs": [],
   "source": [
    "# read image from dir. and fill train and test dict\n",
    "def reader():\n",
    "    file_ext = []\n",
    "    train_path = []\n",
    "    test_path = []\n",
    "\n",
    "    for root, dirs, files in os.walk(PATH_TO_PROJECT):\n",
    "        if dirs != []:\n",
    "            print('Root:\\n'+str(root))\n",
    "            print('Dirs:\\n'+str(dirs))\n",
    "        else:\n",
    "            for f in files:\n",
    "                ext = os.path.splitext(str(f))[1][1:]\n",
    "\n",
    "                if ext not in file_ext:\n",
    "                    file_ext.append(ext)\n",
    "\n",
    "                if 'train' in root:\n",
    "                    path = os.path.join(root, f)\n",
    "                    train_path.append(path)\n",
    "                elif 'test' in root:\n",
    "                    path = os.path.join(root, f)\n",
    "                    test_path.append(path)\n",
    "    train_dict = {\n",
    "        'image': [],\n",
    "        'label': [],\n",
    "        'class': []\n",
    "    }\n",
    "    test_dict = {\n",
    "        'image': [],\n",
    "        'label': []\n",
    "    }\n",
    "\n",
    "    train_dict = fill_dict(train_path, train_dict)\n",
    "    test_dict = fill_dict(test_path, test_dict)\n",
    "    return train_dict, test_dict\n"
   ]
  },
  {
   "cell_type": "code",
   "execution_count": 10,
   "metadata": {},
   "outputs": [
    {
     "name": "stderr",
     "output_type": "stream",
     "text": [
      "\r",
      "Start fill train_dict:   0%|                                | 0/4750 [00:00<?, ?it/s]"
     ]
    },
    {
     "name": "stdout",
     "output_type": "stream",
     "text": [
      "Root:\n",
      "D:/PG-AIML/Labs/Assessment/Project12-ComputerVision\n",
      "Dirs:\n",
      "['.ipynb_checkpoints', 'data', 'plant-weights', 'test', 'train']\n",
      "Root:\n",
      "D:/PG-AIML/Labs/Assessment/Project12-ComputerVision\\train\n",
      "Dirs:\n",
      "['Black-grass', 'Charlock', 'Cleavers', 'Common Chickweed', 'Common wheat', 'Fat Hen', 'Loose Silky-bent', 'Maize', 'Scentless Mayweed', 'Shepherds Purse', 'Small-flowered Cranesbill', 'Sugar beet']\n"
     ]
    },
    {
     "name": "stderr",
     "output_type": "stream",
     "text": [
      "Start fill train_dict: 100%|#####################| 4750/4750 [11:54<00:00,  6.65it/s]\n",
      "Start fill test_dict: 100%|########################| 794/794 [00:12<00:00, 63.33it/s]\n"
     ]
    }
   ],
   "source": [
    "train_dict, test_dict = reader()\n",
    "X_train = np.array(train_dict['image'])"
   ]
  },
  {
   "cell_type": "code",
   "execution_count": 43,
   "metadata": {},
   "outputs": [
    {
     "data": {
      "text/plain": [
       "'Black-grass'"
      ]
     },
     "execution_count": 43,
     "metadata": {},
     "output_type": "execute_result"
    }
   ],
   "source": [
    "train_dict['class'][5]"
   ]
  },
  {
   "cell_type": "code",
   "execution_count": 44,
   "metadata": {},
   "outputs": [],
   "source": [
    "y_train = to_categorical(np.array([CLASS[l] for l in train_dict['class']]))"
   ]
  },
  {
   "cell_type": "code",
   "execution_count": 45,
   "metadata": {},
   "outputs": [],
   "source": [
    "X_test = np.array(test_dict['image'])\n",
    "label = test_dict['label']"
   ]
  },
  {
   "cell_type": "markdown",
   "metadata": {},
   "source": [
    "# Initialisation and building of Network to train"
   ]
  },
  {
   "cell_type": "code",
   "execution_count": 46,
   "metadata": {},
   "outputs": [],
   "source": [
    "BATCH_SIZE = 32\n",
    "EPOCHS = 5\n",
    "RANDOM_STATE = 11"
   ]
  },
  {
   "cell_type": "code",
   "execution_count": 47,
   "metadata": {},
   "outputs": [],
   "source": [
    "# Conv. layers set\n",
    "def conv_layer(feature_batch, feature_map, kernel_size=(3, 3),strides=(1,1), zp_flag=False):\n",
    "    if zp_flag:\n",
    "        zp = ZeroPadding2D((1,1))(feature_batch)\n",
    "    else:\n",
    "        zp = feature_batch\n",
    "    conv = Conv2D(filters=feature_map, kernel_size=kernel_size, strides=strides)(zp)\n",
    "    bn = BatchNormalization(axis=3)(conv)\n",
    "    act = LeakyReLU(1/10)(bn)\n",
    "    return act"
   ]
  },
  {
   "cell_type": "code",
   "execution_count": 48,
   "metadata": {},
   "outputs": [],
   "source": [
    "def get_model():\n",
    "    inp_img = Input(shape=(51, 51, 3))\n",
    "\n",
    "    # 51\n",
    "    conv1 = conv_layer(inp_img, 64, zp_flag=False)\n",
    "    conv2 = conv_layer(conv1, 64, zp_flag=False)\n",
    "    mp1 = MaxPooling2D(pool_size=(3, 3), strides=(2, 2))(conv2)\n",
    "    # 23\n",
    "    conv3 = conv_layer(mp1, 128, zp_flag=False)\n",
    "    conv4 = conv_layer(conv3, 128, zp_flag=False)\n",
    "    mp2 = MaxPooling2D(pool_size=(3, 3), strides=(2, 2))(conv4)\n",
    "    # 9\n",
    "    conv7 = conv_layer(mp2, 256, zp_flag=False)\n",
    "    conv8 = conv_layer(conv7, 256, zp_flag=False)\n",
    "    conv9 = conv_layer(conv8, 256, zp_flag=False)\n",
    "    mp3 = MaxPooling2D(pool_size=(3, 3), strides=(2, 2))(conv9)\n",
    "    # 1\n",
    "    # dense layers\n",
    "    flt = Flatten()(mp3)\n",
    "\n",
    "    dp1 = Dropout(0.)(flt)\n",
    "    dns1 = Dense(128)(dp1)\n",
    "    bn1 = BatchNormalization(axis=-1)(dns1)\n",
    "    ds1 = Activation(activation='tanh')(bn1)\n",
    "    \n",
    "    dp2 = Dropout(0.)(ds1)\n",
    "    dns2 = Dense(12)(dp2)\n",
    "    bn2 = BatchNormalization(axis=-1)(dns2)\n",
    "    out = Activation(activation='softmax')(bn2)\n",
    "\n",
    "    model = Model(inputs=inp_img, outputs=out)\n",
    "        \n",
    "    mypotim = SGD(lr=1 * 1e-1, momentum=0.9, nesterov=True)\n",
    "    model.compile(loss='categorical_crossentropy', optimizer=mypotim, metrics=['accuracy'])\n",
    "    ##model.summary()\n",
    "    return model\n"
   ]
  },
  {
   "cell_type": "markdown",
   "metadata": {},
   "source": [
    "## TRAIN THE MODEL"
   ]
  },
  {
   "cell_type": "code",
   "execution_count": 49,
   "metadata": {},
   "outputs": [],
   "source": [
    "\n",
    "def get_callbacks(filepath, patience=5):\n",
    "    lr_reduce = ReduceLROnPlateau(monitor='val_acc', factor=0.1, epsilon=1e-5, patience=patience, verbose=1)\n",
    "    msave = ModelCheckpoint(filepath, save_best_only=True)\n",
    "    return [lr_reduce, msave]"
   ]
  },
  {
   "cell_type": "code",
   "execution_count": 50,
   "metadata": {},
   "outputs": [
    {
     "name": "stdout",
     "output_type": "stream",
     "text": [
      "filepaths :  D:/PG-AIML/Labs/Assessment/Project12-ComputerVision/plant-weights/model_weight_SGD.hdf5\n",
      "Model: \"model_7\"\n",
      "_________________________________________________________________\n",
      "Layer (type)                 Output Shape              Param #   \n",
      "=================================================================\n",
      "input_7 (InputLayer)         (None, 51, 51, 3)         0         \n",
      "_________________________________________________________________\n",
      "conv2d_43 (Conv2D)           (None, 49, 49, 64)        1792      \n",
      "_________________________________________________________________\n",
      "batch_normalization_55 (Batc (None, 49, 49, 64)        256       \n",
      "_________________________________________________________________\n",
      "leaky_re_lu_43 (LeakyReLU)   (None, 49, 49, 64)        0         \n",
      "_________________________________________________________________\n",
      "conv2d_44 (Conv2D)           (None, 47, 47, 64)        36928     \n",
      "_________________________________________________________________\n",
      "batch_normalization_56 (Batc (None, 47, 47, 64)        256       \n",
      "_________________________________________________________________\n",
      "leaky_re_lu_44 (LeakyReLU)   (None, 47, 47, 64)        0         \n",
      "_________________________________________________________________\n",
      "max_pooling2d_19 (MaxPooling (None, 23, 23, 64)        0         \n",
      "_________________________________________________________________\n",
      "conv2d_45 (Conv2D)           (None, 21, 21, 128)       73856     \n",
      "_________________________________________________________________\n",
      "batch_normalization_57 (Batc (None, 21, 21, 128)       512       \n",
      "_________________________________________________________________\n",
      "leaky_re_lu_45 (LeakyReLU)   (None, 21, 21, 128)       0         \n",
      "_________________________________________________________________\n",
      "conv2d_46 (Conv2D)           (None, 19, 19, 128)       147584    \n",
      "_________________________________________________________________\n",
      "batch_normalization_58 (Batc (None, 19, 19, 128)       512       \n",
      "_________________________________________________________________\n",
      "leaky_re_lu_46 (LeakyReLU)   (None, 19, 19, 128)       0         \n",
      "_________________________________________________________________\n",
      "max_pooling2d_20 (MaxPooling (None, 9, 9, 128)         0         \n",
      "_________________________________________________________________\n",
      "conv2d_47 (Conv2D)           (None, 7, 7, 256)         295168    \n",
      "_________________________________________________________________\n",
      "batch_normalization_59 (Batc (None, 7, 7, 256)         1024      \n",
      "_________________________________________________________________\n",
      "leaky_re_lu_47 (LeakyReLU)   (None, 7, 7, 256)         0         \n",
      "_________________________________________________________________\n",
      "conv2d_48 (Conv2D)           (None, 5, 5, 256)         590080    \n",
      "_________________________________________________________________\n",
      "batch_normalization_60 (Batc (None, 5, 5, 256)         1024      \n",
      "_________________________________________________________________\n",
      "leaky_re_lu_48 (LeakyReLU)   (None, 5, 5, 256)         0         \n",
      "_________________________________________________________________\n",
      "conv2d_49 (Conv2D)           (None, 3, 3, 256)         590080    \n",
      "_________________________________________________________________\n",
      "batch_normalization_61 (Batc (None, 3, 3, 256)         1024      \n",
      "_________________________________________________________________\n",
      "leaky_re_lu_49 (LeakyReLU)   (None, 3, 3, 256)         0         \n",
      "_________________________________________________________________\n",
      "max_pooling2d_21 (MaxPooling (None, 1, 1, 256)         0         \n",
      "_________________________________________________________________\n",
      "flatten_7 (Flatten)          (None, 256)               0         \n",
      "_________________________________________________________________\n",
      "dropout_13 (Dropout)         (None, 256)               0         \n",
      "_________________________________________________________________\n",
      "dense_13 (Dense)             (None, 128)               32896     \n",
      "_________________________________________________________________\n",
      "batch_normalization_62 (Batc (None, 128)               512       \n",
      "_________________________________________________________________\n",
      "activation_13 (Activation)   (None, 128)               0         \n",
      "_________________________________________________________________\n",
      "dropout_14 (Dropout)         (None, 128)               0         \n",
      "_________________________________________________________________\n",
      "dense_14 (Dense)             (None, 12)                1548      \n",
      "_________________________________________________________________\n",
      "batch_normalization_63 (Batc (None, 12)                48        \n",
      "_________________________________________________________________\n",
      "activation_14 (Activation)   (None, 12)                0         \n",
      "=================================================================\n",
      "Total params: 1,775,100\n",
      "Trainable params: 1,772,516\n",
      "Non-trainable params: 2,584\n",
      "_________________________________________________________________\n"
     ]
    }
   ],
   "source": [
    "filepath1= PATH_TO_PROJECT+'/plant-weights/model_weight_SGD.hdf5'\n",
    "print(\"filepaths : \",filepath1)\n",
    "callbacks = get_callbacks(filepath = filepath1, patience=6)\n",
    "gmodel = get_model()\n",
    "gmodel.summary()\n",
    "gmodel.load_weights(filepath1)"
   ]
  },
  {
   "cell_type": "code",
   "execution_count": 51,
   "metadata": {},
   "outputs": [],
   "source": [
    "## Splitiing the data in test and train "
   ]
  },
  {
   "cell_type": "code",
   "execution_count": 52,
   "metadata": {},
   "outputs": [],
   "source": [
    "x_train, x_valid, y_train, y_valid = train_test_split(X_train,\n",
    "                                                        y_train,\n",
    "                                                        shuffle=True,\n",
    "                                                        train_size=0.8,\n",
    "                                                        random_state=RANDOM_STATE\n",
    "                                                        )"
   ]
  },
  {
   "cell_type": "code",
   "execution_count": 53,
   "metadata": {},
   "outputs": [],
   "source": [
    "## generating aug images\n",
    "gen = ImageDataGenerator(rotation_range=360., width_shift_range=0.3,\n",
    "            height_shift_range=0.3,zoom_range=0.3,\n",
    "            horizontal_flip=True, vertical_flip=True)   "
   ]
  },
  {
   "cell_type": "code",
   "execution_count": 54,
   "metadata": {
    "scrolled": true
   },
   "outputs": [
    {
     "name": "stdout",
     "output_type": "stream",
     "text": [
      "Epoch 1/5\n",
      "1188/1187 [==============================] - 2260s 2s/step - loss: 0.0746 - accuracy: 0.9726 - val_loss: 0.0917 - val_accuracy: 0.9674\n",
      "Epoch 2/5\n"
     ]
    },
    {
     "name": "stderr",
     "output_type": "stream",
     "text": [
      "C:\\Users\\rashm\\Anaconda3.6\\lib\\site-packages\\keras\\callbacks\\callbacks.py:1042: RuntimeWarning: Reduce LR on plateau conditioned on metric `val_acc` which is not available. Available metrics are: val_loss,val_accuracy,loss,accuracy,lr\n",
      "  (self.monitor, ','.join(list(logs.keys()))), RuntimeWarning\n"
     ]
    },
    {
     "name": "stdout",
     "output_type": "stream",
     "text": [
      "1188/1187 [==============================] - 1878s 2s/step - loss: 0.0665 - accuracy: 0.9759 - val_loss: 0.0942 - val_accuracy: 0.9611\n",
      "Epoch 3/5\n",
      "1188/1187 [==============================] - 1817s 2s/step - loss: 0.0655 - accuracy: 0.9762 - val_loss: 0.1161 - val_accuracy: 0.9526\n",
      "Epoch 4/5\n",
      "1188/1187 [==============================] - 1657s 1s/step - loss: 0.0640 - accuracy: 0.9765 - val_loss: 0.1238 - val_accuracy: 0.9516\n",
      "Epoch 5/5\n",
      "1188/1187 [==============================] - 1558s 1s/step - loss: 0.0588 - accuracy: 0.9792 - val_loss: 0.3387 - val_accuracy: 0.8979\n"
     ]
    }
   ],
   "source": [
    " history=gmodel.fit(gen.flow(x_train, y_train,batch_size=BATCH_SIZE),\n",
    "               steps_per_epoch=10*len(x_train)/BATCH_SIZE,\n",
    "               epochs=EPOCHS, verbose=1, shuffle=True,\n",
    "               validation_data=(x_valid, y_valid),\n",
    "               callbacks=callbacks)"
   ]
  },
  {
   "cell_type": "markdown",
   "metadata": {},
   "source": [
    "# Prediction Accuracy on Validation data "
   ]
  },
  {
   "cell_type": "code",
   "execution_count": 55,
   "metadata": {},
   "outputs": [
    {
     "name": "stdout",
     "output_type": "stream",
     "text": [
      "950/950 [==============================] - 8s 8ms/step\n"
     ]
    }
   ],
   "source": [
    "from sklearn.metrics import classification_report\n",
    "# make predictions on the testing images, finding the index of the\n",
    "probIdxs = gmodel.predict(x=x_valid,verbose=1)\n",
    "# label with the corresponding largest predicted probability\n",
    "predIdxs = probIdxs.argmax(axis=-1)"
   ]
  },
  {
   "cell_type": "code",
   "execution_count": 56,
   "metadata": {},
   "outputs": [
    {
     "name": "stdout",
     "output_type": "stream",
     "text": [
      "[INFO] evaluating network...\n",
      "              precision    recall  f1-score   support\n",
      "\n",
      "           0       0.78      0.63      0.69        67\n",
      "           1       0.94      0.97      0.95        76\n",
      "           2       0.86      1.00      0.93        56\n",
      "           3       0.95      0.99      0.97       137\n",
      "           4       0.92      0.92      0.92        39\n",
      "           5       0.97      0.83      0.90        83\n",
      "           6       0.81      0.96      0.87       135\n",
      "           7       1.00      0.85      0.92        34\n",
      "           8       0.95      0.78      0.86        99\n",
      "           9       0.62      0.87      0.72        39\n",
      "          10       1.00      0.99      1.00       104\n",
      "          11       0.96      0.85      0.90        81\n",
      "\n",
      "   micro avg       0.90      0.90      0.90       950\n",
      "   macro avg       0.90      0.89      0.89       950\n",
      "weighted avg       0.91      0.90      0.90       950\n",
      "\n"
     ]
    }
   ],
   "source": [
    "# show a nicely formatted classification report\n",
    "print(\"[INFO] evaluating network...\")\n",
    "print(classification_report(y_valid.argmax(axis=-1), predIdxs))"
   ]
  },
  {
   "cell_type": "markdown",
   "metadata": {},
   "source": [
    "## Visualising the prediction accuracy with epochs"
   ]
  },
  {
   "cell_type": "code",
   "execution_count": 57,
   "metadata": {},
   "outputs": [
    {
     "data": {
      "text/plain": [
       "<matplotlib.legend.Legend at 0x2342db6c548>"
      ]
     },
     "execution_count": 57,
     "metadata": {},
     "output_type": "execute_result"
    },
    {
     "data": {
      "image/png": "[encoded data removed]",
      "text/plain": [
       "<Figure size 432x288 with 1 Axes>"
      ]
     },
     "metadata": {},
     "output_type": "display_data"
    }
   ],
   "source": [
    "# plot the training loss and accuracy\n",
    "import matplotlib.pyplot as plt\n",
    "\n",
    "N = 5\n",
    "plt.style.use(\"ggplot\")\n",
    "plt.figure()\n",
    "plt.plot(np.arange(0, N), history.history[\"loss\"], label=\"train_loss\")\n",
    "plt.plot(np.arange(0, N), history.history[\"val_loss\"], label=\"val_loss\")\n",
    "plt.plot(np.arange(0, N), history.history[\"accuracy\"], label=\"train_acc\")\n",
    "plt.plot(np.arange(0, N), history.history[\"val_accuracy\"], label=\"val_acc\")\n",
    "plt.title(\"Training Loss and Accuracy on Dataset\")\n",
    "plt.xlabel(\"Epoch #\")\n",
    "plt.ylabel(\"Loss/Accuracy\")\n",
    "plt.legend(loc=\"best\")"
   ]
  },
  {
   "cell_type": "code",
   "execution_count": null,
   "metadata": {},
   "outputs": [],
   "source": [
    "## we got the best accuracy after epoch 1 , then it started reducing."
   ]
  },
  {
   "cell_type": "code",
   "execution_count": 58,
   "metadata": {
    "scrolled": true
   },
   "outputs": [
    {
     "data": {
      "text/plain": [
       "{'val_loss': [0.09168186352441185,\n",
       "  0.09423057556152344,\n",
       "  0.11611999725040636,\n",
       "  0.12384300131546823,\n",
       "  0.3386714539088701],\n",
       " 'val_accuracy': [0.9673684239387512,\n",
       "  0.961052656173706,\n",
       "  0.9526315927505493,\n",
       "  0.9515789747238159,\n",
       "  0.8978947401046753],\n",
       " 'loss': [0.07449548831042602,\n",
       "  0.06648502791825685,\n",
       "  0.06545697806558393,\n",
       "  0.06402536897257423,\n",
       "  0.05880292539177304],\n",
       " 'accuracy': [0.97263813, 0.9759068, 0.9761704, 0.97646034, 0.9791535],\n",
       " 'lr': [0.1, 0.1, 0.1, 0.1, 0.1]}"
      ]
     },
     "execution_count": 58,
     "metadata": {},
     "output_type": "execute_result"
    }
   ],
   "source": [
    "history.history"
   ]
  },
  {
   "cell_type": "markdown",
   "metadata": {},
   "source": [
    "# Trying Other Model with diff Layers combination"
   ]
  },
  {
   "cell_type": "code",
   "execution_count": 69,
   "metadata": {},
   "outputs": [],
   "source": [
    "from tensorflow.keras.models import Sequential\n",
    "from tensorflow.keras import backend as K\n",
    "from tensorflow.keras.layers import Activation\n",
    "from tensorflow.keras.layers import Conv2D\n",
    "from tensorflow.keras.layers import BatchNormalization\n",
    "from tensorflow.keras.layers import MaxPooling2D\n",
    "from tensorflow.keras.layers import Flatten\n",
    "from tensorflow.keras.layers import Dropout\n",
    "from tensorflow.keras.layers import Dense\n",
    "from tensorflow.keras.layers import Flatten\n",
    "from tensorflow.keras.optimizers import Adam\n",
    "from tensorflow.keras.callbacks import ModelCheckpoint, ReduceLROnPlateau\n",
    "\n",
    "\n",
    "\n",
    "\n",
    "class MiniVGGNet:\n",
    "\t@staticmethod\n",
    "\tdef build(width, height, depth, classes):\n",
    "\t\tmodel = Sequential()\n",
    "\t\tinputShape = (height, width, depth)\n",
    "\t\tchanDim = -1\n",
    "\t\t# if we are using \"channels first\", update the input shape\n",
    "\t\t# and channels dimension\n",
    "\t\tif K.image_data_format() == \"channels_first\":\n",
    "\t\t\tinputShape = (depth, height, width)\n",
    "\t\t\tchanDim = 1\n",
    "\t\t# CONV => RELU => POOL layer set\n",
    "\t\tmodel.add(Conv2D(32, (3, 3), padding=\"same\", input_shape=inputShape))\n",
    "\t\tmodel.add(Activation(\"relu\"))\n",
    "\t\tmodel.add(BatchNormalization(axis=chanDim))\n",
    "\t\tmodel.add(MaxPooling2D(pool_size=(2, 2)))\n",
    "\t\tmodel.add(Dropout(0.25))\n",
    "\t\t# (CONV => RELU) * 2 => POOL layer set\n",
    "\t\tmodel.add(Conv2D(64, (3, 3), padding=\"same\"))\n",
    "\t\tmodel.add(Activation(\"relu\"))\n",
    "\t\tmodel.add(BatchNormalization(axis=chanDim))\n",
    "\t\tmodel.add(Conv2D(64, (3, 3), padding=\"same\"))\n",
    "\t\tmodel.add(Activation(\"relu\"))\n",
    "\t\tmodel.add(BatchNormalization(axis=chanDim))\n",
    "\t\tmodel.add(MaxPooling2D(pool_size=(2, 2)))\n",
    "\t\tmodel.add(Dropout(0.25))\n",
    "\t\t# (CONV => RELU) * 3 => POOL layer set\n",
    "\t\tmodel.add(Conv2D(128, (3, 3), padding=\"same\"))\n",
    "\t\tmodel.add(Activation(\"relu\"))\n",
    "\t\tmodel.add(BatchNormalization(axis=chanDim))\n",
    "\t\tmodel.add(Conv2D(128, (3, 3), padding=\"same\"))\n",
    "\t\tmodel.add(Activation(\"relu\"))\n",
    "\t\tmodel.add(BatchNormalization(axis=chanDim))\n",
    "\t\tmodel.add(Conv2D(128, (3, 3), padding=\"same\"))\n",
    "\t\tmodel.add(Activation(\"relu\"))\n",
    "\t\tmodel.add(BatchNormalization(axis=chanDim))\n",
    "\t\tmodel.add(MaxPooling2D(pool_size=(2, 2)))\n",
    "\t\tmodel.add(Dropout(0.25))\n",
    "\t\t# first set of FC => RELU layers\n",
    "\t\tmodel.add(Flatten())\n",
    "\t\tmodel.add(Dense(512))\n",
    "\t\tmodel.add(Activation(\"relu\"))\n",
    "\t\tmodel.add(BatchNormalization())\n",
    "\t\tmodel.add(Dropout(0.5))\n",
    "\t\t# second set of FC => RELU layers\n",
    "\t\tmodel.add(Dense(512))\n",
    "\t\tmodel.add(Activation(\"relu\"))\n",
    "\t\tmodel.add(BatchNormalization())\n",
    "\t\tmodel.add(Dropout(0.5))\n",
    "\n",
    "\t\t# softmax classifier\n",
    "\t\tmodel.add(Dense(classes))\n",
    "\t\tmodel.add(Activation(\"softmax\"))\n",
    "\t\t# return the constructed network architecture\n",
    "\t\treturn model"
   ]
  },
  {
   "cell_type": "code",
   "execution_count": 70,
   "metadata": {},
   "outputs": [],
   "source": [
    "def get_model2():\n",
    "    model = MiniVGGNet.build(51, 51, 3, 12)\n",
    "    opt = Adam(lr=2 * 1e-3, beta_1=0.9, beta_2=0.999, epsilon=1e-08)\n",
    "    model.compile(loss=\"categorical_crossentropy\", optimizer=opt, metrics=[\"accuracy\"])\n",
    "    model.summary()\n",
    "    return model"
   ]
  },
  {
   "cell_type": "code",
   "execution_count": 71,
   "metadata": {
    "scrolled": true
   },
   "outputs": [
    {
     "name": "stdout",
     "output_type": "stream",
     "text": [
      "filepaths : D:/PG-AIML/Labs/Assessment/Project12-ComputerVision/plant-weights/model2_weight.hdf5\n",
      "WARNING:tensorflow:`epsilon` argument is deprecated and will be removed, use `min_delta` instead.\n",
      "Model: \"sequential_3\"\n",
      "_________________________________________________________________\n",
      "Layer (type)                 Output Shape              Param #   \n",
      "=================================================================\n",
      "conv2d_18 (Conv2D)           (None, 51, 51, 32)        896       \n",
      "_________________________________________________________________\n",
      "activation_24 (Activation)   (None, 51, 51, 32)        0         \n",
      "_________________________________________________________________\n",
      "batch_normalization_22 (Batc (None, 51, 51, 32)        128       \n",
      "_________________________________________________________________\n",
      "max_pooling2d_9 (MaxPooling2 (None, 25, 25, 32)        0         \n",
      "_________________________________________________________________\n",
      "dropout_13 (Dropout)         (None, 25, 25, 32)        0         \n",
      "_________________________________________________________________\n",
      "conv2d_19 (Conv2D)           (None, 25, 25, 64)        18496     \n",
      "_________________________________________________________________\n",
      "activation_25 (Activation)   (None, 25, 25, 64)        0         \n",
      "_________________________________________________________________\n",
      "batch_normalization_23 (Batc (None, 25, 25, 64)        256       \n",
      "_________________________________________________________________\n",
      "conv2d_20 (Conv2D)           (None, 25, 25, 64)        36928     \n",
      "_________________________________________________________________\n",
      "activation_26 (Activation)   (None, 25, 25, 64)        0         \n",
      "_________________________________________________________________\n",
      "batch_normalization_24 (Batc (None, 25, 25, 64)        256       \n",
      "_________________________________________________________________\n",
      "max_pooling2d_10 (MaxPooling (None, 12, 12, 64)        0         \n",
      "_________________________________________________________________\n",
      "dropout_14 (Dropout)         (None, 12, 12, 64)        0         \n",
      "_________________________________________________________________\n",
      "conv2d_21 (Conv2D)           (None, 12, 12, 128)       73856     \n",
      "_________________________________________________________________\n",
      "activation_27 (Activation)   (None, 12, 12, 128)       0         \n",
      "_________________________________________________________________\n",
      "batch_normalization_25 (Batc (None, 12, 12, 128)       512       \n",
      "_________________________________________________________________\n",
      "conv2d_22 (Conv2D)           (None, 12, 12, 128)       147584    \n",
      "_________________________________________________________________\n",
      "activation_28 (Activation)   (None, 12, 12, 128)       0         \n",
      "_________________________________________________________________\n",
      "batch_normalization_26 (Batc (None, 12, 12, 128)       512       \n",
      "_________________________________________________________________\n",
      "conv2d_23 (Conv2D)           (None, 12, 12, 128)       147584    \n",
      "_________________________________________________________________\n",
      "activation_29 (Activation)   (None, 12, 12, 128)       0         \n",
      "_________________________________________________________________\n",
      "batch_normalization_27 (Batc (None, 12, 12, 128)       512       \n",
      "_________________________________________________________________\n",
      "max_pooling2d_11 (MaxPooling (None, 6, 6, 128)         0         \n",
      "_________________________________________________________________\n",
      "dropout_15 (Dropout)         (None, 6, 6, 128)         0         \n",
      "_________________________________________________________________\n",
      "flatten_3 (Flatten)          (None, 4608)              0         \n",
      "_________________________________________________________________\n",
      "dense_6 (Dense)              (None, 512)               2359808   \n",
      "_________________________________________________________________\n",
      "activation_30 (Activation)   (None, 512)               0         \n",
      "_________________________________________________________________\n",
      "batch_normalization_28 (Batc (None, 512)               2048      \n",
      "_________________________________________________________________\n",
      "dropout_16 (Dropout)         (None, 512)               0         \n",
      "_________________________________________________________________\n",
      "dense_7 (Dense)              (None, 512)               262656    \n",
      "_________________________________________________________________\n",
      "activation_31 (Activation)   (None, 512)               0         \n",
      "_________________________________________________________________\n",
      "batch_normalization_29 (Batc (None, 512)               2048      \n",
      "_________________________________________________________________\n",
      "dropout_17 (Dropout)         (None, 512)               0         \n",
      "_________________________________________________________________\n",
      "dense_8 (Dense)              (None, 12)                6156      \n",
      "_________________________________________________________________\n",
      "activation_32 (Activation)   (None, 12)                0         \n",
      "=================================================================\n",
      "Total params: 3,060,236\n",
      "Trainable params: 3,057,100\n",
      "Non-trainable params: 3,136\n",
      "_________________________________________________________________\n"
     ]
    }
   ],
   "source": [
    "filepath3= PATH_TO_PROJECT+'/plant-weights/model2_weight.hdf5'\n",
    "print(\"filepaths :\",filepath3)\n",
    "callbacks1 = get_callbacks(filepath = filepath3, patience=6)\n",
    "gmodel2 = get_model2()"
   ]
  },
  {
   "cell_type": "code",
   "execution_count": 72,
   "metadata": {},
   "outputs": [
    {
     "name": "stdout",
     "output_type": "stream",
     "text": [
      "Epoch 1/5\n",
      "1188/1187 [==============================] - ETA: 0s - loss: 1.5978 - accuracy: 0.4993WARNING:tensorflow:Reduce LR on plateau conditioned on metric `val_acc` which is not available. Available metrics are: loss,accuracy,val_loss,val_accuracy,lr\n",
      "1188/1187 [==============================] - 519s 437ms/step - loss: 1.5978 - accuracy: 0.4993 - val_loss: 1.3771 - val_accuracy: 0.5411 - lr: 0.0020\n",
      "Epoch 2/5\n",
      "1188/1187 [==============================] - ETA: 0s - loss: 0.8885 - accuracy: 0.7017WARNING:tensorflow:Reduce LR on plateau conditioned on metric `val_acc` which is not available. Available metrics are: loss,accuracy,val_loss,val_accuracy,lr\n",
      "1188/1187 [==============================] - 505s 425ms/step - loss: 0.8885 - accuracy: 0.7017 - val_loss: 1.6905 - val_accuracy: 0.5284 - lr: 0.0020\n",
      "Epoch 3/5\n",
      "1188/1187 [==============================] - ETA: 0s - loss: 0.6449 - accuracy: 0.7816WARNING:tensorflow:Reduce LR on plateau conditioned on metric `val_acc` which is not available. Available metrics are: loss,accuracy,val_loss,val_accuracy,lr\n",
      "1188/1187 [==============================] - 506s 426ms/step - loss: 0.6449 - accuracy: 0.7816 - val_loss: 1.0299 - val_accuracy: 0.6474 - lr: 0.0020\n",
      "Epoch 4/5\n",
      "1188/1187 [==============================] - ETA: 0s - loss: 0.5275 - accuracy: 0.8195WARNING:tensorflow:Reduce LR on plateau conditioned on metric `val_acc` which is not available. Available metrics are: loss,accuracy,val_loss,val_accuracy,lr\n",
      "1188/1187 [==============================] - 506s 426ms/step - loss: 0.5275 - accuracy: 0.8195 - val_loss: 0.3304 - val_accuracy: 0.8705 - lr: 0.0020\n",
      "Epoch 5/5\n",
      "1188/1187 [==============================] - ETA: 0s - loss: 0.4496 - accuracy: 0.8447WARNING:tensorflow:Reduce LR on plateau conditioned on metric `val_acc` which is not available. Available metrics are: loss,accuracy,val_loss,val_accuracy,lr\n",
      "1188/1187 [==============================] - 535s 450ms/step - loss: 0.4496 - accuracy: 0.8447 - val_loss: 0.5788 - val_accuracy: 0.7937 - lr: 0.0020\n"
     ]
    }
   ],
   "source": [
    "history2= gmodel2.fit(gen.flow(x_train, y_train,batch_size=BATCH_SIZE),\n",
    "               steps_per_epoch=10*len(x_train)/BATCH_SIZE,\n",
    "               epochs=EPOCHS, verbose=1, shuffle=True, validation_data=(x_valid, y_valid),\n",
    "               callbacks=callbacks1)"
   ]
  },
  {
   "cell_type": "code",
   "execution_count": 73,
   "metadata": {},
   "outputs": [
    {
     "name": "stdout",
     "output_type": "stream",
     "text": [
      "30/30 [==============================] - 4s 118ms/step\n",
      "Evaluating network2...\n",
      "              precision    recall  f1-score   support\n",
      "\n",
      "           0       0.15      0.04      0.07        67\n",
      "           1       0.90      0.86      0.88        76\n",
      "           2       0.88      0.91      0.89        56\n",
      "           3       0.96      0.89      0.92       137\n",
      "           4       0.96      0.67      0.79        39\n",
      "           5       0.75      0.92      0.83        83\n",
      "           6       0.62      0.97      0.76       135\n",
      "           7       1.00      0.62      0.76        34\n",
      "           8       0.98      0.53      0.68        99\n",
      "           9       0.57      0.92      0.71        39\n",
      "          10       0.79      1.00      0.89       104\n",
      "          11       1.00      0.83      0.91        81\n",
      "\n",
      "   micro avg       0.79      0.79      0.79       950\n",
      "   macro avg       0.80      0.76      0.76       950\n",
      "weighted avg       0.80      0.79      0.78       950\n",
      "\n"
     ]
    }
   ],
   "source": [
    "probIdxs2 = gmodel2.predict(x=x_valid,verbose=1)\n",
    "predIdxs2 = probIdxs2.argmax(axis=-1)\n",
    "print(\"Evaluating network2...\")\n",
    "print(classification_report(y_valid.argmax(axis=-1), predIdxs2))"
   ]
  },
  {
   "cell_type": "code",
   "execution_count": 74,
   "metadata": {
    "scrolled": true
   },
   "outputs": [
    {
     "data": {
      "text/plain": [
       "<matplotlib.legend.Legend at 0x2343647b088>"
      ]
     },
     "execution_count": 74,
     "metadata": {},
     "output_type": "execute_result"
    },
    {
     "data": {
      "image/png": "[encoded data removed]",
      "text/plain": [
       "<Figure size 432x288 with 1 Axes>"
      ]
     },
     "metadata": {},
     "output_type": "display_data"
    }
   ],
   "source": [
    "N = 5\n",
    "plt.style.use(\"ggplot\")\n",
    "plt.figure()\n",
    "plt.plot(np.arange(0, N), history2.history[\"loss\"], label=\"train_loss\")\n",
    "plt.plot(np.arange(0, N), history2.history[\"val_loss\"], label=\"val_loss\")\n",
    "plt.plot(np.arange(0, N), history2.history[\"accuracy\"], label=\"train_acc\")\n",
    "plt.plot(np.arange(0, N), history2.history[\"val_accuracy\"], label=\"val_acc\")\n",
    "plt.title(\"Training Loss and Accuracy on Dataset\")\n",
    "plt.xlabel(\"Epoch #\")\n",
    "plt.ylabel(\"Loss/Accuracy\")\n",
    "plt.legend(loc=\"best\")"
   ]
  },
  {
   "cell_type": "markdown",
   "metadata": {},
   "source": [
    "# Conclusion:"
   ]
  },
  {
   "cell_type": "markdown",
   "metadata": {},
   "source": [
    "We can try many other models for better results, however from above 2 models, \n",
    "1st one gave approx 97.9% accuracy on train and 89 on validation dataset.The accuracy was going down, perhaps few more epochs might have needed to find apt model.\n",
    "\n",
    "The second model could have only ~84% on train and 79% validation.This on every increase of epoch was giving better accuracy for train and test.(somewhere in 4the epoch it reached 87% for val data too and then dropped.)\n",
    "But yet, the result of first model is better, so I submitted the solution on test data to kaggle, this one gave ~95%.\n",
    "\n",
    "**Apart from Accuracy: \n",
    "a) The number of paramters were less in model1\n",
    "model1 :Trainable params: 1,772,516\n",
    "model2 :Trainable params: 3,057,100 **\n",
    "\n",
    "\n",
    "**b) Time taken in second model was lesser for 5 epochs\n",
    "Model1 : approx 30 min 1 epoch- 2.5 hours for 5\n",
    "Model2: just 8-9 min each epoch - 50 min for 5 **\n",
    "\n",
    "For now, I will consider the model with better accuracy for predicting the class label for test data images."
   ]
  },
  {
   "cell_type": "markdown",
   "metadata": {},
   "source": [
    "## Predict labels for TEST images using best of model"
   ]
  },
  {
   "cell_type": "code",
   "execution_count": 75,
   "metadata": {},
   "outputs": [
    {
     "name": "stdout",
     "output_type": "stream",
     "text": [
      "794/794 [==============================] - 9s 11ms/step\n"
     ]
    }
   ],
   "source": [
    "## using model 1 to predict values of model1\n",
    "\n",
    "prob = gmodel.predict(X_test, verbose=1)\n",
    "pred = prob.argmax(axis=-1)\n",
    "sub = pd.DataFrame({\"file\": label,\n",
    "                    \"species\": [INV_CLASS[p] for p in pred]})\n"
   ]
  },
  {
   "cell_type": "code",
   "execution_count": 76,
   "metadata": {},
   "outputs": [
    {
     "data": {
      "text/html": [
       "<div>\n",
       "<style scoped>\n",
       "    .dataframe tbody tr th:only-of-type {\n",
       "        vertical-align: middle;\n",
       "    }\n",
       "\n",
       "    .dataframe tbody tr th {\n",
       "        vertical-align: top;\n",
       "    }\n",
       "\n",
       "    .dataframe thead th {\n",
       "        text-align: right;\n",
       "    }\n",
       "</style>\n",
       "<table border=\"1\" class=\"dataframe\">\n",
       "  <thead>\n",
       "    <tr style=\"text-align: right;\">\n",
       "      <th></th>\n",
       "      <th>file</th>\n",
       "      <th>species</th>\n",
       "    </tr>\n",
       "  </thead>\n",
       "  <tbody>\n",
       "    <tr>\n",
       "      <th>0</th>\n",
       "      <td>Project12-ComputerVision\\test\\0021e90e4.png</td>\n",
       "      <td>Small-flowered Cranesbill</td>\n",
       "    </tr>\n",
       "    <tr>\n",
       "      <th>1</th>\n",
       "      <td>Project12-ComputerVision\\test\\003d61042.png</td>\n",
       "      <td>Fat Hen</td>\n",
       "    </tr>\n",
       "    <tr>\n",
       "      <th>2</th>\n",
       "      <td>Project12-ComputerVision\\test\\007b3da8b.png</td>\n",
       "      <td>Sugar beet</td>\n",
       "    </tr>\n",
       "    <tr>\n",
       "      <th>3</th>\n",
       "      <td>Project12-ComputerVision\\test\\0086a6340.png</td>\n",
       "      <td>Common Chickweed</td>\n",
       "    </tr>\n",
       "    <tr>\n",
       "      <th>4</th>\n",
       "      <td>Project12-ComputerVision\\test\\00c47e980.png</td>\n",
       "      <td>Sugar beet</td>\n",
       "    </tr>\n",
       "  </tbody>\n",
       "</table>\n",
       "</div>"
      ],
      "text/plain": [
       "                                          file                    species\n",
       "0  Project12-ComputerVision\\test\\0021e90e4.png  Small-flowered Cranesbill\n",
       "1  Project12-ComputerVision\\test\\003d61042.png                    Fat Hen\n",
       "2  Project12-ComputerVision\\test\\007b3da8b.png                 Sugar beet\n",
       "3  Project12-ComputerVision\\test\\0086a6340.png           Common Chickweed\n",
       "4  Project12-ComputerVision\\test\\00c47e980.png                 Sugar beet"
      ]
     },
     "execution_count": 76,
     "metadata": {},
     "output_type": "execute_result"
    }
   ],
   "source": [
    "sub.head()"
   ]
  },
  {
   "cell_type": "code",
   "execution_count": 77,
   "metadata": {},
   "outputs": [],
   "source": [
    "## saving the result of prediction for test daata in csv file\n",
    "sub.to_csv(\"sub2.csv\", index=False, header=True)"
   ]
  },
  {
   "cell_type": "code",
   "execution_count": null,
   "metadata": {},
   "outputs": [],
   "source": []
  }
 ],
 "metadata": {
  "kernelspec": {
   "display_name": "Python 3",
   "language": "python",
   "name": "python3"
  },
  "language_info": {
   "codemirror_mode": {
    "name": "ipython",
    "version": 3
   },
   "file_extension": ".py",
   "mimetype": "text/x-python",
   "name": "python",
   "nbconvert_exporter": "python",
   "pygments_lexer": "ipython3",
   "version": "3.7.6"
  }
 },
 "nbformat": 4,
 "nbformat_minor": 4
}
