{
 "cells": [
  {
   "cell_type": "markdown",
   "metadata": {
    "id": "vXE926qT0jHg"
   },
   "source": [
    "# Time series prediction using LSTM"
   ]
  },
  {
   "cell_type": "markdown",
   "metadata": {
    "id": "54u8ql4Z4kBE"
   },
   "source": [
    "## Dataset\n",
    "- Daily minimum temperatures in Melbourne, Australia, 1981-1990\n",
    "- Units: Degrees Celcius"
   ]
  },
  {
   "cell_type": "markdown",
   "metadata": {
    "id": "IPkYyOzY77yl"
   },
   "source": [
    "## Question 1"
   ]
  },
  {
   "cell_type": "markdown",
   "metadata": {
    "id": "aXEOY69f8B9d"
   },
   "source": [
    "### Load the data\n",
    "- load daily-minimum-temperatures-in-me.csv"
   ]
  },
  {
   "cell_type": "code",
   "execution_count": 1,
   "metadata": {
    "colab": {
     "base_uri": "https://localhost:8080/"
    },
    "id": "aTFK5WhO8E2B",
    "outputId": "0f688c74-cde7-4c79-e093-c0ee70de5174"
   },
   "outputs": [
    {
     "name": "stdout",
     "output_type": "stream",
     "text": [
      "Drive already mounted at /content/drive; to attempt to forcibly remount, call drive.mount(\"/content/drive\", force_remount=True).\n"
     ]
    }
   ],
   "source": [
    "from google.colab import drive\n",
    "drive.mount('/content/drive')"
   ]
  },
  {
   "cell_type": "code",
   "execution_count": 2,
   "metadata": {
    "colab": {
     "base_uri": "https://localhost:8080/",
     "height": 35
    },
    "id": "LA7R2II8-Jxh",
    "outputId": "ad97549a-eb7c-4b91-f717-e2237a0ce6a5"
   },
   "outputs": [
    {
     "data": {
      "application/vnd.google.colaboratory.intrinsic+json": {
       "type": "string"
      },
      "text/plain": [
       "'/content'"
      ]
     },
     "execution_count": 2,
     "metadata": {
      "tags": []
     },
     "output_type": "execute_result"
    }
   ],
   "source": [
    "import pandas as pd\n",
    "import numpy as np\n",
    "from matplotlib import pyplot as plt\n",
    "\n",
    "import os\n",
    "os.getcwd()"
   ]
  },
  {
   "cell_type": "code",
   "execution_count": 3,
   "metadata": {
    "colab": {
     "base_uri": "https://localhost:8080/",
     "height": 35
    },
    "id": "aQ87gA1V8iCb",
    "outputId": "6dee1c9a-f4dc-49c1-c454-b683aa8db43c"
   },
   "outputs": [
    {
     "data": {
      "application/vnd.google.colaboratory.intrinsic+json": {
       "type": "string"
      },
      "text/plain": [
       "'/content/drive/My Drive/ClassNotes/Lab9-Seq models in NLP'"
      ]
     },
     "execution_count": 3,
     "metadata": {
      "tags": []
     },
     "output_type": "execute_result"
    }
   ],
   "source": [
    "os.chdir(\"/content/drive/My Drive/ClassNotes/Lab9-Seq models in NLP\")\n",
    "os.getcwd()"
   ]
  },
  {
   "cell_type": "code",
   "execution_count": 4,
   "metadata": {
    "id": "7kWgxxLC8XXp"
   },
   "outputs": [],
   "source": [
    "\n",
    "df = pd.read_csv('daily-minimum-temperatures-in-me.csv')\n",
    "\n"
   ]
  },
  {
   "cell_type": "markdown",
   "metadata": {
    "id": "pWcMgg69-T6k"
   },
   "source": [
    "### Print the data\n",
    "- First 5 rows only"
   ]
  },
  {
   "cell_type": "code",
   "execution_count": 5,
   "metadata": {
    "colab": {
     "base_uri": "https://localhost:8080/"
    },
    "id": "SM828gT_-Ra2",
    "outputId": "9e391421-d2bd-4534-c3a5-6fea7c043b24"
   },
   "outputs": [
    {
     "name": "stdout",
     "output_type": "stream",
     "text": [
      "         Date  Temperature\n",
      "0  1981-01-01         20.7\n",
      "1  1981-01-02         17.9\n",
      "2  1981-01-03         18.8\n",
      "3  1981-01-04         14.6\n",
      "4  1981-01-05         15.8\n"
     ]
    }
   ],
   "source": [
    "print(df.head())"
   ]
  },
  {
   "cell_type": "markdown",
   "metadata": {
    "id": "JGnWESz9BKx8"
   },
   "source": [
    "### Set index column\n",
    "- Set the DataFrame index using \"Date\" column"
   ]
  },
  {
   "cell_type": "code",
   "execution_count": 6,
   "metadata": {
    "id": "nFrbd_vd-eZP"
   },
   "outputs": [],
   "source": [
    "df=df.set_index('Date')"
   ]
  },
  {
   "cell_type": "code",
   "execution_count": 7,
   "metadata": {
    "colab": {
     "base_uri": "https://localhost:8080/",
     "height": 233
    },
    "id": "M0wmr4bL9YnC",
    "outputId": "2aa6b44d-8fc5-4390-e731-ccbf56b3b7d1"
   },
   "outputs": [
    {
     "data": {
      "text/html": [
       "<div>\n",
       "<style scoped>\n",
       "    .dataframe tbody tr th:only-of-type {\n",
       "        vertical-align: middle;\n",
       "    }\n",
       "\n",
       "    .dataframe tbody tr th {\n",
       "        vertical-align: top;\n",
       "    }\n",
       "\n",
       "    .dataframe thead th {\n",
       "        text-align: right;\n",
       "    }\n",
       "</style>\n",
       "<table border=\"1\" class=\"dataframe\">\n",
       "  <thead>\n",
       "    <tr style=\"text-align: right;\">\n",
       "      <th></th>\n",
       "      <th>Temperature</th>\n",
       "    </tr>\n",
       "    <tr>\n",
       "      <th>Date</th>\n",
       "      <th></th>\n",
       "    </tr>\n",
       "  </thead>\n",
       "  <tbody>\n",
       "    <tr>\n",
       "      <th>1981-01-01</th>\n",
       "      <td>20.7</td>\n",
       "    </tr>\n",
       "    <tr>\n",
       "      <th>1981-01-02</th>\n",
       "      <td>17.9</td>\n",
       "    </tr>\n",
       "    <tr>\n",
       "      <th>1981-01-03</th>\n",
       "      <td>18.8</td>\n",
       "    </tr>\n",
       "    <tr>\n",
       "      <th>1981-01-04</th>\n",
       "      <td>14.6</td>\n",
       "    </tr>\n",
       "    <tr>\n",
       "      <th>1981-01-05</th>\n",
       "      <td>15.8</td>\n",
       "    </tr>\n",
       "  </tbody>\n",
       "</table>\n",
       "</div>"
      ],
      "text/plain": [
       "            Temperature\n",
       "Date                   \n",
       "1981-01-01         20.7\n",
       "1981-01-02         17.9\n",
       "1981-01-03         18.8\n",
       "1981-01-04         14.6\n",
       "1981-01-05         15.8"
      ]
     },
     "execution_count": 7,
     "metadata": {
      "tags": []
     },
     "output_type": "execute_result"
    }
   ],
   "source": [
    "df.head()"
   ]
  },
  {
   "cell_type": "markdown",
   "metadata": {
    "id": "sS7IVXq7B1P1"
   },
   "source": [
    "## Question 2"
   ]
  },
  {
   "cell_type": "markdown",
   "metadata": {
    "id": "PcgAOybZCc5-"
   },
   "source": [
    "### Check the total count of null values in the data"
   ]
  },
  {
   "cell_type": "code",
   "execution_count": 8,
   "metadata": {
    "colab": {
     "base_uri": "https://localhost:8080/"
    },
    "id": "UTMe5jdCCj4k",
    "outputId": "1b8d4946-b06d-4bb7-d60c-231eafe77621"
   },
   "outputs": [
    {
     "name": "stdout",
     "output_type": "stream",
     "text": [
      "0\n"
     ]
    }
   ],
   "source": [
    "print(df.isnull().any(axis=1).sum())"
   ]
  },
  {
   "cell_type": "markdown",
   "metadata": {
    "id": "Ua-AeW2YC3kY"
   },
   "source": [
    "### Drop all the rows with null values\n",
    "- use dropna() method"
   ]
  },
  {
   "cell_type": "code",
   "execution_count": 9,
   "metadata": {
    "id": "9l9UeA6YC8RV"
   },
   "outputs": [],
   "source": [
    "df.dropna(inplace=True)"
   ]
  },
  {
   "cell_type": "code",
   "execution_count": 10,
   "metadata": {
    "colab": {
     "base_uri": "https://localhost:8080/"
    },
    "id": "owZd3F-h90NY",
    "outputId": "778cedd1-1cd6-447b-959c-e76465db3391"
   },
   "outputs": [
    {
     "data": {
      "text/plain": [
       "Temperature    0\n",
       "dtype: int64"
      ]
     },
     "execution_count": 10,
     "metadata": {
      "tags": []
     },
     "output_type": "execute_result"
    }
   ],
   "source": [
    "df.isnull().sum()"
   ]
  },
  {
   "cell_type": "markdown",
   "metadata": {
    "id": "SJam5Ho-DHK7"
   },
   "source": [
    "## Question 3"
   ]
  },
  {
   "cell_type": "markdown",
   "metadata": {
    "id": "3esUPJAMDzCJ"
   },
   "source": [
    "### Describe your dataframe\n",
    "- use describe() method"
   ]
  },
  {
   "cell_type": "code",
   "execution_count": 11,
   "metadata": {
    "colab": {
     "base_uri": "https://localhost:8080/",
     "height": 294
    },
    "id": "uhH8OwGVELyH",
    "outputId": "ec7c6497-75d2-48a7-a343-4d064579adba"
   },
   "outputs": [
    {
     "data": {
      "text/html": [
       "<div>\n",
       "<style scoped>\n",
       "    .dataframe tbody tr th:only-of-type {\n",
       "        vertical-align: middle;\n",
       "    }\n",
       "\n",
       "    .dataframe tbody tr th {\n",
       "        vertical-align: top;\n",
       "    }\n",
       "\n",
       "    .dataframe thead th {\n",
       "        text-align: right;\n",
       "    }\n",
       "</style>\n",
       "<table border=\"1\" class=\"dataframe\">\n",
       "  <thead>\n",
       "    <tr style=\"text-align: right;\">\n",
       "      <th></th>\n",
       "      <th>Temperature</th>\n",
       "    </tr>\n",
       "  </thead>\n",
       "  <tbody>\n",
       "    <tr>\n",
       "      <th>count</th>\n",
       "      <td>3650.000000</td>\n",
       "    </tr>\n",
       "    <tr>\n",
       "      <th>mean</th>\n",
       "      <td>11.177753</td>\n",
       "    </tr>\n",
       "    <tr>\n",
       "      <th>std</th>\n",
       "      <td>4.071837</td>\n",
       "    </tr>\n",
       "    <tr>\n",
       "      <th>min</th>\n",
       "      <td>0.000000</td>\n",
       "    </tr>\n",
       "    <tr>\n",
       "      <th>25%</th>\n",
       "      <td>8.300000</td>\n",
       "    </tr>\n",
       "    <tr>\n",
       "      <th>50%</th>\n",
       "      <td>11.000000</td>\n",
       "    </tr>\n",
       "    <tr>\n",
       "      <th>75%</th>\n",
       "      <td>14.000000</td>\n",
       "    </tr>\n",
       "    <tr>\n",
       "      <th>max</th>\n",
       "      <td>26.300000</td>\n",
       "    </tr>\n",
       "  </tbody>\n",
       "</table>\n",
       "</div>"
      ],
      "text/plain": [
       "       Temperature\n",
       "count  3650.000000\n",
       "mean     11.177753\n",
       "std       4.071837\n",
       "min       0.000000\n",
       "25%       8.300000\n",
       "50%      11.000000\n",
       "75%      14.000000\n",
       "max      26.300000"
      ]
     },
     "execution_count": 11,
     "metadata": {
      "tags": []
     },
     "output_type": "execute_result"
    }
   ],
   "source": [
    "df.describe()"
   ]
  },
  {
   "cell_type": "markdown",
   "metadata": {
    "id": "bizrToFMB4ix"
   },
   "source": [
    "### Plot the dataframe\n",
    "- use plot() method"
   ]
  },
  {
   "cell_type": "code",
   "execution_count": 12,
   "metadata": {
    "colab": {
     "base_uri": "https://localhost:8080/",
     "height": 515
    },
    "id": "rNiXK6YZB30N",
    "outputId": "50b1db33-03d2-4def-c97f-0932400ec29f"
   },
   "outputs": [
    {
     "data": {
      "text/plain": [
       "<matplotlib.axes._subplots.AxesSubplot at 0x7efd6b3ff208>"
      ]
     },
     "execution_count": 12,
     "metadata": {
      "tags": []
     },
     "output_type": "execute_result"
    },
    {
     "data": {
      "image/png": "[encoded data removed]",
      "text/plain": [
       "<Figure size 864x576 with 1 Axes>"
      ]
     },
     "metadata": {
      "needs_background": "light",
      "tags": []
     },
     "output_type": "display_data"
    }
   ],
   "source": [
    "df.plot(figsize=(12,8))"
   ]
  },
  {
   "cell_type": "markdown",
   "metadata": {
    "id": "OtI9ZGJqE1lh"
   },
   "source": [
    "### Get representation of the distribution of data using histogram\n",
    "- use hist() method"
   ]
  },
  {
   "cell_type": "code",
   "execution_count": 13,
   "metadata": {
    "colab": {
     "base_uri": "https://localhost:8080/",
     "height": 316
    },
    "id": "qan611HdE9nR",
    "outputId": "c1cb5fae-af14-4277-c312-532b70781444"
   },
   "outputs": [
    {
     "data": {
      "text/plain": [
       "array([[<matplotlib.axes._subplots.AxesSubplot object at 0x7efd6b3433c8>]],\n",
       "      dtype=object)"
      ]
     },
     "execution_count": 13,
     "metadata": {
      "tags": []
     },
     "output_type": "execute_result"
    },
    {
     "data": {
      "image/png": "[encoded data removed]",
      "text/plain": [
       "<Figure size 432x288 with 1 Axes>"
      ]
     },
     "metadata": {
      "needs_background": "light",
      "tags": []
     },
     "output_type": "display_data"
    }
   ],
   "source": [
    "df.hist(bins=10)"
   ]
  },
  {
   "cell_type": "markdown",
   "metadata": {
    "id": "D8VDVRisHAsH"
   },
   "source": [
    "### Check minimum and maximum temperature\n",
    "- use min() and max() methods"
   ]
  },
  {
   "cell_type": "code",
   "execution_count": 14,
   "metadata": {
    "colab": {
     "base_uri": "https://localhost:8080/"
    },
    "id": "xlwlVtRfG_qX",
    "outputId": "a84796ec-cc43-44d0-ce07-17f137d234df"
   },
   "outputs": [
    {
     "name": "stdout",
     "output_type": "stream",
     "text": [
      "Max: Temperature    26.3\n",
      "dtype: float64\n",
      "Min : Temperature    0.0\n",
      "dtype: float64\n"
     ]
    },
    {
     "data": {
      "text/plain": [
       "(None, None)"
      ]
     },
     "execution_count": 14,
     "metadata": {
      "tags": []
     },
     "output_type": "execute_result"
    }
   ],
   "source": [
    "print(\"Max:\",df.max()) , print(\"Min :\",df.min())"
   ]
  },
  {
   "cell_type": "code",
   "execution_count": 14,
   "metadata": {
    "id": "abO5iWWAFFCJ"
   },
   "outputs": [],
   "source": []
  },
  {
   "cell_type": "markdown",
   "metadata": {
    "id": "qTjD3zhSI_BD"
   },
   "source": [
    "## Question 4"
   ]
  },
  {
   "cell_type": "markdown",
   "metadata": {
    "id": "QSDmmRxBMOO7"
   },
   "source": [
    "### Split the dataset into training and testing\n",
    "- training data: 75%\n",
    "- testing data: 25%"
   ]
  },
  {
   "cell_type": "code",
   "execution_count": 15,
   "metadata": {
    "colab": {
     "base_uri": "https://localhost:8080/"
    },
    "id": "vYlwALHrRGcX",
    "outputId": "8901e7c4-9e31-49ca-ff8a-f3867c08ef12"
   },
   "outputs": [
    {
     "name": "stdout",
     "output_type": "stream",
     "text": [
      "train: 2737\n",
      "test: 913\n"
     ]
    }
   ],
   "source": [
    "train = df[:int(len(df) * 0.75)]\n",
    "test = df[int(len(df) * 0.75):len(df)]\n",
    "\n",
    "print('train: {}\\ntest: {}'.format(len(train), len(test)))\n"
   ]
  },
  {
   "cell_type": "markdown",
   "metadata": {
    "id": "eEgBn5JkKwrZ"
   },
   "source": [
    "### Normalize the data\n",
    "- normalize temperature values using MinMaxScaler\n",
    "- feature_range: 0-1\n",
    "- fit MinMaxScaler on train data and transform it\n",
    "  - use fit_transform() method\n",
    "- transform test data using MinMaxScaler object\n",
    "  - use transform() method"
   ]
  },
  {
   "cell_type": "code",
   "execution_count": 16,
   "metadata": {
    "id": "OqDcm7tbI19Z"
   },
   "outputs": [],
   "source": [
    "from sklearn.preprocessing import MinMaxScaler\n",
    "\n",
    "scaler = MinMaxScaler(feature_range=(0, 1))\n",
    "train_scaled = scaler.fit_transform(train)\n",
    "test_scaled = scaler.transform(test)"
   ]
  },
  {
   "cell_type": "markdown",
   "metadata": {
    "id": "4HjbO8gRQ3M1"
   },
   "source": [
    "### Print scaled train and test data\n",
    "- print only first 5 values"
   ]
  },
  {
   "cell_type": "code",
   "execution_count": 17,
   "metadata": {
    "colab": {
     "base_uri": "https://localhost:8080/"
    },
    "id": "U_WDZwKxRBRx",
    "outputId": "4ee06b0d-61a0-424c-9b38-6bb7db1cb07d"
   },
   "outputs": [
    {
     "data": {
      "text/plain": [
       "array([[0.78707224],\n",
       "       [0.68060837],\n",
       "       [0.7148289 ],\n",
       "       [0.55513308],\n",
       "       [0.60076046]])"
      ]
     },
     "execution_count": 17,
     "metadata": {
      "tags": []
     },
     "output_type": "execute_result"
    }
   ],
   "source": [
    "train_scaled[0:5]"
   ]
  },
  {
   "cell_type": "code",
   "execution_count": 18,
   "metadata": {
    "colab": {
     "base_uri": "https://localhost:8080/"
    },
    "id": "sf_NVqQeFNGj",
    "outputId": "7929808d-8a75-4e4a-afba-37aa76e5c1c2"
   },
   "outputs": [
    {
     "data": {
      "text/plain": [
       "array([[0.22813688],\n",
       "       [0.22053232],\n",
       "       [0.18631179],\n",
       "       [0.19011407],\n",
       "       [0.31939163]])"
      ]
     },
     "execution_count": 18,
     "metadata": {
      "tags": []
     },
     "output_type": "execute_result"
    }
   ],
   "source": [
    "test_scaled[0:5]"
   ]
  },
  {
   "cell_type": "markdown",
   "metadata": {
    "id": "JB5lHp94RQWY"
   },
   "source": [
    "## Question 5"
   ]
  },
  {
   "cell_type": "markdown",
   "metadata": {
    "id": "kVqNUf00RSiv"
   },
   "source": [
    "### Create sequential data\n",
    "Map the temperature at a particular day 'd' to the temperature at day t\n",
    "'d+n', where n is any number you define.\n",
    "\n",
    "For example: to map temperatures of consecutive days, use d+1, i.e. lookback = 1\n",
    "- Below function takes data as input and returns sequential data.\n",
    "- X as features and y as labels"
   ]
  },
  {
   "cell_type": "code",
   "execution_count": 19,
   "metadata": {
    "id": "AtxhXruAWws-"
   },
   "outputs": [],
   "source": [
    "import numpy as np\n",
    "def create_seq_data(data, lookback=1):\n",
    "  X, y = list(), list()\n",
    "  \n",
    "  for day in range((len(data)-lookback)):\n",
    "    X.append(data[day: day+lookback, 0])\n",
    "    y.append(data[day+lookback, 0])\n",
    "  return np.array(X), np.array(y)"
   ]
  },
  {
   "cell_type": "markdown",
   "metadata": {
    "id": "VMBJpuDQJzcG"
   },
   "source": [
    "### Use the above function to create train and test sets\n",
    "- Get X_train and y_train\n",
    "- Get X_test and y_test\n",
    "- lookback = 1"
   ]
  },
  {
   "cell_type": "code",
   "execution_count": 20,
   "metadata": {
    "id": "Uq6GGmJ0Zqem"
   },
   "outputs": [],
   "source": [
    "look_back = 1\n",
    "X_train, y_train = create_seq_data(train_scaled, look_back)\n",
    "X_test, y_test = create_seq_data(test_scaled, look_back)"
   ]
  },
  {
   "cell_type": "markdown",
   "metadata": {
    "id": "-E2iixEfK0Px"
   },
   "source": [
    "### Reshape the data\n",
    "- Reshape X_train and X_test\n",
    "- use np.reshape() method\n",
    "- this is to be done to make the data ready for input in model"
   ]
  },
  {
   "cell_type": "code",
   "execution_count": 21,
   "metadata": {
    "id": "X3qhXEqoZxQ3"
   },
   "outputs": [],
   "source": [
    "X_train = np.reshape(X_train, (X_train.shape[0], X_train.shape[1], 1))\n",
    "X_test = np.reshape(X_test, (X_test.shape[0], X_test.shape[1], 1))\n"
   ]
  },
  {
   "cell_type": "markdown",
   "metadata": {
    "id": "zKZ8SALZcuNB"
   },
   "source": [
    "### Print shape of data\n",
    "- print shape of X_train and X_test"
   ]
  },
  {
   "cell_type": "code",
   "execution_count": 22,
   "metadata": {
    "colab": {
     "base_uri": "https://localhost:8080/"
    },
    "id": "OSg_rbP6c_HI",
    "outputId": "83fa0ef6-2423-4e25-87b8-8adc13c2a59f"
   },
   "outputs": [
    {
     "name": "stdout",
     "output_type": "stream",
     "text": [
      "(2736, 1, 1)\n",
      "(912, 1, 1)\n"
     ]
    }
   ],
   "source": [
    "print(X_train.shape)\n",
    "print(X_test.shape)"
   ]
  },
  {
   "cell_type": "markdown",
   "metadata": {
    "id": "emGjaYZ5dfRq"
   },
   "source": [
    "## Question 6"
   ]
  },
  {
   "cell_type": "markdown",
   "metadata": {
    "id": "7fk2Ze24dsXw"
   },
   "source": [
    "### Define sequential model\n",
    "- initialize a Sequential model\n",
    "- add an LSTM layer\n",
    "  - units: 10\n",
    "  - stateful: True\n",
    "  - pass a `batch_input_shape` argument to your layer\n",
    "  - batch_input_shape: (batch_size, look_back, 1)\n",
    "    - batch_size: 1\n",
    "    - look_back: 1\n",
    "- add Dense layer with 1 neuron"
   ]
  },
  {
   "cell_type": "code",
   "execution_count": 23,
   "metadata": {
    "id": "eXU6UNt4dhJz"
   },
   "outputs": [],
   "source": [
    "from keras.models import Sequential\n",
    "from keras.layers import GRU, Dense\n",
    "from keras.layers import LSTM\n",
    "from keras  import callbacks\n",
    "from keras import optimizers\n",
    "import pandas as pd \n",
    "import tensorflow as tf\n",
    "\n",
    "batch_size = 1\n",
    "model = Sequential()\n",
    "model.add(LSTM(10, batch_input_shape=(batch_size, look_back, 1), stateful=True))\n",
    "model.add(Dense(1))\n"
   ]
  },
  {
   "cell_type": "markdown",
   "metadata": {
    "id": "cLymvPFzEQSp"
   },
   "source": [
    "## Question 7"
   ]
  },
  {
   "cell_type": "markdown",
   "metadata": {
    "id": "AZmlvbcMrCTh"
   },
   "source": [
    "### compile your model\n",
    "- loss: mean_squared_error\n",
    "- optimizer: adam"
   ]
  },
  {
   "cell_type": "code",
   "execution_count": 24,
   "metadata": {
    "id": "TrcHrSdtg62Q"
   },
   "outputs": [],
   "source": [
    "model.compile(loss='mean_squared_error', optimizer='adam')\n"
   ]
  },
  {
   "cell_type": "markdown",
   "metadata": {
    "id": "WWAoHdFurJN5"
   },
   "source": [
    "### summarize your model\n",
    "- use summary() method"
   ]
  },
  {
   "cell_type": "code",
   "execution_count": 25,
   "metadata": {
    "colab": {
     "base_uri": "https://localhost:8080/"
    },
    "id": "cqTsmQSJGOlk",
    "outputId": "5c93f7d8-80b4-49c0-a852-6726e4694c75"
   },
   "outputs": [
    {
     "name": "stdout",
     "output_type": "stream",
     "text": [
      "Model: \"sequential\"\n",
      "_________________________________________________________________\n",
      "Layer (type)                 Output Shape              Param #   \n",
      "=================================================================\n",
      "lstm (LSTM)                  (1, 10)                   480       \n",
      "_________________________________________________________________\n",
      "dense (Dense)                (1, 1)                    11        \n",
      "=================================================================\n",
      "Total params: 491\n",
      "Trainable params: 491\n",
      "Non-trainable params: 0\n",
      "_________________________________________________________________\n"
     ]
    }
   ],
   "source": [
    "model.summary()"
   ]
  },
  {
   "cell_type": "markdown",
   "metadata": {
    "id": "dq5a3i6uEcJI"
   },
   "source": [
    "## Question 8"
   ]
  },
  {
   "cell_type": "markdown",
   "metadata": {
    "id": "0Ca3CFhOrf83"
   },
   "source": [
    "### fit your model\n",
    "- epochs: 50\n",
    "- batch_size: 1"
   ]
  },
  {
   "cell_type": "code",
   "execution_count": 26,
   "metadata": {
    "colab": {
     "base_uri": "https://localhost:8080/"
    },
    "id": "BbuB-XGPhH6h",
    "outputId": "93a2a623-12b8-4f07-8154-5ad066e57b45"
   },
   "outputs": [
    {
     "name": "stdout",
     "output_type": "stream",
     "text": [
      "Epoch 1/50\n",
      "2736/2736 - 3s - loss: 0.0160\n",
      "Epoch 2/50\n",
      "2736/2736 - 3s - loss: 0.0102\n",
      "Epoch 3/50\n",
      "2736/2736 - 3s - loss: 0.0102\n",
      "Epoch 4/50\n",
      "2736/2736 - 3s - loss: 0.0101\n",
      "Epoch 5/50\n",
      "2736/2736 - 3s - loss: 0.0101\n",
      "Epoch 6/50\n",
      "2736/2736 - 3s - loss: 0.0101\n",
      "Epoch 7/50\n",
      "2736/2736 - 3s - loss: 0.0101\n",
      "Epoch 8/50\n",
      "2736/2736 - 3s - loss: 0.0100\n",
      "Epoch 9/50\n",
      "2736/2736 - 3s - loss: 0.0100\n",
      "Epoch 10/50\n",
      "2736/2736 - 3s - loss: 0.0101\n",
      "Epoch 11/50\n",
      "2736/2736 - 3s - loss: 0.0100\n",
      "Epoch 12/50\n",
      "2736/2736 - 3s - loss: 0.0100\n",
      "Epoch 13/50\n",
      "2736/2736 - 3s - loss: 0.0101\n",
      "Epoch 14/50\n",
      "2736/2736 - 4s - loss: 0.0101\n",
      "Epoch 15/50\n",
      "2736/2736 - 4s - loss: 0.0100\n",
      "Epoch 16/50\n",
      "2736/2736 - 4s - loss: 0.0100\n",
      "Epoch 17/50\n",
      "2736/2736 - 3s - loss: 0.0100\n",
      "Epoch 18/50\n",
      "2736/2736 - 3s - loss: 0.0101\n",
      "Epoch 19/50\n",
      "2736/2736 - 3s - loss: 0.0100\n",
      "Epoch 20/50\n",
      "2736/2736 - 3s - loss: 0.0100\n",
      "Epoch 21/50\n",
      "2736/2736 - 3s - loss: 0.0100\n",
      "Epoch 22/50\n",
      "2736/2736 - 3s - loss: 0.0100\n",
      "Epoch 23/50\n",
      "2736/2736 - 3s - loss: 0.0100\n",
      "Epoch 24/50\n",
      "2736/2736 - 3s - loss: 0.0101\n",
      "Epoch 25/50\n",
      "2736/2736 - 3s - loss: 0.0099\n",
      "Epoch 26/50\n",
      "2736/2736 - 3s - loss: 0.0101\n",
      "Epoch 27/50\n",
      "2736/2736 - 3s - loss: 0.0100\n",
      "Epoch 28/50\n",
      "2736/2736 - 3s - loss: 0.0100\n",
      "Epoch 29/50\n",
      "2736/2736 - 3s - loss: 0.0100\n",
      "Epoch 30/50\n",
      "2736/2736 - 3s - loss: 0.0101\n",
      "Epoch 31/50\n",
      "2736/2736 - 3s - loss: 0.0099\n",
      "Epoch 32/50\n",
      "2736/2736 - 3s - loss: 0.0100\n",
      "Epoch 33/50\n",
      "2736/2736 - 3s - loss: 0.0101\n",
      "Epoch 34/50\n",
      "2736/2736 - 3s - loss: 0.0100\n",
      "Epoch 35/50\n",
      "2736/2736 - 3s - loss: 0.0100\n",
      "Epoch 36/50\n",
      "2736/2736 - 3s - loss: 0.0100\n",
      "Epoch 37/50\n",
      "2736/2736 - 3s - loss: 0.0100\n",
      "Epoch 38/50\n",
      "2736/2736 - 3s - loss: 0.0100\n",
      "Epoch 39/50\n",
      "2736/2736 - 3s - loss: 0.0100\n",
      "Epoch 40/50\n",
      "2736/2736 - 3s - loss: 0.0100\n",
      "Epoch 41/50\n",
      "2736/2736 - 3s - loss: 0.0099\n",
      "Epoch 42/50\n",
      "2736/2736 - 3s - loss: 0.0100\n",
      "Epoch 43/50\n",
      "2736/2736 - 3s - loss: 0.0099\n",
      "Epoch 44/50\n",
      "2736/2736 - 3s - loss: 0.0099\n",
      "Epoch 45/50\n",
      "2736/2736 - 3s - loss: 0.0100\n",
      "Epoch 46/50\n",
      "2736/2736 - 3s - loss: 0.0099\n",
      "Epoch 47/50\n",
      "2736/2736 - 3s - loss: 0.0099\n",
      "Epoch 48/50\n",
      "2736/2736 - 3s - loss: 0.0099\n",
      "Epoch 49/50\n",
      "2736/2736 - 3s - loss: 0.0099\n",
      "Epoch 50/50\n",
      "2736/2736 - 3s - loss: 0.0100\n"
     ]
    },
    {
     "data": {
      "text/plain": [
       "<tensorflow.python.keras.callbacks.History at 0x7efd299e17b8>"
      ]
     },
     "execution_count": 26,
     "metadata": {
      "tags": []
     },
     "output_type": "execute_result"
    }
   ],
   "source": [
    "model.fit(X_train, y_train, epochs=50, batch_size=batch_size, verbose=2, shuffle=True)"
   ]
  },
  {
   "cell_type": "markdown",
   "metadata": {
    "id": "hqRlEmbjEqyG"
   },
   "source": [
    "## Question 9"
   ]
  },
  {
   "cell_type": "markdown",
   "metadata": {
    "id": "12IhOtvUHJBF"
   },
   "source": [
    "### make predictions on train data\n",
    "- use predict() method\n",
    "  - batch_size: 1\n",
    "- store predictions in a variable"
   ]
  },
  {
   "cell_type": "code",
   "execution_count": 27,
   "metadata": {
    "id": "iXWuJikQHURm"
   },
   "outputs": [],
   "source": [
    "import math\n",
    "from sklearn.metrics import mean_squared_error\n",
    "\n",
    "trainPredict = model.predict(X_train, batch_size=batch_size)\n"
   ]
  },
  {
   "cell_type": "markdown",
   "metadata": {
    "id": "XxxWOa-PsieH"
   },
   "source": [
    "### reset model state\n",
    "- if you are using stateful=True in your model then you should call reset_states every time, when you want to make consecutive model calls independent.\n",
    "- use reset_states() method"
   ]
  },
  {
   "cell_type": "code",
   "execution_count": 28,
   "metadata": {
    "id": "ZdV5_F1Eo8SY"
   },
   "outputs": [],
   "source": [
    "model.reset_states()\n",
    "\n"
   ]
  },
  {
   "cell_type": "markdown",
   "metadata": {
    "id": "KAhziPVBJD0u"
   },
   "source": [
    "### make predictions on test data\n",
    "- use predict() method\n",
    "  - batch_size: 1\n",
    "- store predictions in a variable"
   ]
  },
  {
   "cell_type": "code",
   "execution_count": 29,
   "metadata": {
    "id": "HuHopEXNJU_y"
   },
   "outputs": [],
   "source": [
    "testPredict = model.predict(X_test, batch_size=batch_size)\n"
   ]
  },
  {
   "cell_type": "markdown",
   "metadata": {
    "id": "pO81E-fsJruD"
   },
   "source": [
    "## Question 10"
   ]
  },
  {
   "cell_type": "markdown",
   "metadata": {
    "id": "RImBG7sCtnlb"
   },
   "source": [
    "### Inverse train predictions and true labels\n",
    "- use your MinMaxSclarer object\n",
    "- use inverse_transform() method"
   ]
  },
  {
   "cell_type": "code",
   "execution_count": 30,
   "metadata": {
    "id": "xXfce41cqN-h"
   },
   "outputs": [],
   "source": [
    "# invert predictions\n",
    "trainPredict = scaler.inverse_transform(trainPredict)\n",
    "y_train = scaler.inverse_transform([y_train])\n"
   ]
  },
  {
   "cell_type": "markdown",
   "metadata": {
    "id": "5fWSzk8cuPbp"
   },
   "source": [
    "### Inverse test predictions and true labels\n",
    "- use your MinMaxSclarer object\n",
    "- use inverse_transform() method"
   ]
  },
  {
   "cell_type": "code",
   "execution_count": 31,
   "metadata": {
    "id": "nVJ1wMupuPbu"
   },
   "outputs": [],
   "source": [
    "testPredict = scaler.inverse_transform(testPredict)\n",
    "y_test = scaler.inverse_transform([y_test])\n"
   ]
  },
  {
   "cell_type": "markdown",
   "metadata": {
    "id": "VtowvAItJv6c"
   },
   "source": [
    "### Evaluate train predictions\n",
    "- calculate RMSE\n",
    "- RMSE = sqrt(mean_squared_error(true_labels, predicted_labels))\n",
    "- use sqrt() and mean_squared_error() method\n",
    "- print training RMSE"
   ]
  },
  {
   "cell_type": "code",
   "execution_count": 32,
   "metadata": {
    "colab": {
     "base_uri": "https://localhost:8080/"
    },
    "id": "GjXbis_bJ9GL",
    "outputId": "eea8929b-8d14-444e-d9b5-22ebc903f718"
   },
   "outputs": [
    {
     "name": "stdout",
     "output_type": "stream",
     "text": [
      "Train Score: 2.60 RMSE\n"
     ]
    }
   ],
   "source": [
    "# calculate root mean squared error\n",
    "trainScore = math.sqrt(mean_squared_error(y_train[0], trainPredict[:,0]))\n",
    "print('Train Score: %.2f RMSE' % (trainScore))\n"
   ]
  },
  {
   "cell_type": "markdown",
   "metadata": {
    "id": "DBOfSPRDvERE"
   },
   "source": [
    "### Evaluate test predictions\n",
    "- calculate RMSE\n",
    "- RMSE = sqrt(mean_squared_error(true_labels, predicted_labels))\n",
    "- use sqrt() and mean_squared_error() method\n",
    "- print testing RMSE"
   ]
  },
  {
   "cell_type": "code",
   "execution_count": 33,
   "metadata": {
    "colab": {
     "base_uri": "https://localhost:8080/"
    },
    "id": "8rQOereovERJ",
    "outputId": "d1ba141d-afa6-44e2-cd82-0607c9192eaa"
   },
   "outputs": [
    {
     "name": "stdout",
     "output_type": "stream",
     "text": [
      "Test Score: 2.52 RMSE\n"
     ]
    }
   ],
   "source": [
    "testScore = math.sqrt(mean_squared_error(y_test[0], testPredict[:,0]))\n",
    "print('Test Score: %.2f RMSE' % (testScore))"
   ]
  },
  {
   "cell_type": "code",
   "execution_count": 33,
   "metadata": {
    "id": "8DhUsMnvvERT"
   },
   "outputs": [],
   "source": []
  },
  {
   "cell_type": "code",
   "execution_count": 33,
   "metadata": {
    "id": "PAnzxOyoy5Bj"
   },
   "outputs": [],
   "source": []
  }
 ],
 "metadata": {
  "colab": {
   "collapsed_sections": [],
   "name": "Questions - Lab on Sequence Model NLP.ipynb",
   "provenance": []
  },
  "kernelspec": {
   "display_name": "Python 3",
   "language": "python",
   "name": "python3"
  },
  "language_info": {
   "codemirror_mode": {
    "name": "ipython",
    "version": 3
   },
   "file_extension": ".py",
   "mimetype": "text/x-python",
   "name": "python",
   "nbconvert_exporter": "python",
   "pygments_lexer": "ipython3",
   "version": "3.7.6"
  }
 },
 "nbformat": 4,
 "nbformat_minor": 1
}
