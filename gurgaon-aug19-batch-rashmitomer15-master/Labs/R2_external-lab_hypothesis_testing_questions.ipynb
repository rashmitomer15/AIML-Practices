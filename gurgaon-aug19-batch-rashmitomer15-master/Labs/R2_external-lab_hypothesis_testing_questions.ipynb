{
 "cells": [
  {
   "cell_type": "markdown",
   "metadata": {
    "colab_type": "text",
    "id": "xx5CxeVubU3W"
   },
   "source": [
    "# Hypothesis Testing"
   ]
  },
  {
   "cell_type": "markdown",
   "metadata": {
    "colab_type": "text",
    "id": "6OR23eWKbU3X"
   },
   "source": [
    "The purpose of the test is to tell if there is any significant difference between two data sets.\n",
    "\n"
   ]
  },
  {
   "cell_type": "markdown",
   "metadata": {
    "colab_type": "text",
    "id": "604OoWnTbU3Z"
   },
   "source": [
    "## Overview"
   ]
  },
  {
   "cell_type": "markdown",
   "metadata": {
    "colab_type": "text",
    "id": "o-il1iBSbU3b"
   },
   "source": [
    "This module covers,\n",
    "\n",
    "1) One sample and Two sample t-tests\n",
    "\n",
    "2) ANOVA\n",
    "\n",
    "3) Type I and Type II errors\n",
    "\n",
    "4) Chi-Squared Tests"
   ]
  },
  {
   "cell_type": "markdown",
   "metadata": {
    "colab_type": "text",
    "id": "G2yYl5cvbU3c"
   },
   "source": [
    "## Question 1 \n",
    "\n",
    "*A student is trying to decide between two GPUs. He want to use the GPU for his research to run Deep learning algorithms, so the only thing he is concerned with is speed.*\n",
    "\n",
    "*He picks a Deep Learning algorithm on a large data set and runs it on both GPUs 15 times, timing each run in hours. Results are given in the below lists GPU1 and GPU2.*"
   ]
  },
  {
   "cell_type": "code",
   "execution_count": 2,
   "metadata": {
    "colab": {},
    "colab_type": "code",
    "id": "ohh5XJ4ZbU3d"
   },
   "outputs": [],
   "source": [
    "from scipy import stats \n",
    "import numpy as np"
   ]
  },
  {
   "cell_type": "code",
   "execution_count": 3,
   "metadata": {
    "colab": {},
    "colab_type": "code",
    "id": "6yGkYI6EbU3i"
   },
   "outputs": [],
   "source": [
    "GPU1 = np.array([11,9,10,11,10,12,9,11,12,9,11,12,9,10,9])\n",
    "GPU2 = np.array([11,13,10,13,12,9,11,12,12,11,12,12,10,11,13])\n",
    "\n",
    "#Assumption: Both the datasets (GPU1 & GPU 2) are random, independent, parametric & normally distributed"
   ]
  },
  {
   "cell_type": "markdown",
   "metadata": {
    "colab_type": "text",
    "id": "L55jqmIXbU3m"
   },
   "source": [
    "Hint: You can import ttest function from scipy to perform t tests "
   ]
  },
  {
   "cell_type": "markdown",
   "metadata": {
    "colab_type": "text",
    "id": "v8fsIhPFbU3n"
   },
   "source": [
    "**First T test**\n",
    "\n",
    "*One sample t-test*\n",
    "\n",
    "Check if the mean of the GPU1 is equal to zero.\n",
    "- Null Hypothesis is that mean is equal to zero.\n",
    "- Alternate hypothesis is that it is not equal to zero."
   ]
  },
  {
   "cell_type": "code",
   "execution_count": 4,
   "metadata": {
    "colab": {},
    "colab_type": "code",
    "id": "wgMSWwApbU3o"
   },
   "outputs": [
    {
     "name": "stdout",
     "output_type": "stream",
     "text": [
      "ho: mean = 0  ; ha: mean != 0 \n",
      "alpha=0.05 \n",
      "t_statistic, p_value\n",
      "34.056241516158195 7.228892044970457e-15\n"
     ]
    }
   ],
   "source": [
    "from scipy.stats             import ttest_1samp\n",
    "import scipy.stats as stats\n",
    "print(\"ho: mean = 0  ; ha: mean != 0 \")\n",
    "print(\"alpha=0.05 \")\n",
    "t_statistic, p_value = ttest_1samp(GPU1, 0)\n",
    "print(\"t_statistic, p_value\")\n",
    "print(t_statistic, p_value)\n"
   ]
  },
  {
   "cell_type": "markdown",
   "metadata": {},
   "source": [
    "## So Since p-value is very less than alpha, we can reject null hypothesis ho. and accept the ha proposed."
   ]
  },
  {
   "cell_type": "markdown",
   "metadata": {
    "colab_type": "text",
    "id": "byu8iw46bU3v"
   },
   "source": [
    "## Question 2"
   ]
  },
  {
   "cell_type": "markdown",
   "metadata": {
    "colab_type": "text",
    "id": "E65pzWcJbU3w"
   },
   "source": [
    "Given,\n",
    "\n",
    "Null Hypothesis : There is no significant difference between data sets\n",
    "\n",
    "Alternate Hypothesis : There is a significant difference\n",
    "\n",
    "*Do two-sample testing and check whether to reject Null Hypothesis or not.*"
   ]
  },
  {
   "cell_type": "markdown",
   "metadata": {
    "colab_type": "text",
    "id": "N-zpWvyXbU32"
   },
   "source": [
    "https://docs.scipy.org/doc/scipy/reference/generated/scipy.stats.ttest_ind.html"
   ]
  },
  {
   "cell_type": "code",
   "execution_count": 7,
   "metadata": {
    "colab": {},
    "colab_type": "code",
    "id": "UDDkuOtObU3x"
   },
   "outputs": [
    {
     "name": "stdout",
     "output_type": "stream",
     "text": [
      "Ho :MuGPU1 - MuGPU2 =0 ; Ha: MuGPU1 - MuGPU2!=0\n",
      "alpha=0.050 and 2 tailed P Value 0.014\n"
     ]
    }
   ],
   "source": [
    "print(\"Ho :MuGPU1 - MuGPU2 =0 ; Ha: MuGPU1 - MuGPU2!=0\")\n",
    "n=15 \n",
    "t_statistic, p_value  =  stats.ttest_ind(GPU1,GPU2)\n",
    "print('alpha=0.050 and 2 tailed P Value %1.3f' % p_value)  "
   ]
  },
  {
   "cell_type": "markdown",
   "metadata": {},
   "source": [
    "Since, p value is 0.014 and it is less than 5% level of significance\n",
    "\n",
    "So the statistical decision is to REJECT the null hypothesis(H0) at 5% level of significance.\n",
    "\n",
    "So there is sufficient evidence to reject the null hypothesis that there is a significant difference between 2 data sets.¶"
   ]
  },
  {
   "cell_type": "markdown",
   "metadata": {
    "colab_type": "text",
    "id": "MbXv5aZvbU33"
   },
   "source": [
    "## Question 3\n",
    "\n",
    "He is trying a third GPU - GPU3."
   ]
  },
  {
   "cell_type": "code",
   "execution_count": 8,
   "metadata": {
    "colab": {},
    "colab_type": "code",
    "id": "kkh_sQl4bU34"
   },
   "outputs": [],
   "source": [
    "GPU3 = np.array([9,10,9,11,10,13,12,9,12,12,13,12,13,10,11])\n",
    "\n",
    "#Assumption: Both the datasets (GPU1 & GPU 3) are random, independent, parametric & normally distributed"
   ]
  },
  {
   "cell_type": "markdown",
   "metadata": {
    "colab_type": "text",
    "id": "WoYNz3g7bU37"
   },
   "source": [
    "*Do two-sample testing and check whether there is significant differene between speeds of two GPUs GPU1 and GPU3.*\n",
    "\n",
    "#### Answer:"
   ]
  },
  {
   "cell_type": "code",
   "execution_count": 11,
   "metadata": {
    "colab": {},
    "colab_type": "code",
    "id": "X4N11XArbU38"
   },
   "outputs": [
    {
     "name": "stdout",
     "output_type": "stream",
     "text": [
      "Ho : muGPU1 - muGPU3 =0 ; Ha: muGPU1- muGPU3!=0\n",
      "alpha=0.050 and 2 tailed P Value 0.145\n"
     ]
    }
   ],
   "source": [
    "print(\"Ho : muGPU1 - muGPU3 =0 ; Ha: muGPU1- muGPU3!=0\")\n",
    "n=15 \n",
    "t_statistic, p_value  =  stats.ttest_ind(GPU1,GPU3)\n",
    "print('alpha=0.050 and 2 tailed P Value %1.3f' % p_value)  "
   ]
  },
  {
   "cell_type": "markdown",
   "metadata": {},
   "source": [
    "Since, 2 tailed p value is 0.145(0.0725 each side) and it is MORE than alpha 0.05 i.e. 5% level of significance\n",
    "\n",
    "So, the statistical decision is FAILED TO REJECT the null hypothesis(H0) at 5% level of significance.\n",
    "\n",
    "Thus,there are no sufficient evidence to reject the null hypothesis of having a significant difference between GPU1,3.\n",
    "Means, Alternate hypothesis is uncertain."
   ]
  },
  {
   "cell_type": "markdown",
   "metadata": {
    "colab_type": "text",
    "id": "oyDFS4WZbU4A"
   },
   "source": [
    "## ANOVA"
   ]
  },
  {
   "cell_type": "markdown",
   "metadata": {
    "colab_type": "text",
    "id": "wknPzstFbU4B"
   },
   "source": [
    "## Question 4 \n",
    "\n",
    "If you need to compare more than two data sets at a time, an ANOVA is your best bet. \n",
    "\n",
    "*The results from three experiments with overlapping 95% confidence intervals are given below, and we want to confirm that the results for all three experiments are not significantly different.*\n",
    "\n",
    "But before conducting ANOVA, test equality of variances (using Levene's test) is satisfied or not. If not, then mention that we cannot depend on the result of ANOVA"
   ]
  },
  {
   "cell_type": "code",
   "execution_count": 17,
   "metadata": {
    "colab": {},
    "colab_type": "code",
    "id": "kGb0GeK8bU4C"
   },
   "outputs": [],
   "source": [
    "import numpy as np\n",
    "\n",
    "e1 = np.array([1.595440,1.419730,0.000000,0.000000])\n",
    "e2 = np.array([1.433800,2.079700,0.892139,2.384740])\n",
    "e3 = np.array([0.036930,0.938018,0.995956,1.006970])\n",
    "\n",
    "#Assumption: All the 3 datasets (e1,e2 & e3) are random, independent, parametric & normally distributed"
   ]
  },
  {
   "cell_type": "markdown",
   "metadata": {
    "colab_type": "text",
    "id": "_xiYN6gVbU4G"
   },
   "source": [
    "Perform levene test on the data\n",
    "\n",
    "The Levene test tests the null hypothesis that all input samples are from populations with equal variances. Levene’s test is an alternative to Bartlett’s test bartlett in the case where there are significant deviations from normality.\n",
    "\n",
    "source: scipy.org"
   ]
  },
  {
   "cell_type": "markdown",
   "metadata": {
    "colab_type": "text",
    "id": "f2MlJTXgbU4H"
   },
   "source": [
    "#### Answer:"
   ]
  },
  {
   "cell_type": "code",
   "execution_count": 27,
   "metadata": {
    "colab": {},
    "colab_type": "code",
    "id": "VUJP_GGQbU4R"
   },
   "outputs": [
    {
     "name": "stdout",
     "output_type": "stream",
     "text": [
      "Levene Test's : H0 :var of e1,e2,e3 are same ; Ha: var of e1,e2,e3 are not same. \n",
      "statistic 2.6741725711150446 pvalue: 0.12259792666001798\n"
     ]
    }
   ],
   "source": [
    "import pandas            as pd\n",
    "import numpy             as np\n",
    "import scipy.stats             as     stats\n",
    "\n",
    "print(\"Levene Test's : H0 :var of e1,e2,e3 are same ; Ha: var of e1,e2,e3 are not same. \")\n",
    "from scipy.stats import levene\n",
    "statistic,pvalue=levene(e1,e2,e3)\n",
    "print(\"statistic\" , statistic ,\"pvalue:\",pvalue)\n"
   ]
  },
  {
   "cell_type": "code",
   "execution_count": 28,
   "metadata": {},
   "outputs": [
    {
     "name": "stdout",
     "output_type": "stream",
     "text": [
      "Orignal 𝐻0 : 𝜇e1 = 𝜇e2 = 𝜇e3 ; 𝐻𝐴: At least one 𝜇 differs\n"
     ]
    }
   ],
   "source": [
    "print(\"Orignal 𝐻0 : 𝜇e1 = 𝜇e2 = 𝜇e3 ; 𝐻𝐴: At least one 𝜇 differs\")"
   ]
  },
  {
   "cell_type": "markdown",
   "metadata": {},
   "source": [
    "Since Levene test results in pvalue(0.12259) >5% significance level, hence, the variance among 3 experiments, is very high. So we can perform anova test on this (since anove assumes the var of all is same.)"
   ]
  },
  {
   "cell_type": "markdown",
   "metadata": {},
   "source": [
    "Hence, first doing EDT to ensure is 3 means are same Or at least 1 mean differs,"
   ]
  },
  {
   "cell_type": "code",
   "execution_count": 38,
   "metadata": {},
   "outputs": [
    {
     "name": "stdout",
     "output_type": "stream",
     "text": [
      "Count, Mean and standard deviation of mean e1:   4, 0.75 and 0.87\n",
      "Count, Mean and standard deviation of mean e2:   4, 1.70 and 0.67\n",
      "Count, Mean and standard deviation of mean e3:   4, 0.74 and 0.47\n"
     ]
    },
    {
     "data": {
      "image/png": "[encoded data removed]",
      "text/plain": [
       "<Figure size 432x288 with 1 Axes>"
      ]
     },
     "metadata": {
      "needs_background": "light"
     },
     "output_type": "display_data"
    }
   ],
   "source": [
    "import matplotlib.pyplot as plt\n",
    "import seaborn           as sns\n",
    "print('Count, Mean and standard deviation of mean e1: %3d, %3.2f and %3.2f' % (len(e1), e1.mean(),np.std(e1 ,ddof =1)))\n",
    "print('Count, Mean and standard deviation of mean e2: %3d, %3.2f and %3.2f' % (len(e2), e2.mean(),np.std(e2,ddof =1)))\n",
    "print('Count, Mean and standard deviation of mean e3: %3d, %3.2f and %3.2f' % (len(e3), e3.mean(),np.std(e3,ddof =1)))\n",
    "\n",
    "experiment_df = pd.DataFrame()\n",
    "\n",
    "df1            = pd.DataFrame({'Exp_No': '1', 'Exp':e1})\n",
    "df2            = pd.DataFrame({'Exp_No': '2', 'Exp':e2})\n",
    "df3            = pd.DataFrame({'Exp_No': '3', 'Exp':e3})\n",
    "\n",
    "experiment_df = experiment_df.append(df1) \n",
    "experiment_df = experiment_df.append(df2) \n",
    "experiment_df = experiment_df.append(df3) \n",
    "\n",
    "sns.boxplot(x = \"Exp_No\", y = \"Exp\", data = experiment_df)\n",
    "plt.title('Mean experiment value for each experiment number')\n",
    "plt.show()"
   ]
  },
  {
   "cell_type": "code",
   "execution_count": 37,
   "metadata": {},
   "outputs": [
    {
     "data": {
      "text/plain": [
       "<seaborn.axisgrid.PairGrid at 0x205ff9a87f0>"
      ]
     },
     "execution_count": 37,
     "metadata": {},
     "output_type": "execute_result"
    },
    {
     "data": {
      "image/png": "[encoded data removed]",
      "text/plain": [
       "<Figure size 404.875x360 with 6 Axes>"
      ]
     },
     "metadata": {
      "needs_background": "light"
     },
     "output_type": "display_data"
    }
   ],
   "source": [
    "sns.pairplot(experiment_df,diag_kind='kde',hue='Exp_No')"
   ]
  },
  {
   "cell_type": "code",
   "execution_count": null,
   "metadata": {},
   "outputs": [],
   "source": [
    "Hence, we can see that the Experiments have overlapping shapes.\n",
    "\n",
    "Finally, using Anova to conclude the result."
   ]
  },
  {
   "cell_type": "code",
   "execution_count": 49,
   "metadata": {},
   "outputs": [
    {
     "name": "stdout",
     "output_type": "stream",
     "text": [
      "            sum_sq   df         F    PR(>F)\n",
      "Exp_No    2.399066  2.0  2.513576  0.135746\n",
      "Residual  4.294994  9.0       NaN       NaN\n"
     ]
    }
   ],
   "source": [
    "import statsmodels.api         as     sm\n",
    "from   statsmodels.formula.api import ols\n",
    " \n",
    "mod = ols('Exp ~ Exp_No', data = experiment_df).fit()\n",
    "aov_table = sm.stats.anova_lm(mod, typ=2)\n",
    "print(aov_table)"
   ]
  },
  {
   "cell_type": "markdown",
   "metadata": {},
   "source": [
    "Here, calculated value of P ( =0.135746) is Greater than Alpha value ( = 0.05)\n",
    "\n",
    "So the statistical decision is FAIL to REJECT the null hypothesis at 5% level of significance.\n",
    "Hence, we have failed to reject the statment saying mean of 3 experiments are same or similar.\n",
    " "
   ]
  },
  {
   "cell_type": "markdown",
   "metadata": {
    "colab_type": "text",
    "id": "FigxGCQtbU4Y"
   },
   "source": [
    "## Question 5\n",
    "\n",
    "The one-way ANOVA tests the null hypothesis that two or more groups have the same population mean. The test is applied to samples from two or more groups, possibly with differing sizes.\n",
    "\n",
    "use stats.f_oneway() module to perform one-way ANOVA test"
   ]
  },
  {
   "cell_type": "code",
   "execution_count": 57,
   "metadata": {
    "colab": {},
    "colab_type": "code",
    "id": "P3bPYPCbbU4Z"
   },
   "outputs": [
    {
     "name": "stdout",
     "output_type": "stream",
     "text": [
      "statistic: 2.51357622845924 & pvalue : 0.13574644501798466\n"
     ]
    }
   ],
   "source": [
    "statistic, pvalue = stats.f_oneway(e1, e2,e3)\n",
    "print (\"statistic:\",statistic,\"& pvalue :\", pvalue)"
   ]
  },
  {
   "cell_type": "markdown",
   "metadata": {},
   "source": [
    "p value > alpha (0.05) => fail to Reject h0 i.e means are same of similar for 3 experiments."
   ]
  },
  {
   "cell_type": "markdown",
   "metadata": {
    "colab_type": "text",
    "id": "yrMK1qb7bU4j"
   },
   "source": [
    "## Question 6\n",
    "\n",
    "*In one or two sentences explain about **TypeI** and **TypeII** errors.*\n",
    "\n",
    "#### Answer:"
   ]
  },
  {
   "cell_type": "markdown",
   "metadata": {
    "colab_type": "text",
    "id": "H08OGwdIbU4k"
   },
   "source": [
    "Type I  Error:\n",
    "When the decision is Reject H0 but Actually H0 was true.This error is called Type 1 error and is denoted by Alpha.\n",
    "\n",
    "Type II Error:\n",
    "When the decision is Donot Reject H0 but Actually H0 was False.This error is called Type II error and is denoted by Beta.\n",
    "\n",
    "Both Of above errors cannot happen at same time.We need to decide in and env, with type 1,2 error controlled values. \n",
    "E.g.Considerring below as our hypothesis, For a judgement made by justice, if decision proves a person guilty when actually he was innocent, this is type 1 error. \n",
    "However if, we release a guilty person, failng to proof enough evidence, is type 2 error.\n",
    " \n",
    "Ho: person is innocent\n",
    "HA: Person is guilty.\n",
    "We focus on reducing this kind of error more than type2.\n"
   ]
  },
  {
   "cell_type": "markdown",
   "metadata": {
    "colab_type": "text",
    "id": "hm7v3pcIbU4m"
   },
   "source": [
    "## Question 7 \n",
    "\n",
    "You are a manager of a chinese restaurant. You want to determine whether the waiting time to place an order has changed in the past month from its previous population mean value of 4.5 minutes. \n",
    "State the null and alternative hypothesis.\n",
    "\n",
    "#### Answer:\n"
   ]
  },
  {
   "cell_type": "markdown",
   "metadata": {
    "colab_type": "text",
    "id": "pbbaU2I4bU4n"
   },
   "source": [
    "#answer here\n",
    "\n",
    "H0 : Mean of Population = 4.5 min\n",
    "\n",
    "Ha: Mean of Population !=4.5 min i.e. mean has either increased or decreased from 4.5 minutes."
   ]
  },
  {
   "cell_type": "markdown",
   "metadata": {
    "colab_type": "text",
    "id": "1SGpq-dKbU4r"
   },
   "source": [
    "## Chi square test"
   ]
  },
  {
   "cell_type": "markdown",
   "metadata": {
    "colab_type": "text",
    "id": "WlxmIu_rdgpc"
   },
   "source": [
    "## Question 8"
   ]
  },
  {
   "cell_type": "markdown",
   "metadata": {
    "colab_type": "text",
    "id": "8J3V015PbU4s"
   },
   "source": [
    "Let's create a small dataset for dice rolls of four players"
   ]
  },
  {
   "cell_type": "code",
   "execution_count": 2,
   "metadata": {
    "colab": {},
    "colab_type": "code",
    "id": "xrO5BbIEbU4t"
   },
   "outputs": [],
   "source": [
    "import numpy as np\n",
    "\n",
    "d1 = [5, 8, 3, 8]\n",
    "d2 = [9, 6, 8, 5]\n",
    "d3 = [8, 12, 7, 2]\n",
    "d4 = [4, 16, 7, 3]\n",
    "d5 = [3, 9, 6, 5]\n",
    "d6 = [7, 2, 5, 7]\n",
    "\n",
    "dice = np.array([d1, d2, d3, d4, d5, d6])"
   ]
  },
  {
   "cell_type": "markdown",
   "metadata": {
    "colab_type": "text",
    "id": "uF7GRMChbU4x"
   },
   "source": [
    "run the test using SciPy Stats library\n",
    "\n",
    "Depending on the test, we are generally looking for a threshold at either 0.05 or 0.01. Our test is significant (i.e. we reject the null hypothesis) if we get a p-value below our threshold.\n",
    "\n",
    "For our purposes, we’ll use 0.01 as the threshold.\n",
    "\n",
    "use stats.chi2_contingency() module \n",
    "\n",
    "This function computes the chi-square statistic and p-value for the hypothesis test of independence of the observed frequencies in the contingency table\n",
    "\n",
    "Print the following:\n",
    "\n",
    "- chi2 stat\n",
    "- p-value\n",
    "- degree of freedom\n",
    "- contingency\n",
    "\n"
   ]
  },
  {
   "cell_type": "code",
   "execution_count": 8,
   "metadata": {
    "colab": {},
    "colab_type": "code",
    "id": "vqaTIKmgbU4y"
   },
   "outputs": [
    {
     "name": "stdout",
     "output_type": "stream",
     "text": [
      "At 0.01% Threshold value:\n",
      "chi2 stat = 23.315671914716496\n",
      "p-value= 0.07766367301496693\n",
      "degree of freedom= 15\n",
      "contingency= [[ 5.57419355  8.20645161  5.57419355  4.64516129]\n",
      " [ 6.50322581  9.57419355  6.50322581  5.41935484]\n",
      " [ 6.73548387  9.91612903  6.73548387  5.61290323]\n",
      " [ 6.96774194 10.25806452  6.96774194  5.80645161]\n",
      " [ 5.34193548  7.86451613  5.34193548  4.4516129 ]\n",
      " [ 4.87741935  7.18064516  4.87741935  4.06451613]]\n",
      "here p value > threshold 0.01 thus decision is failed to reject null hypothesis\n"
     ]
    }
   ],
   "source": [
    "import scipy.stats as stats\n",
    "import scipy\n",
    "\n",
    "chi2, p, dof, ex = stats.chi2_contingency(dice, correction=True)\n",
    "\n",
    "print('At 0.01% Threshold value:')\n",
    "\n",
    "print(\"chi2 stat =\",chi2)\n",
    "print(\"p-value=\",p)\n",
    "print(\"degree of freedom=\",dof)\n",
    "print(\"contingency=\",ex)\n",
    "\n",
    "print(\"here p value > threshold 0.01 thus decision is failed to reject null hypothesis\")"
   ]
  },
  {
   "cell_type": "markdown",
   "metadata": {
    "colab_type": "text",
    "id": "VzyfaNoabU42"
   },
   "source": [
    "## Question 9\n",
    "\n",
    "### Z-test\n",
    "\n",
    "Get zscore on the above dice data using stats.zscore module from scipy. Convert zscore values to p-value and take mean of the array."
   ]
  },
  {
   "cell_type": "code",
   "execution_count": 16,
   "metadata": {
    "colab": {},
    "colab_type": "code",
    "id": "Sd5xPCuRbU43"
   },
   "outputs": [
    {
     "data": {
      "text/plain": [
       "array([[-0.40824829,  0.81649658, -1.22474487,  0.81649658],\n",
       "       [ 1.09544512, -0.54772256,  0.54772256, -1.09544512],\n",
       "       [ 0.1823492 ,  1.15487828, -0.06078307, -1.27644442],\n",
       "       [-0.59160798,  1.43676223, -0.08451543, -0.76063883],\n",
       "       [-1.1       ,  1.3       ,  0.1       , -0.3       ],\n",
       "       [ 0.7406129 , -1.37542395, -0.10580184,  0.7406129 ]])"
      ]
     },
     "execution_count": 16,
     "metadata": {},
     "output_type": "execute_result"
    }
   ],
   "source": [
    "zscores=stats.zscore(dice, axis=1, ddof=1)\n",
    "zscores"
   ]
  },
  {
   "cell_type": "code",
   "execution_count": 32,
   "metadata": {},
   "outputs": [
    {
     "name": "stdout",
     "output_type": "stream",
     "text": [
      "#one-sided p mean 0.2487469049916935\n",
      "#two-sided p mean  0.497493809983387\n"
     ]
    }
   ],
   "source": [
    "p_values_1sided = scipy.stats.norm.sf(abs(zscores)) \n",
    "print(\"#one-sided p mean\",p_values_1sided.mean())\n",
    "\n",
    "p_values = scipy.stats.norm.sf(abs(zscores))*2\n",
    "print(\"#two-sided p mean \",p_values.mean())"
   ]
  },
  {
   "cell_type": "markdown",
   "metadata": {
    "colab_type": "text",
    "id": "OyoFUxf5bU47"
   },
   "source": [
    "## Question 10\n",
    "\n",
    "A Paired sample t-test compares means from the same group at different times.\n",
    "\n",
    "The basic two sample t-test is designed for testing differences between independent groups. \n",
    "In some cases, you might be interested in testing differences between samples of the same group at different points in time. \n",
    "We can conduct a paired t-test using the scipy function stats.ttest_rel(). "
   ]
  },
  {
   "cell_type": "code",
   "execution_count": 19,
   "metadata": {
    "colab": {},
    "colab_type": "code",
    "id": "SwVmQ1gRbU48"
   },
   "outputs": [],
   "source": [
    "before= stats.norm.rvs(scale=30, loc=100, size=500) ## Creates a normal distribution with a mean value of 100 and std of 30\n",
    "after = before + stats.norm.rvs(scale=5, loc=-1.25, size=500)"
   ]
  },
  {
   "cell_type": "markdown",
   "metadata": {
    "colab_type": "text",
    "id": "rB_os5FjbU4_"
   },
   "source": [
    "Test whether a weight-loss drug works by checking the weights of the same group patients before and after treatment using above data."
   ]
  },
  {
   "cell_type": "code",
   "execution_count": 31,
   "metadata": {
    "colab": {},
    "colab_type": "code",
    "id": "Fq2wyEqlbU5A"
   },
   "outputs": [
    {
     "name": "stdout",
     "output_type": "stream",
     "text": [
      "statistic,pvalue\n"
     ]
    },
    {
     "data": {
      "text/plain": [
       "(7.406691857464386, 5.561035058947467e-13)"
      ]
     },
     "execution_count": 31,
     "metadata": {},
     "output_type": "execute_result"
    }
   ],
   "source": [
    "import scipy.stats as stats\n",
    "statistic,pvalue =stats.ttest_rel(before,after)\n",
    "print(\"statistic,pvalue\")\n",
    "statistic, pvalue"
   ]
  },
  {
   "cell_type": "markdown",
   "metadata": {},
   "source": [
    "This p value is 2 tailed and equals 5.561035058947467e-13 , which is very less than 0.05% of significance level.\n",
    "i.e. reject the null hypothesis and thus accept the hA .hence, the weight-loss drug works.\n",
    "\n",
    "Note: hO: mean of group before and after are same. ha: mean of group before and after are not same."
   ]
  },
  {
   "cell_type": "code",
   "execution_count": null,
   "metadata": {},
   "outputs": [],
   "source": []
  }
 ],
 "metadata": {
  "colab": {
   "collapsed_sections": [],
   "name": "R2_external-lab_hypothesis_testing_questions.ipynb",
   "provenance": [],
   "version": "0.3.2"
  },
  "kernelspec": {
   "display_name": "Python 3",
   "language": "python",
   "name": "python3"
  },
  "language_info": {
   "codemirror_mode": {
    "name": "ipython",
    "version": 3
   },
   "file_extension": ".py",
   "mimetype": "text/x-python",
   "name": "python",
   "nbconvert_exporter": "python",
   "pygments_lexer": "ipython3",
   "version": "3.7.3"
  }
 },
 "nbformat": 4,
 "nbformat_minor": 1
}
