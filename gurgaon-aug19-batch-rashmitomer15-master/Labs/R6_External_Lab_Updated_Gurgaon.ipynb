{
 "cells": [
  {
   "cell_type": "markdown",
   "metadata": {
    "colab_type": "text",
    "id": "84Q8JfvaeZZ6"
   },
   "source": [
    "## Linear Classifier in TensorFlow \n",
    "Using Low Level API in Eager Execution mode"
   ]
  },
  {
   "cell_type": "markdown",
   "metadata": {
    "colab_type": "text",
    "id": "sb7Epo0VOB58"
   },
   "source": [
    "### Load tensorflow"
   ]
  },
  {
   "cell_type": "code",
   "execution_count": 1,
   "metadata": {
    "colab": {
     "base_uri": "https://localhost:8080/",
     "height": 35
    },
    "colab_type": "code",
    "id": "fHpCNRv1OB5-",
    "outputId": "766d2b60-314c-4e9a-dda7-4483d64f3c16"
   },
   "outputs": [
    {
     "name": "stdout",
     "output_type": "stream",
     "text": [
      "TensorFlow 2.x selected.\n"
     ]
    }
   ],
   "source": [
    "%tensorflow_version 2.x\n",
    "import tensorflow as tf"
   ]
  },
  {
   "cell_type": "code",
   "execution_count": 2,
   "metadata": {
    "colab": {
     "base_uri": "https://localhost:8080/",
     "height": 35
    },
    "colab_type": "code",
    "id": "KCDy8Bv3KMD2",
    "outputId": "bf2d2f28-e506-4688-8177-af1b8f3b232c"
   },
   "outputs": [
    {
     "name": "stdout",
     "output_type": "stream",
     "text": [
      "2.1.0-rc1\n"
     ]
    }
   ],
   "source": [
    "print(tf.__version__)"
   ]
  },
  {
   "cell_type": "code",
   "execution_count": 0,
   "metadata": {
    "colab": {},
    "colab_type": "code",
    "id": "Mjtb-EMcm5K0"
   },
   "outputs": [],
   "source": [
    "#Enable Eager Execution if using tensflow version < 2.0\n",
    "#From tensorflow v2.0 onwards, Eager Execution will be enabled by default\n"
   ]
  },
  {
   "cell_type": "markdown",
   "metadata": {
    "colab_type": "text",
    "id": "DxJDmJqqOB6K"
   },
   "source": [
    "### Collect Data"
   ]
  },
  {
   "cell_type": "code",
   "execution_count": 3,
   "metadata": {
    "colab": {
     "base_uri": "https://localhost:8080/",
     "height": 35
    },
    "colab_type": "code",
    "id": "FhllFLyKOB6N",
    "outputId": "68b53f26-3e4b-4605-ec81-2838263b948d"
   },
   "outputs": [
    {
     "name": "stdout",
     "output_type": "stream",
     "text": [
      "Drive already mounted at /gdrive; to attempt to forcibly remount, call drive.mount(\"/gdrive\", force_remount=True).\n"
     ]
    }
   ],
   "source": [
    "from google.colab import drive\n",
    "drive.mount('/gdrive')"
   ]
  },
  {
   "cell_type": "code",
   "execution_count": 0,
   "metadata": {
    "colab": {},
    "colab_type": "code",
    "id": "KiObW4V4SIOz"
   },
   "outputs": [],
   "source": [
    "import pandas as pd"
   ]
  },
  {
   "cell_type": "code",
   "execution_count": 0,
   "metadata": {
    "colab": {},
    "colab_type": "code",
    "id": "B4yQKMiJOB6R"
   },
   "outputs": [],
   "source": [
    "data = pd.read_csv('/gdrive/My Drive/ClassNotes/R6_Ext/prices.csv')"
   ]
  },
  {
   "cell_type": "markdown",
   "metadata": {
    "colab_type": "text",
    "id": "fgkX6SEqOB6W"
   },
   "source": [
    "### Check all columns in the dataset"
   ]
  },
  {
   "cell_type": "code",
   "execution_count": 6,
   "metadata": {
    "colab": {
     "base_uri": "https://localhost:8080/",
     "height": 35
    },
    "colab_type": "code",
    "id": "7K8pWsNQOB6X",
    "outputId": "c3ffa967-9410-4524-c2fd-82d0926b773e"
   },
   "outputs": [
    {
     "data": {
      "text/plain": [
       "Index(['date', 'symbol', 'open', 'close', 'low', 'high', 'volume'], dtype='object')"
      ]
     },
     "execution_count": 6,
     "metadata": {
      "tags": []
     },
     "output_type": "execute_result"
    }
   ],
   "source": [
    "data.columns"
   ]
  },
  {
   "cell_type": "code",
   "execution_count": 7,
   "metadata": {
    "colab": {
     "base_uri": "https://localhost:8080/",
     "height": 225
    },
    "colab_type": "code",
    "id": "-nzY3WFYMxcO",
    "outputId": "afa495ac-74a2-4518-d78c-81defb9d041f"
   },
   "outputs": [
    {
     "name": "stdout",
     "output_type": "stream",
     "text": [
      "<class 'pandas.core.frame.DataFrame'>\n",
      "RangeIndex: 851264 entries, 0 to 851263\n",
      "Data columns (total 7 columns):\n",
      "date      851264 non-null object\n",
      "symbol    851264 non-null object\n",
      "open      851264 non-null float64\n",
      "close     851264 non-null float64\n",
      "low       851264 non-null float64\n",
      "high      851264 non-null float64\n",
      "volume    851264 non-null float64\n",
      "dtypes: float64(5), object(2)\n",
      "memory usage: 45.5+ MB\n"
     ]
    }
   ],
   "source": [
    "data.info()   ## date and symbol are Object type rest are numeric"
   ]
  },
  {
   "cell_type": "code",
   "execution_count": 8,
   "metadata": {
    "colab": {
     "base_uri": "https://localhost:8080/",
     "height": 202
    },
    "colab_type": "code",
    "id": "ftXTIle-NBKr",
    "outputId": "61992ede-acbc-4942-99b0-eb4648123b6a"
   },
   "outputs": [
    {
     "data": {
      "text/html": [
       "<div>\n",
       "<style scoped>\n",
       "    .dataframe tbody tr th:only-of-type {\n",
       "        vertical-align: middle;\n",
       "    }\n",
       "\n",
       "    .dataframe tbody tr th {\n",
       "        vertical-align: top;\n",
       "    }\n",
       "\n",
       "    .dataframe thead th {\n",
       "        text-align: right;\n",
       "    }\n",
       "</style>\n",
       "<table border=\"1\" class=\"dataframe\">\n",
       "  <thead>\n",
       "    <tr style=\"text-align: right;\">\n",
       "      <th></th>\n",
       "      <th>date</th>\n",
       "      <th>symbol</th>\n",
       "      <th>open</th>\n",
       "      <th>close</th>\n",
       "      <th>low</th>\n",
       "      <th>high</th>\n",
       "      <th>volume</th>\n",
       "    </tr>\n",
       "  </thead>\n",
       "  <tbody>\n",
       "    <tr>\n",
       "      <th>0</th>\n",
       "      <td>2016-01-05 00:00:00</td>\n",
       "      <td>WLTW</td>\n",
       "      <td>123.430000</td>\n",
       "      <td>125.839996</td>\n",
       "      <td>122.309998</td>\n",
       "      <td>126.250000</td>\n",
       "      <td>2163600.0</td>\n",
       "    </tr>\n",
       "    <tr>\n",
       "      <th>1</th>\n",
       "      <td>2016-01-06 00:00:00</td>\n",
       "      <td>WLTW</td>\n",
       "      <td>125.239998</td>\n",
       "      <td>119.980003</td>\n",
       "      <td>119.940002</td>\n",
       "      <td>125.540001</td>\n",
       "      <td>2386400.0</td>\n",
       "    </tr>\n",
       "    <tr>\n",
       "      <th>2</th>\n",
       "      <td>2016-01-07 00:00:00</td>\n",
       "      <td>WLTW</td>\n",
       "      <td>116.379997</td>\n",
       "      <td>114.949997</td>\n",
       "      <td>114.930000</td>\n",
       "      <td>119.739998</td>\n",
       "      <td>2489500.0</td>\n",
       "    </tr>\n",
       "    <tr>\n",
       "      <th>3</th>\n",
       "      <td>2016-01-08 00:00:00</td>\n",
       "      <td>WLTW</td>\n",
       "      <td>115.480003</td>\n",
       "      <td>116.620003</td>\n",
       "      <td>113.500000</td>\n",
       "      <td>117.440002</td>\n",
       "      <td>2006300.0</td>\n",
       "    </tr>\n",
       "    <tr>\n",
       "      <th>4</th>\n",
       "      <td>2016-01-11 00:00:00</td>\n",
       "      <td>WLTW</td>\n",
       "      <td>117.010002</td>\n",
       "      <td>114.970001</td>\n",
       "      <td>114.089996</td>\n",
       "      <td>117.330002</td>\n",
       "      <td>1408600.0</td>\n",
       "    </tr>\n",
       "  </tbody>\n",
       "</table>\n",
       "</div>"
      ],
      "text/plain": [
       "                  date symbol        open  ...         low        high     volume\n",
       "0  2016-01-05 00:00:00   WLTW  123.430000  ...  122.309998  126.250000  2163600.0\n",
       "1  2016-01-06 00:00:00   WLTW  125.239998  ...  119.940002  125.540001  2386400.0\n",
       "2  2016-01-07 00:00:00   WLTW  116.379997  ...  114.930000  119.739998  2489500.0\n",
       "3  2016-01-08 00:00:00   WLTW  115.480003  ...  113.500000  117.440002  2006300.0\n",
       "4  2016-01-11 00:00:00   WLTW  117.010002  ...  114.089996  117.330002  1408600.0\n",
       "\n",
       "[5 rows x 7 columns]"
      ]
     },
     "execution_count": 8,
     "metadata": {
      "tags": []
     },
     "output_type": "execute_result"
    }
   ],
   "source": [
    "data.head()"
   ]
  },
  {
   "cell_type": "code",
   "execution_count": 9,
   "metadata": {
    "colab": {
     "base_uri": "https://localhost:8080/",
     "height": 294
    },
    "colab_type": "code",
    "id": "eRexhuYrNJAb",
    "outputId": "b238b511-2e7e-4112-99d5-c379190a9818"
   },
   "outputs": [
    {
     "data": {
      "text/html": [
       "<div>\n",
       "<style scoped>\n",
       "    .dataframe tbody tr th:only-of-type {\n",
       "        vertical-align: middle;\n",
       "    }\n",
       "\n",
       "    .dataframe tbody tr th {\n",
       "        vertical-align: top;\n",
       "    }\n",
       "\n",
       "    .dataframe thead th {\n",
       "        text-align: right;\n",
       "    }\n",
       "</style>\n",
       "<table border=\"1\" class=\"dataframe\">\n",
       "  <thead>\n",
       "    <tr style=\"text-align: right;\">\n",
       "      <th></th>\n",
       "      <th>open</th>\n",
       "      <th>close</th>\n",
       "      <th>low</th>\n",
       "      <th>high</th>\n",
       "      <th>volume</th>\n",
       "    </tr>\n",
       "  </thead>\n",
       "  <tbody>\n",
       "    <tr>\n",
       "      <th>count</th>\n",
       "      <td>851264.000000</td>\n",
       "      <td>851264.000000</td>\n",
       "      <td>851264.000000</td>\n",
       "      <td>851264.000000</td>\n",
       "      <td>8.512640e+05</td>\n",
       "    </tr>\n",
       "    <tr>\n",
       "      <th>mean</th>\n",
       "      <td>70.836986</td>\n",
       "      <td>70.857109</td>\n",
       "      <td>70.118414</td>\n",
       "      <td>71.543476</td>\n",
       "      <td>5.415113e+06</td>\n",
       "    </tr>\n",
       "    <tr>\n",
       "      <th>std</th>\n",
       "      <td>83.695876</td>\n",
       "      <td>83.689686</td>\n",
       "      <td>82.877294</td>\n",
       "      <td>84.465504</td>\n",
       "      <td>1.249468e+07</td>\n",
       "    </tr>\n",
       "    <tr>\n",
       "      <th>min</th>\n",
       "      <td>0.850000</td>\n",
       "      <td>0.860000</td>\n",
       "      <td>0.830000</td>\n",
       "      <td>0.880000</td>\n",
       "      <td>0.000000e+00</td>\n",
       "    </tr>\n",
       "    <tr>\n",
       "      <th>25%</th>\n",
       "      <td>33.840000</td>\n",
       "      <td>33.849998</td>\n",
       "      <td>33.480000</td>\n",
       "      <td>34.189999</td>\n",
       "      <td>1.221500e+06</td>\n",
       "    </tr>\n",
       "    <tr>\n",
       "      <th>50%</th>\n",
       "      <td>52.770000</td>\n",
       "      <td>52.799999</td>\n",
       "      <td>52.230000</td>\n",
       "      <td>53.310001</td>\n",
       "      <td>2.476250e+06</td>\n",
       "    </tr>\n",
       "    <tr>\n",
       "      <th>75%</th>\n",
       "      <td>79.879997</td>\n",
       "      <td>79.889999</td>\n",
       "      <td>79.110001</td>\n",
       "      <td>80.610001</td>\n",
       "      <td>5.222500e+06</td>\n",
       "    </tr>\n",
       "    <tr>\n",
       "      <th>max</th>\n",
       "      <td>1584.439941</td>\n",
       "      <td>1578.130005</td>\n",
       "      <td>1549.939941</td>\n",
       "      <td>1600.930054</td>\n",
       "      <td>8.596434e+08</td>\n",
       "    </tr>\n",
       "  </tbody>\n",
       "</table>\n",
       "</div>"
      ],
      "text/plain": [
       "                open          close            low           high        volume\n",
       "count  851264.000000  851264.000000  851264.000000  851264.000000  8.512640e+05\n",
       "mean       70.836986      70.857109      70.118414      71.543476  5.415113e+06\n",
       "std        83.695876      83.689686      82.877294      84.465504  1.249468e+07\n",
       "min         0.850000       0.860000       0.830000       0.880000  0.000000e+00\n",
       "25%        33.840000      33.849998      33.480000      34.189999  1.221500e+06\n",
       "50%        52.770000      52.799999      52.230000      53.310001  2.476250e+06\n",
       "75%        79.879997      79.889999      79.110001      80.610001  5.222500e+06\n",
       "max      1584.439941    1578.130005    1549.939941    1600.930054  8.596434e+08"
      ]
     },
     "execution_count": 9,
     "metadata": {
      "tags": []
     },
     "output_type": "execute_result"
    }
   ],
   "source": [
    "data.describe()   ## data is skewed as there is big diff between mean and medians."
   ]
  },
  {
   "cell_type": "markdown",
   "metadata": {
    "colab_type": "text",
    "id": "7dU6X7MpOB6c"
   },
   "source": [
    "### Drop columns `date` and  `symbol`"
   ]
  },
  {
   "cell_type": "code",
   "execution_count": 0,
   "metadata": {
    "colab": {},
    "colab_type": "code",
    "id": "0rZMi0SYNH2w"
   },
   "outputs": [],
   "source": [
    "data=data.drop(labels=[\"date\",\"symbol\" ],  axis=1)"
   ]
  },
  {
   "cell_type": "code",
   "execution_count": 11,
   "metadata": {
    "colab": {
     "base_uri": "https://localhost:8080/",
     "height": 202
    },
    "colab_type": "code",
    "id": "OHN29p0MNAJx",
    "outputId": "0cfd5137-f929-4c43-e9f0-fd9e83031492"
   },
   "outputs": [
    {
     "data": {
      "text/html": [
       "<div>\n",
       "<style scoped>\n",
       "    .dataframe tbody tr th:only-of-type {\n",
       "        vertical-align: middle;\n",
       "    }\n",
       "\n",
       "    .dataframe tbody tr th {\n",
       "        vertical-align: top;\n",
       "    }\n",
       "\n",
       "    .dataframe thead th {\n",
       "        text-align: right;\n",
       "    }\n",
       "</style>\n",
       "<table border=\"1\" class=\"dataframe\">\n",
       "  <thead>\n",
       "    <tr style=\"text-align: right;\">\n",
       "      <th></th>\n",
       "      <th>open</th>\n",
       "      <th>close</th>\n",
       "      <th>low</th>\n",
       "      <th>high</th>\n",
       "      <th>volume</th>\n",
       "    </tr>\n",
       "  </thead>\n",
       "  <tbody>\n",
       "    <tr>\n",
       "      <th>851259</th>\n",
       "      <td>103.309998</td>\n",
       "      <td>103.199997</td>\n",
       "      <td>102.849998</td>\n",
       "      <td>103.930000</td>\n",
       "      <td>973800.0</td>\n",
       "    </tr>\n",
       "    <tr>\n",
       "      <th>851260</th>\n",
       "      <td>43.070000</td>\n",
       "      <td>43.040001</td>\n",
       "      <td>42.689999</td>\n",
       "      <td>43.310001</td>\n",
       "      <td>1938100.0</td>\n",
       "    </tr>\n",
       "    <tr>\n",
       "      <th>851261</th>\n",
       "      <td>53.639999</td>\n",
       "      <td>53.529999</td>\n",
       "      <td>53.270000</td>\n",
       "      <td>53.740002</td>\n",
       "      <td>1701200.0</td>\n",
       "    </tr>\n",
       "    <tr>\n",
       "      <th>851262</th>\n",
       "      <td>44.730000</td>\n",
       "      <td>45.450001</td>\n",
       "      <td>44.410000</td>\n",
       "      <td>45.590000</td>\n",
       "      <td>1380900.0</td>\n",
       "    </tr>\n",
       "    <tr>\n",
       "      <th>851263</th>\n",
       "      <td>54.200001</td>\n",
       "      <td>53.630001</td>\n",
       "      <td>53.389999</td>\n",
       "      <td>54.480000</td>\n",
       "      <td>705100.0</td>\n",
       "    </tr>\n",
       "  </tbody>\n",
       "</table>\n",
       "</div>"
      ],
      "text/plain": [
       "              open       close         low        high     volume\n",
       "851259  103.309998  103.199997  102.849998  103.930000   973800.0\n",
       "851260   43.070000   43.040001   42.689999   43.310001  1938100.0\n",
       "851261   53.639999   53.529999   53.270000   53.740002  1701200.0\n",
       "851262   44.730000   45.450001   44.410000   45.590000  1380900.0\n",
       "851263   54.200001   53.630001   53.389999   54.480000   705100.0"
      ]
     },
     "execution_count": 11,
     "metadata": {
      "tags": []
     },
     "output_type": "execute_result"
    }
   ],
   "source": [
    "data.tail()"
   ]
  },
  {
   "cell_type": "code",
   "execution_count": 0,
   "metadata": {
    "colab": {},
    "colab_type": "code",
    "id": "lh_6spSKOB6e"
   },
   "outputs": [],
   "source": []
  },
  {
   "cell_type": "code",
   "execution_count": 12,
   "metadata": {
    "colab": {
     "base_uri": "https://localhost:8080/",
     "height": 202
    },
    "colab_type": "code",
    "id": "xlwbUgTwOB6i",
    "outputId": "f3654d01-ffc2-445f-a5e1-d568c9449882"
   },
   "outputs": [
    {
     "data": {
      "text/html": [
       "<div>\n",
       "<style scoped>\n",
       "    .dataframe tbody tr th:only-of-type {\n",
       "        vertical-align: middle;\n",
       "    }\n",
       "\n",
       "    .dataframe tbody tr th {\n",
       "        vertical-align: top;\n",
       "    }\n",
       "\n",
       "    .dataframe thead th {\n",
       "        text-align: right;\n",
       "    }\n",
       "</style>\n",
       "<table border=\"1\" class=\"dataframe\">\n",
       "  <thead>\n",
       "    <tr style=\"text-align: right;\">\n",
       "      <th></th>\n",
       "      <th>open</th>\n",
       "      <th>close</th>\n",
       "      <th>low</th>\n",
       "      <th>high</th>\n",
       "      <th>volume</th>\n",
       "    </tr>\n",
       "  </thead>\n",
       "  <tbody>\n",
       "    <tr>\n",
       "      <th>0</th>\n",
       "      <td>123.430000</td>\n",
       "      <td>125.839996</td>\n",
       "      <td>122.309998</td>\n",
       "      <td>126.250000</td>\n",
       "      <td>2163600.0</td>\n",
       "    </tr>\n",
       "    <tr>\n",
       "      <th>1</th>\n",
       "      <td>125.239998</td>\n",
       "      <td>119.980003</td>\n",
       "      <td>119.940002</td>\n",
       "      <td>125.540001</td>\n",
       "      <td>2386400.0</td>\n",
       "    </tr>\n",
       "    <tr>\n",
       "      <th>2</th>\n",
       "      <td>116.379997</td>\n",
       "      <td>114.949997</td>\n",
       "      <td>114.930000</td>\n",
       "      <td>119.739998</td>\n",
       "      <td>2489500.0</td>\n",
       "    </tr>\n",
       "    <tr>\n",
       "      <th>3</th>\n",
       "      <td>115.480003</td>\n",
       "      <td>116.620003</td>\n",
       "      <td>113.500000</td>\n",
       "      <td>117.440002</td>\n",
       "      <td>2006300.0</td>\n",
       "    </tr>\n",
       "    <tr>\n",
       "      <th>4</th>\n",
       "      <td>117.010002</td>\n",
       "      <td>114.970001</td>\n",
       "      <td>114.089996</td>\n",
       "      <td>117.330002</td>\n",
       "      <td>1408600.0</td>\n",
       "    </tr>\n",
       "  </tbody>\n",
       "</table>\n",
       "</div>"
      ],
      "text/plain": [
       "         open       close         low        high     volume\n",
       "0  123.430000  125.839996  122.309998  126.250000  2163600.0\n",
       "1  125.239998  119.980003  119.940002  125.540001  2386400.0\n",
       "2  116.379997  114.949997  114.930000  119.739998  2489500.0\n",
       "3  115.480003  116.620003  113.500000  117.440002  2006300.0\n",
       "4  117.010002  114.970001  114.089996  117.330002  1408600.0"
      ]
     },
     "execution_count": 12,
     "metadata": {
      "tags": []
     },
     "output_type": "execute_result"
    }
   ],
   "source": [
    "data.head()"
   ]
  },
  {
   "cell_type": "markdown",
   "metadata": {
    "colab_type": "text",
    "id": "3DBv3WWYOB6q"
   },
   "source": [
    "### Consider only first 1000 rows in the dataset for building feature set and target set\n",
    "Target 'Volume' has very high values. Divide 'Volume' by 1000,000"
   ]
  },
  {
   "cell_type": "code",
   "execution_count": 13,
   "metadata": {
    "colab": {
     "base_uri": "https://localhost:8080/",
     "height": 121
    },
    "colab_type": "code",
    "id": "Z_hG9rGBOB6s",
    "outputId": "b78e2d9a-9bff-4609-bde4-81aa7f4176cc"
   },
   "outputs": [
    {
     "name": "stderr",
     "output_type": "stream",
     "text": [
      "/usr/local/lib/python3.6/dist-packages/ipykernel_launcher.py:2: SettingWithCopyWarning: \n",
      "A value is trying to be set on a copy of a slice from a DataFrame.\n",
      "Try using .loc[row_indexer,col_indexer] = value instead\n",
      "\n",
      "See the caveats in the documentation: http://pandas.pydata.org/pandas-docs/stable/user_guide/indexing.html#returning-a-view-versus-a-copy\n",
      "  \n"
     ]
    }
   ],
   "source": [
    "data_feature=data.loc[0:1000]\n",
    "data_feature[\"volume\"]=data_feature[\"volume\"]/1000000"
   ]
  },
  {
   "cell_type": "code",
   "execution_count": 14,
   "metadata": {
    "colab": {
     "base_uri": "https://localhost:8080/",
     "height": 121
    },
    "colab_type": "code",
    "id": "7y-1wRG7KHxo",
    "outputId": "90185f22-400c-463c-bcf2-2ed9d7269e31"
   },
   "outputs": [
    {
     "data": {
      "text/plain": [
       "open      float64\n",
       "close     float64\n",
       "low       float64\n",
       "high      float64\n",
       "volume    float64\n",
       "dtype: object"
      ]
     },
     "execution_count": 14,
     "metadata": {
      "tags": []
     },
     "output_type": "execute_result"
    }
   ],
   "source": [
    "data_feature.dtypes"
   ]
  },
  {
   "cell_type": "code",
   "execution_count": 15,
   "metadata": {
    "colab": {
     "base_uri": "https://localhost:8080/",
     "height": 35
    },
    "colab_type": "code",
    "id": "HL9Y9MnvOmIS",
    "outputId": "7bdd6677-9876-491e-855a-dce1cbefb4b7"
   },
   "outputs": [
    {
     "data": {
      "text/plain": [
       "215.6202"
      ]
     },
     "execution_count": 15,
     "metadata": {
      "tags": []
     },
     "output_type": "execute_result"
    }
   ],
   "source": [
    "data_feature[\"volume\"].max()   ## now the values has been reduced."
   ]
  },
  {
   "cell_type": "markdown",
   "metadata": {
    "colab_type": "text",
    "id": "M3UaApqYOB6x"
   },
   "source": [
    "### Divide the data into train and test sets"
   ]
  },
  {
   "cell_type": "code",
   "execution_count": 0,
   "metadata": {
    "colab": {},
    "colab_type": "code",
    "id": "c7Sthn-2OkyK"
   },
   "outputs": [],
   "source": [
    "import numpy as np\n",
    "X = np.array(data_feature.drop(\"volume\", axis=1))\n",
    "y = np.array(data_feature[\"volume\"])"
   ]
  },
  {
   "cell_type": "code",
   "execution_count": 0,
   "metadata": {
    "colab": {},
    "colab_type": "code",
    "id": "4LE4U8lTdQJq"
   },
   "outputs": [],
   "source": [
    "from sklearn.model_selection import train_test_split"
   ]
  },
  {
   "cell_type": "code",
   "execution_count": 0,
   "metadata": {
    "colab": {},
    "colab_type": "code",
    "id": "y0LyXnSBWU4O"
   },
   "outputs": [],
   "source": [
    "test_size = 0.30 # taking 70:30 training and test set\n",
    "seed = 7  # Random numbmer seeding for reapeatability of the code\n",
    "X_train, X_test, y_train, y_test = train_test_split(X, y, test_size=test_size, random_state=seed)\n"
   ]
  },
  {
   "cell_type": "markdown",
   "metadata": {
    "colab_type": "text",
    "id": "oYK-aUuLbrz2"
   },
   "source": [
    "#### Convert Training and Test Data to numpy float32 arrays"
   ]
  },
  {
   "cell_type": "code",
   "execution_count": 0,
   "metadata": {
    "colab": {},
    "colab_type": "code",
    "id": "Ao-S0tQGcncz"
   },
   "outputs": [],
   "source": [
    "X_train=X_train.astype('float32')\n",
    "X_test=X_test.astype('float32')\n",
    "\n",
    "y_train=y_train.astype('float32')\n",
    "y_test=y_test.astype('float32')"
   ]
  },
  {
   "cell_type": "markdown",
   "metadata": {
    "colab_type": "text",
    "id": "im1ZegbDdKgv"
   },
   "source": [
    "### Normalize the data\n",
    "You can use Normalizer from sklearn.preprocessing"
   ]
  },
  {
   "cell_type": "code",
   "execution_count": 0,
   "metadata": {
    "colab": {},
    "colab_type": "code",
    "id": "2EkKAy7fOB6y"
   },
   "outputs": [],
   "source": [
    "from sklearn.preprocessing import Normalizer\n",
    "\n",
    "norm=Normalizer()\n",
    "X_train_norm=norm.fit_transform(X_train)\n",
    "X_test_norm=norm.fit_transform(X_test)\n"
   ]
  },
  {
   "cell_type": "code",
   "execution_count": 21,
   "metadata": {
    "colab": {
     "base_uri": "https://localhost:8080/",
     "height": 139
    },
    "colab_type": "code",
    "id": "eCzfdFTbZfPu",
    "outputId": "6c5a4dd3-be5f-4632-e26d-11bc463e115c"
   },
   "outputs": [
    {
     "data": {
      "text/plain": [
       "array([[0.49739146, 0.5033128 , 0.4944308 , 0.50479317],\n",
       "       [0.5002627 , 0.5026732 , 0.49291062, 0.50407934],\n",
       "       [0.50025874, 0.5013112 , 0.49651673, 0.50189584],\n",
       "       ...,\n",
       "       [0.4980231 , 0.5010118 , 0.49707213, 0.5038646 ],\n",
       "       [0.5091813 , 0.5000049 , 0.47896615, 0.51119566],\n",
       "       [0.49635795, 0.5001823 , 0.49635795, 0.50702584]], dtype=float32)"
      ]
     },
     "execution_count": 21,
     "metadata": {
      "tags": []
     },
     "output_type": "execute_result"
    }
   ],
   "source": [
    "X_test_norm  ## normalised here.."
   ]
  },
  {
   "cell_type": "markdown",
   "metadata": {
    "colab_type": "text",
    "id": "v6vE4eYCOB62"
   },
   "source": [
    "## Building the Model in tensorflow"
   ]
  },
  {
   "cell_type": "markdown",
   "metadata": {
    "colab_type": "text",
    "id": "297_qja4OB7A"
   },
   "source": [
    "1.Define Weights and Bias, use tf.zeros to initialize weights and Bias"
   ]
  },
  {
   "cell_type": "code",
   "execution_count": 22,
   "metadata": {
    "colab": {
     "base_uri": "https://localhost:8080/",
     "height": 35
    },
    "colab_type": "code",
    "id": "0lMatu3CZ8jL",
    "outputId": "bee4ab39-dbcc-47ae-9078-5ea577b9ecd5"
   },
   "outputs": [
    {
     "data": {
      "text/plain": [
       "(700, 4)"
      ]
     },
     "execution_count": 22,
     "metadata": {
      "tags": []
     },
     "output_type": "execute_result"
    }
   ],
   "source": [
    "X_train_norm.shape  ## W to have corresponding shape as of dimensions in Train data"
   ]
  },
  {
   "cell_type": "code",
   "execution_count": 23,
   "metadata": {
    "colab": {
     "base_uri": "https://localhost:8080/",
     "height": 35
    },
    "colab_type": "code",
    "id": "L205qPeQOB7B",
    "outputId": "39dc7ef9-b45b-40c2-a767-c03daa08ab17"
   },
   "outputs": [
    {
     "data": {
      "text/plain": [
       "tf.float32"
      ]
     },
     "execution_count": 23,
     "metadata": {
      "tags": []
     },
     "output_type": "execute_result"
    }
   ],
   "source": [
    "W = tf.zeros(shape=(4, 1))  ## W represents Weights\n",
    "b = tf.zeros(shape=(1))  ## b represents Bias\n",
    "\n",
    "b.dtype"
   ]
  },
  {
   "cell_type": "markdown",
   "metadata": {
    "colab_type": "text",
    "id": "HgtWA-UIOB7F"
   },
   "source": [
    "2.Define a function to calculate prediction"
   ]
  },
  {
   "cell_type": "code",
   "execution_count": 0,
   "metadata": {
    "colab": {},
    "colab_type": "code",
    "id": "JveGlx25OB7H"
   },
   "outputs": [],
   "source": [
    "@tf.function\n",
    "def prediction(features, W, b):\n",
    "    y_pred = tf.add(tf.matmul(features, W), b)  \n",
    "    return y_pred"
   ]
  },
  {
   "cell_type": "markdown",
   "metadata": {
    "colab_type": "text",
    "id": "TL1hIwf_OB7M"
   },
   "source": [
    "3.Loss (Cost) Function [Mean square error]"
   ]
  },
  {
   "cell_type": "code",
   "execution_count": 0,
   "metadata": {
    "colab": {},
    "colab_type": "code",
    "id": "8VSWPiGXOB7P"
   },
   "outputs": [],
   "source": [
    "@tf.function\n",
    "def loss(y_actual, y_predicted):\n",
    "    diff = y_actual - y_predicted\n",
    "    sqr = tf.square(diff)\n",
    "    avg = tf.reduce_mean(sqr)\n",
    "    return avg"
   ]
  },
  {
   "cell_type": "markdown",
   "metadata": {
    "colab_type": "text",
    "id": "jzG85FUlOB7U"
   },
   "source": [
    "4.Function to train the Model\n",
    "\n",
    "1.   Record all the mathematical steps to calculate Loss\n",
    "2.   Calculate Gradients of Loss w.r.t weights and bias\n",
    "3.   Update Weights and Bias based on gradients and learning rate to minimize loss"
   ]
  },
  {
   "cell_type": "code",
   "execution_count": 0,
   "metadata": {
    "colab": {},
    "colab_type": "code",
    "id": "cj802w-3OB7X"
   },
   "outputs": [],
   "source": [
    "@tf.function\n",
    "def train(x, y_actual, w, b, learning_rate=0.01):\n",
    "    \n",
    "    # Record mathematical operations on 'tape' to calculate loss\n",
    "    with tf.GradientTape() as t:\n",
    "        t.watch([w,b])\n",
    "        current_prediction = prediction(x, w, b)\n",
    "        current_loss = loss(y_actual, current_prediction)\n",
    "    \n",
    "    # Calculate Gradients for Loss with respect to Weights and Bias\n",
    "    dw, db = t.gradient(current_loss,[w, b])\n",
    "    \n",
    "    # Update Weights and Bias\n",
    "    w = w - learning_rate * dw\n",
    "    b = b - learning_rate * db\n",
    "    \n",
    "    return w, b"
   ]
  },
  {
   "cell_type": "markdown",
   "metadata": {
    "colab_type": "text",
    "id": "xSypb_u8OB7e"
   },
   "source": [
    "## Train the model for 100 epochs \n",
    "1. Observe the training loss at every iteration\n",
    "2. Observe Train loss at every 5th iteration"
   ]
  },
  {
   "cell_type": "code",
   "execution_count": 27,
   "metadata": {
    "colab": {
     "base_uri": "https://localhost:8080/",
     "height": 1000
    },
    "colab_type": "code",
    "id": "DVvgj7eQOB7f",
    "outputId": "3b3a9bb9-2edb-4b62-9f1d-e55c53b42eae"
   },
   "outputs": [
    {
     "name": "stdout",
     "output_type": "stream",
     "text": [
      "Current Training Loss on iteration 0 240.44244\n",
      "Current Training Loss on iteration 1 238.437\n",
      "Current Training Loss on iteration 2 236.5888\n",
      "Current Training Loss on iteration 3 234.88547\n",
      "Current Training Loss on iteration 4 233.31569\n",
      "Current Training Loss on iteration 5 231.86897\n",
      "Current Training Loss on iteration 6 230.53568\n",
      "Current Training Loss on iteration 7 229.3069\n",
      "Current Training Loss on iteration 8 228.17447\n",
      "Current Training Loss on iteration 9 227.13081\n",
      "Current Training Loss on iteration 10 226.16898\n",
      "Current Training Loss on iteration 11 225.28258\n",
      "Current Training Loss on iteration 12 224.46564\n",
      "Current Training Loss on iteration 13 223.71275\n",
      "Current Training Loss on iteration 14 223.01888\n",
      "Current Training Loss on iteration 15 222.37941\n",
      "Current Training Loss on iteration 16 221.79008\n",
      "Current Training Loss on iteration 17 221.24695\n",
      "Current Training Loss on iteration 18 220.74641\n",
      "Current Training Loss on iteration 19 220.28506\n",
      "Current Training Loss on iteration 20 219.85995\n",
      "Current Training Loss on iteration 21 219.46814\n",
      "Current Training Loss on iteration 22 219.10704\n",
      "Current Training Loss on iteration 23 218.77428\n",
      "Current Training Loss on iteration 24 218.46758\n",
      "Current Training Loss on iteration 25 218.18492\n",
      "Current Training Loss on iteration 26 217.92442\n",
      "Current Training Loss on iteration 27 217.68436\n",
      "Current Training Loss on iteration 28 217.46312\n",
      "Current Training Loss on iteration 29 217.2592\n",
      "Current Training Loss on iteration 30 217.0713\n",
      "Current Training Loss on iteration 31 216.89812\n",
      "Current Training Loss on iteration 32 216.73848\n",
      "Current Training Loss on iteration 33 216.5914\n",
      "Current Training Loss on iteration 34 216.45586\n",
      "Current Training Loss on iteration 35 216.33092\n",
      "Current Training Loss on iteration 36 216.21577\n",
      "Current Training Loss on iteration 37 216.10966\n",
      "Current Training Loss on iteration 38 216.01186\n",
      "Current Training Loss on iteration 39 215.92174\n",
      "Current Training Loss on iteration 40 215.83867\n",
      "Current Training Loss on iteration 41 215.76212\n",
      "Current Training Loss on iteration 42 215.69159\n",
      "Current Training Loss on iteration 43 215.62656\n",
      "Current Training Loss on iteration 44 215.56664\n",
      "Current Training Loss on iteration 45 215.51143\n",
      "Current Training Loss on iteration 46 215.46053\n",
      "Current Training Loss on iteration 47 215.41362\n",
      "Current Training Loss on iteration 48 215.37038\n",
      "Current Training Loss on iteration 49 215.33055\n",
      "Current Training Loss on iteration 50 215.29384\n",
      "Current Training Loss on iteration 51 215.26\n",
      "Current Training Loss on iteration 52 215.22884\n",
      "Current Training Loss on iteration 53 215.2001\n",
      "Current Training Loss on iteration 54 215.1736\n",
      "Current Training Loss on iteration 55 215.14919\n",
      "Current Training Loss on iteration 56 215.1267\n",
      "Current Training Loss on iteration 57 215.10596\n",
      "Current Training Loss on iteration 58 215.08685\n",
      "Current Training Loss on iteration 59 215.06926\n",
      "Current Training Loss on iteration 60 215.05302\n",
      "Current Training Loss on iteration 61 215.03807\n",
      "Current Training Loss on iteration 62 215.02429\n",
      "Current Training Loss on iteration 63 215.0116\n",
      "Current Training Loss on iteration 64 214.99986\n",
      "Current Training Loss on iteration 65 214.98909\n",
      "Current Training Loss on iteration 66 214.97916\n",
      "Current Training Loss on iteration 67 214.96997\n",
      "Current Training Loss on iteration 68 214.96153\n",
      "Current Training Loss on iteration 69 214.95377\n",
      "Current Training Loss on iteration 70 214.94658\n",
      "Current Training Loss on iteration 71 214.93999\n",
      "Current Training Loss on iteration 72 214.93388\n",
      "Current Training Loss on iteration 73 214.92827\n",
      "Current Training Loss on iteration 74 214.92308\n",
      "Current Training Loss on iteration 75 214.91832\n",
      "Current Training Loss on iteration 76 214.91391\n",
      "Current Training Loss on iteration 77 214.90987\n",
      "Current Training Loss on iteration 78 214.90613\n",
      "Current Training Loss on iteration 79 214.9027\n",
      "Current Training Loss on iteration 80 214.89952\n",
      "Current Training Loss on iteration 81 214.89662\n",
      "Current Training Loss on iteration 82 214.8939\n",
      "Current Training Loss on iteration 83 214.89143\n",
      "Current Training Loss on iteration 84 214.88914\n",
      "Current Training Loss on iteration 85 214.88704\n",
      "Current Training Loss on iteration 86 214.8851\n",
      "Current Training Loss on iteration 87 214.88332\n",
      "Current Training Loss on iteration 88 214.88164\n",
      "Current Training Loss on iteration 89 214.88014\n",
      "Current Training Loss on iteration 90 214.87872\n",
      "Current Training Loss on iteration 91 214.87743\n",
      "Current Training Loss on iteration 92 214.87627\n",
      "Current Training Loss on iteration 93 214.87515\n",
      "Current Training Loss on iteration 94 214.87411\n",
      "Current Training Loss on iteration 95 214.87321\n",
      "Current Training Loss on iteration 96 214.87236\n",
      "Current Training Loss on iteration 97 214.87158\n",
      "Current Training Loss on iteration 98 214.87082\n",
      "Current Training Loss on iteration 99 214.87015\n"
     ]
    }
   ],
   "source": [
    "for i in range(100):    ## 1.observing training loss at every step\n",
    "    W, b = train(X_train_norm, y_train, W, b)\n",
    "    print('Current Training Loss on iteration', i, loss(y_train, prediction(X_train_norm, W, b)).numpy())\n"
   ]
  },
  {
   "cell_type": "code",
   "execution_count": 28,
   "metadata": {
    "colab": {
     "base_uri": "https://localhost:8080/",
     "height": 364
    },
    "colab_type": "code",
    "id": "7KGLdYwlM6fv",
    "outputId": "8113931d-901e-4d62-c511-cc893637deed"
   },
   "outputs": [
    {
     "name": "stdout",
     "output_type": "stream",
     "text": [
      "Current Training Loss on iteration 0 214.86954\n",
      "Current Training Loss on iteration 5 214.8671\n",
      "Current Training Loss on iteration 10 214.86546\n",
      "Current Training Loss on iteration 15 214.86438\n",
      "Current Training Loss on iteration 20 214.86368\n",
      "Current Training Loss on iteration 25 214.8632\n",
      "Current Training Loss on iteration 30 214.86288\n",
      "Current Training Loss on iteration 35 214.86267\n",
      "Current Training Loss on iteration 40 214.86255\n",
      "Current Training Loss on iteration 45 214.86243\n",
      "Current Training Loss on iteration 50 214.86237\n",
      "Current Training Loss on iteration 55 214.86234\n",
      "Current Training Loss on iteration 60 214.8623\n",
      "Current Training Loss on iteration 65 214.86229\n",
      "Current Training Loss on iteration 70 214.86229\n",
      "Current Training Loss on iteration 75 214.86229\n",
      "Current Training Loss on iteration 80 214.86227\n",
      "Current Training Loss on iteration 85 214.86227\n",
      "Current Training Loss on iteration 90 214.86227\n",
      "Current Training Loss on iteration 95 214.86227\n"
     ]
    }
   ],
   "source": [
    "for i in range(100):    ## 2. observing training loss at every 5th iteration\n",
    "    W, b = train(X_train_norm, y_train, W, b)\n",
    "    if(i% 5 == 0) :  ## printing loss at every 5th iteration\n",
    "      print('Current Training Loss on iteration', i, loss(y_train, prediction(X_train_norm, W, b)).numpy())\n"
   ]
  },
  {
   "cell_type": "markdown",
   "metadata": {
    "colab_type": "text",
    "id": "DOL2ncA1OB7q"
   },
   "source": [
    "### Get the shapes and values of W and b"
   ]
  },
  {
   "cell_type": "code",
   "execution_count": 29,
   "metadata": {
    "colab": {
     "base_uri": "https://localhost:8080/",
     "height": 87
    },
    "colab_type": "code",
    "id": "ZGvtyTeuOB7r",
    "outputId": "e110cfef-356c-46c4-9528-491602d73e74"
   },
   "outputs": [
    {
     "data": {
      "text/plain": [
       "array([[1.3151476],\n",
       "       [1.3194734],\n",
       "       [1.3014991],\n",
       "       [1.3306323]], dtype=float32)"
      ]
     },
     "execution_count": 29,
     "metadata": {
      "tags": []
     },
     "output_type": "execute_result"
    }
   ],
   "source": [
    "W.numpy()  ## getting values of W weights"
   ]
  },
  {
   "cell_type": "code",
   "execution_count": 30,
   "metadata": {
    "colab": {
     "base_uri": "https://localhost:8080/",
     "height": 35
    },
    "colab_type": "code",
    "id": "r9PjC1W2fY8t",
    "outputId": "339e0dff-817c-445f-f1ac-de5bfd82ae1e"
   },
   "outputs": [
    {
     "name": "stdout",
     "output_type": "stream",
     "text": [
      "W shape :  (4, 1)\n"
     ]
    }
   ],
   "source": [
    "print(\"W shape : \",W.shape)"
   ]
  },
  {
   "cell_type": "code",
   "execution_count": 31,
   "metadata": {
    "colab": {
     "base_uri": "https://localhost:8080/",
     "height": 35
    },
    "colab_type": "code",
    "id": "0mPRlal7fcn_",
    "outputId": "1e141be7-a55d-4a8c-e101-f3b8f5758d37"
   },
   "outputs": [
    {
     "data": {
      "text/plain": [
       "array([2.6335213], dtype=float32)"
      ]
     },
     "execution_count": 31,
     "metadata": {
      "tags": []
     },
     "output_type": "execute_result"
    }
   ],
   "source": [
    "b.numpy()  ## getting values of bias b"
   ]
  },
  {
   "cell_type": "code",
   "execution_count": 32,
   "metadata": {
    "colab": {
     "base_uri": "https://localhost:8080/",
     "height": 35
    },
    "colab_type": "code",
    "id": "TjjBc4J2ffQL",
    "outputId": "01aea4cb-00d7-48bc-d566-a5d55140528a"
   },
   "outputs": [
    {
     "name": "stdout",
     "output_type": "stream",
     "text": [
      "Shape of b Bias  (1,)\n"
     ]
    }
   ],
   "source": [
    "print(\"Shape of b Bias \",b.shape)"
   ]
  },
  {
   "cell_type": "code",
   "execution_count": 0,
   "metadata": {
    "colab": {},
    "colab_type": "code",
    "id": "vhDtOv5UOB7x"
   },
   "outputs": [],
   "source": []
  },
  {
   "cell_type": "markdown",
   "metadata": {
    "colab_type": "text",
    "id": "ERq9GOKKciho"
   },
   "source": [
    "### Model Prediction on 1st Examples in Test Dataset"
   ]
  },
  {
   "cell_type": "code",
   "execution_count": 33,
   "metadata": {
    "colab": {
     "base_uri": "https://localhost:8080/",
     "height": 35
    },
    "colab_type": "code",
    "id": "gTuqkFGsQWoc",
    "outputId": "3be2c8bb-e88e-4192-b465-f1e878a65dee"
   },
   "outputs": [
    {
     "data": {
      "text/plain": [
       "(301, 4)"
      ]
     },
     "execution_count": 33,
     "metadata": {
      "tags": []
     },
     "output_type": "execute_result"
    }
   ],
   "source": [
    "X_test_norm.shape"
   ]
  },
  {
   "cell_type": "code",
   "execution_count": 0,
   "metadata": {
    "colab": {},
    "colab_type": "code",
    "id": "gKGvUWahcihp"
   },
   "outputs": [],
   "source": [
    "y_pred=prediction(X_test_norm, W, b)"
   ]
  },
  {
   "cell_type": "code",
   "execution_count": 35,
   "metadata": {
    "colab": {
     "base_uri": "https://localhost:8080/",
     "height": 121
    },
    "colab_type": "code",
    "id": "M-FeE9XlQH9-",
    "outputId": "1f8a1f34-8746-4030-eae6-15e2862b53d9"
   },
   "outputs": [
    {
     "data": {
      "text/plain": [
       "<tf.Tensor: shape=(5, 1), dtype=float32, numpy=\n",
       "array([[5.266968 ],\n",
       "       [5.2669716],\n",
       "       [5.2669573],\n",
       "       [5.2669616],\n",
       "       [5.266943 ]], dtype=float32)>"
      ]
     },
     "execution_count": 35,
     "metadata": {
      "tags": []
     },
     "output_type": "execute_result"
    }
   ],
   "source": [
    "y_pred.shape\n",
    "y_pred[0:5]"
   ]
  },
  {
   "cell_type": "code",
   "execution_count": 36,
   "metadata": {
    "colab": {
     "base_uri": "https://localhost:8080/",
     "height": 35
    },
    "colab_type": "code",
    "id": "0wcNdWtlQIOD",
    "outputId": "bd365c63-14a1-4543-ed6e-dd83dcdd3559"
   },
   "outputs": [
    {
     "data": {
      "text/plain": [
       "array([40.6793,  0.5982,  2.1497,  0.819 ,  2.042 ], dtype=float32)"
      ]
     },
     "execution_count": 36,
     "metadata": {
      "tags": []
     },
     "output_type": "execute_result"
    }
   ],
   "source": [
    "y_test.shape\n",
    "y_test[0:5]"
   ]
  },
  {
   "cell_type": "markdown",
   "metadata": {
    "colab_type": "text",
    "id": "YJRBuqXhOB7_"
   },
   "source": [
    "## Classification using tf.Keras\n",
    "\n",
    "In this exercise, we will build a Deep Neural Network using tf.Keras. We will use Iris Dataset for this exercise."
   ]
  },
  {
   "cell_type": "markdown",
   "metadata": {
    "colab_type": "text",
    "id": "O0g6lorycihf"
   },
   "source": [
    "### Load the given Iris data using pandas (Iris.csv)"
   ]
  },
  {
   "cell_type": "code",
   "execution_count": 0,
   "metadata": {
    "colab": {},
    "colab_type": "code",
    "id": "6xFvb5sRcihg"
   },
   "outputs": [],
   "source": [
    "iris_df=pd.read_csv('/gdrive/My Drive/ClassNotes/R6_Ext/Iris.csv')"
   ]
  },
  {
   "cell_type": "code",
   "execution_count": 38,
   "metadata": {
    "colab": {
     "base_uri": "https://localhost:8080/",
     "height": 202
    },
    "colab_type": "code",
    "id": "Jf5rjrWHlCzS",
    "outputId": "cbb93c02-8264-4d2b-a403-fd3eaddcbec3"
   },
   "outputs": [
    {
     "data": {
      "text/html": [
       "<div>\n",
       "<style scoped>\n",
       "    .dataframe tbody tr th:only-of-type {\n",
       "        vertical-align: middle;\n",
       "    }\n",
       "\n",
       "    .dataframe tbody tr th {\n",
       "        vertical-align: top;\n",
       "    }\n",
       "\n",
       "    .dataframe thead th {\n",
       "        text-align: right;\n",
       "    }\n",
       "</style>\n",
       "<table border=\"1\" class=\"dataframe\">\n",
       "  <thead>\n",
       "    <tr style=\"text-align: right;\">\n",
       "      <th></th>\n",
       "      <th>Sepal Length (in cm)</th>\n",
       "      <th>Sepal Width in (cm)</th>\n",
       "      <th>Petal length (in cm)</th>\n",
       "      <th>Petal width (in cm)</th>\n",
       "      <th>Class</th>\n",
       "    </tr>\n",
       "  </thead>\n",
       "  <tbody>\n",
       "    <tr>\n",
       "      <th>145</th>\n",
       "      <td>6.7</td>\n",
       "      <td>3.0</td>\n",
       "      <td>5.2</td>\n",
       "      <td>2.3</td>\n",
       "      <td>Iris-virginica</td>\n",
       "    </tr>\n",
       "    <tr>\n",
       "      <th>146</th>\n",
       "      <td>6.3</td>\n",
       "      <td>2.5</td>\n",
       "      <td>5.0</td>\n",
       "      <td>1.9</td>\n",
       "      <td>Iris-virginica</td>\n",
       "    </tr>\n",
       "    <tr>\n",
       "      <th>147</th>\n",
       "      <td>6.5</td>\n",
       "      <td>3.0</td>\n",
       "      <td>5.2</td>\n",
       "      <td>2.0</td>\n",
       "      <td>Iris-virginica</td>\n",
       "    </tr>\n",
       "    <tr>\n",
       "      <th>148</th>\n",
       "      <td>6.2</td>\n",
       "      <td>3.4</td>\n",
       "      <td>5.4</td>\n",
       "      <td>2.3</td>\n",
       "      <td>Iris-virginica</td>\n",
       "    </tr>\n",
       "    <tr>\n",
       "      <th>149</th>\n",
       "      <td>5.9</td>\n",
       "      <td>3.0</td>\n",
       "      <td>5.1</td>\n",
       "      <td>1.8</td>\n",
       "      <td>Iris-virginica</td>\n",
       "    </tr>\n",
       "  </tbody>\n",
       "</table>\n",
       "</div>"
      ],
      "text/plain": [
       "     Sepal Length (in cm)  ...           Class\n",
       "145                   6.7  ...  Iris-virginica\n",
       "146                   6.3  ...  Iris-virginica\n",
       "147                   6.5  ...  Iris-virginica\n",
       "148                   6.2  ...  Iris-virginica\n",
       "149                   5.9  ...  Iris-virginica\n",
       "\n",
       "[5 rows x 5 columns]"
      ]
     },
     "execution_count": 38,
     "metadata": {
      "tags": []
     },
     "output_type": "execute_result"
    }
   ],
   "source": [
    "iris_df.tail()"
   ]
  },
  {
   "cell_type": "code",
   "execution_count": 39,
   "metadata": {
    "colab": {
     "base_uri": "https://localhost:8080/",
     "height": 191
    },
    "colab_type": "code",
    "id": "97RCQB85lDQB",
    "outputId": "dd4591f8-c674-421e-a7be-503d906f4199"
   },
   "outputs": [
    {
     "name": "stdout",
     "output_type": "stream",
     "text": [
      "<class 'pandas.core.frame.DataFrame'>\n",
      "RangeIndex: 150 entries, 0 to 149\n",
      "Data columns (total 5 columns):\n",
      "Sepal Length (in cm)    150 non-null float64\n",
      "Sepal Width in (cm)     150 non-null float64\n",
      "Petal length (in cm)    150 non-null float64\n",
      "Petal width (in cm)     150 non-null float64\n",
      "Class                   150 non-null object\n",
      "dtypes: float64(4), object(1)\n",
      "memory usage: 6.0+ KB\n"
     ]
    }
   ],
   "source": [
    "iris_df.info()"
   ]
  },
  {
   "cell_type": "code",
   "execution_count": 40,
   "metadata": {
    "colab": {
     "base_uri": "https://localhost:8080/",
     "height": 294
    },
    "colab_type": "code",
    "id": "KfEfRvuqlyJb",
    "outputId": "6b062261-b3be-4017-cbeb-2590171446c5"
   },
   "outputs": [
    {
     "data": {
      "text/html": [
       "<div>\n",
       "<style scoped>\n",
       "    .dataframe tbody tr th:only-of-type {\n",
       "        vertical-align: middle;\n",
       "    }\n",
       "\n",
       "    .dataframe tbody tr th {\n",
       "        vertical-align: top;\n",
       "    }\n",
       "\n",
       "    .dataframe thead th {\n",
       "        text-align: right;\n",
       "    }\n",
       "</style>\n",
       "<table border=\"1\" class=\"dataframe\">\n",
       "  <thead>\n",
       "    <tr style=\"text-align: right;\">\n",
       "      <th></th>\n",
       "      <th>Sepal Length (in cm)</th>\n",
       "      <th>Sepal Width in (cm)</th>\n",
       "      <th>Petal length (in cm)</th>\n",
       "      <th>Petal width (in cm)</th>\n",
       "    </tr>\n",
       "  </thead>\n",
       "  <tbody>\n",
       "    <tr>\n",
       "      <th>count</th>\n",
       "      <td>150.000000</td>\n",
       "      <td>150.000000</td>\n",
       "      <td>150.000000</td>\n",
       "      <td>150.000000</td>\n",
       "    </tr>\n",
       "    <tr>\n",
       "      <th>mean</th>\n",
       "      <td>5.843333</td>\n",
       "      <td>3.054000</td>\n",
       "      <td>3.758667</td>\n",
       "      <td>1.198667</td>\n",
       "    </tr>\n",
       "    <tr>\n",
       "      <th>std</th>\n",
       "      <td>0.828066</td>\n",
       "      <td>0.433594</td>\n",
       "      <td>1.764420</td>\n",
       "      <td>0.763161</td>\n",
       "    </tr>\n",
       "    <tr>\n",
       "      <th>min</th>\n",
       "      <td>4.300000</td>\n",
       "      <td>2.000000</td>\n",
       "      <td>1.000000</td>\n",
       "      <td>0.100000</td>\n",
       "    </tr>\n",
       "    <tr>\n",
       "      <th>25%</th>\n",
       "      <td>5.100000</td>\n",
       "      <td>2.800000</td>\n",
       "      <td>1.600000</td>\n",
       "      <td>0.300000</td>\n",
       "    </tr>\n",
       "    <tr>\n",
       "      <th>50%</th>\n",
       "      <td>5.800000</td>\n",
       "      <td>3.000000</td>\n",
       "      <td>4.350000</td>\n",
       "      <td>1.300000</td>\n",
       "    </tr>\n",
       "    <tr>\n",
       "      <th>75%</th>\n",
       "      <td>6.400000</td>\n",
       "      <td>3.300000</td>\n",
       "      <td>5.100000</td>\n",
       "      <td>1.800000</td>\n",
       "    </tr>\n",
       "    <tr>\n",
       "      <th>max</th>\n",
       "      <td>7.900000</td>\n",
       "      <td>4.400000</td>\n",
       "      <td>6.900000</td>\n",
       "      <td>2.500000</td>\n",
       "    </tr>\n",
       "  </tbody>\n",
       "</table>\n",
       "</div>"
      ],
      "text/plain": [
       "       Sepal Length (in cm)  ...  Petal width (in cm)\n",
       "count            150.000000  ...           150.000000\n",
       "mean               5.843333  ...             1.198667\n",
       "std                0.828066  ...             0.763161\n",
       "min                4.300000  ...             0.100000\n",
       "25%                5.100000  ...             0.300000\n",
       "50%                5.800000  ...             1.300000\n",
       "75%                6.400000  ...             1.800000\n",
       "max                7.900000  ...             2.500000\n",
       "\n",
       "[8 rows x 4 columns]"
      ]
     },
     "execution_count": 40,
     "metadata": {
      "tags": []
     },
     "output_type": "execute_result"
    }
   ],
   "source": [
    "iris_df.describe()"
   ]
  },
  {
   "cell_type": "markdown",
   "metadata": {
    "colab_type": "text",
    "id": "SAB--Qdwcihm"
   },
   "source": [
    "### Target set has different categories. So, Label encode them. And convert into one-hot vectors using get_dummies in pandas."
   ]
  },
  {
   "cell_type": "code",
   "execution_count": 41,
   "metadata": {
    "colab": {
     "base_uri": "https://localhost:8080/",
     "height": 35
    },
    "colab_type": "code",
    "id": "IJr5dYnocihm",
    "outputId": "4725a7e5-6554-469f-c807-b0210cbd2ef7"
   },
   "outputs": [
    {
     "data": {
      "text/plain": [
       "array(['Iris-setosa', 'Iris-versicolor', 'Iris-virginica'], dtype=object)"
      ]
     },
     "execution_count": 41,
     "metadata": {
      "tags": []
     },
     "output_type": "execute_result"
    }
   ],
   "source": [
    "iris_df['Class'].unique()"
   ]
  },
  {
   "cell_type": "code",
   "execution_count": 0,
   "metadata": {
    "colab": {},
    "colab_type": "code",
    "id": "QKK4i3cXmbt2"
   },
   "outputs": [],
   "source": [
    "from sklearn.preprocessing import LabelEncoder\n",
    "class_label_encoder = LabelEncoder()\n",
    "iris_df['Class'] = class_label_encoder.fit_transform(iris_df['Class'])\n"
   ]
  },
  {
   "cell_type": "code",
   "execution_count": 43,
   "metadata": {
    "colab": {
     "base_uri": "https://localhost:8080/",
     "height": 35
    },
    "colab_type": "code",
    "id": "ABgjDW-4mbxW",
    "outputId": "19d8f87d-8dc0-4a68-d036-0bdc40d993a7"
   },
   "outputs": [
    {
     "data": {
      "text/plain": [
       "array([0, 1, 2])"
      ]
     },
     "execution_count": 43,
     "metadata": {
      "tags": []
     },
     "output_type": "execute_result"
    }
   ],
   "source": [
    "iris_df['Class'].unique()"
   ]
  },
  {
   "cell_type": "code",
   "execution_count": 0,
   "metadata": {
    "colab": {},
    "colab_type": "code",
    "id": "nHiQ2izxqBS1"
   },
   "outputs": [],
   "source": [
    "one_hot= pd.get_dummies(iris_df['Class'], prefix='Class')\n",
    "iris_df = iris_df.drop('Class',axis = 1)\n",
    "iris_df = iris_df.join(one_hot)\n",
    "\n"
   ]
  },
  {
   "cell_type": "code",
   "execution_count": 45,
   "metadata": {
    "colab": {
     "base_uri": "https://localhost:8080/",
     "height": 202
    },
    "colab_type": "code",
    "id": "lQm2ak6U24Rf",
    "outputId": "492eaf85-4b6f-45b6-aa93-3efcca0459cb"
   },
   "outputs": [
    {
     "data": {
      "text/html": [
       "<div>\n",
       "<style scoped>\n",
       "    .dataframe tbody tr th:only-of-type {\n",
       "        vertical-align: middle;\n",
       "    }\n",
       "\n",
       "    .dataframe tbody tr th {\n",
       "        vertical-align: top;\n",
       "    }\n",
       "\n",
       "    .dataframe thead th {\n",
       "        text-align: right;\n",
       "    }\n",
       "</style>\n",
       "<table border=\"1\" class=\"dataframe\">\n",
       "  <thead>\n",
       "    <tr style=\"text-align: right;\">\n",
       "      <th></th>\n",
       "      <th>Sepal Length (in cm)</th>\n",
       "      <th>Sepal Width in (cm)</th>\n",
       "      <th>Petal length (in cm)</th>\n",
       "      <th>Petal width (in cm)</th>\n",
       "      <th>Class_0</th>\n",
       "      <th>Class_1</th>\n",
       "      <th>Class_2</th>\n",
       "    </tr>\n",
       "  </thead>\n",
       "  <tbody>\n",
       "    <tr>\n",
       "      <th>0</th>\n",
       "      <td>5.1</td>\n",
       "      <td>3.5</td>\n",
       "      <td>1.4</td>\n",
       "      <td>0.2</td>\n",
       "      <td>1</td>\n",
       "      <td>0</td>\n",
       "      <td>0</td>\n",
       "    </tr>\n",
       "    <tr>\n",
       "      <th>1</th>\n",
       "      <td>4.9</td>\n",
       "      <td>3.0</td>\n",
       "      <td>1.4</td>\n",
       "      <td>0.2</td>\n",
       "      <td>1</td>\n",
       "      <td>0</td>\n",
       "      <td>0</td>\n",
       "    </tr>\n",
       "    <tr>\n",
       "      <th>2</th>\n",
       "      <td>4.7</td>\n",
       "      <td>3.2</td>\n",
       "      <td>1.3</td>\n",
       "      <td>0.2</td>\n",
       "      <td>1</td>\n",
       "      <td>0</td>\n",
       "      <td>0</td>\n",
       "    </tr>\n",
       "    <tr>\n",
       "      <th>3</th>\n",
       "      <td>4.6</td>\n",
       "      <td>3.1</td>\n",
       "      <td>1.5</td>\n",
       "      <td>0.2</td>\n",
       "      <td>1</td>\n",
       "      <td>0</td>\n",
       "      <td>0</td>\n",
       "    </tr>\n",
       "    <tr>\n",
       "      <th>4</th>\n",
       "      <td>5.0</td>\n",
       "      <td>3.6</td>\n",
       "      <td>1.4</td>\n",
       "      <td>0.2</td>\n",
       "      <td>1</td>\n",
       "      <td>0</td>\n",
       "      <td>0</td>\n",
       "    </tr>\n",
       "  </tbody>\n",
       "</table>\n",
       "</div>"
      ],
      "text/plain": [
       "   Sepal Length (in cm)  Sepal Width in (cm)  ...  Class_1  Class_2\n",
       "0                   5.1                  3.5  ...        0        0\n",
       "1                   4.9                  3.0  ...        0        0\n",
       "2                   4.7                  3.2  ...        0        0\n",
       "3                   4.6                  3.1  ...        0        0\n",
       "4                   5.0                  3.6  ...        0        0\n",
       "\n",
       "[5 rows x 7 columns]"
      ]
     },
     "execution_count": 45,
     "metadata": {
      "tags": []
     },
     "output_type": "execute_result"
    }
   ],
   "source": [
    "iris_df.head()\n"
   ]
  },
  {
   "cell_type": "markdown",
   "metadata": {
    "colab_type": "text",
    "id": "D95nY5ILcihj"
   },
   "source": [
    "### Splitting the data into feature set and target set"
   ]
  },
  {
   "cell_type": "code",
   "execution_count": 0,
   "metadata": {
    "colab": {},
    "colab_type": "code",
    "id": "RyMQoLMucihj"
   },
   "outputs": [],
   "source": [
    "from scipy.stats import zscore\n",
    "\n",
    "X = iris_df.drop(labels= [\"Class_0\",\"Class_1\",\"Class_2\"] , axis = 1)\n",
    "#X = X.apply(zscore)\n",
    "y = iris_df[[\"Class_0\",\"Class_1\",\"Class_2\"]]"
   ]
  },
  {
   "cell_type": "code",
   "execution_count": 0,
   "metadata": {
    "colab": {},
    "colab_type": "code",
    "id": "SeHWEfsmsJ0l"
   },
   "outputs": [],
   "source": [
    "test_size = 0.30 # taking 70:30 training and test set\n",
    "seed = 7  # Random numbmer seeding for reapeatability of the code\n",
    "X_train, X_test, y_train, y_test = train_test_split(X, y, test_size=test_size, random_state=seed)"
   ]
  },
  {
   "cell_type": "code",
   "execution_count": 48,
   "metadata": {
    "colab": {
     "base_uri": "https://localhost:8080/",
     "height": 35
    },
    "colab_type": "code",
    "id": "EYLNdssOsJ3-",
    "outputId": "8e6f3dea-070a-4a3c-9210-a0e6f23c5fd3"
   },
   "outputs": [
    {
     "data": {
      "text/plain": [
       "(105, 4)"
      ]
     },
     "execution_count": 48,
     "metadata": {
      "tags": []
     },
     "output_type": "execute_result"
    }
   ],
   "source": [
    "X_train.shape"
   ]
  },
  {
   "cell_type": "markdown",
   "metadata": {
    "colab_type": "text",
    "id": "b22qpC5xcihr"
   },
   "source": [
    "###  Building Model in tf.keras\n",
    "\n",
    "Build a Linear Classifier model  <br>\n",
    "1.  Use Dense Layer  with input shape of 4 (according to the feature set) and number of outputs set to 3<br> \n",
    "2. Apply Softmax on Dense Layer outputs <br>\n",
    "3. Use SGD as Optimizer\n",
    "4. Use categorical_crossentropy as loss function "
   ]
  },
  {
   "cell_type": "code",
   "execution_count": 0,
   "metadata": {
    "colab": {},
    "colab_type": "code",
    "id": "Hov_UFnUciht"
   },
   "outputs": [],
   "source": [
    "# Initialize Sequential model\n",
    "model = tf.keras.models.Sequential()\n",
    "\n",
    "# Normalize the data\n",
    "model.add(tf.keras.layers.BatchNormalization())\n",
    "\n",
    "# Add Dense Layer which provides 3 Outputs after applying softmax -  activation function would be softmax \n",
    "model.add(tf.keras.layers.Dense(3, input_shape=(4,), activation='softmax'))"
   ]
  },
  {
   "cell_type": "code",
   "execution_count": 0,
   "metadata": {
    "colab": {},
    "colab_type": "code",
    "id": "dm2lGVZXRTQe"
   },
   "outputs": [],
   "source": [
    "# Comile the model - Stocashtic Gradient Descent -Stocashtic means random\n",
    "model.compile(optimizer='sgd', loss='categorical_crossentropy', metrics=['accuracy'])"
   ]
  },
  {
   "cell_type": "markdown",
   "metadata": {
    "colab_type": "text",
    "id": "T5FdzqIKcihw"
   },
   "source": [
    "### Model Training "
   ]
  },
  {
   "cell_type": "code",
   "execution_count": 0,
   "metadata": {
    "colab": {},
    "colab_type": "code",
    "id": "JBUXnehVyQ9P"
   },
   "outputs": [],
   "source": [
    "tf.random.set_seed(42)"
   ]
  },
  {
   "cell_type": "code",
   "execution_count": 52,
   "metadata": {
    "colab": {
     "base_uri": "https://localhost:8080/",
     "height": 1000
    },
    "colab_type": "code",
    "id": "4qLEdHPscihx",
    "outputId": "f39ba823-d7dc-4a1a-a12d-dbba237bd41b"
   },
   "outputs": [
    {
     "name": "stdout",
     "output_type": "stream",
     "text": [
      "Train on 105 samples, validate on 45 samples\n",
      "Epoch 1/100\n",
      "105/105 [==============================] - 0s 3ms/sample - loss: 1.2603 - accuracy: 0.3238 - val_loss: 3.4041 - val_accuracy: 0.2667\n",
      "Epoch 2/100\n",
      "105/105 [==============================] - 0s 110us/sample - loss: 1.2395 - accuracy: 0.3238 - val_loss: 3.2958 - val_accuracy: 0.2667\n",
      "Epoch 3/100\n",
      "105/105 [==============================] - 0s 94us/sample - loss: 1.2192 - accuracy: 0.3238 - val_loss: 3.1920 - val_accuracy: 0.2667\n",
      "Epoch 4/100\n",
      "105/105 [==============================] - 0s 100us/sample - loss: 1.1994 - accuracy: 0.3429 - val_loss: 3.0925 - val_accuracy: 0.2667\n",
      "Epoch 5/100\n",
      "105/105 [==============================] - 0s 103us/sample - loss: 1.1802 - accuracy: 0.3429 - val_loss: 2.9971 - val_accuracy: 0.2667\n",
      "Epoch 6/100\n",
      "105/105 [==============================] - 0s 102us/sample - loss: 1.1615 - accuracy: 0.3429 - val_loss: 2.9057 - val_accuracy: 0.2667\n",
      "Epoch 7/100\n",
      "105/105 [==============================] - 0s 102us/sample - loss: 1.1433 - accuracy: 0.3429 - val_loss: 2.8180 - val_accuracy: 0.2667\n",
      "Epoch 8/100\n",
      "105/105 [==============================] - 0s 120us/sample - loss: 1.1256 - accuracy: 0.3429 - val_loss: 2.7341 - val_accuracy: 0.2667\n",
      "Epoch 9/100\n",
      "105/105 [==============================] - 0s 103us/sample - loss: 1.1084 - accuracy: 0.3619 - val_loss: 2.6536 - val_accuracy: 0.2667\n",
      "Epoch 10/100\n",
      "105/105 [==============================] - 0s 101us/sample - loss: 1.0916 - accuracy: 0.3619 - val_loss: 2.5766 - val_accuracy: 0.2667\n",
      "Epoch 11/100\n",
      "105/105 [==============================] - 0s 109us/sample - loss: 1.0753 - accuracy: 0.3619 - val_loss: 2.5028 - val_accuracy: 0.2667\n",
      "Epoch 12/100\n",
      "105/105 [==============================] - 0s 114us/sample - loss: 1.0594 - accuracy: 0.3714 - val_loss: 2.4321 - val_accuracy: 0.2667\n",
      "Epoch 13/100\n",
      "105/105 [==============================] - 0s 93us/sample - loss: 1.0440 - accuracy: 0.4000 - val_loss: 2.3646 - val_accuracy: 0.2667\n",
      "Epoch 14/100\n",
      "105/105 [==============================] - 0s 103us/sample - loss: 1.0289 - accuracy: 0.4095 - val_loss: 2.3000 - val_accuracy: 0.2667\n",
      "Epoch 15/100\n",
      "105/105 [==============================] - 0s 82us/sample - loss: 1.0143 - accuracy: 0.4095 - val_loss: 2.2382 - val_accuracy: 0.2667\n",
      "Epoch 16/100\n",
      "105/105 [==============================] - 0s 81us/sample - loss: 1.0000 - accuracy: 0.4190 - val_loss: 2.1793 - val_accuracy: 0.2667\n",
      "Epoch 17/100\n",
      "105/105 [==============================] - 0s 85us/sample - loss: 0.9862 - accuracy: 0.4286 - val_loss: 2.1230 - val_accuracy: 0.2667\n",
      "Epoch 18/100\n",
      "105/105 [==============================] - 0s 85us/sample - loss: 0.9727 - accuracy: 0.4286 - val_loss: 2.0693 - val_accuracy: 0.2667\n",
      "Epoch 19/100\n",
      "105/105 [==============================] - 0s 132us/sample - loss: 0.9595 - accuracy: 0.4476 - val_loss: 2.0182 - val_accuracy: 0.2667\n",
      "Epoch 20/100\n",
      "105/105 [==============================] - 0s 100us/sample - loss: 0.9468 - accuracy: 0.5048 - val_loss: 1.9696 - val_accuracy: 0.2667\n",
      "Epoch 21/100\n",
      "105/105 [==============================] - 0s 160us/sample - loss: 0.9343 - accuracy: 0.5429 - val_loss: 1.9233 - val_accuracy: 0.2667\n",
      "Epoch 22/100\n",
      "105/105 [==============================] - 0s 95us/sample - loss: 0.9222 - accuracy: 0.5619 - val_loss: 1.8793 - val_accuracy: 0.2667\n",
      "Epoch 23/100\n",
      "105/105 [==============================] - 0s 111us/sample - loss: 0.9104 - accuracy: 0.6095 - val_loss: 1.8375 - val_accuracy: 0.2667\n",
      "Epoch 24/100\n",
      "105/105 [==============================] - 0s 110us/sample - loss: 0.8989 - accuracy: 0.6095 - val_loss: 1.7979 - val_accuracy: 0.2667\n",
      "Epoch 25/100\n",
      "105/105 [==============================] - 0s 84us/sample - loss: 0.8877 - accuracy: 0.6286 - val_loss: 1.7604 - val_accuracy: 0.2667\n",
      "Epoch 26/100\n",
      "105/105 [==============================] - 0s 85us/sample - loss: 0.8768 - accuracy: 0.6476 - val_loss: 1.7249 - val_accuracy: 0.2667\n",
      "Epoch 27/100\n",
      "105/105 [==============================] - 0s 96us/sample - loss: 0.8662 - accuracy: 0.6667 - val_loss: 1.6913 - val_accuracy: 0.2667\n",
      "Epoch 28/100\n",
      "105/105 [==============================] - 0s 108us/sample - loss: 0.8558 - accuracy: 0.6667 - val_loss: 1.6595 - val_accuracy: 0.2667\n",
      "Epoch 29/100\n",
      "105/105 [==============================] - 0s 113us/sample - loss: 0.8457 - accuracy: 0.7048 - val_loss: 1.6296 - val_accuracy: 0.2667\n",
      "Epoch 30/100\n",
      "105/105 [==============================] - 0s 122us/sample - loss: 0.8359 - accuracy: 0.7238 - val_loss: 1.6013 - val_accuracy: 0.2667\n",
      "Epoch 31/100\n",
      "105/105 [==============================] - 0s 102us/sample - loss: 0.8264 - accuracy: 0.7524 - val_loss: 1.5746 - val_accuracy: 0.2667\n",
      "Epoch 32/100\n",
      "105/105 [==============================] - 0s 150us/sample - loss: 0.8170 - accuracy: 0.7619 - val_loss: 1.5495 - val_accuracy: 0.2667\n",
      "Epoch 33/100\n",
      "105/105 [==============================] - 0s 140us/sample - loss: 0.8080 - accuracy: 0.7619 - val_loss: 1.5258 - val_accuracy: 0.2667\n",
      "Epoch 34/100\n",
      "105/105 [==============================] - 0s 92us/sample - loss: 0.7991 - accuracy: 0.7619 - val_loss: 1.5035 - val_accuracy: 0.2667\n",
      "Epoch 35/100\n",
      "105/105 [==============================] - 0s 118us/sample - loss: 0.7905 - accuracy: 0.7714 - val_loss: 1.4825 - val_accuracy: 0.2667\n",
      "Epoch 36/100\n",
      "105/105 [==============================] - 0s 115us/sample - loss: 0.7821 - accuracy: 0.7714 - val_loss: 1.4628 - val_accuracy: 0.2889\n",
      "Epoch 37/100\n",
      "105/105 [==============================] - 0s 99us/sample - loss: 0.7738 - accuracy: 0.7810 - val_loss: 1.4443 - val_accuracy: 0.3111\n",
      "Epoch 38/100\n",
      "105/105 [==============================] - 0s 132us/sample - loss: 0.7658 - accuracy: 0.7810 - val_loss: 1.4268 - val_accuracy: 0.3556\n",
      "Epoch 39/100\n",
      "105/105 [==============================] - 0s 132us/sample - loss: 0.7580 - accuracy: 0.7905 - val_loss: 1.4104 - val_accuracy: 0.3778\n",
      "Epoch 40/100\n",
      "105/105 [==============================] - 0s 96us/sample - loss: 0.7504 - accuracy: 0.7905 - val_loss: 1.3950 - val_accuracy: 0.3778\n",
      "Epoch 41/100\n",
      "105/105 [==============================] - 0s 107us/sample - loss: 0.7430 - accuracy: 0.8000 - val_loss: 1.3804 - val_accuracy: 0.4667\n",
      "Epoch 42/100\n",
      "105/105 [==============================] - 0s 117us/sample - loss: 0.7358 - accuracy: 0.8000 - val_loss: 1.3668 - val_accuracy: 0.4889\n",
      "Epoch 43/100\n",
      "105/105 [==============================] - 0s 97us/sample - loss: 0.7287 - accuracy: 0.8000 - val_loss: 1.3539 - val_accuracy: 0.5111\n",
      "Epoch 44/100\n",
      "105/105 [==============================] - 0s 122us/sample - loss: 0.7218 - accuracy: 0.8000 - val_loss: 1.3418 - val_accuracy: 0.5111\n",
      "Epoch 45/100\n",
      "105/105 [==============================] - 0s 95us/sample - loss: 0.7150 - accuracy: 0.8190 - val_loss: 1.3303 - val_accuracy: 0.5333\n",
      "Epoch 46/100\n",
      "105/105 [==============================] - 0s 99us/sample - loss: 0.7085 - accuracy: 0.8190 - val_loss: 1.3195 - val_accuracy: 0.5333\n",
      "Epoch 47/100\n",
      "105/105 [==============================] - 0s 103us/sample - loss: 0.7020 - accuracy: 0.8190 - val_loss: 1.3093 - val_accuracy: 0.5556\n",
      "Epoch 48/100\n",
      "105/105 [==============================] - 0s 111us/sample - loss: 0.6958 - accuracy: 0.8190 - val_loss: 1.2997 - val_accuracy: 0.5778\n",
      "Epoch 49/100\n",
      "105/105 [==============================] - 0s 122us/sample - loss: 0.6896 - accuracy: 0.8190 - val_loss: 1.2905 - val_accuracy: 0.5778\n",
      "Epoch 50/100\n",
      "105/105 [==============================] - 0s 115us/sample - loss: 0.6837 - accuracy: 0.8190 - val_loss: 1.2819 - val_accuracy: 0.5778\n",
      "Epoch 51/100\n",
      "105/105 [==============================] - 0s 105us/sample - loss: 0.6778 - accuracy: 0.8190 - val_loss: 1.2736 - val_accuracy: 0.5778\n",
      "Epoch 52/100\n",
      "105/105 [==============================] - 0s 118us/sample - loss: 0.6721 - accuracy: 0.8190 - val_loss: 1.2658 - val_accuracy: 0.5778\n",
      "Epoch 53/100\n",
      "105/105 [==============================] - 0s 121us/sample - loss: 0.6665 - accuracy: 0.8190 - val_loss: 1.2583 - val_accuracy: 0.6000\n",
      "Epoch 54/100\n",
      "105/105 [==============================] - 0s 141us/sample - loss: 0.6611 - accuracy: 0.8190 - val_loss: 1.2512 - val_accuracy: 0.6000\n",
      "Epoch 55/100\n",
      "105/105 [==============================] - 0s 131us/sample - loss: 0.6557 - accuracy: 0.8286 - val_loss: 1.2444 - val_accuracy: 0.6000\n",
      "Epoch 56/100\n",
      "105/105 [==============================] - 0s 112us/sample - loss: 0.6505 - accuracy: 0.8286 - val_loss: 1.2379 - val_accuracy: 0.6000\n",
      "Epoch 57/100\n",
      "105/105 [==============================] - 0s 109us/sample - loss: 0.6454 - accuracy: 0.8286 - val_loss: 1.2316 - val_accuracy: 0.6222\n",
      "Epoch 58/100\n",
      "105/105 [==============================] - 0s 93us/sample - loss: 0.6404 - accuracy: 0.8286 - val_loss: 1.2256 - val_accuracy: 0.6222\n",
      "Epoch 59/100\n",
      "105/105 [==============================] - 0s 118us/sample - loss: 0.6356 - accuracy: 0.8381 - val_loss: 1.2198 - val_accuracy: 0.6222\n",
      "Epoch 60/100\n",
      "105/105 [==============================] - 0s 114us/sample - loss: 0.6308 - accuracy: 0.8381 - val_loss: 1.2142 - val_accuracy: 0.6222\n",
      "Epoch 61/100\n",
      "105/105 [==============================] - 0s 128us/sample - loss: 0.6261 - accuracy: 0.8381 - val_loss: 1.2088 - val_accuracy: 0.6444\n",
      "Epoch 62/100\n",
      "105/105 [==============================] - 0s 118us/sample - loss: 0.6216 - accuracy: 0.8381 - val_loss: 1.2035 - val_accuracy: 0.6444\n",
      "Epoch 63/100\n",
      "105/105 [==============================] - 0s 106us/sample - loss: 0.6171 - accuracy: 0.8381 - val_loss: 1.1984 - val_accuracy: 0.6444\n",
      "Epoch 64/100\n",
      "105/105 [==============================] - 0s 124us/sample - loss: 0.6127 - accuracy: 0.8381 - val_loss: 1.1935 - val_accuracy: 0.6444\n",
      "Epoch 65/100\n",
      "105/105 [==============================] - 0s 128us/sample - loss: 0.6084 - accuracy: 0.8381 - val_loss: 1.1886 - val_accuracy: 0.6444\n",
      "Epoch 66/100\n",
      "105/105 [==============================] - 0s 155us/sample - loss: 0.6042 - accuracy: 0.8381 - val_loss: 1.1839 - val_accuracy: 0.6444\n",
      "Epoch 67/100\n",
      "105/105 [==============================] - 0s 138us/sample - loss: 0.6001 - accuracy: 0.8286 - val_loss: 1.1793 - val_accuracy: 0.6444\n",
      "Epoch 68/100\n",
      "105/105 [==============================] - 0s 109us/sample - loss: 0.5961 - accuracy: 0.8286 - val_loss: 1.1748 - val_accuracy: 0.6444\n",
      "Epoch 69/100\n",
      "105/105 [==============================] - 0s 118us/sample - loss: 0.5922 - accuracy: 0.8286 - val_loss: 1.1703 - val_accuracy: 0.6444\n",
      "Epoch 70/100\n",
      "105/105 [==============================] - 0s 118us/sample - loss: 0.5883 - accuracy: 0.8286 - val_loss: 1.1660 - val_accuracy: 0.6444\n",
      "Epoch 71/100\n",
      "105/105 [==============================] - 0s 124us/sample - loss: 0.5845 - accuracy: 0.8286 - val_loss: 1.1617 - val_accuracy: 0.6444\n",
      "Epoch 72/100\n",
      "105/105 [==============================] - 0s 100us/sample - loss: 0.5808 - accuracy: 0.8286 - val_loss: 1.1574 - val_accuracy: 0.6444\n",
      "Epoch 73/100\n",
      "105/105 [==============================] - 0s 112us/sample - loss: 0.5772 - accuracy: 0.8286 - val_loss: 1.1533 - val_accuracy: 0.6444\n",
      "Epoch 74/100\n",
      "105/105 [==============================] - 0s 107us/sample - loss: 0.5736 - accuracy: 0.8286 - val_loss: 1.1491 - val_accuracy: 0.6444\n",
      "Epoch 75/100\n",
      "105/105 [==============================] - 0s 104us/sample - loss: 0.5701 - accuracy: 0.8286 - val_loss: 1.1450 - val_accuracy: 0.6444\n",
      "Epoch 76/100\n",
      "105/105 [==============================] - 0s 140us/sample - loss: 0.5667 - accuracy: 0.8286 - val_loss: 1.1410 - val_accuracy: 0.6444\n",
      "Epoch 77/100\n",
      "105/105 [==============================] - 0s 117us/sample - loss: 0.5634 - accuracy: 0.8286 - val_loss: 1.1370 - val_accuracy: 0.6444\n",
      "Epoch 78/100\n",
      "105/105 [==============================] - 0s 120us/sample - loss: 0.5601 - accuracy: 0.8286 - val_loss: 1.1330 - val_accuracy: 0.6444\n",
      "Epoch 79/100\n",
      "105/105 [==============================] - 0s 119us/sample - loss: 0.5568 - accuracy: 0.8286 - val_loss: 1.1290 - val_accuracy: 0.6444\n",
      "Epoch 80/100\n",
      "105/105 [==============================] - 0s 128us/sample - loss: 0.5537 - accuracy: 0.8286 - val_loss: 1.1251 - val_accuracy: 0.6444\n",
      "Epoch 81/100\n",
      "105/105 [==============================] - 0s 103us/sample - loss: 0.5506 - accuracy: 0.8286 - val_loss: 1.1212 - val_accuracy: 0.6444\n",
      "Epoch 82/100\n",
      "105/105 [==============================] - 0s 96us/sample - loss: 0.5475 - accuracy: 0.8286 - val_loss: 1.1173 - val_accuracy: 0.6444\n",
      "Epoch 83/100\n",
      "105/105 [==============================] - 0s 113us/sample - loss: 0.5445 - accuracy: 0.8381 - val_loss: 1.1134 - val_accuracy: 0.6444\n",
      "Epoch 84/100\n",
      "105/105 [==============================] - 0s 126us/sample - loss: 0.5416 - accuracy: 0.8381 - val_loss: 1.1096 - val_accuracy: 0.6444\n",
      "Epoch 85/100\n",
      "105/105 [==============================] - 0s 121us/sample - loss: 0.5387 - accuracy: 0.8381 - val_loss: 1.1057 - val_accuracy: 0.6444\n",
      "Epoch 86/100\n",
      "105/105 [==============================] - 0s 112us/sample - loss: 0.5358 - accuracy: 0.8381 - val_loss: 1.1019 - val_accuracy: 0.6444\n",
      "Epoch 87/100\n",
      "105/105 [==============================] - 0s 107us/sample - loss: 0.5330 - accuracy: 0.8381 - val_loss: 1.0981 - val_accuracy: 0.6444\n",
      "Epoch 88/100\n",
      "105/105 [==============================] - 0s 125us/sample - loss: 0.5303 - accuracy: 0.8381 - val_loss: 1.0943 - val_accuracy: 0.6444\n",
      "Epoch 89/100\n",
      "105/105 [==============================] - 0s 112us/sample - loss: 0.5276 - accuracy: 0.8381 - val_loss: 1.0905 - val_accuracy: 0.6444\n",
      "Epoch 90/100\n",
      "105/105 [==============================] - 0s 107us/sample - loss: 0.5250 - accuracy: 0.8381 - val_loss: 1.0866 - val_accuracy: 0.6444\n",
      "Epoch 91/100\n",
      "105/105 [==============================] - 0s 150us/sample - loss: 0.5224 - accuracy: 0.8381 - val_loss: 1.0829 - val_accuracy: 0.6444\n",
      "Epoch 92/100\n",
      "105/105 [==============================] - 0s 138us/sample - loss: 0.5198 - accuracy: 0.8381 - val_loss: 1.0791 - val_accuracy: 0.6444\n",
      "Epoch 93/100\n",
      "105/105 [==============================] - 0s 127us/sample - loss: 0.5173 - accuracy: 0.8381 - val_loss: 1.0753 - val_accuracy: 0.6444\n",
      "Epoch 94/100\n",
      "105/105 [==============================] - 0s 141us/sample - loss: 0.5149 - accuracy: 0.8381 - val_loss: 1.0715 - val_accuracy: 0.6444\n",
      "Epoch 95/100\n",
      "105/105 [==============================] - 0s 105us/sample - loss: 0.5124 - accuracy: 0.8381 - val_loss: 1.0677 - val_accuracy: 0.6444\n",
      "Epoch 96/100\n",
      "105/105 [==============================] - 0s 102us/sample - loss: 0.5101 - accuracy: 0.8381 - val_loss: 1.0639 - val_accuracy: 0.6444\n",
      "Epoch 97/100\n",
      "105/105 [==============================] - 0s 122us/sample - loss: 0.5077 - accuracy: 0.8381 - val_loss: 1.0602 - val_accuracy: 0.6444\n",
      "Epoch 98/100\n",
      "105/105 [==============================] - 0s 119us/sample - loss: 0.5054 - accuracy: 0.8381 - val_loss: 1.0564 - val_accuracy: 0.6444\n",
      "Epoch 99/100\n",
      "105/105 [==============================] - 0s 119us/sample - loss: 0.5031 - accuracy: 0.8381 - val_loss: 1.0527 - val_accuracy: 0.6444\n",
      "Epoch 100/100\n",
      "105/105 [==============================] - 0s 112us/sample - loss: 0.5009 - accuracy: 0.8286 - val_loss: 1.0489 - val_accuracy: 0.6444\n"
     ]
    },
    {
     "data": {
      "text/plain": [
       "<tensorflow.python.keras.callbacks.History at 0x7f1a20052978>"
      ]
     },
     "execution_count": 52,
     "metadata": {
      "tags": []
     },
     "output_type": "execute_result"
    }
   ],
   "source": [
    "model.fit(np.array(X_train), np.array(y_train), validation_data=(np.array(X_test), np.array(y_test)), epochs=100, batch_size = y_train.shape[0])"
   ]
  },
  {
   "cell_type": "markdown",
   "metadata": {
    "colab_type": "text",
    "id": "1qIeEgUYJR3f"
   },
   "source": [
    "After 100 Epochs Accuracy is coming to 82.86 % while validation accuracy is 64.44%.."
   ]
  },
  {
   "cell_type": "markdown",
   "metadata": {
    "colab_type": "text",
    "id": "y-SgSSdRcih5"
   },
   "source": [
    "### Model Prediction"
   ]
  },
  {
   "cell_type": "code",
   "execution_count": 0,
   "metadata": {
    "colab": {},
    "colab_type": "code",
    "id": "GBgKZkhkcih6"
   },
   "outputs": [],
   "source": [
    "y_pred=model.predict(np.array(X_test))"
   ]
  },
  {
   "cell_type": "code",
   "execution_count": 54,
   "metadata": {
    "colab": {
     "base_uri": "https://localhost:8080/",
     "height": 35
    },
    "colab_type": "code",
    "id": "dml2DZsjFkod",
    "outputId": "aea63cfe-6fb5-429e-989d-bbb41d879971"
   },
   "outputs": [
    {
     "name": "stdout",
     "output_type": "stream",
     "text": [
      "accuracy: 67.62%\n"
     ]
    }
   ],
   "source": [
    "scores = model.evaluate(np.array(X_train), np.array(y_train), verbose=0)\n",
    "print(\"%s: %.2f%%\" % (model.metrics_names[1], scores[1]*100))\n"
   ]
  },
  {
   "cell_type": "code",
   "execution_count": 55,
   "metadata": {
    "colab": {
     "base_uri": "https://localhost:8080/",
     "height": 35
    },
    "colab_type": "code",
    "id": "-eUufG4DFwKh",
    "outputId": "739e92a8-1880-41ea-a74d-a1e1f12d17dd"
   },
   "outputs": [
    {
     "name": "stdout",
     "output_type": "stream",
     "text": [
      "accuracy: 64.44%\n"
     ]
    }
   ],
   "source": [
    "scores = model.evaluate(X_test, y_test, verbose=0)\n",
    "print(\"%s: %.2f%%\" % (model.metrics_names[1], scores[1]*100))\n"
   ]
  },
  {
   "cell_type": "markdown",
   "metadata": {
    "colab_type": "text",
    "id": "P32ASP1Vjt0a"
   },
   "source": [
    "### Save the Model"
   ]
  },
  {
   "cell_type": "code",
   "execution_count": 56,
   "metadata": {
    "colab": {
     "base_uri": "https://localhost:8080/",
     "height": 225
    },
    "colab_type": "code",
    "id": "ggh4G3XIG9CK",
    "outputId": "7e7bb8c5-acee-4e9f-e6e2-c64a4b3e5a61"
   },
   "outputs": [
    {
     "name": "stdout",
     "output_type": "stream",
     "text": [
      "Model: \"sequential\"\n",
      "_________________________________________________________________\n",
      "Layer (type)                 Output Shape              Param #   \n",
      "=================================================================\n",
      "batch_normalization (BatchNo multiple                  16        \n",
      "_________________________________________________________________\n",
      "dense (Dense)                multiple                  15        \n",
      "=================================================================\n",
      "Total params: 31\n",
      "Trainable params: 23\n",
      "Non-trainable params: 8\n",
      "_________________________________________________________________\n"
     ]
    }
   ],
   "source": [
    "model.summary()"
   ]
  },
  {
   "cell_type": "code",
   "execution_count": 57,
   "metadata": {
    "colab": {
     "base_uri": "https://localhost:8080/",
     "height": 107
    },
    "colab_type": "code",
    "id": "n8rd0jjAjyTR",
    "outputId": "7e6bd908-6335-4a51-f174-704b41ae2116"
   },
   "outputs": [
    {
     "name": "stdout",
     "output_type": "stream",
     "text": [
      "WARNING:tensorflow:From /tensorflow-2.1.0/python3.6/tensorflow_core/python/ops/resource_variable_ops.py:1786: calling BaseResourceVariable.__init__ (from tensorflow.python.ops.resource_variable_ops) with constraint is deprecated and will be removed in a future version.\n",
      "Instructions for updating:\n",
      "If using Keras pass *_constraint arguments to layers.\n",
      "INFO:tensorflow:Assets written to: /gdrive/My Drive/ClassNotes/R6_Ext/assets\n"
     ]
    }
   ],
   "source": [
    "# Export the model to a SavedModel\n",
    "model.save('/gdrive/My Drive/ClassNotes/R6_Ext/', save_format='tf')\n",
    "json_config = model.to_json()\n"
   ]
  },
  {
   "cell_type": "code",
   "execution_count": 0,
   "metadata": {
    "colab": {},
    "colab_type": "code",
    "id": "Py7O1zhe6BHp"
   },
   "outputs": [],
   "source": [
    "## retrieving thr model\n",
    "reinitialized_model = tf.keras.models.model_from_json(json_config)"
   ]
  },
  {
   "cell_type": "code",
   "execution_count": 59,
   "metadata": {
    "colab": {
     "base_uri": "https://localhost:8080/",
     "height": 225
    },
    "colab_type": "code",
    "id": "Qi4qPb7u6GIO",
    "outputId": "c34666d4-d2b4-4339-844e-6400b4d1fd1d"
   },
   "outputs": [
    {
     "name": "stdout",
     "output_type": "stream",
     "text": [
      "Model: \"sequential\"\n",
      "_________________________________________________________________\n",
      "Layer (type)                 Output Shape              Param #   \n",
      "=================================================================\n",
      "batch_normalization (BatchNo multiple                  16        \n",
      "_________________________________________________________________\n",
      "dense (Dense)                multiple                  15        \n",
      "=================================================================\n",
      "Total params: 31\n",
      "Trainable params: 23\n",
      "Non-trainable params: 8\n",
      "_________________________________________________________________\n"
     ]
    }
   ],
   "source": [
    "reinitialized_model.summary()"
   ]
  },
  {
   "cell_type": "markdown",
   "metadata": {
    "colab_type": "text",
    "id": "XiipRpe7rbVh"
   },
   "source": [
    "### Build and Train a Deep Neural network with 2 hidden layer  - Optional - For Practice\n",
    "\n",
    "Does it perform better than Linear Classifier? What could be the reason for difference in performance?"
   ]
  },
  {
   "cell_type": "code",
   "execution_count": 0,
   "metadata": {
    "colab": {},
    "colab_type": "code",
    "id": "pvVcnfMtIySZ"
   },
   "outputs": [],
   "source": [
    "# Initialize Sequential model\n",
    "model2 = tf.keras.models.Sequential()\n",
    "model2.add(tf.keras.layers.BatchNormalization())\n",
    "model2.add(tf.keras.layers.Dense(3, input_shape=(4,)))\n",
    "# Normalize the data\n",
    "model2.add(tf.keras.layers.BatchNormalization())\n",
    "# Add Dense Layer which provides 3 Outputs after applying softmax -  activation function would be softmax \n",
    "model2.add(tf.keras.layers.Dense(3, input_shape=(4,), activation='softmax'))\n",
    "\n",
    "# Comile the model - Stocashtic Gradient Descent -Stocashtic means random\n",
    "model2.compile(optimizer='sgd', loss='categorical_crossentropy', metrics=['accuracy'])"
   ]
  },
  {
   "cell_type": "code",
   "execution_count": 66,
   "metadata": {
    "colab": {
     "base_uri": "https://localhost:8080/",
     "height": 1000
    },
    "colab_type": "code",
    "id": "iqXWPHS544vv",
    "outputId": "0c86d552-dd47-41fb-fb3e-b2de67cc65d4"
   },
   "outputs": [
    {
     "name": "stdout",
     "output_type": "stream",
     "text": [
      "Train on 105 samples, validate on 45 samples\n",
      "Epoch 1/100\n",
      "105/105 [==============================] - 1s 5ms/sample - loss: 1.4048 - accuracy: 0.2857 - val_loss: 10.5903 - val_accuracy: 0.2667\n",
      "Epoch 2/100\n",
      "105/105 [==============================] - 0s 131us/sample - loss: 1.3187 - accuracy: 0.3524 - val_loss: 10.1603 - val_accuracy: 0.2667\n",
      "Epoch 3/100\n",
      "105/105 [==============================] - 0s 112us/sample - loss: 1.2568 - accuracy: 0.3810 - val_loss: 9.7695 - val_accuracy: 0.2667\n",
      "Epoch 4/100\n",
      "105/105 [==============================] - 0s 104us/sample - loss: 1.2088 - accuracy: 0.4190 - val_loss: 9.4087 - val_accuracy: 0.2667\n",
      "Epoch 5/100\n",
      "105/105 [==============================] - 0s 112us/sample - loss: 1.1694 - accuracy: 0.4476 - val_loss: 9.0722 - val_accuracy: 0.2667\n",
      "Epoch 6/100\n",
      "105/105 [==============================] - 0s 104us/sample - loss: 1.1357 - accuracy: 0.4762 - val_loss: 8.7560 - val_accuracy: 0.2667\n",
      "Epoch 7/100\n",
      "105/105 [==============================] - 0s 105us/sample - loss: 1.1060 - accuracy: 0.4857 - val_loss: 8.4573 - val_accuracy: 0.2667\n",
      "Epoch 8/100\n",
      "105/105 [==============================] - 0s 107us/sample - loss: 1.0792 - accuracy: 0.4857 - val_loss: 8.1740 - val_accuracy: 0.2667\n",
      "Epoch 9/100\n",
      "105/105 [==============================] - 0s 106us/sample - loss: 1.0547 - accuracy: 0.4952 - val_loss: 7.9046 - val_accuracy: 0.2667\n",
      "Epoch 10/100\n",
      "105/105 [==============================] - 0s 121us/sample - loss: 1.0321 - accuracy: 0.5048 - val_loss: 7.6477 - val_accuracy: 0.2667\n",
      "Epoch 11/100\n",
      "105/105 [==============================] - 0s 113us/sample - loss: 1.0109 - accuracy: 0.5333 - val_loss: 7.4023 - val_accuracy: 0.2667\n",
      "Epoch 12/100\n",
      "105/105 [==============================] - 0s 112us/sample - loss: 0.9910 - accuracy: 0.5429 - val_loss: 7.1675 - val_accuracy: 0.2667\n",
      "Epoch 13/100\n",
      "105/105 [==============================] - 0s 93us/sample - loss: 0.9722 - accuracy: 0.5619 - val_loss: 6.9425 - val_accuracy: 0.2667\n",
      "Epoch 14/100\n",
      "105/105 [==============================] - 0s 108us/sample - loss: 0.9544 - accuracy: 0.5619 - val_loss: 6.7267 - val_accuracy: 0.2667\n",
      "Epoch 15/100\n",
      "105/105 [==============================] - 0s 115us/sample - loss: 0.9375 - accuracy: 0.5714 - val_loss: 6.5196 - val_accuracy: 0.2667\n",
      "Epoch 16/100\n",
      "105/105 [==============================] - 0s 112us/sample - loss: 0.9213 - accuracy: 0.5905 - val_loss: 6.3205 - val_accuracy: 0.2667\n",
      "Epoch 17/100\n",
      "105/105 [==============================] - 0s 137us/sample - loss: 0.9059 - accuracy: 0.6000 - val_loss: 6.1290 - val_accuracy: 0.2667\n",
      "Epoch 18/100\n",
      "105/105 [==============================] - 0s 144us/sample - loss: 0.8911 - accuracy: 0.6000 - val_loss: 5.9448 - val_accuracy: 0.2667\n",
      "Epoch 19/100\n",
      "105/105 [==============================] - 0s 132us/sample - loss: 0.8769 - accuracy: 0.6000 - val_loss: 5.7674 - val_accuracy: 0.2667\n",
      "Epoch 20/100\n",
      "105/105 [==============================] - 0s 132us/sample - loss: 0.8632 - accuracy: 0.6190 - val_loss: 5.5965 - val_accuracy: 0.2667\n",
      "Epoch 21/100\n",
      "105/105 [==============================] - 0s 121us/sample - loss: 0.8501 - accuracy: 0.6286 - val_loss: 5.4318 - val_accuracy: 0.2667\n",
      "Epoch 22/100\n",
      "105/105 [==============================] - 0s 152us/sample - loss: 0.8375 - accuracy: 0.6476 - val_loss: 5.2730 - val_accuracy: 0.2667\n",
      "Epoch 23/100\n",
      "105/105 [==============================] - 0s 128us/sample - loss: 0.8254 - accuracy: 0.6476 - val_loss: 5.1199 - val_accuracy: 0.2667\n",
      "Epoch 24/100\n",
      "105/105 [==============================] - 0s 130us/sample - loss: 0.8137 - accuracy: 0.6667 - val_loss: 4.9721 - val_accuracy: 0.2667\n",
      "Epoch 25/100\n",
      "105/105 [==============================] - 0s 121us/sample - loss: 0.8024 - accuracy: 0.6667 - val_loss: 4.8296 - val_accuracy: 0.2667\n",
      "Epoch 26/100\n",
      "105/105 [==============================] - 0s 110us/sample - loss: 0.7915 - accuracy: 0.6667 - val_loss: 4.6920 - val_accuracy: 0.2667\n",
      "Epoch 27/100\n",
      "105/105 [==============================] - 0s 117us/sample - loss: 0.7810 - accuracy: 0.6762 - val_loss: 4.5592 - val_accuracy: 0.2667\n",
      "Epoch 28/100\n",
      "105/105 [==============================] - 0s 137us/sample - loss: 0.7709 - accuracy: 0.6857 - val_loss: 4.4310 - val_accuracy: 0.2667\n",
      "Epoch 29/100\n",
      "105/105 [==============================] - 0s 134us/sample - loss: 0.7610 - accuracy: 0.6857 - val_loss: 4.3072 - val_accuracy: 0.2667\n",
      "Epoch 30/100\n",
      "105/105 [==============================] - 0s 95us/sample - loss: 0.7516 - accuracy: 0.6952 - val_loss: 4.1877 - val_accuracy: 0.2667\n",
      "Epoch 31/100\n",
      "105/105 [==============================] - 0s 119us/sample - loss: 0.7424 - accuracy: 0.7048 - val_loss: 4.0724 - val_accuracy: 0.2667\n",
      "Epoch 32/100\n",
      "105/105 [==============================] - 0s 106us/sample - loss: 0.7335 - accuracy: 0.7238 - val_loss: 3.9611 - val_accuracy: 0.2667\n",
      "Epoch 33/100\n",
      "105/105 [==============================] - 0s 116us/sample - loss: 0.7249 - accuracy: 0.7333 - val_loss: 3.8537 - val_accuracy: 0.2667\n",
      "Epoch 34/100\n",
      "105/105 [==============================] - 0s 126us/sample - loss: 0.7166 - accuracy: 0.7429 - val_loss: 3.7500 - val_accuracy: 0.2667\n",
      "Epoch 35/100\n",
      "105/105 [==============================] - 0s 127us/sample - loss: 0.7085 - accuracy: 0.7429 - val_loss: 3.6499 - val_accuracy: 0.2667\n",
      "Epoch 36/100\n",
      "105/105 [==============================] - 0s 127us/sample - loss: 0.7007 - accuracy: 0.7619 - val_loss: 3.5535 - val_accuracy: 0.2667\n",
      "Epoch 37/100\n",
      "105/105 [==============================] - 0s 121us/sample - loss: 0.6932 - accuracy: 0.7810 - val_loss: 3.4604 - val_accuracy: 0.2667\n",
      "Epoch 38/100\n",
      "105/105 [==============================] - 0s 113us/sample - loss: 0.6858 - accuracy: 0.7810 - val_loss: 3.3707 - val_accuracy: 0.2667\n",
      "Epoch 39/100\n",
      "105/105 [==============================] - 0s 124us/sample - loss: 0.6787 - accuracy: 0.7810 - val_loss: 3.2843 - val_accuracy: 0.2667\n",
      "Epoch 40/100\n",
      "105/105 [==============================] - 0s 125us/sample - loss: 0.6718 - accuracy: 0.7905 - val_loss: 3.2010 - val_accuracy: 0.2667\n",
      "Epoch 41/100\n",
      "105/105 [==============================] - 0s 130us/sample - loss: 0.6651 - accuracy: 0.7905 - val_loss: 3.1207 - val_accuracy: 0.2667\n",
      "Epoch 42/100\n",
      "105/105 [==============================] - 0s 106us/sample - loss: 0.6586 - accuracy: 0.8095 - val_loss: 3.0435 - val_accuracy: 0.2667\n",
      "Epoch 43/100\n",
      "105/105 [==============================] - 0s 128us/sample - loss: 0.6523 - accuracy: 0.8095 - val_loss: 2.9691 - val_accuracy: 0.2667\n",
      "Epoch 44/100\n",
      "105/105 [==============================] - 0s 147us/sample - loss: 0.6462 - accuracy: 0.8190 - val_loss: 2.8976 - val_accuracy: 0.2667\n",
      "Epoch 45/100\n",
      "105/105 [==============================] - 0s 127us/sample - loss: 0.6402 - accuracy: 0.8190 - val_loss: 2.8288 - val_accuracy: 0.2667\n",
      "Epoch 46/100\n",
      "105/105 [==============================] - 0s 134us/sample - loss: 0.6345 - accuracy: 0.8286 - val_loss: 2.7626 - val_accuracy: 0.2667\n",
      "Epoch 47/100\n",
      "105/105 [==============================] - 0s 132us/sample - loss: 0.6288 - accuracy: 0.8286 - val_loss: 2.6990 - val_accuracy: 0.2667\n",
      "Epoch 48/100\n",
      "105/105 [==============================] - 0s 119us/sample - loss: 0.6234 - accuracy: 0.8476 - val_loss: 2.6379 - val_accuracy: 0.2667\n",
      "Epoch 49/100\n",
      "105/105 [==============================] - 0s 120us/sample - loss: 0.6181 - accuracy: 0.8476 - val_loss: 2.5792 - val_accuracy: 0.2667\n",
      "Epoch 50/100\n",
      "105/105 [==============================] - 0s 144us/sample - loss: 0.6129 - accuracy: 0.8476 - val_loss: 2.5228 - val_accuracy: 0.2667\n",
      "Epoch 51/100\n",
      "105/105 [==============================] - 0s 108us/sample - loss: 0.6079 - accuracy: 0.8476 - val_loss: 2.4686 - val_accuracy: 0.2667\n",
      "Epoch 52/100\n",
      "105/105 [==============================] - 0s 134us/sample - loss: 0.6030 - accuracy: 0.8476 - val_loss: 2.4167 - val_accuracy: 0.2667\n",
      "Epoch 53/100\n",
      "105/105 [==============================] - 0s 111us/sample - loss: 0.5982 - accuracy: 0.8476 - val_loss: 2.3668 - val_accuracy: 0.2667\n",
      "Epoch 54/100\n",
      "105/105 [==============================] - 0s 110us/sample - loss: 0.5935 - accuracy: 0.8476 - val_loss: 2.3189 - val_accuracy: 0.2667\n",
      "Epoch 55/100\n",
      "105/105 [==============================] - 0s 139us/sample - loss: 0.5890 - accuracy: 0.8476 - val_loss: 2.2730 - val_accuracy: 0.2667\n",
      "Epoch 56/100\n",
      "105/105 [==============================] - 0s 122us/sample - loss: 0.5846 - accuracy: 0.8571 - val_loss: 2.2289 - val_accuracy: 0.2667\n",
      "Epoch 57/100\n",
      "105/105 [==============================] - 0s 104us/sample - loss: 0.5803 - accuracy: 0.8571 - val_loss: 2.1866 - val_accuracy: 0.2667\n",
      "Epoch 58/100\n",
      "105/105 [==============================] - 0s 128us/sample - loss: 0.5761 - accuracy: 0.8667 - val_loss: 2.1461 - val_accuracy: 0.2889\n",
      "Epoch 59/100\n",
      "105/105 [==============================] - 0s 115us/sample - loss: 0.5721 - accuracy: 0.8667 - val_loss: 2.1071 - val_accuracy: 0.3111\n",
      "Epoch 60/100\n",
      "105/105 [==============================] - 0s 137us/sample - loss: 0.5681 - accuracy: 0.8667 - val_loss: 2.0697 - val_accuracy: 0.3111\n",
      "Epoch 61/100\n",
      "105/105 [==============================] - 0s 117us/sample - loss: 0.5642 - accuracy: 0.8667 - val_loss: 2.0339 - val_accuracy: 0.3556\n",
      "Epoch 62/100\n",
      "105/105 [==============================] - 0s 104us/sample - loss: 0.5604 - accuracy: 0.8667 - val_loss: 1.9994 - val_accuracy: 0.4000\n",
      "Epoch 63/100\n",
      "105/105 [==============================] - 0s 119us/sample - loss: 0.5567 - accuracy: 0.8571 - val_loss: 1.9663 - val_accuracy: 0.4222\n",
      "Epoch 64/100\n",
      "105/105 [==============================] - 0s 124us/sample - loss: 0.5531 - accuracy: 0.8571 - val_loss: 1.9346 - val_accuracy: 0.4222\n",
      "Epoch 65/100\n",
      "105/105 [==============================] - 0s 132us/sample - loss: 0.5495 - accuracy: 0.8571 - val_loss: 1.9040 - val_accuracy: 0.4667\n",
      "Epoch 66/100\n",
      "105/105 [==============================] - 0s 183us/sample - loss: 0.5461 - accuracy: 0.8571 - val_loss: 1.8747 - val_accuracy: 0.4667\n",
      "Epoch 67/100\n",
      "105/105 [==============================] - 0s 117us/sample - loss: 0.5427 - accuracy: 0.8571 - val_loss: 1.8464 - val_accuracy: 0.5333\n",
      "Epoch 68/100\n",
      "105/105 [==============================] - 0s 120us/sample - loss: 0.5394 - accuracy: 0.8571 - val_loss: 1.8193 - val_accuracy: 0.5556\n",
      "Epoch 69/100\n",
      "105/105 [==============================] - 0s 120us/sample - loss: 0.5362 - accuracy: 0.8667 - val_loss: 1.7931 - val_accuracy: 0.5778\n",
      "Epoch 70/100\n",
      "105/105 [==============================] - 0s 122us/sample - loss: 0.5331 - accuracy: 0.8667 - val_loss: 1.7680 - val_accuracy: 0.5778\n",
      "Epoch 71/100\n",
      "105/105 [==============================] - 0s 120us/sample - loss: 0.5300 - accuracy: 0.8667 - val_loss: 1.7437 - val_accuracy: 0.5778\n",
      "Epoch 72/100\n",
      "105/105 [==============================] - 0s 135us/sample - loss: 0.5270 - accuracy: 0.8667 - val_loss: 1.7203 - val_accuracy: 0.6000\n",
      "Epoch 73/100\n",
      "105/105 [==============================] - 0s 134us/sample - loss: 0.5240 - accuracy: 0.8667 - val_loss: 1.6978 - val_accuracy: 0.6000\n",
      "Epoch 74/100\n",
      "105/105 [==============================] - 0s 165us/sample - loss: 0.5212 - accuracy: 0.8667 - val_loss: 1.6760 - val_accuracy: 0.6222\n",
      "Epoch 75/100\n",
      "105/105 [==============================] - 0s 123us/sample - loss: 0.5183 - accuracy: 0.8667 - val_loss: 1.6550 - val_accuracy: 0.6222\n",
      "Epoch 76/100\n",
      "105/105 [==============================] - 0s 139us/sample - loss: 0.5156 - accuracy: 0.8667 - val_loss: 1.6347 - val_accuracy: 0.6222\n",
      "Epoch 77/100\n",
      "105/105 [==============================] - 0s 136us/sample - loss: 0.5129 - accuracy: 0.8667 - val_loss: 1.6151 - val_accuracy: 0.6222\n",
      "Epoch 78/100\n",
      "105/105 [==============================] - 0s 122us/sample - loss: 0.5102 - accuracy: 0.8667 - val_loss: 1.5961 - val_accuracy: 0.6222\n",
      "Epoch 79/100\n",
      "105/105 [==============================] - 0s 114us/sample - loss: 0.5076 - accuracy: 0.8667 - val_loss: 1.5778 - val_accuracy: 0.6222\n",
      "Epoch 80/100\n",
      "105/105 [==============================] - 0s 112us/sample - loss: 0.5051 - accuracy: 0.8667 - val_loss: 1.5600 - val_accuracy: 0.6222\n",
      "Epoch 81/100\n",
      "105/105 [==============================] - 0s 118us/sample - loss: 0.5026 - accuracy: 0.8667 - val_loss: 1.5428 - val_accuracy: 0.6222\n",
      "Epoch 82/100\n",
      "105/105 [==============================] - 0s 129us/sample - loss: 0.5001 - accuracy: 0.8762 - val_loss: 1.5261 - val_accuracy: 0.6444\n",
      "Epoch 83/100\n",
      "105/105 [==============================] - 0s 127us/sample - loss: 0.4977 - accuracy: 0.8762 - val_loss: 1.5099 - val_accuracy: 0.6444\n",
      "Epoch 84/100\n",
      "105/105 [==============================] - 0s 120us/sample - loss: 0.4954 - accuracy: 0.8762 - val_loss: 1.4942 - val_accuracy: 0.6444\n",
      "Epoch 85/100\n",
      "105/105 [==============================] - 0s 134us/sample - loss: 0.4931 - accuracy: 0.8762 - val_loss: 1.4789 - val_accuracy: 0.6444\n",
      "Epoch 86/100\n",
      "105/105 [==============================] - 0s 135us/sample - loss: 0.4908 - accuracy: 0.8762 - val_loss: 1.4641 - val_accuracy: 0.6444\n",
      "Epoch 87/100\n",
      "105/105 [==============================] - 0s 115us/sample - loss: 0.4886 - accuracy: 0.8762 - val_loss: 1.4497 - val_accuracy: 0.6444\n",
      "Epoch 88/100\n",
      "105/105 [==============================] - 0s 124us/sample - loss: 0.4864 - accuracy: 0.8762 - val_loss: 1.4356 - val_accuracy: 0.6444\n",
      "Epoch 89/100\n",
      "105/105 [==============================] - 0s 129us/sample - loss: 0.4843 - accuracy: 0.8762 - val_loss: 1.4220 - val_accuracy: 0.6444\n",
      "Epoch 90/100\n",
      "105/105 [==============================] - 0s 128us/sample - loss: 0.4822 - accuracy: 0.8762 - val_loss: 1.4087 - val_accuracy: 0.6444\n",
      "Epoch 91/100\n",
      "105/105 [==============================] - 0s 124us/sample - loss: 0.4801 - accuracy: 0.8762 - val_loss: 1.3957 - val_accuracy: 0.6444\n",
      "Epoch 92/100\n",
      "105/105 [==============================] - 0s 119us/sample - loss: 0.4781 - accuracy: 0.8762 - val_loss: 1.3831 - val_accuracy: 0.6444\n",
      "Epoch 93/100\n",
      "105/105 [==============================] - 0s 104us/sample - loss: 0.4761 - accuracy: 0.8762 - val_loss: 1.3708 - val_accuracy: 0.6444\n",
      "Epoch 94/100\n",
      "105/105 [==============================] - 0s 117us/sample - loss: 0.4741 - accuracy: 0.8762 - val_loss: 1.3588 - val_accuracy: 0.6444\n",
      "Epoch 95/100\n",
      "105/105 [==============================] - 0s 152us/sample - loss: 0.4722 - accuracy: 0.8762 - val_loss: 1.3470 - val_accuracy: 0.6444\n",
      "Epoch 96/100\n",
      "105/105 [==============================] - 0s 139us/sample - loss: 0.4703 - accuracy: 0.8857 - val_loss: 1.3356 - val_accuracy: 0.6444\n",
      "Epoch 97/100\n",
      "105/105 [==============================] - 0s 121us/sample - loss: 0.4684 - accuracy: 0.8857 - val_loss: 1.3244 - val_accuracy: 0.6444\n",
      "Epoch 98/100\n",
      "105/105 [==============================] - 0s 150us/sample - loss: 0.4666 - accuracy: 0.8857 - val_loss: 1.3134 - val_accuracy: 0.6444\n",
      "Epoch 99/100\n",
      "105/105 [==============================] - 0s 126us/sample - loss: 0.4648 - accuracy: 0.8857 - val_loss: 1.3027 - val_accuracy: 0.6444\n",
      "Epoch 100/100\n",
      "105/105 [==============================] - 0s 127us/sample - loss: 0.4630 - accuracy: 0.8857 - val_loss: 1.2922 - val_accuracy: 0.6444\n"
     ]
    },
    {
     "data": {
      "text/plain": [
       "<tensorflow.python.keras.callbacks.History at 0x7f19feb92ef0>"
      ]
     },
     "execution_count": 66,
     "metadata": {
      "tags": []
     },
     "output_type": "execute_result"
    }
   ],
   "source": [
    "model2.fit(np.array(X_train), np.array(y_train), validation_data=(np.array(X_test), np.array(y_test)), epochs=100, batch_size = y_train.shape[0])"
   ]
  },
  {
   "cell_type": "markdown",
   "metadata": {
    "colab_type": "text",
    "id": "6ZSdqoch_yga"
   },
   "source": [
    "On increasing the number of dense layer in this case, for 100 epochs, gives accuracy lesser than first , of 88.57, val_accuracy of 64.44%."
   ]
  },
  {
   "cell_type": "code",
   "execution_count": 0,
   "metadata": {
    "colab": {},
    "colab_type": "code",
    "id": "QESpRu1G60pw"
   },
   "outputs": [],
   "source": [
    "y_pred=model2.predict(np.array(X_test))"
   ]
  },
  {
   "cell_type": "code",
   "execution_count": 68,
   "metadata": {
    "colab": {
     "base_uri": "https://localhost:8080/",
     "height": 295
    },
    "colab_type": "code",
    "id": "QSt6dVH-7Nu0",
    "outputId": "dc7510ae-241c-4f84-a543-a764ede915da"
   },
   "outputs": [
    {
     "name": "stdout",
     "output_type": "stream",
     "text": [
      "Model: \"sequential_2\"\n",
      "_________________________________________________________________\n",
      "Layer (type)                 Output Shape              Param #   \n",
      "=================================================================\n",
      "batch_normalization_3 (Batch multiple                  16        \n",
      "_________________________________________________________________\n",
      "dense_3 (Dense)              multiple                  15        \n",
      "_________________________________________________________________\n",
      "batch_normalization_4 (Batch multiple                  12        \n",
      "_________________________________________________________________\n",
      "dense_4 (Dense)              multiple                  12        \n",
      "=================================================================\n",
      "Total params: 55\n",
      "Trainable params: 41\n",
      "Non-trainable params: 14\n",
      "_________________________________________________________________\n"
     ]
    }
   ],
   "source": [
    "model2.summary()"
   ]
  },
  {
   "cell_type": "markdown",
   "metadata": {
    "colab_type": "text",
    "id": "JZlkvINKAjkl"
   },
   "source": [
    "But accuracies have been improved from dense count 1 to 2.\n",
    "82 -> 88 (train) and similar for test though of 64.4%.\n",
    "Since with increase in layers, the error gradient is supressed, as w go from input to output layer."
   ]
  },
  {
   "cell_type": "code",
   "execution_count": 0,
   "metadata": {
    "colab": {},
    "colab_type": "code",
    "id": "7cjPwGZcBAHE"
   },
   "outputs": [],
   "source": []
  }
 ],
 "metadata": {
  "accelerator": "GPU",
  "colab": {
   "collapsed_sections": [],
   "name": "R6_External_Lab_Updated_Gurgaon.ipynb",
   "provenance": []
  },
  "kernelspec": {
   "display_name": "Python 3",
   "language": "python",
   "name": "python3"
  },
  "language_info": {
   "codemirror_mode": {
    "name": "ipython",
    "version": 3
   },
   "file_extension": ".py",
   "mimetype": "text/x-python",
   "name": "python",
   "nbconvert_exporter": "python",
   "pygments_lexer": "ipython3",
   "version": "3.7.4"
  }
 },
 "nbformat": 4,
 "nbformat_minor": 1
}
