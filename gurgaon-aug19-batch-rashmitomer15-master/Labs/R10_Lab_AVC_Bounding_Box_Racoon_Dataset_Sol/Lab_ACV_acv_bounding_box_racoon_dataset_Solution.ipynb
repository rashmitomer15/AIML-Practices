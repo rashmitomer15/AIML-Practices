{
 "cells": [
  {
   "cell_type": "markdown",
   "metadata": {
    "colab_type": "text",
    "id": "I-P5m4iA_xe7"
   },
   "source": [
    "# Bounding box detection - Racoon data\n",
    "\n",
    "\n",
    "## Data files\n",
    "- images_racoon.rar: contain images of racoons\n",
    "- train_labels.cv: contains coordinates for bounding box for every image"
   ]
  },
  {
   "cell_type": "markdown",
   "metadata": {
    "colab_type": "text",
    "id": "Y1xi6A_naxGb"
   },
   "source": [
    "### Import the necessary libraries"
   ]
  },
  {
   "cell_type": "code",
   "execution_count": 1,
   "metadata": {
    "colab": {},
    "colab_type": "code",
    "id": "LlWkRaF0axTl"
   },
   "outputs": [],
   "source": [
    "# Ignore the warnings\n",
    "import warnings\n",
    "warnings.filterwarnings(\"ignore\")"
   ]
  },
  {
   "cell_type": "code",
   "execution_count": 2,
   "metadata": {},
   "outputs": [],
   "source": [
    "import os\n",
    "import pandas as pd\n",
    "import cv2\n",
    "\n",
    "\n",
    "from tensorflow.keras import Model\n",
    "from tensorflow.keras.applications.mobilenet import MobileNet, preprocess_input\n",
    "from tensorflow.keras.callbacks import ModelCheckpoint, EarlyStopping, ReduceLROnPlateau, Callback\n",
    "from tensorflow.keras.layers import Conv2D, Reshape\n",
    "from tensorflow.keras.utils import Sequence\n",
    "from tensorflow.keras.backend import epsilon\n",
    "import tensorflow as tf\n"
   ]
  },
  {
   "cell_type": "markdown",
   "metadata": {
    "colab_type": "text",
    "id": "Z_INIZOi_tUW"
   },
   "source": [
    "### Change directory"
   ]
  },
  {
   "cell_type": "code",
   "execution_count": 3,
   "metadata": {
    "colab": {},
    "colab_type": "code",
    "id": "Sxgw3GT1AR9Y"
   },
   "outputs": [
    {
     "data": {
      "text/plain": [
       "'D:\\\\PG-AIML\\\\Labs\\\\Internal  labs\\\\lab29janACV'"
      ]
     },
     "execution_count": 3,
     "metadata": {},
     "output_type": "execute_result"
    }
   ],
   "source": [
    "project_path=os.getcwd()\n",
    "project_path"
   ]
  },
  {
   "cell_type": "code",
   "execution_count": 4,
   "metadata": {},
   "outputs": [],
   "source": [
    "DATASET_FOLDER=\"D:\\\\PG-AIML\\\\Labs\\\\Internal  labs\\\\lab29janACV\\\\images\\\\\"\n",
    "os.chdir(DATASET_FOLDER)"
   ]
  },
  {
   "cell_type": "markdown",
   "metadata": {
    "colab_type": "text",
    "id": "paKO7ERla7Hk"
   },
   "source": [
    "### Load the training data from train.csv file"
   ]
  },
  {
   "cell_type": "code",
   "execution_count": 5,
   "metadata": {
    "colab": {},
    "colab_type": "code",
    "id": "1B0XW8oOa7Xi"
   },
   "outputs": [],
   "source": [
    "TRAIN_CSV = project_path + \"\\\\train_labels.csv\"\n",
    "training_df=pd.read_csv(TRAIN_CSV)"
   ]
  },
  {
   "cell_type": "markdown",
   "metadata": {
    "colab_type": "text",
    "id": "4UweyCk1a-73"
   },
   "source": [
    "### Print the shape of the train dataset"
   ]
  },
  {
   "cell_type": "code",
   "execution_count": 6,
   "metadata": {
    "colab": {},
    "colab_type": "code",
    "id": "6ulTUxHwa_KO"
   },
   "outputs": [
    {
     "data": {
      "text/plain": [
       "(173, 8)"
      ]
     },
     "execution_count": 6,
     "metadata": {},
     "output_type": "execute_result"
    }
   ],
   "source": [
    "training_df.shape"
   ]
  },
  {
   "cell_type": "code",
   "execution_count": 7,
   "metadata": {},
   "outputs": [
    {
     "data": {
      "text/html": [
       "<div>\n",
       "<style scoped>\n",
       "    .dataframe tbody tr th:only-of-type {\n",
       "        vertical-align: middle;\n",
       "    }\n",
       "\n",
       "    .dataframe tbody tr th {\n",
       "        vertical-align: top;\n",
       "    }\n",
       "\n",
       "    .dataframe thead th {\n",
       "        text-align: right;\n",
       "    }\n",
       "</style>\n",
       "<table border=\"1\" class=\"dataframe\">\n",
       "  <thead>\n",
       "    <tr style=\"text-align: right;\">\n",
       "      <th></th>\n",
       "      <th>filename</th>\n",
       "      <th>width</th>\n",
       "      <th>height</th>\n",
       "      <th>class</th>\n",
       "      <th>xmin</th>\n",
       "      <th>ymin</th>\n",
       "      <th>xmax</th>\n",
       "      <th>ymax</th>\n",
       "    </tr>\n",
       "  </thead>\n",
       "  <tbody>\n",
       "    <tr>\n",
       "      <th>0</th>\n",
       "      <td>raccoon-17.jpg</td>\n",
       "      <td>259</td>\n",
       "      <td>194</td>\n",
       "      <td>raccoon</td>\n",
       "      <td>95</td>\n",
       "      <td>60</td>\n",
       "      <td>167</td>\n",
       "      <td>118</td>\n",
       "    </tr>\n",
       "    <tr>\n",
       "      <th>1</th>\n",
       "      <td>raccoon-11.jpg</td>\n",
       "      <td>660</td>\n",
       "      <td>432</td>\n",
       "      <td>raccoon</td>\n",
       "      <td>3</td>\n",
       "      <td>1</td>\n",
       "      <td>461</td>\n",
       "      <td>431</td>\n",
       "    </tr>\n",
       "    <tr>\n",
       "      <th>2</th>\n",
       "      <td>raccoon-63.jpg</td>\n",
       "      <td>600</td>\n",
       "      <td>400</td>\n",
       "      <td>raccoon</td>\n",
       "      <td>74</td>\n",
       "      <td>107</td>\n",
       "      <td>280</td>\n",
       "      <td>290</td>\n",
       "    </tr>\n",
       "    <tr>\n",
       "      <th>3</th>\n",
       "      <td>raccoon-63.jpg</td>\n",
       "      <td>600</td>\n",
       "      <td>400</td>\n",
       "      <td>raccoon</td>\n",
       "      <td>227</td>\n",
       "      <td>93</td>\n",
       "      <td>403</td>\n",
       "      <td>298</td>\n",
       "    </tr>\n",
       "    <tr>\n",
       "      <th>4</th>\n",
       "      <td>raccoon-60.jpg</td>\n",
       "      <td>273</td>\n",
       "      <td>185</td>\n",
       "      <td>raccoon</td>\n",
       "      <td>58</td>\n",
       "      <td>33</td>\n",
       "      <td>197</td>\n",
       "      <td>127</td>\n",
       "    </tr>\n",
       "  </tbody>\n",
       "</table>\n",
       "</div>"
      ],
      "text/plain": [
       "         filename  width  height    class  xmin  ymin  xmax  ymax\n",
       "0  raccoon-17.jpg    259     194  raccoon    95    60   167   118\n",
       "1  raccoon-11.jpg    660     432  raccoon     3     1   461   431\n",
       "2  raccoon-63.jpg    600     400  raccoon    74   107   280   290\n",
       "3  raccoon-63.jpg    600     400  raccoon   227    93   403   298\n",
       "4  raccoon-60.jpg    273     185  raccoon    58    33   197   127"
      ]
     },
     "execution_count": 7,
     "metadata": {},
     "output_type": "execute_result"
    }
   ],
   "source": [
    "training_df.head()"
   ]
  },
  {
   "cell_type": "markdown",
   "metadata": {
    "colab_type": "text",
    "id": "3EmVHq8PbEGU"
   },
   "source": [
    "### Declare a variable IMAGE_SIZE = 128 as we will be using MobileNet which will be taking Input shape as 128 * 128 "
   ]
  },
  {
   "cell_type": "code",
   "execution_count": 8,
   "metadata": {
    "colab": {},
    "colab_type": "code",
    "id": "yAZhqikIbEQz"
   },
   "outputs": [],
   "source": [
    "IMAGE_SIZE=128"
   ]
  },
  {
   "cell_type": "markdown",
   "metadata": {
    "colab_type": "text",
    "id": "8xCLu4gDbKV0"
   },
   "source": [
    "### With the help of csv.reader write a for loop which can load the train.csv file and store the path, width, height, x0,y0,x1,y1 in induvidual variables. <br>\n",
    "1. Create a list variable known as 'path' which has all the path for all the training images\n",
    "2. Create an array 'coords' which has the resized coordinates of the bounding box for the training images\n",
    "\n",
    "<u>Note:</u> All the training images should be downsampled to 128 * 128 as it is the input shape of MobileNet (which we will be using for Object detection). Hence the corresponding coordinates of the bounding boxes should be changed to match the image dimension of 128 * 128 "
   ]
  },
  {
   "cell_type": "code",
   "execution_count": 9,
   "metadata": {
    "colab": {},
    "colab_type": "code",
    "id": "9lHjSKFrbKg0"
   },
   "outputs": [],
   "source": [
    "import csv\n",
    "import numpy as np\n",
    "\n",
    "with open(TRAIN_CSV, 'r') as csvfile:\n",
    "    paths = []\n",
    "    coords = np.zeros((sum(1 for line in csvfile)-1, 4))\n",
    "    spamreader = csv.reader(csvfile, delimiter = ',')\n",
    "    csvfile.seek(0)\n",
    "    next(spamreader, None)\n",
    "    for i, row in enumerate(spamreader):\n",
    "        for j, r in enumerate(row):\n",
    "            if((j!=0)&(j!=3)):\n",
    "                row[j] = int(r)\n",
    "        path, width, height, class_, xmin, ymin, xmax, ymax = row\n",
    "        paths.append(path)\n",
    "\n",
    "        coords[i,0] = xmin * IMAGE_SIZE/width\n",
    "        coords[i,1] = ymin * IMAGE_SIZE/height\n",
    "        coords[i,2] = xmax * IMAGE_SIZE/width\n",
    "        coords[i,3] = ymax * IMAGE_SIZE/height\n"
   ]
  },
  {
   "cell_type": "code",
   "execution_count": 10,
   "metadata": {},
   "outputs": [
    {
     "data": {
      "text/plain": [
       "['raccoon-17.jpg',\n",
       " 'raccoon-11.jpg',\n",
       " 'raccoon-63.jpg',\n",
       " 'raccoon-63.jpg',\n",
       " 'raccoon-60.jpg',\n",
       " 'raccoon-69.jpg',\n",
       " 'raccoon-180.jpg',\n",
       " 'raccoon-200.jpg',\n",
       " 'raccoon-141.jpg',\n",
       " 'raccoon-19.jpg',\n",
       " 'raccoon-84.jpg',\n",
       " 'raccoon-124.jpg',\n",
       " 'raccoon-182.jpg',\n",
       " 'raccoon-111.jpg',\n",
       " 'raccoon-91.jpg',\n",
       " 'raccoon-79.jpg',\n",
       " 'raccoon-93.jpg',\n",
       " 'raccoon-20.jpg',\n",
       " 'raccoon-42.jpg',\n",
       " 'raccoon-139.jpg',\n",
       " 'raccoon-58.jpg',\n",
       " 'raccoon-71.jpg',\n",
       " 'raccoon-183.jpg',\n",
       " 'raccoon-1.jpg',\n",
       " 'raccoon-169.jpg',\n",
       " 'raccoon-82.jpg',\n",
       " 'raccoon-4.jpg',\n",
       " 'raccoon-101.jpg',\n",
       " 'raccoon-10.jpg',\n",
       " 'raccoon-166.jpg',\n",
       " 'raccoon-184.jpg',\n",
       " 'raccoon-38.jpg',\n",
       " 'raccoon-120.jpg',\n",
       " 'raccoon-142.jpg',\n",
       " 'raccoon-149.jpg',\n",
       " 'raccoon-51.jpg',\n",
       " 'raccoon-43.jpg',\n",
       " 'raccoon-123.jpg',\n",
       " 'raccoon-66.jpg',\n",
       " 'raccoon-9.jpg',\n",
       " 'raccoon-178.jpg',\n",
       " 'raccoon-47.jpg',\n",
       " 'raccoon-167.jpg',\n",
       " 'raccoon-54.jpg',\n",
       " 'raccoon-77.jpg',\n",
       " 'raccoon-155.jpg',\n",
       " 'raccoon-89.jpg',\n",
       " 'raccoon-153.jpg',\n",
       " 'raccoon-179.jpg',\n",
       " 'raccoon-115.jpg',\n",
       " 'raccoon-64.jpg',\n",
       " 'raccoon-56.jpg',\n",
       " 'raccoon-44.jpg',\n",
       " 'raccoon-39.jpg',\n",
       " 'raccoon-26.jpg',\n",
       " 'raccoon-162.jpg',\n",
       " 'raccoon-170.jpg',\n",
       " 'raccoon-187.jpg',\n",
       " 'raccoon-131.jpg',\n",
       " 'raccoon-174.jpg',\n",
       " 'raccoon-92.jpg',\n",
       " 'raccoon-193.jpg',\n",
       " 'raccoon-138.jpg',\n",
       " 'raccoon-157.jpg',\n",
       " 'raccoon-108.jpg',\n",
       " 'raccoon-116.jpg',\n",
       " 'raccoon-117.jpg',\n",
       " 'raccoon-117.jpg',\n",
       " 'raccoon-12.jpg',\n",
       " 'raccoon-12.jpg',\n",
       " 'raccoon-16.jpg',\n",
       " 'raccoon-90.jpg',\n",
       " 'raccoon-160.jpg',\n",
       " 'raccoon-75.jpg',\n",
       " 'raccoon-199.jpg',\n",
       " 'raccoon-97.jpg',\n",
       " 'raccoon-188.jpg',\n",
       " 'raccoon-21.jpg',\n",
       " 'raccoon-35.jpg',\n",
       " 'raccoon-85.jpg',\n",
       " 'raccoon-49.jpg',\n",
       " 'raccoon-86.jpg',\n",
       " 'raccoon-34.jpg',\n",
       " 'raccoon-196.jpg',\n",
       " 'raccoon-96.jpg',\n",
       " 'raccoon-3.jpg',\n",
       " 'raccoon-2.jpg',\n",
       " 'raccoon-52.jpg',\n",
       " 'raccoon-81.jpg',\n",
       " 'raccoon-112.jpg',\n",
       " 'raccoon-18.jpg',\n",
       " 'raccoon-94.jpg',\n",
       " 'raccoon-98.jpg',\n",
       " 'raccoon-83.jpg',\n",
       " 'raccoon-36.jpg',\n",
       " 'raccoon-24.jpg',\n",
       " 'raccoon-24.jpg',\n",
       " 'raccoon-195.jpg',\n",
       " 'raccoon-55.jpg',\n",
       " 'raccoon-55.jpg',\n",
       " 'raccoon-175.jpg',\n",
       " 'raccoon-163.jpg',\n",
       " 'raccoon-48.jpg',\n",
       " 'raccoon-70.jpg',\n",
       " 'raccoon-119.jpg',\n",
       " 'raccoon-119.jpg',\n",
       " 'raccoon-119.jpg',\n",
       " 'raccoon-88.jpg',\n",
       " 'raccoon-61.jpg',\n",
       " 'raccoon-61.jpg',\n",
       " 'raccoon-121.jpg',\n",
       " 'raccoon-74.jpg',\n",
       " 'raccoon-133.jpg',\n",
       " 'raccoon-177.jpg',\n",
       " 'raccoon-177.jpg',\n",
       " 'raccoon-159.jpg',\n",
       " 'raccoon-53.jpg',\n",
       " 'raccoon-132.jpg',\n",
       " 'raccoon-198.jpg',\n",
       " 'raccoon-198.jpg',\n",
       " 'raccoon-103.jpg',\n",
       " 'raccoon-46.jpg',\n",
       " 'raccoon-50.jpg',\n",
       " 'raccoon-37.jpg',\n",
       " 'raccoon-161.jpg',\n",
       " 'raccoon-194.jpg',\n",
       " 'raccoon-32.jpg',\n",
       " 'raccoon-15.jpg',\n",
       " 'raccoon-147.jpg',\n",
       " 'raccoon-151.jpg',\n",
       " 'raccoon-80.jpg',\n",
       " 'raccoon-6.jpg',\n",
       " 'raccoon-154.jpg',\n",
       " 'raccoon-135.jpg',\n",
       " 'raccoon-118.jpg',\n",
       " 'raccoon-150.jpg',\n",
       " 'raccoon-102.jpg',\n",
       " 'raccoon-130.jpg',\n",
       " 'raccoon-130.jpg',\n",
       " 'raccoon-7.jpg',\n",
       " 'raccoon-107.jpg',\n",
       " 'raccoon-173.jpg',\n",
       " 'raccoon-165.jpg',\n",
       " 'raccoon-25.jpg',\n",
       " 'raccoon-67.jpg',\n",
       " 'raccoon-13.jpg',\n",
       " 'raccoon-191.jpg',\n",
       " 'raccoon-45.jpg',\n",
       " 'raccoon-31.jpg',\n",
       " 'raccoon-31.jpg',\n",
       " 'raccoon-172.jpg',\n",
       " 'raccoon-100.jpg',\n",
       " 'raccoon-148.jpg',\n",
       " 'raccoon-148.jpg',\n",
       " 'raccoon-23.jpg',\n",
       " 'raccoon-30.jpg',\n",
       " 'raccoon-33.jpg',\n",
       " 'raccoon-136.jpg',\n",
       " 'raccoon-114.jpg',\n",
       " 'raccoon-76.jpg',\n",
       " 'raccoon-104.jpg',\n",
       " 'raccoon-109.jpg',\n",
       " 'raccoon-87.jpg',\n",
       " 'raccoon-113.jpg',\n",
       " 'raccoon-78.jpg',\n",
       " 'raccoon-65.jpg',\n",
       " 'raccoon-122.jpg',\n",
       " 'raccoon-73.jpg',\n",
       " 'raccoon-137.jpg',\n",
       " 'raccoon-171.jpg',\n",
       " 'raccoon-190.jpg',\n",
       " 'raccoon-22.jpg',\n",
       " 'raccoon-152.jpg']"
      ]
     },
     "execution_count": 10,
     "metadata": {},
     "output_type": "execute_result"
    }
   ],
   "source": [
    "paths"
   ]
  },
  {
   "cell_type": "markdown",
   "metadata": {
    "colab_type": "text",
    "id": "-CMdmgbvbuXg"
   },
   "source": [
    "### Write a for loop which can load all the training images into a variable 'batch_images' using the paths from the 'paths' variable\n",
    "<u>Note:</u> Convert the image to RGB scale as the MobileNet accepts 3 channels as inputs   "
   ]
  },
  {
   "cell_type": "code",
   "execution_count": 11,
   "metadata": {
    "colab": {},
    "colab_type": "code",
    "id": "yLckLOBObujI"
   },
   "outputs": [],
   "source": [
    "from PIL import Image\n",
    "batch_images = np.zeros((len(paths), IMAGE_SIZE, IMAGE_SIZE, 3), dtype=np.float32)\n",
    "\n",
    "for i, f in enumerate(paths):\n",
    "    img = Image.open(DATASET_FOLDER+f) # Read image\n",
    "    img = img.resize((IMAGE_SIZE, IMAGE_SIZE)) # Resize image\n",
    "    img = img.convert('RGB')\n",
    "\n",
    "    batch_images[i] = preprocess_input(np.array(img, dtype=np.float32)) # Convert to float32 array\n",
    "    img.close()"
   ]
  },
  {
   "cell_type": "markdown",
   "metadata": {
    "colab_type": "text",
    "id": "DZp1nd6_bylk"
   },
   "source": [
    "### Import MobileNet and load MobileNet into a variable named 'model' which takes input shape of 128 * 128 * 3. Freeze all the layers. Add convolution and reshape layers at the end to ensure the output is 4 coordinates"
   ]
  },
  {
   "cell_type": "code",
   "execution_count": 12,
   "metadata": {
    "colab": {},
    "colab_type": "code",
    "id": "IL7Vxs_7by0k"
   },
   "outputs": [],
   "source": [
    "ALPHA=1.0"
   ]
  },
  {
   "cell_type": "code",
   "execution_count": 13,
   "metadata": {},
   "outputs": [],
   "source": [
    "model = MobileNet(input_shape=(IMAGE_SIZE, IMAGE_SIZE, 3), include_top=False, alpha=ALPHA) # Load pre-trained mobilenet\n"
   ]
  },
  {
   "cell_type": "code",
   "execution_count": 14,
   "metadata": {},
   "outputs": [],
   "source": [
    "for layer in model.layers:\n",
    "    layer.trainable = False\n",
    "x = model.layers[-1].output\n",
    "x = Conv2D(4, kernel_size=4, name=\"coords\")(x)\n",
    "x = Reshape((4,))(x)\n",
    "\n",
    "model = Model(inputs = model.input, outputs = x)\n"
   ]
  },
  {
   "cell_type": "markdown",
   "metadata": {
    "colab_type": "text",
    "id": "Hdy9wEe8b3Ub"
   },
   "source": [
    "### Define a custom loss function IoU which calculates Intersection Over Union"
   ]
  },
  {
   "cell_type": "code",
   "execution_count": 15,
   "metadata": {
    "colab": {},
    "colab_type": "code",
    "id": "KgEL4Mwub3do"
   },
   "outputs": [],
   "source": [
    "def loss(gt,pred):\n",
    "    intersections = 0\n",
    "    unions = 0\n",
    "    diff_width = np.minimum(gt[:,0] + gt[:,2], pred[:,0] + pred[:,2]) - np.maximum(gt[:,0], pred[:,0])\n",
    "    diff_height = np.minimum(gt[:,1] + gt[:,3], pred[:,1] + pred[:,3]) - np.maximum(gt[:,1], pred[:,1])\n",
    "    intersection = diff_width * diff_height\n",
    "    \n",
    "    # Compute union\n",
    "    area_gt = gt[:,2] * gt[:,3]\n",
    "    area_pred = pred[:,2] * pred[:,3]\n",
    "    union = area_gt + area_pred - intersection\n",
    "\n",
    "#     Compute intersection and union over multiple boxes\n",
    "    for j, _ in enumerate(union):\n",
    "        if union[j] > 0 and intersection[j] > 0 and union[j] >= intersection[j]:\n",
    "            intersections += intersection[j]\n",
    "            unions += union[j]\n",
    "\n",
    "    # Compute IOU. Use epsilon to prevent division by zero\n",
    "    iou = np.round(intersections / (unions + epsilon()), 4)\n",
    "    iou = iou.astype(np.float32)\n",
    "    return iou\n",
    "\n",
    "def IoU(y_true, y_pred):\n",
    "    iou = tf.py_function(loss, [y_true, y_pred], tf.float32)\n",
    "    return iou"
   ]
  },
  {
   "cell_type": "markdown",
   "metadata": {
    "colab_type": "text",
    "id": "KCHmzs3Zb58T"
   },
   "source": [
    "### Write model.compile function & model.fit function with: <br>\n",
    "1. Optimizer = Adam, Loss = 'mse' and metrics = IoU\n",
    "2. Epochs = 30, batch_size = 32, verbose = 1"
   ]
  },
  {
   "cell_type": "code",
   "execution_count": 16,
   "metadata": {},
   "outputs": [
    {
     "name": "stdout",
     "output_type": "stream",
     "text": [
      "173\n"
     ]
    }
   ],
   "source": [
    "gt = coords\n",
    "print(len(coords))\n",
    "model.compile(optimizer='Adam', loss='mse', metrics=[IoU])"
   ]
  },
  {
   "cell_type": "code",
   "execution_count": 17,
   "metadata": {},
   "outputs": [],
   "source": [
    "PATIENCE=10\n",
    "checkpoint = ModelCheckpoint(project_path+\"\\\\model-{IoU:.2f}.h5\", monitor = 'IoU', verbose=1, save_best_only=True, save_weights_only=True, mode=\"max\")\n",
    "stop = EarlyStopping(monitor=\"IoU\", patience=PATIENCE, mode=\"max\")\n",
    "reduce_lr = ReduceLROnPlateau(monitor=\"IoU\", factor=0.2, patience=PATIENCE, min_lr=1e-3, verbose=1, mode=\"max\")"
   ]
  },
  {
   "cell_type": "code",
   "execution_count": 18,
   "metadata": {},
   "outputs": [
    {
     "name": "stdout",
     "output_type": "stream",
     "text": [
      "Epoch 1/30\n",
      "6/6 [==============================] - ETA: 0s - loss: 4017.0828 - IoU: 0.0776\n",
      "Epoch 00001: IoU improved from -inf to 0.07762, saving model to D:\\PG-AIML\\Labs\\Internal  labs\\lab29janACV\\model-0.08.h5\n",
      "6/6 [==============================] - 1s 151ms/step - loss: 4017.0828 - IoU: 0.0776 - lr: 0.0010\n",
      "Epoch 2/30\n",
      "6/6 [==============================] - ETA: 0s - loss: 753.0154 - IoU: 0.4220\n",
      "Epoch 00002: IoU improved from 0.07762 to 0.42197, saving model to D:\\PG-AIML\\Labs\\Internal  labs\\lab29janACV\\model-0.42.h5\n",
      "6/6 [==============================] - 1s 157ms/step - loss: 753.0154 - IoU: 0.4220 - lr: 0.0010\n",
      "Epoch 3/30\n",
      "6/6 [==============================] - ETA: 0s - loss: 450.8521 - IoU: 0.5766\n",
      "Epoch 00003: IoU improved from 0.42197 to 0.57655, saving model to D:\\PG-AIML\\Labs\\Internal  labs\\lab29janACV\\model-0.58.h5\n",
      "6/6 [==============================] - 1s 157ms/step - loss: 450.8521 - IoU: 0.5766 - lr: 0.0010\n",
      "Epoch 4/30\n",
      "6/6 [==============================] - ETA: 0s - loss: 613.1391 - IoU: 0.5384\n",
      "Epoch 00004: IoU did not improve from 0.57655\n",
      "6/6 [==============================] - 1s 141ms/step - loss: 613.1391 - IoU: 0.5384 - lr: 0.0010\n",
      "Epoch 5/30\n",
      "6/6 [==============================] - ETA: 0s - loss: 349.1827 - IoU: 0.6254\n",
      "Epoch 00005: IoU improved from 0.57655 to 0.62543, saving model to D:\\PG-AIML\\Labs\\Internal  labs\\lab29janACV\\model-0.63.h5\n",
      "6/6 [==============================] - 1s 152ms/step - loss: 349.1827 - IoU: 0.6254 - lr: 0.0010\n",
      "Epoch 6/30\n",
      "6/6 [==============================] - ETA: 0s - loss: 189.5371 - IoU: 0.6596\n",
      "Epoch 00006: IoU improved from 0.62543 to 0.65963, saving model to D:\\PG-AIML\\Labs\\Internal  labs\\lab29janACV\\model-0.66.h5\n",
      "6/6 [==============================] - 1s 158ms/step - loss: 189.5371 - IoU: 0.6596 - lr: 0.0010\n",
      "Epoch 7/30\n",
      "6/6 [==============================] - ETA: 0s - loss: 198.2381 - IoU: 0.6617\n",
      "Epoch 00007: IoU improved from 0.65963 to 0.66170, saving model to D:\\PG-AIML\\Labs\\Internal  labs\\lab29janACV\\model-0.66.h5\n",
      "6/6 [==============================] - 1s 156ms/step - loss: 198.2381 - IoU: 0.6617 - lr: 0.0010\n",
      "Epoch 8/30\n",
      "6/6 [==============================] - ETA: 0s - loss: 161.3689 - IoU: 0.6838\n",
      "Epoch 00008: IoU improved from 0.66170 to 0.68377, saving model to D:\\PG-AIML\\Labs\\Internal  labs\\lab29janACV\\model-0.68.h5\n",
      "6/6 [==============================] - 1s 158ms/step - loss: 161.3689 - IoU: 0.6838 - lr: 0.0010\n",
      "Epoch 9/30\n",
      "6/6 [==============================] - ETA: 0s - loss: 121.7770 - IoU: 0.7437\n",
      "Epoch 00009: IoU improved from 0.68377 to 0.74368, saving model to D:\\PG-AIML\\Labs\\Internal  labs\\lab29janACV\\model-0.74.h5\n",
      "6/6 [==============================] - 1s 152ms/step - loss: 121.7770 - IoU: 0.7437 - lr: 0.0010\n",
      "Epoch 10/30\n",
      "6/6 [==============================] - ETA: 0s - loss: 112.8314 - IoU: 0.7536\n",
      "Epoch 00010: IoU improved from 0.74368 to 0.75357, saving model to D:\\PG-AIML\\Labs\\Internal  labs\\lab29janACV\\model-0.75.h5\n",
      "6/6 [==============================] - 1s 150ms/step - loss: 112.8314 - IoU: 0.7536 - lr: 0.0010\n",
      "Epoch 11/30\n",
      "6/6 [==============================] - ETA: 0s - loss: 100.0692 - IoU: 0.7822\n",
      "Epoch 00011: IoU improved from 0.75357 to 0.78225, saving model to D:\\PG-AIML\\Labs\\Internal  labs\\lab29janACV\\model-0.78.h5\n",
      "6/6 [==============================] - 1s 150ms/step - loss: 100.0692 - IoU: 0.7822 - lr: 0.0010\n",
      "Epoch 12/30\n",
      "6/6 [==============================] - ETA: 0s - loss: 90.9098 - IoU: 0.7831\n",
      "Epoch 00012: IoU improved from 0.78225 to 0.78312, saving model to D:\\PG-AIML\\Labs\\Internal  labs\\lab29janACV\\model-0.78.h5\n",
      "6/6 [==============================] - 1s 182ms/step - loss: 90.9098 - IoU: 0.7831 - lr: 0.0010\n",
      "Epoch 13/30\n",
      "6/6 [==============================] - ETA: 0s - loss: 85.1666 - IoU: 0.7970\n",
      "Epoch 00013: IoU improved from 0.78312 to 0.79705, saving model to D:\\PG-AIML\\Labs\\Internal  labs\\lab29janACV\\model-0.80.h5\n",
      "6/6 [==============================] - 1s 189ms/step - loss: 85.1666 - IoU: 0.7970 - lr: 0.0010\n",
      "Epoch 14/30\n",
      "6/6 [==============================] - ETA: 0s - loss: 77.8906 - IoU: 0.8106\n",
      "Epoch 00014: IoU improved from 0.79705 to 0.81063, saving model to D:\\PG-AIML\\Labs\\Internal  labs\\lab29janACV\\model-0.81.h5\n",
      "6/6 [==============================] - 1s 184ms/step - loss: 77.8906 - IoU: 0.8106 - lr: 0.0010\n",
      "Epoch 15/30\n",
      "6/6 [==============================] - ETA: 0s - loss: 74.3763 - IoU: 0.8070\n",
      "Epoch 00015: IoU did not improve from 0.81063\n",
      "6/6 [==============================] - 1s 166ms/step - loss: 74.3763 - IoU: 0.8070 - lr: 0.0010\n",
      "Epoch 16/30\n",
      "6/6 [==============================] - ETA: 0s - loss: 71.2955 - IoU: 0.8203\n",
      "Epoch 00016: IoU improved from 0.81063 to 0.82030, saving model to D:\\PG-AIML\\Labs\\Internal  labs\\lab29janACV\\model-0.82.h5\n",
      "6/6 [==============================] - 1s 186ms/step - loss: 71.2955 - IoU: 0.8203 - lr: 0.0010\n",
      "Epoch 17/30\n",
      "6/6 [==============================] - ETA: 0s - loss: 67.5729 - IoU: 0.8238\n",
      "Epoch 00017: IoU improved from 0.82030 to 0.82380, saving model to D:\\PG-AIML\\Labs\\Internal  labs\\lab29janACV\\model-0.82.h5\n",
      "6/6 [==============================] - 1s 181ms/step - loss: 67.5729 - IoU: 0.8238 - lr: 0.0010\n",
      "Epoch 18/30\n",
      "6/6 [==============================] - ETA: 0s - loss: 66.3122 - IoU: 0.8325\n",
      "Epoch 00018: IoU improved from 0.82380 to 0.83253, saving model to D:\\PG-AIML\\Labs\\Internal  labs\\lab29janACV\\model-0.83.h5\n",
      "6/6 [==============================] - 1s 194ms/step - loss: 66.3122 - IoU: 0.8325 - lr: 0.0010\n",
      "Epoch 19/30\n",
      "6/6 [==============================] - ETA: 0s - loss: 62.9850 - IoU: 0.8431\n",
      "Epoch 00019: IoU improved from 0.83253 to 0.84307, saving model to D:\\PG-AIML\\Labs\\Internal  labs\\lab29janACV\\model-0.84.h5\n",
      "6/6 [==============================] - 1s 184ms/step - loss: 62.9850 - IoU: 0.8431 - lr: 0.0010\n",
      "Epoch 20/30\n",
      "6/6 [==============================] - ETA: 0s - loss: 61.8685 - IoU: 0.8409\n",
      "Epoch 00020: IoU did not improve from 0.84307\n",
      "6/6 [==============================] - 1s 175ms/step - loss: 61.8685 - IoU: 0.8409 - lr: 0.0010\n",
      "Epoch 21/30\n",
      "6/6 [==============================] - ETA: 0s - loss: 58.8323 - IoU: 0.8449\n",
      "Epoch 00021: IoU improved from 0.84307 to 0.84493, saving model to D:\\PG-AIML\\Labs\\Internal  labs\\lab29janACV\\model-0.84.h5\n",
      "6/6 [==============================] - 1s 181ms/step - loss: 58.8323 - IoU: 0.8449 - lr: 0.0010\n",
      "Epoch 22/30\n",
      "6/6 [==============================] - ETA: 0s - loss: 58.0446 - IoU: 0.8322\n",
      "Epoch 00022: IoU did not improve from 0.84493\n",
      "6/6 [==============================] - 1s 178ms/step - loss: 58.0446 - IoU: 0.8322 - lr: 0.0010\n",
      "Epoch 23/30\n",
      "6/6 [==============================] - ETA: 0s - loss: 58.0273 - IoU: 0.8354\n",
      "Epoch 00023: IoU did not improve from 0.84493\n",
      "6/6 [==============================] - 1s 176ms/step - loss: 58.0273 - IoU: 0.8354 - lr: 0.0010\n",
      "Epoch 24/30\n",
      "6/6 [==============================] - ETA: 0s - loss: 55.8731 - IoU: 0.8377\n",
      "Epoch 00024: IoU did not improve from 0.84493\n",
      "6/6 [==============================] - 1s 174ms/step - loss: 55.8731 - IoU: 0.8377 - lr: 0.0010\n",
      "Epoch 25/30\n",
      "6/6 [==============================] - ETA: 0s - loss: 55.8554 - IoU: 0.8450\n",
      "Epoch 00025: IoU improved from 0.84493 to 0.84497, saving model to D:\\PG-AIML\\Labs\\Internal  labs\\lab29janACV\\model-0.84.h5\n",
      "6/6 [==============================] - 1s 182ms/step - loss: 55.8554 - IoU: 0.8450 - lr: 0.0010\n",
      "Epoch 26/30\n",
      "6/6 [==============================] - ETA: 0s - loss: 56.7823 - IoU: 0.8413\n",
      "Epoch 00026: IoU did not improve from 0.84497\n",
      "6/6 [==============================] - 1s 162ms/step - loss: 56.7823 - IoU: 0.8413 - lr: 0.0010\n",
      "Epoch 27/30\n",
      "6/6 [==============================] - ETA: 0s - loss: 54.8972 - IoU: 0.8340\n",
      "Epoch 00027: IoU did not improve from 0.84497\n",
      "6/6 [==============================] - 1s 162ms/step - loss: 54.8972 - IoU: 0.8340 - lr: 0.0010\n",
      "Epoch 28/30\n",
      "6/6 [==============================] - ETA: 0s - loss: 54.2159 - IoU: 0.8590\n",
      "Epoch 00028: IoU improved from 0.84497 to 0.85898, saving model to D:\\PG-AIML\\Labs\\Internal  labs\\lab29janACV\\model-0.86.h5\n",
      "6/6 [==============================] - 1s 182ms/step - loss: 54.2159 - IoU: 0.8590 - lr: 0.0010\n",
      "Epoch 29/30\n",
      "6/6 [==============================] - ETA: 0s - loss: 52.7277 - IoU: 0.8683\n",
      "Epoch 00029: IoU improved from 0.85898 to 0.86833, saving model to D:\\PG-AIML\\Labs\\Internal  labs\\lab29janACV\\model-0.87.h5\n"
     ]
    },
    {
     "name": "stdout",
     "output_type": "stream",
     "text": [
      "6/6 [==============================] - 1s 181ms/step - loss: 52.7277 - IoU: 0.8683 - lr: 0.0010\n",
      "Epoch 30/30\n",
      "6/6 [==============================] - ETA: 0s - loss: 52.6046 - IoU: 0.8597\n",
      "Epoch 00030: IoU did not improve from 0.86833\n",
      "6/6 [==============================] - 1s 160ms/step - loss: 52.6046 - IoU: 0.8597 - lr: 0.0010\n"
     ]
    },
    {
     "data": {
      "text/plain": [
       "<tensorflow.python.keras.callbacks.History at 0x25f70934d48>"
      ]
     },
     "execution_count": 18,
     "metadata": {},
     "output_type": "execute_result"
    }
   ],
   "source": [
    "#Using checkpoint,EarlyStopping and REduceLR while we fit model\n",
    "model.fit(batch_images, gt, epochs=30, batch_size=32, verbose=1,callbacks=[stop,checkpoint,reduce_lr])"
   ]
  },
  {
   "cell_type": "markdown",
   "metadata": {
    "colab_type": "text",
    "id": "BWrj3s6Rb-C8"
   },
   "source": [
    "### Pick a test image from the given data"
   ]
  },
  {
   "cell_type": "code",
   "execution_count": 19,
   "metadata": {
    "colab": {},
    "colab_type": "code",
    "id": "j5zeEuTFb-M0"
   },
   "outputs": [],
   "source": [
    "import cv2\n",
    "filename = DATASET_FOLDER+'raccoon-10.jpg'\n",
    "unscaled = cv2.imread(filename)"
   ]
  },
  {
   "cell_type": "markdown",
   "metadata": {
    "colab_type": "text",
    "id": "_TdRTlbfcAHr"
   },
   "source": [
    "### Resize the image to 128 * 128 and preprocess the image for the MobileNet model"
   ]
  },
  {
   "cell_type": "code",
   "execution_count": 20,
   "metadata": {
    "colab": {},
    "colab_type": "code",
    "id": "ACVNzBCAcARH"
   },
   "outputs": [],
   "source": [
    "\n",
    "image_height, image_width,  _ = unscaled.shape\n",
    "image = cv2.resize(unscaled, (IMAGE_SIZE, IMAGE_SIZE))\n",
    "feat_scaled = preprocess_input(np.array(image, dtype=np.float32))"
   ]
  },
  {
   "cell_type": "markdown",
   "metadata": {
    "colab_type": "text",
    "id": "j7Wc1mXlcFT2"
   },
   "source": [
    "### Predict the coordinates of the bounding box for the given test image"
   ]
  },
  {
   "cell_type": "code",
   "execution_count": 21,
   "metadata": {
    "colab": {},
    "colab_type": "code",
    "id": "sw2L2wtXcFcH"
   },
   "outputs": [],
   "source": [
    "region = model.predict(x = np.array([feat_scaled]))[0]"
   ]
  },
  {
   "cell_type": "markdown",
   "metadata": {
    "colab_type": "text",
    "id": "eF1iqyc4cHm-"
   },
   "source": [
    "### Plot the test image using .imshow and draw a boundary box around the image with the coordinates obtained from the model"
   ]
  },
  {
   "cell_type": "code",
   "execution_count": 22,
   "metadata": {
    "colab": {},
    "colab_type": "code",
    "id": "BE0l5FCQcH6p"
   },
   "outputs": [
    {
     "data": {
      "image/png": "[encoded data removed]",
      "text/plain": [
       "<Figure size 432x288 with 1 Axes>"
      ]
     },
     "metadata": {
      "needs_background": "light"
     },
     "output_type": "display_data"
    }
   ],
   "source": [
    "x0 = int(region[0] * image_width / IMAGE_SIZE) # Scale the BBox\n",
    "y0 = int(region[1] * image_height / IMAGE_SIZE)\n",
    "\n",
    "x1 = int((region[2]) * image_width / IMAGE_SIZE)\n",
    "y1 = int((region[3]) * image_height / IMAGE_SIZE)\n",
    "\n",
    "\n",
    "import matplotlib.pyplot as plt\n",
    "import matplotlib.patches as patches\n",
    "from PIL import Image\n",
    "import numpy as np\n",
    "\n",
    "\n",
    "# Create figure and axes\n",
    "fig,ax = plt.subplots(1)\n",
    "\n",
    "# Display the image\n",
    "ax.imshow(unscaled)\n",
    "\n",
    "# Create a Rectangle patch\n",
    "rect = patches.Rectangle((x0, y0), (x1 - x0) , (y1 - y0) , linewidth=2, edgecolor='r', facecolor='none')\n",
    "\n",
    "# Add the patch to the Axes\n",
    "ax.add_patch(rect)\n",
    "\n",
    "plt.show()"
   ]
  },
  {
   "cell_type": "code",
   "execution_count": 24,
   "metadata": {},
   "outputs": [
    {
     "data": {
      "text/plain": [
       "'2.2.0'"
      ]
     },
     "execution_count": 24,
     "metadata": {},
     "output_type": "execute_result"
    }
   ],
   "source": [
    "tf.__version__"
   ]
  },
  {
   "cell_type": "code",
   "execution_count": null,
   "metadata": {},
   "outputs": [],
   "source": []
  }
 ],
 "metadata": {
  "colab": {
   "collapsed_sections": [],
   "name": "acv_bounding_box_racoon_dataset_questions.ipynb",
   "provenance": [],
   "version": "0.3.2"
  },
  "kernelspec": {
   "display_name": "Python 3",
   "language": "python",
   "name": "python3"
  },
  "language_info": {
   "codemirror_mode": {
    "name": "ipython",
    "version": 3
   },
   "file_extension": ".py",
   "mimetype": "text/x-python",
   "name": "python",
   "nbconvert_exporter": "python",
   "pygments_lexer": "ipython3",
   "version": "3.7.6"
  }
 },
 "nbformat": 4,
 "nbformat_minor": 1
}
