{
 "cells": [
  {
   "cell_type": "markdown",
   "metadata": {
    "colab_type": "text",
    "id": "MyfMmMnPJjvn"
   },
   "source": [
    "## Train a simple convnet on the Fashion MNIST dataset"
   ]
  },
  {
   "cell_type": "markdown",
   "metadata": {
    "colab_type": "text",
    "id": "zjcGOJhcJjvp"
   },
   "source": [
    "In this, we will see how to deal with image data and train a convnet for image classification task."
   ]
  },
  {
   "cell_type": "markdown",
   "metadata": {
    "colab_type": "text",
    "id": "jR0Pl2XjJjvq"
   },
   "source": [
    "### Load the  `fashion_mnist`  dataset\n",
    "\n",
    "** Use keras.datasets to load the dataset **"
   ]
  },
  {
   "cell_type": "code",
   "execution_count": 1,
   "metadata": {
    "colab": {
     "base_uri": "https://localhost:8080/",
     "height": 81
    },
    "colab_type": "code",
    "executionInfo": {
     "elapsed": 3802,
     "status": "ok",
     "timestamp": 1581839108604,
     "user": {
      "displayName": "Rashmi Tomer",
      "photoUrl": "https://lh3.googleusercontent.com/a-/AAuE7mBnmMOMxexSsUh6_pCS0FgIO7VVHSY8eFBxtZ0UDQ=s64",
      "userId": "11743593445641168994"
     },
     "user_tz": -330
    },
    "id": "o9K1a3n-VcYg",
    "outputId": "441bd3c7-72c7-47dc-edc3-526e4834a372"
   },
   "outputs": [
    {
     "name": "stderr",
     "output_type": "stream",
     "text": [
      "Using TensorFlow backend.\n"
     ]
    },
    {
     "data": {
      "text/html": [
       "<p style=\"color: red;\">\n",
       "The default version of TensorFlow in Colab will soon switch to TensorFlow 2.x.<br>\n",
       "We recommend you <a href=\"https://www.tensorflow.org/guide/migrate\" target=\"_blank\">upgrade</a> now \n",
       "or ensure your notebook will continue to use TensorFlow 1.x via the <code>%tensorflow_version 1.x</code> magic:\n",
       "<a href=\"https://colab.research.google.com/notebooks/tensorflow_version.ipynb\" target=\"_blank\">more info</a>.</p>\n"
      ],
      "text/plain": [
       "<IPython.core.display.HTML object>"
      ]
     },
     "metadata": {
      "tags": []
     },
     "output_type": "display_data"
    }
   ],
   "source": [
    "import numpy as np\n",
    "import keras\n",
    "from matplotlib import pyplot as plt\n",
    "import seaborn as sns"
   ]
  },
  {
   "cell_type": "code",
   "execution_count": 0,
   "metadata": {
    "colab": {},
    "colab_type": "code",
    "id": "Qr75v_UYJjvs"
   },
   "outputs": [],
   "source": [
    "from keras.datasets import fashion_mnist\n",
    "(x_train, y_train), (x_test, y_test) = fashion_mnist.load_data()"
   ]
  },
  {
   "cell_type": "markdown",
   "metadata": {
    "colab_type": "text",
    "id": "hTI42-0qJjvw"
   },
   "source": [
    "### Find no.of samples are there in training and test datasets"
   ]
  },
  {
   "cell_type": "code",
   "execution_count": 3,
   "metadata": {
    "colab": {
     "base_uri": "https://localhost:8080/",
     "height": 35
    },
    "colab_type": "code",
    "executionInfo": {
     "elapsed": 1303,
     "status": "ok",
     "timestamp": 1581839120022,
     "user": {
      "displayName": "Rashmi Tomer",
      "photoUrl": "https://lh3.googleusercontent.com/a-/AAuE7mBnmMOMxexSsUh6_pCS0FgIO7VVHSY8eFBxtZ0UDQ=s64",
      "userId": "11743593445641168994"
     },
     "user_tz": -330
    },
    "id": "g2sf67VoJjvx",
    "outputId": "e95baaa7-aa01-4bb2-9775-b0ca048caa45"
   },
   "outputs": [
    {
     "name": "stdout",
     "output_type": "stream",
     "text": [
      "No of train samples: 60000\n"
     ]
    }
   ],
   "source": [
    "print(\"No of train samples:\",x_train.shape[0])\n"
   ]
  },
  {
   "cell_type": "code",
   "execution_count": 4,
   "metadata": {
    "colab": {
     "base_uri": "https://localhost:8080/",
     "height": 35
    },
    "colab_type": "code",
    "executionInfo": {
     "elapsed": 1231,
     "status": "ok",
     "timestamp": 1581839120456,
     "user": {
      "displayName": "Rashmi Tomer",
      "photoUrl": "https://lh3.googleusercontent.com/a-/AAuE7mBnmMOMxexSsUh6_pCS0FgIO7VVHSY8eFBxtZ0UDQ=s64",
      "userId": "11743593445641168994"
     },
     "user_tz": -330
    },
    "id": "zewyDcBlJjv1",
    "outputId": "f89ae992-ef6f-465f-89f4-f60825a3b293"
   },
   "outputs": [
    {
     "name": "stdout",
     "output_type": "stream",
     "text": [
      "No of test samples: 10000\n"
     ]
    }
   ],
   "source": [
    "print(\"No of test samples:\",x_test.shape[0])\n"
   ]
  },
  {
   "cell_type": "markdown",
   "metadata": {
    "colab_type": "text",
    "id": "WytT2eRnJjv4"
   },
   "source": [
    "### Find dimensions of an image in the dataset"
   ]
  },
  {
   "cell_type": "code",
   "execution_count": 5,
   "metadata": {
    "colab": {
     "base_uri": "https://localhost:8080/",
     "height": 52
    },
    "colab_type": "code",
    "executionInfo": {
     "elapsed": 733,
     "status": "ok",
     "timestamp": 1581839122362,
     "user": {
      "displayName": "Rashmi Tomer",
      "photoUrl": "https://lh3.googleusercontent.com/a-/AAuE7mBnmMOMxexSsUh6_pCS0FgIO7VVHSY8eFBxtZ0UDQ=s64",
      "userId": "11743593445641168994"
     },
     "user_tz": -330
    },
    "id": "XycQGBSGJjv5",
    "outputId": "2d6e59f6-3951-46df-baad-adaca863f0bc"
   },
   "outputs": [
    {
     "name": "stdout",
     "output_type": "stream",
     "text": [
      "Dimension of train samples: (60000, 28, 28)\n",
      "Dimension of test samples: (10000, 28, 28)\n"
     ]
    }
   ],
   "source": [
    "print(\"Dimension of train samples:\",x_train.shape)\n",
    "print(\"Dimension of test samples:\",x_test.shape)"
   ]
  },
  {
   "cell_type": "markdown",
   "metadata": {
    "colab_type": "text",
    "id": "5jtdZ7RqJjv8"
   },
   "source": [
    "### Convert train and test labels to one hot vectors\n",
    "\n",
    "** check `keras.utils.to_categorical()` **"
   ]
  },
  {
   "cell_type": "code",
   "execution_count": 6,
   "metadata": {
    "colab": {
     "base_uri": "https://localhost:8080/",
     "height": 87
    },
    "colab_type": "code",
    "executionInfo": {
     "elapsed": 738,
     "status": "ok",
     "timestamp": 1581839124239,
     "user": {
      "displayName": "Rashmi Tomer",
      "photoUrl": "https://lh3.googleusercontent.com/a-/AAuE7mBnmMOMxexSsUh6_pCS0FgIO7VVHSY8eFBxtZ0UDQ=s64",
      "userId": "11743593445641168994"
     },
     "user_tz": -330
    },
    "id": "sAD3q5I6Jjv9",
    "outputId": "3d39e723-9af6-4f28-f7bf-d103f3e26c75"
   },
   "outputs": [
    {
     "name": "stdout",
     "output_type": "stream",
     "text": [
      "--- THE DATA ---\n",
      "x_train shape: (60000, 28, 28)\n",
      "60000 train samples\n",
      "10000 test samples\n"
     ]
    }
   ],
   "source": [
    "\n",
    "y_train = keras.utils.to_categorical(y_train, num_classes=10)\n",
    "y_test = keras.utils.to_categorical(y_test, num_classes=10)\n",
    "\n",
    "\n",
    "print('--- THE DATA ---')\n",
    "print('x_train shape:', x_train.shape)  ## not RGB so dimension is 1 not 3 here\n",
    "print(x_train.shape[0], 'train samples')\n",
    "print(x_test.shape[0], 'test samples')"
   ]
  },
  {
   "cell_type": "code",
   "execution_count": 7,
   "metadata": {
    "colab": {
     "base_uri": "https://localhost:8080/",
     "height": 104
    },
    "colab_type": "code",
    "executionInfo": {
     "elapsed": 1412,
     "status": "ok",
     "timestamp": 1581839128330,
     "user": {
      "displayName": "Rashmi Tomer",
      "photoUrl": "https://lh3.googleusercontent.com/a-/AAuE7mBnmMOMxexSsUh6_pCS0FgIO7VVHSY8eFBxtZ0UDQ=s64",
      "userId": "11743593445641168994"
     },
     "user_tz": -330
    },
    "id": "mgHSCXy3JjwA",
    "outputId": "675ca92d-176f-4787-9e74-a4df1424a312"
   },
   "outputs": [
    {
     "data": {
      "text/plain": [
       "array([[0., 0., 0., 0., 0., 0., 0., 0., 0., 1.],\n",
       "       [1., 0., 0., 0., 0., 0., 0., 0., 0., 0.],\n",
       "       [1., 0., 0., 0., 0., 0., 0., 0., 0., 0.],\n",
       "       [0., 0., 0., 1., 0., 0., 0., 0., 0., 0.],\n",
       "       [1., 0., 0., 0., 0., 0., 0., 0., 0., 0.]], dtype=float32)"
      ]
     },
     "execution_count": 7,
     "metadata": {
      "tags": []
     },
     "output_type": "execute_result"
    }
   ],
   "source": [
    "y_train[0:5,]"
   ]
  },
  {
   "cell_type": "markdown",
   "metadata": {
    "colab_type": "text",
    "id": "xO5BRBzBJjwD"
   },
   "source": [
    "### Normalize both the train and test image data from 0-255 to 0-1"
   ]
  },
  {
   "cell_type": "code",
   "execution_count": 8,
   "metadata": {
    "colab": {
     "base_uri": "https://localhost:8080/",
     "height": 87
    },
    "colab_type": "code",
    "executionInfo": {
     "elapsed": 1331,
     "status": "ok",
     "timestamp": 1581839131488,
     "user": {
      "displayName": "Rashmi Tomer",
      "photoUrl": "https://lh3.googleusercontent.com/a-/AAuE7mBnmMOMxexSsUh6_pCS0FgIO7VVHSY8eFBxtZ0UDQ=s64",
      "userId": "11743593445641168994"
     },
     "user_tz": -330
    },
    "id": "3fUQpMHxJjwE",
    "outputId": "49624d5f-78fc-4ab4-cff2-7bd6ba052ab3"
   },
   "outputs": [
    {
     "name": "stdout",
     "output_type": "stream",
     "text": [
      "--- THE DATA ---\n",
      "x_train shape: (60000, 28, 28)\n",
      "60000 train samples\n",
      "10000 test samples\n"
     ]
    }
   ],
   "source": [
    "x_train = x_train.astype('float32')\n",
    "x_test = x_test.astype('float32')\n",
    "x_train /= 255\n",
    "x_test /= 255\n",
    "\n",
    "print('--- THE DATA ---')\n",
    "print('x_train shape:', x_train.shape)  ## not RGB so dimension is 1 not 3 here\n",
    "print(x_train.shape[0], 'train samples')\n",
    "print(x_test.shape[0], 'test samples')"
   ]
  },
  {
   "cell_type": "markdown",
   "metadata": {
    "colab_type": "text",
    "id": "da5-DwgrJjwM"
   },
   "source": [
    "### Reshape the data from 28x28 to 28x28x1 to match input dimensions in Conv2D layer in keras"
   ]
  },
  {
   "cell_type": "code",
   "execution_count": 0,
   "metadata": {
    "colab": {},
    "colab_type": "code",
    "id": "LPGVQ-JJJjwN"
   },
   "outputs": [],
   "source": [
    "x_train = x_train.reshape(x_train.shape[0], 28, 28, 1).astype('float32')\n",
    "x_test = x_test.reshape(x_test.shape[0], 28, 28, 1).astype('float32')"
   ]
  },
  {
   "cell_type": "markdown",
   "metadata": {
    "colab_type": "text",
    "id": "OFRRTJq8JjwQ"
   },
   "source": [
    "### Import the necessary layers from keras to build the model"
   ]
  },
  {
   "cell_type": "code",
   "execution_count": 0,
   "metadata": {
    "colab": {},
    "colab_type": "code",
    "id": "dWTZYnKSJjwR"
   },
   "outputs": [],
   "source": [
    "from keras.models import Sequential\n",
    "from keras.layers import Dense, Activation, Dropout, Flatten, Reshape\n",
    "from keras.layers import Convolution2D, MaxPooling2D\n",
    "from keras.utils import np_utils\n",
    "import pickle\n",
    "\n",
    "import warnings\n",
    "warnings.filterwarnings('ignore')\n"
   ]
  },
  {
   "cell_type": "markdown",
   "metadata": {
    "colab_type": "text",
    "id": "C18AoS7eJjwU"
   },
   "source": [
    "### Build a model \n",
    "\n",
    "** with 2 Conv layers having `32 3x3 filters` in both convolutions with `relu activations` and `flatten` before passing the feature map into 2 fully connected layers (or Dense Layers) having 128 and 10 neurons with `relu` and `softmax` activations respectively. Now, using `categorical_crossentropy` loss with `adam` optimizer train the model with early stopping `patience=5` and no.of `epochs=10`. **"
   ]
  },
  {
   "cell_type": "code",
   "execution_count": 11,
   "metadata": {
    "colab": {
     "base_uri": "https://localhost:8080/",
     "height": 921
    },
    "colab_type": "code",
    "executionInfo": {
     "elapsed": 145507,
     "status": "ok",
     "timestamp": 1581839308262,
     "user": {
      "displayName": "Rashmi Tomer",
      "photoUrl": "https://lh3.googleusercontent.com/a-/AAuE7mBnmMOMxexSsUh6_pCS0FgIO7VVHSY8eFBxtZ0UDQ=s64",
      "userId": "11743593445641168994"
     },
     "user_tz": -330
    },
    "id": "DORCLgSwJjwV",
    "outputId": "af71b72b-3f54-4af2-ecf1-0642e5bd2aaa"
   },
   "outputs": [
    {
     "name": "stdout",
     "output_type": "stream",
     "text": [
      "WARNING:tensorflow:From /usr/local/lib/python3.6/dist-packages/keras/backend/tensorflow_backend.py:66: The name tf.get_default_graph is deprecated. Please use tf.compat.v1.get_default_graph instead.\n",
      "\n",
      "WARNING:tensorflow:From /usr/local/lib/python3.6/dist-packages/keras/backend/tensorflow_backend.py:541: The name tf.placeholder is deprecated. Please use tf.compat.v1.placeholder instead.\n",
      "\n",
      "WARNING:tensorflow:From /usr/local/lib/python3.6/dist-packages/keras/backend/tensorflow_backend.py:4432: The name tf.random_uniform is deprecated. Please use tf.random.uniform instead.\n",
      "\n",
      "WARNING:tensorflow:From /usr/local/lib/python3.6/dist-packages/keras/optimizers.py:793: The name tf.train.Optimizer is deprecated. Please use tf.compat.v1.train.Optimizer instead.\n",
      "\n",
      "WARNING:tensorflow:From /usr/local/lib/python3.6/dist-packages/keras/backend/tensorflow_backend.py:3576: The name tf.log is deprecated. Please use tf.math.log instead.\n",
      "\n",
      "WARNING:tensorflow:From /usr/local/lib/python3.6/dist-packages/tensorflow_core/python/ops/math_grad.py:1424: where (from tensorflow.python.ops.array_ops) is deprecated and will be removed in a future version.\n",
      "Instructions for updating:\n",
      "Use tf.where in 2.0, which has the same broadcast rule as np.where\n",
      "WARNING:tensorflow:From /usr/local/lib/python3.6/dist-packages/keras/backend/tensorflow_backend.py:1033: The name tf.assign_add is deprecated. Please use tf.compat.v1.assign_add instead.\n",
      "\n",
      "WARNING:tensorflow:From /usr/local/lib/python3.6/dist-packages/keras/backend/tensorflow_backend.py:1020: The name tf.assign is deprecated. Please use tf.compat.v1.assign instead.\n",
      "\n",
      "WARNING:tensorflow:From /usr/local/lib/python3.6/dist-packages/keras/backend/tensorflow_backend.py:3005: The name tf.Session is deprecated. Please use tf.compat.v1.Session instead.\n",
      "\n",
      "Train on 60000 samples, validate on 10000 samples\n",
      "Epoch 1/10\n",
      "WARNING:tensorflow:From /usr/local/lib/python3.6/dist-packages/keras/backend/tensorflow_backend.py:190: The name tf.get_default_session is deprecated. Please use tf.compat.v1.get_default_session instead.\n",
      "\n",
      "WARNING:tensorflow:From /usr/local/lib/python3.6/dist-packages/keras/backend/tensorflow_backend.py:197: The name tf.ConfigProto is deprecated. Please use tf.compat.v1.ConfigProto instead.\n",
      "\n",
      "WARNING:tensorflow:From /usr/local/lib/python3.6/dist-packages/keras/backend/tensorflow_backend.py:207: The name tf.global_variables is deprecated. Please use tf.compat.v1.global_variables instead.\n",
      "\n",
      "WARNING:tensorflow:From /usr/local/lib/python3.6/dist-packages/keras/backend/tensorflow_backend.py:216: The name tf.is_variable_initialized is deprecated. Please use tf.compat.v1.is_variable_initialized instead.\n",
      "\n",
      "WARNING:tensorflow:From /usr/local/lib/python3.6/dist-packages/keras/backend/tensorflow_backend.py:223: The name tf.variables_initializer is deprecated. Please use tf.compat.v1.variables_initializer instead.\n",
      "\n",
      "60000/60000 [==============================] - 17s 278us/step - loss: 0.3770 - acc: 0.8644 - val_loss: 0.2900 - val_acc: 0.8945\n",
      "Epoch 2/10\n",
      "60000/60000 [==============================] - 14s 235us/step - loss: 0.2345 - acc: 0.9124 - val_loss: 0.2583 - val_acc: 0.9055\n",
      "Epoch 3/10\n",
      "60000/60000 [==============================] - 14s 238us/step - loss: 0.1695 - acc: 0.9365 - val_loss: 0.2793 - val_acc: 0.9069\n",
      "Epoch 4/10\n",
      "60000/60000 [==============================] - 14s 237us/step - loss: 0.1187 - acc: 0.9557 - val_loss: 0.2665 - val_acc: 0.9129\n",
      "Epoch 5/10\n",
      "60000/60000 [==============================] - 14s 233us/step - loss: 0.0799 - acc: 0.9709 - val_loss: 0.3031 - val_acc: 0.9104\n",
      "Epoch 6/10\n",
      "60000/60000 [==============================] - 14s 235us/step - loss: 0.0545 - acc: 0.9800 - val_loss: 0.3200 - val_acc: 0.9170\n",
      "Epoch 7/10\n",
      "60000/60000 [==============================] - 14s 234us/step - loss: 0.0379 - acc: 0.9860 - val_loss: 0.4028 - val_acc: 0.9109\n",
      "Epoch 8/10\n",
      "60000/60000 [==============================] - 14s 234us/step - loss: 0.0273 - acc: 0.9903 - val_loss: 0.4276 - val_acc: 0.9139\n",
      "Epoch 9/10\n",
      "60000/60000 [==============================] - 14s 238us/step - loss: 0.0232 - acc: 0.9915 - val_loss: 0.4613 - val_acc: 0.9092\n",
      "Epoch 10/10\n",
      "60000/60000 [==============================] - 14s 239us/step - loss: 0.0200 - acc: 0.9926 - val_loss: 0.5301 - val_acc: 0.9127\n"
     ]
    },
    {
     "data": {
      "text/plain": [
       "<keras.callbacks.History at 0x7fa4da3efa20>"
      ]
     },
     "execution_count": 11,
     "metadata": {
      "tags": []
     },
     "output_type": "execute_result"
    }
   ],
   "source": [
    "# Define model\n",
    "model = Sequential()\n",
    "\n",
    "# 1st Conv Layer\n",
    "model.add(Convolution2D(32, 3, 3, input_shape=(28, 28, 1)))\n",
    "model.add(Activation('relu'))\n",
    "\n",
    "# 2nd Conv Layer\n",
    "model.add(Convolution2D(32, 3, 3))\n",
    "model.add(Activation('relu'))\n",
    "\n",
    "# Fully Connected Layer\n",
    "model.add(Flatten())\n",
    "model.add(Dense(128))\n",
    "model.add(Activation('relu'))\n",
    "\n",
    "# Prediction Layer\n",
    "model.add(Dense(10))\n",
    "model.add(Activation('softmax'))\n",
    "\n",
    "# Loss and Optimizer\n",
    "model.compile(loss='categorical_crossentropy', optimizer='adam', metrics=['accuracy'])\n",
    "    \n",
    "# Store Training Results\n",
    "early_stopping = keras.callbacks.EarlyStopping(monitor='val_acc', patience=5, verbose=1, mode='auto')\n",
    "callback_list = [early_stopping]\n",
    "\n",
    "# Train the model2\n",
    "model.fit(x_train, y_train, batch_size=32, nb_epoch=10, validation_data=(x_test, y_test), callbacks=callback_list)\n"
   ]
  },
  {
   "cell_type": "markdown",
   "metadata": {
    "colab_type": "text",
    "id": "ju69vKdIJjwX"
   },
   "source": [
    "### Now, to the above model add `max` pooling layer of `filter size 2x2` and `dropout` layer with `p=0.25` after the 2 conv layers and run the model"
   ]
  },
  {
   "cell_type": "code",
   "execution_count": 12,
   "metadata": {
    "colab": {
     "base_uri": "https://localhost:8080/",
     "height": 540
    },
    "colab_type": "code",
    "executionInfo": {
     "elapsed": 107578,
     "status": "ok",
     "timestamp": 1581839429351,
     "user": {
      "displayName": "Rashmi Tomer",
      "photoUrl": "https://lh3.googleusercontent.com/a-/AAuE7mBnmMOMxexSsUh6_pCS0FgIO7VVHSY8eFBxtZ0UDQ=s64",
      "userId": "11743593445641168994"
     },
     "user_tz": -330
    },
    "id": "L2hAP94vJjwY",
    "outputId": "202b61bf-3e74-448c-938e-e86910fb0411"
   },
   "outputs": [
    {
     "name": "stdout",
     "output_type": "stream",
     "text": [
      "WARNING:tensorflow:From /usr/local/lib/python3.6/dist-packages/keras/backend/tensorflow_backend.py:4267: The name tf.nn.max_pool is deprecated. Please use tf.nn.max_pool2d instead.\n",
      "\n",
      "WARNING:tensorflow:From /usr/local/lib/python3.6/dist-packages/keras/backend/tensorflow_backend.py:148: The name tf.placeholder_with_default is deprecated. Please use tf.compat.v1.placeholder_with_default instead.\n",
      "\n",
      "WARNING:tensorflow:From /usr/local/lib/python3.6/dist-packages/keras/backend/tensorflow_backend.py:3733: calling dropout (from tensorflow.python.ops.nn_ops) with keep_prob is deprecated and will be removed in a future version.\n",
      "Instructions for updating:\n",
      "Please use `rate` instead of `keep_prob`. Rate should be set to `rate = 1 - keep_prob`.\n",
      "Train on 60000 samples, validate on 10000 samples\n",
      "Epoch 1/10\n",
      "60000/60000 [==============================] - 11s 184us/step - loss: 0.4266 - acc: 0.8451 - val_loss: 0.3143 - val_acc: 0.8879\n",
      "Epoch 2/10\n",
      "60000/60000 [==============================] - 11s 177us/step - loss: 0.2867 - acc: 0.8936 - val_loss: 0.2794 - val_acc: 0.8940\n",
      "Epoch 3/10\n",
      "60000/60000 [==============================] - 11s 178us/step - loss: 0.2426 - acc: 0.9108 - val_loss: 0.2369 - val_acc: 0.9137\n",
      "Epoch 4/10\n",
      "60000/60000 [==============================] - 11s 180us/step - loss: 0.2142 - acc: 0.9201 - val_loss: 0.2294 - val_acc: 0.9135\n",
      "Epoch 5/10\n",
      "60000/60000 [==============================] - 11s 180us/step - loss: 0.1925 - acc: 0.9269 - val_loss: 0.2281 - val_acc: 0.9189\n",
      "Epoch 6/10\n",
      "60000/60000 [==============================] - 11s 182us/step - loss: 0.1750 - acc: 0.9343 - val_loss: 0.2146 - val_acc: 0.9261\n",
      "Epoch 7/10\n",
      "60000/60000 [==============================] - 11s 176us/step - loss: 0.1587 - acc: 0.9402 - val_loss: 0.2266 - val_acc: 0.9196\n",
      "Epoch 8/10\n",
      "60000/60000 [==============================] - 10s 170us/step - loss: 0.1458 - acc: 0.9441 - val_loss: 0.2256 - val_acc: 0.9266\n",
      "Epoch 9/10\n",
      "60000/60000 [==============================] - 10s 167us/step - loss: 0.1354 - acc: 0.9482 - val_loss: 0.2231 - val_acc: 0.9265\n",
      "Epoch 10/10\n",
      "60000/60000 [==============================] - 10s 172us/step - loss: 0.1245 - acc: 0.9523 - val_loss: 0.2383 - val_acc: 0.9226\n"
     ]
    },
    {
     "data": {
      "text/plain": [
       "<keras.callbacks.History at 0x7fa4cc12bd30>"
      ]
     },
     "execution_count": 12,
     "metadata": {
      "tags": []
     },
     "output_type": "execute_result"
    }
   ],
   "source": [
    "# Define model\n",
    "model2 = Sequential()\n",
    "\n",
    "# 1st Conv Layer\n",
    "model2.add(Convolution2D(32, 3, 3, input_shape=(28, 28, 1)))\n",
    "model2.add(Activation('relu'))\n",
    "\n",
    "# 2nd Conv Layer\n",
    "model2.add(Convolution2D(32, 3, 3))\n",
    "model2.add(Activation('relu'))\n",
    "\n",
    "# adding Maxpool layer\n",
    "model2.add(keras.layers.MaxPooling2D(pool_size=(2, 2), strides=None, padding='valid', data_format=None))\n",
    "\n",
    "# Dropout layer\n",
    "model2.add(keras.layers.Dropout(0.5))\n",
    "\n",
    "# Fully Connected Layer\n",
    "model2.add(Flatten())\n",
    "model2.add(Dense(128))\n",
    "model2.add(Activation('relu'))\n",
    "\n",
    "# Prediction Layer\n",
    "model2.add(Dense(10))\n",
    "model2.add(Activation('softmax'))\n",
    "\n",
    "# Loss and Optimizer\n",
    "model2.compile(loss='categorical_crossentropy', optimizer='adam', metrics=['accuracy'])\n",
    "    \n",
    "# Store Training Results\n",
    "early_stopping = keras.callbacks.EarlyStopping(monitor='val_acc', patience=5, verbose=1, mode='auto')\n",
    "callback_list = [early_stopping]\n",
    "\n",
    "# Train the model2\n",
    "model2.fit(x_train, y_train, batch_size=32, nb_epoch=10, validation_data=(x_test, y_test), callbacks=callback_list)"
   ]
  },
  {
   "cell_type": "markdown",
   "metadata": {
    "colab_type": "text",
    "id": "lGTA3bfEJjwa"
   },
   "source": [
    "### Now, to the above model, lets add Data Augmentation "
   ]
  },
  {
   "cell_type": "markdown",
   "metadata": {
    "colab_type": "text",
    "id": "F6gX8n5SJjwb"
   },
   "source": [
    "### Import the ImageDataGenrator from keras and fit the training images"
   ]
  },
  {
   "cell_type": "code",
   "execution_count": 0,
   "metadata": {
    "colab": {},
    "colab_type": "code",
    "id": "Cbz4uHBuJjwc"
   },
   "outputs": [],
   "source": [
    "from keras.preprocessing.image import ImageDataGenerator\n",
    "\n",
    "# This will do preprocessing and realtime data augmentation:\n",
    "datagen = ImageDataGenerator(\n",
    "    featurewise_center=False,  # set input mean to 0 over the dataset\n",
    "    samplewise_center=False,  # set each sample mean to 0\n",
    "    featurewise_std_normalization=False,  # divide inputs by std of the dataset\n",
    "    samplewise_std_normalization=False,  # divide each input by its std\n",
    "    zca_whitening=False,  # apply ZCA whitening\n",
    "    rotation_range=50,  # randomly rotate images in the range (degrees, 0 to 180)\n",
    "    width_shift_range=0.1,  # randomly shift images horizontally (fraction of total width)\n",
    "    height_shift_range=0.1,  # randomly shift images vertically (fraction of total height)\n",
    "    horizontal_flip=False,  # randomly flip images\n",
    "    vertical_flip=False)  # randomly flip images\n",
    "\n",
    "# Prepare the generator\n",
    "datagen.fit(x_train)"
   ]
  },
  {
   "cell_type": "markdown",
   "metadata": {
    "colab_type": "text",
    "id": "pl-8dOo7Jjwf"
   },
   "source": [
    "#### Showing 5 versions of the first image in training dataset using image datagenerator.flow()"
   ]
  },
  {
   "cell_type": "code",
   "execution_count": 14,
   "metadata": {
    "colab": {
     "base_uri": "https://localhost:8080/",
     "height": 89
    },
    "colab_type": "code",
    "executionInfo": {
     "elapsed": 1417,
     "status": "ok",
     "timestamp": 1581839472774,
     "user": {
      "displayName": "Rashmi Tomer",
      "photoUrl": "https://lh3.googleusercontent.com/a-/AAuE7mBnmMOMxexSsUh6_pCS0FgIO7VVHSY8eFBxtZ0UDQ=s64",
      "userId": "11743593445641168994"
     },
     "user_tz": -330
    },
    "id": "DpI1_McYJjwg",
    "outputId": "ac4ff5fc-53d5-4c5f-a82f-1e3ca385a244",
    "scrolled": true
   },
   "outputs": [
    {
     "data": {
      "image/png": "[encoded data removed]",
      "text/plain": [
       "<Figure size 432x288 with 5 Axes>"
      ]
     },
     "metadata": {
      "tags": []
     },
     "output_type": "display_data"
    }
   ],
   "source": [
    "from matplotlib import pyplot as plt\n",
    "gen = datagen.flow(x_train[0:1], batch_size=1)\n",
    "for i in range(1, 6):\n",
    "    plt.subplot(1,5,i)\n",
    "    plt.axis(\"off\")\n",
    "    plt.imshow(gen.next().squeeze(), cmap='gray')\n",
    "    plt.plot()\n",
    "plt.show()"
   ]
  },
  {
   "cell_type": "markdown",
   "metadata": {
    "colab_type": "text",
    "id": "dmPl5yE8Jjwm"
   },
   "source": [
    "### Run the above model using fit_generator()"
   ]
  },
  {
   "cell_type": "code",
   "execution_count": 15,
   "metadata": {
    "colab": {
     "base_uri": "https://localhost:8080/",
     "height": 381
    },
    "colab_type": "code",
    "executionInfo": {
     "elapsed": 140681,
     "status": "ok",
     "timestamp": 1581839621641,
     "user": {
      "displayName": "Rashmi Tomer",
      "photoUrl": "https://lh3.googleusercontent.com/a-/AAuE7mBnmMOMxexSsUh6_pCS0FgIO7VVHSY8eFBxtZ0UDQ=s64",
      "userId": "11743593445641168994"
     },
     "user_tz": -330
    },
    "id": "44ZnDdJYJjwn",
    "outputId": "e87e509d-0501-4493-95c3-a4a208badc4b"
   },
   "outputs": [
    {
     "name": "stdout",
     "output_type": "stream",
     "text": [
      "Epoch 1/10\n",
      "600/600 [==============================] - 14s 23ms/step - loss: 0.8451 - acc: 0.6923\n",
      "Epoch 2/10\n",
      "600/600 [==============================] - 14s 23ms/step - loss: 0.6180 - acc: 0.7697\n",
      "Epoch 3/10\n",
      "600/600 [==============================] - 14s 23ms/step - loss: 0.5590 - acc: 0.7924\n",
      "Epoch 4/10\n",
      "600/600 [==============================] - 14s 24ms/step - loss: 0.5240 - acc: 0.8057\n",
      "Epoch 5/10\n",
      "600/600 [==============================] - 14s 23ms/step - loss: 0.4954 - acc: 0.8140\n",
      "Epoch 6/10\n",
      "600/600 [==============================] - 14s 23ms/step - loss: 0.4778 - acc: 0.8230\n",
      "Epoch 7/10\n",
      "600/600 [==============================] - 14s 23ms/step - loss: 0.4611 - acc: 0.8285\n",
      "Epoch 8/10\n",
      "600/600 [==============================] - 14s 23ms/step - loss: 0.4478 - acc: 0.8329\n",
      "Epoch 9/10\n",
      "600/600 [==============================] - 14s 23ms/step - loss: 0.4291 - acc: 0.8403\n",
      "Epoch 10/10\n",
      "600/600 [==============================] - 14s 23ms/step - loss: 0.4229 - acc: 0.8415\n"
     ]
    },
    {
     "data": {
      "text/plain": [
       "<keras.callbacks.History at 0x7fa4da3335c0>"
      ]
     },
     "execution_count": 15,
     "metadata": {
      "tags": []
     },
     "output_type": "execute_result"
    }
   ],
   "source": [
    "epochs=10\n",
    "# Prepare the generator\n",
    "model2.fit_generator(datagen.flow(x_train, y_train, batch_size=100), steps_per_epoch=len(x_train) / 100, epochs=epochs)"
   ]
  },
  {
   "cell_type": "markdown",
   "metadata": {
    "colab_type": "text",
    "id": "MwQQW5iOJjwq"
   },
   "source": [
    "###  Report the final train and validation accuracy"
   ]
  },
  {
   "cell_type": "code",
   "execution_count": 18,
   "metadata": {
    "colab": {
     "base_uri": "https://localhost:8080/",
     "height": 52
    },
    "colab_type": "code",
    "executionInfo": {
     "elapsed": 1345,
     "status": "ok",
     "timestamp": 1581839966549,
     "user": {
      "displayName": "Rashmi Tomer",
      "photoUrl": "https://lh3.googleusercontent.com/a-/AAuE7mBnmMOMxexSsUh6_pCS0FgIO7VVHSY8eFBxtZ0UDQ=s64",
      "userId": "11743593445641168994"
     },
     "user_tz": -330
    },
    "id": "c1SrtBEPJjwq",
    "outputId": "c4956db1-ce81-4059-fa68-fe3fa29aebd4"
   },
   "outputs": [
    {
     "name": "stdout",
     "output_type": "stream",
     "text": [
      "10000/10000 [==============================] - 0s 27us/step\n",
      "test loss, test acc: [0.2828197732448578, 0.9011]\n"
     ]
    }
   ],
   "source": [
    "from __future__ import absolute_import, division, print_function, unicode_literals\n",
    "\n",
    "results = model2.evaluate(x_test, y_test, batch_size=128)\n",
    "print('test loss, test acc:', results)"
   ]
  },
  {
   "cell_type": "code",
   "execution_count": 19,
   "metadata": {
    "colab": {
     "base_uri": "https://localhost:8080/",
     "height": 52
    },
    "colab_type": "code",
    "executionInfo": {
     "elapsed": 2449,
     "status": "ok",
     "timestamp": 1581839995937,
     "user": {
      "displayName": "Rashmi Tomer",
      "photoUrl": "https://lh3.googleusercontent.com/a-/AAuE7mBnmMOMxexSsUh6_pCS0FgIO7VVHSY8eFBxtZ0UDQ=s64",
      "userId": "11743593445641168994"
     },
     "user_tz": -330
    },
    "id": "ZBwVWNQC2qZD",
    "outputId": "0354cbe2-9d27-41cc-9211-516169c029aa"
   },
   "outputs": [
    {
     "name": "stdout",
     "output_type": "stream",
     "text": [
      "60000/60000 [==============================] - 1s 22us/step\n",
      "test loss, test acc: [0.21686342313289642, 0.9203166666666667]\n"
     ]
    }
   ],
   "source": [
    "results = model2.evaluate(x_train, y_train, batch_size=128)\n",
    "print('test loss, test acc:', results)"
   ]
  },
  {
   "cell_type": "markdown",
   "metadata": {
    "colab_type": "text",
    "id": "8KXqmUDW2rM1"
   },
   "source": [
    "## **DATA AUGMENTATION ON CIFAR10 DATASET**"
   ]
  },
  {
   "cell_type": "markdown",
   "metadata": {
    "colab_type": "text",
    "id": "8mja6OgQ3L18"
   },
   "source": [
    "One of the best ways to improve the performance of a Deep Learning model is to add more data to the training set. Aside from gathering more instances from the wild that are representative of the distinction task, we want to develop a set of methods that enhance the data we already have. There are many ways to augment existing datasets and produce more robust models. In the image domain, these are done to utilize the full power of the convolutional neural network, which is able to capture translational invariance. This translational invariance is what makes image recognition such a difficult task in the first place. You want the dataset to be representative of the many different positions, angles, lightings, and miscellaneous distortions that are of interest to the vision task."
   ]
  },
  {
   "cell_type": "markdown",
   "metadata": {
    "colab_type": "text",
    "id": "6HzVTPUM3WZJ"
   },
   "source": [
    "### **Import neessary libraries for data augmentation**"
   ]
  },
  {
   "cell_type": "code",
   "execution_count": 0,
   "metadata": {
    "colab": {},
    "colab_type": "code",
    "id": "PPM558TX4KMb"
   },
   "outputs": [],
   "source": [
    "from keras.preprocessing.image import ImageDataGenerator\n"
   ]
  },
  {
   "cell_type": "markdown",
   "metadata": {
    "colab_type": "text",
    "id": "W6hicLwP4SqY"
   },
   "source": [
    "### **Load CIFAR10 dataset**"
   ]
  },
  {
   "cell_type": "code",
   "execution_count": 0,
   "metadata": {
    "colab": {},
    "colab_type": "code",
    "id": "NQ1WzrXd4WNk"
   },
   "outputs": [],
   "source": [
    "from keras.datasets import cifar10\n"
   ]
  },
  {
   "cell_type": "code",
   "execution_count": 22,
   "metadata": {
    "colab": {
     "base_uri": "https://localhost:8080/",
     "height": 52
    },
    "colab_type": "code",
    "executionInfo": {
     "elapsed": 9902,
     "status": "ok",
     "timestamp": 1581840031906,
     "user": {
      "displayName": "Rashmi Tomer",
      "photoUrl": "https://lh3.googleusercontent.com/a-/AAuE7mBnmMOMxexSsUh6_pCS0FgIO7VVHSY8eFBxtZ0UDQ=s64",
      "userId": "11743593445641168994"
     },
     "user_tz": -330
    },
    "id": "R9Pht1ggHuiT",
    "outputId": "9bb30459-5be0-4b32-ab3c-f321807dbed1"
   },
   "outputs": [
    {
     "name": "stdout",
     "output_type": "stream",
     "text": [
      "Downloading data from https://www.cs.toronto.edu/~kriz/cifar-10-python.tar.gz\n",
      "170500096/170498071 [==============================] - 6s 0us/step\n"
     ]
    }
   ],
   "source": [
    "(x_train, y_train), (x_test, y_test) = cifar10.load_data()"
   ]
  },
  {
   "cell_type": "code",
   "execution_count": 23,
   "metadata": {
    "colab": {
     "base_uri": "https://localhost:8080/",
     "height": 52
    },
    "colab_type": "code",
    "executionInfo": {
     "elapsed": 1339,
     "status": "ok",
     "timestamp": 1581840066163,
     "user": {
      "displayName": "Rashmi Tomer",
      "photoUrl": "https://lh3.googleusercontent.com/a-/AAuE7mBnmMOMxexSsUh6_pCS0FgIO7VVHSY8eFBxtZ0UDQ=s64",
      "userId": "11743593445641168994"
     },
     "user_tz": -330
    },
    "id": "3n28ccU6Hp6s",
    "outputId": "402509dd-1b56-4e15-ccb4-5ed65ee52f16"
   },
   "outputs": [
    {
     "name": "stdout",
     "output_type": "stream",
     "text": [
      "Dimension of train samples: (50000, 32, 32, 3)\n",
      "Dimension of test samples: (10000, 32, 32, 3)\n"
     ]
    }
   ],
   "source": [
    "print(\"Dimension of train samples:\",x_train.shape)\n",
    "print(\"Dimension of test samples:\",x_test.shape)"
   ]
  },
  {
   "cell_type": "code",
   "execution_count": 28,
   "metadata": {
    "colab": {
     "base_uri": "https://localhost:8080/",
     "height": 87
    },
    "colab_type": "code",
    "executionInfo": {
     "elapsed": 1368,
     "status": "ok",
     "timestamp": 1581840201615,
     "user": {
      "displayName": "Rashmi Tomer",
      "photoUrl": "https://lh3.googleusercontent.com/a-/AAuE7mBnmMOMxexSsUh6_pCS0FgIO7VVHSY8eFBxtZ0UDQ=s64",
      "userId": "11743593445641168994"
     },
     "user_tz": -330
    },
    "id": "C0NmaVBy1qQN",
    "outputId": "95146799-e545-4e04-c498-a417baf0a6c4"
   },
   "outputs": [
    {
     "name": "stdout",
     "output_type": "stream",
     "text": [
      "--- THE DATA ---\n",
      "x_train shape: (50000, 32, 32, 3)\n",
      "50000 train samples\n",
      "10000 test samples\n"
     ]
    }
   ],
   "source": [
    "y_train = keras.utils.to_categorical(y_train, num_classes=10)\n",
    "y_test = keras.utils.to_categorical(y_test, num_classes=10)\n"
   ]
  },
  {
   "cell_type": "code",
   "execution_count": 29,
   "metadata": {
    "colab": {
     "base_uri": "https://localhost:8080/",
     "height": 87
    },
    "colab_type": "code",
    "executionInfo": {
     "elapsed": 1351,
     "status": "ok",
     "timestamp": 1581840262314,
     "user": {
      "displayName": "Rashmi Tomer",
      "photoUrl": "https://lh3.googleusercontent.com/a-/AAuE7mBnmMOMxexSsUh6_pCS0FgIO7VVHSY8eFBxtZ0UDQ=s64",
      "userId": "11743593445641168994"
     },
     "user_tz": -330
    },
    "id": "8HolJfiOBsXc",
    "outputId": "687b34b8-1465-47f0-bda2-eaca4f795c35"
   },
   "outputs": [
    {
     "name": "stdout",
     "output_type": "stream",
     "text": [
      "--- THE DATA ---\n",
      "x_train shape: (50000, 32, 32, 3)\n",
      "50000 train samples\n",
      "10000 test samples\n"
     ]
    }
   ],
   "source": [
    "x_train = x_train.astype('float32')\n",
    "x_test = x_test.astype('float32')\n",
    "x_train /= 255\n",
    "x_test /= 255\n",
    "\n",
    "print('--- THE DATA ---')\n",
    "print('x_train shape:', x_train.shape)  ## not RGB so dimension is 1 not 3 here\n",
    "print(x_train.shape[0], 'train samples')\n",
    "print(x_test.shape[0], 'test samples')"
   ]
  },
  {
   "cell_type": "code",
   "execution_count": 0,
   "metadata": {
    "colab": {},
    "colab_type": "code",
    "id": "eihNgqEmB4zD"
   },
   "outputs": [],
   "source": [
    "x_train = x_train.reshape(x_train.shape[0], 32, 32, 3).astype('float32')\n",
    "x_test = x_test.reshape(x_test.shape[0], 32, 32, 3).astype('float32')"
   ]
  },
  {
   "cell_type": "code",
   "execution_count": 0,
   "metadata": {
    "colab": {},
    "colab_type": "code",
    "id": "c9lJApSuB48u"
   },
   "outputs": [],
   "source": []
  },
  {
   "cell_type": "markdown",
   "metadata": {
    "colab_type": "text",
    "id": "JN3vYYhK4W0u"
   },
   "source": [
    "### **Create a data_gen funtion to genererator with image rotation,shifting image horizontally and vertically with random flip horizontally.**"
   ]
  },
  {
   "cell_type": "code",
   "execution_count": 0,
   "metadata": {
    "colab": {},
    "colab_type": "code",
    "id": "JJbekTKi4cmM"
   },
   "outputs": [],
   "source": [
    "from keras.preprocessing.image import ImageDataGenerator\n",
    "\n",
    "# This will do preprocessing and realtime data augmentation:\n",
    "datagen = ImageDataGenerator(\n",
    "    featurewise_center=False,  # set input mean to 0 over the dataset\n",
    "    samplewise_center=False,  # set each sample mean to 0\n",
    "    featurewise_std_normalization=False,  # divide inputs by std of the dataset\n",
    "    samplewise_std_normalization=False,  # divide each input by its std\n",
    "    zca_whitening=False,  # apply ZCA whitening\n",
    "    rotation_range=50,  # randomly rotate images in the range (degrees, 0 to 180)\n",
    "    width_shift_range=0.1,  # randomly shift images horizontally (fraction of total width)\n",
    "    height_shift_range=0.1,  # randomly shift images vertically (fraction of total height)\n",
    "    horizontal_flip=False,  # randomly flip images\n",
    "    vertical_flip=False)  # randomly flip images\n",
    "\n"
   ]
  },
  {
   "cell_type": "markdown",
   "metadata": {
    "colab_type": "text",
    "id": "e-SLtUhC4dK2"
   },
   "source": [
    "### **Prepare/fit the generator.**"
   ]
  },
  {
   "cell_type": "code",
   "execution_count": 0,
   "metadata": {
    "colab": {},
    "colab_type": "code",
    "id": "CSw8Bv2_4hb0"
   },
   "outputs": [],
   "source": [
    "# Prepare the generator\n",
    "datagen.fit(x_train)"
   ]
  },
  {
   "cell_type": "markdown",
   "metadata": {
    "colab_type": "text",
    "id": "gYyF-P8O4jQ8"
   },
   "source": [
    "### **Generate 5 images for 1 of the image of CIFAR10 train dataset.**"
   ]
  },
  {
   "cell_type": "code",
   "execution_count": 42,
   "metadata": {
    "colab": {
     "base_uri": "https://localhost:8080/",
     "height": 89
    },
    "colab_type": "code",
    "executionInfo": {
     "elapsed": 2501,
     "status": "ok",
     "timestamp": 1581840832003,
     "user": {
      "displayName": "Rashmi Tomer",
      "photoUrl": "https://lh3.googleusercontent.com/a-/AAuE7mBnmMOMxexSsUh6_pCS0FgIO7VVHSY8eFBxtZ0UDQ=s64",
      "userId": "11743593445641168994"
     },
     "user_tz": -330
    },
    "id": "mXug4z234mwQ",
    "outputId": "d9bd4778-b05a-42bf-e24f-77fecf6de9bd"
   },
   "outputs": [
    {
     "data": {
      "image/png": "[encoded data removed]",
      "text/plain": [
       "<Figure size 432x288 with 5 Axes>"
      ]
     },
     "metadata": {
      "tags": []
     },
     "output_type": "display_data"
    }
   ],
   "source": [
    "from matplotlib import pyplot as plt\n",
    "gen = datagen.flow(x_train[3:4], batch_size=1)\n",
    "for i in range(1, 6):\n",
    "    plt.subplot(1,5,i)\n",
    "    plt.axis(\"off\")\n",
    "    plt.imshow(gen.next().squeeze(), cmap='gray')\n",
    "    plt.plot()\n",
    "plt.show()"
   ]
  },
  {
   "cell_type": "code",
   "execution_count": 45,
   "metadata": {
    "colab": {
     "base_uri": "https://localhost:8080/",
     "height": 89
    },
    "colab_type": "code",
    "executionInfo": {
     "elapsed": 1665,
     "status": "ok",
     "timestamp": 1581840859295,
     "user": {
      "displayName": "Rashmi Tomer",
      "photoUrl": "https://lh3.googleusercontent.com/a-/AAuE7mBnmMOMxexSsUh6_pCS0FgIO7VVHSY8eFBxtZ0UDQ=s64",
      "userId": "11743593445641168994"
     },
     "user_tz": -330
    },
    "id": "BLhx41KCBDkJ",
    "outputId": "57a3375b-2929-4f69-f57f-9b5bb7ca9c19"
   },
   "outputs": [
    {
     "data": {
      "image/png": "[encoded data removed]",
      "text/plain": [
       "<Figure size 432x288 with 5 Axes>"
      ]
     },
     "metadata": {
      "tags": []
     },
     "output_type": "display_data"
    }
   ],
   "source": [
    "## viewing it from different angle\n",
    "gen = datagen.flow(x_train[0:3], batch_size=1)\n",
    "for i in range(1, 6):\n",
    "    plt.subplot(1,5,i)\n",
    "    plt.axis(\"off\")\n",
    "    plt.imshow(gen.next().squeeze(), cmap='gray')\n",
    "    plt.plot()\n",
    "plt.show()"
   ]
  },
  {
   "cell_type": "code",
   "execution_count": 0,
   "metadata": {
    "colab": {},
    "colab_type": "code",
    "id": "WMxV0gXNDhrz"
   },
   "outputs": [],
   "source": []
  }
 ],
 "metadata": {
  "accelerator": "GPU",
  "colab": {
   "collapsed_sections": [],
   "name": "R7_InternalLab_Questions_FMNIST_Simple_CNN_CIFAR_DATA_Augment.ipynb",
   "provenance": []
  },
  "kernelspec": {
   "display_name": "Python 3",
   "language": "python",
   "name": "python3"
  },
  "language_info": {
   "codemirror_mode": {
    "name": "ipython",
    "version": 3
   },
   "file_extension": ".py",
   "mimetype": "text/x-python",
   "name": "python",
   "nbconvert_exporter": "python",
   "pygments_lexer": "ipython3",
   "version": "3.7.4"
  }
 },
 "nbformat": 4,
 "nbformat_minor": 1
}
