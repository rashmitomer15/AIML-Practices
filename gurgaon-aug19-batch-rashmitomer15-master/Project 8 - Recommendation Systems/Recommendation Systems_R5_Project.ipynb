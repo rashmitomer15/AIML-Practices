{
 "cells": [
  {
   "cell_type": "code",
   "execution_count": 0,
   "metadata": {
    "colab": {},
    "colab_type": "code",
    "id": "sAq6wxZ37xnm"
   },
   "outputs": [],
   "source": [
    "##  Build your own recommendation system for products on an e-commerce website like Amazon.com."
   ]
  },
  {
   "cell_type": "code",
   "execution_count": 2,
   "metadata": {
    "colab": {
     "base_uri": "https://localhost:8080/",
     "height": 35
    },
    "colab_type": "code",
    "executionInfo": {
     "elapsed": 2076,
     "status": "ok",
     "timestamp": 1582469217337,
     "user": {
      "displayName": "Rashmi Tomer",
      "photoUrl": "https://lh3.googleusercontent.com/a-/AAuE7mBnmMOMxexSsUh6_pCS0FgIO7VVHSY8eFBxtZ0UDQ=s64",
      "userId": "11743593445641168994"
     },
     "user_tz": -330
    },
    "id": "p3q81d1z1HWq",
    "outputId": "482f6499-9cd8-4899-d063-ec99eb9cb006"
   },
   "outputs": [
    {
     "name": "stdout",
     "output_type": "stream",
     "text": [
      "Drive already mounted at /content/drive; to attempt to forcibly remount, call drive.mount(\"/content/drive\", force_remount=True).\n"
     ]
    }
   ],
   "source": [
    "import os\n",
    "import numpy as np  \n",
    "import pandas as pd\n",
    "\n",
    "from google.colab import drive\n",
    "drive.mount('/content/drive')"
   ]
  },
  {
   "cell_type": "code",
   "execution_count": 0,
   "metadata": {
    "colab": {},
    "colab_type": "code",
    "id": "MbArNHtA9wem"
   },
   "outputs": [],
   "source": [
    "elec_product_df = pd.read_csv(\"/content/drive/My Drive/ClassNotes/RES-7Deep/Project8-Recommendation System/ratings_Electronics.csv\",\n",
    "                              header=None,names=['userId', 'productId', 'ratings','timestamp'])\n",
    "\n",
    "#elec_product_df = pd.read_csv( 'ratings_Electronics.csv' )"
   ]
  },
  {
   "cell_type": "code",
   "execution_count": 4,
   "metadata": {
    "colab": {
     "base_uri": "https://localhost:8080/",
     "height": 202
    },
    "colab_type": "code",
    "executionInfo": {
     "elapsed": 9889,
     "status": "ok",
     "timestamp": 1582469225166,
     "user": {
      "displayName": "Rashmi Tomer",
      "photoUrl": "https://lh3.googleusercontent.com/a-/AAuE7mBnmMOMxexSsUh6_pCS0FgIO7VVHSY8eFBxtZ0UDQ=s64",
      "userId": "11743593445641168994"
     },
     "user_tz": -330
    },
    "id": "_gMjh6OT9whv",
    "outputId": "d78b9a05-0b08-4bd1-93dc-11d949b66688"
   },
   "outputs": [
    {
     "data": {
      "text/html": [
       "<div>\n",
       "<style scoped>\n",
       "    .dataframe tbody tr th:only-of-type {\n",
       "        vertical-align: middle;\n",
       "    }\n",
       "\n",
       "    .dataframe tbody tr th {\n",
       "        vertical-align: top;\n",
       "    }\n",
       "\n",
       "    .dataframe thead th {\n",
       "        text-align: right;\n",
       "    }\n",
       "</style>\n",
       "<table border=\"1\" class=\"dataframe\">\n",
       "  <thead>\n",
       "    <tr style=\"text-align: right;\">\n",
       "      <th></th>\n",
       "      <th>userId</th>\n",
       "      <th>productId</th>\n",
       "      <th>ratings</th>\n",
       "      <th>timestamp</th>\n",
       "    </tr>\n",
       "  </thead>\n",
       "  <tbody>\n",
       "    <tr>\n",
       "      <th>0</th>\n",
       "      <td>AKM1MP6P0OYPR</td>\n",
       "      <td>0132793040</td>\n",
       "      <td>5.0</td>\n",
       "      <td>1365811200</td>\n",
       "    </tr>\n",
       "    <tr>\n",
       "      <th>1</th>\n",
       "      <td>A2CX7LUOHB2NDG</td>\n",
       "      <td>0321732944</td>\n",
       "      <td>5.0</td>\n",
       "      <td>1341100800</td>\n",
       "    </tr>\n",
       "    <tr>\n",
       "      <th>2</th>\n",
       "      <td>A2NWSAGRHCP8N5</td>\n",
       "      <td>0439886341</td>\n",
       "      <td>1.0</td>\n",
       "      <td>1367193600</td>\n",
       "    </tr>\n",
       "    <tr>\n",
       "      <th>3</th>\n",
       "      <td>A2WNBOD3WNDNKT</td>\n",
       "      <td>0439886341</td>\n",
       "      <td>3.0</td>\n",
       "      <td>1374451200</td>\n",
       "    </tr>\n",
       "    <tr>\n",
       "      <th>4</th>\n",
       "      <td>A1GI0U4ZRJA8WN</td>\n",
       "      <td>0439886341</td>\n",
       "      <td>1.0</td>\n",
       "      <td>1334707200</td>\n",
       "    </tr>\n",
       "  </tbody>\n",
       "</table>\n",
       "</div>"
      ],
      "text/plain": [
       "           userId   productId  ratings   timestamp\n",
       "0   AKM1MP6P0OYPR  0132793040      5.0  1365811200\n",
       "1  A2CX7LUOHB2NDG  0321732944      5.0  1341100800\n",
       "2  A2NWSAGRHCP8N5  0439886341      1.0  1367193600\n",
       "3  A2WNBOD3WNDNKT  0439886341      3.0  1374451200\n",
       "4  A1GI0U4ZRJA8WN  0439886341      1.0  1334707200"
      ]
     },
     "execution_count": 4,
     "metadata": {
      "tags": []
     },
     "output_type": "execute_result"
    }
   ],
   "source": [
    "elec_product_df.head()"
   ]
  },
  {
   "cell_type": "code",
   "execution_count": 5,
   "metadata": {
    "colab": {
     "base_uri": "https://localhost:8080/",
     "height": 35
    },
    "colab_type": "code",
    "executionInfo": {
     "elapsed": 9876,
     "status": "ok",
     "timestamp": 1582469225167,
     "user": {
      "displayName": "Rashmi Tomer",
      "photoUrl": "https://lh3.googleusercontent.com/a-/AAuE7mBnmMOMxexSsUh6_pCS0FgIO7VVHSY8eFBxtZ0UDQ=s64",
      "userId": "11743593445641168994"
     },
     "user_tz": -330
    },
    "id": "N3LpYlNF_Us3",
    "outputId": "83d4fb50-72c4-4c4e-d600-5567e6839a00"
   },
   "outputs": [
    {
     "data": {
      "text/plain": [
       "(7824482, 4)"
      ]
     },
     "execution_count": 5,
     "metadata": {
      "tags": []
     },
     "output_type": "execute_result"
    }
   ],
   "source": [
    "elec_product_df.shape ## there are 7824482 records in this data set."
   ]
  },
  {
   "cell_type": "code",
   "execution_count": 6,
   "metadata": {
    "colab": {
     "base_uri": "https://localhost:8080/",
     "height": 173
    },
    "colab_type": "code",
    "executionInfo": {
     "elapsed": 9860,
     "status": "ok",
     "timestamp": 1582469225167,
     "user": {
      "displayName": "Rashmi Tomer",
      "photoUrl": "https://lh3.googleusercontent.com/a-/AAuE7mBnmMOMxexSsUh6_pCS0FgIO7VVHSY8eFBxtZ0UDQ=s64",
      "userId": "11743593445641168994"
     },
     "user_tz": -330
    },
    "id": "weRVWMLg_Uvg",
    "outputId": "9fb67beb-e52b-4e40-d667-92648b41e631"
   },
   "outputs": [
    {
     "name": "stdout",
     "output_type": "stream",
     "text": [
      "<class 'pandas.core.frame.DataFrame'>\n",
      "RangeIndex: 7824482 entries, 0 to 7824481\n",
      "Data columns (total 4 columns):\n",
      "userId       object\n",
      "productId    object\n",
      "ratings      float64\n",
      "timestamp    int64\n",
      "dtypes: float64(1), int64(1), object(2)\n",
      "memory usage: 238.8+ MB\n"
     ]
    }
   ],
   "source": [
    "elec_product_df.info()"
   ]
  },
  {
   "cell_type": "code",
   "execution_count": 0,
   "metadata": {
    "colab": {},
    "colab_type": "code",
    "id": "7EwYXJOM_UyR"
   },
   "outputs": [],
   "source": [
    "# we can drop the timestamp column\n",
    "elec_product_df=elec_product_df.drop(\"timestamp\",axis=1)\n"
   ]
  },
  {
   "cell_type": "code",
   "execution_count": 8,
   "metadata": {
    "colab": {
     "base_uri": "https://localhost:8080/",
     "height": 229
    },
    "colab_type": "code",
    "executionInfo": {
     "elapsed": 12532,
     "status": "ok",
     "timestamp": 1582469227862,
     "user": {
      "displayName": "Rashmi Tomer",
      "photoUrl": "https://lh3.googleusercontent.com/a-/AAuE7mBnmMOMxexSsUh6_pCS0FgIO7VVHSY8eFBxtZ0UDQ=s64",
      "userId": "11743593445641168994"
     },
     "user_tz": -330
    },
    "id": "-VEs_L32_U02",
    "outputId": "bb2676bd-7807-4b43-f27b-0295c96dc6d5"
   },
   "outputs": [
    {
     "data": {
      "text/plain": [
       "<seaborn.axisgrid.PairGrid at 0x7f9efb7e6438>"
      ]
     },
     "execution_count": 8,
     "metadata": {
      "tags": []
     },
     "output_type": "execute_result"
    },
    {
     "data": {
      "image/png": "[encoded data removed]",
      "text/plain": [
       "<Figure size 180x180 with 2 Axes>"
      ]
     },
     "metadata": {
      "tags": []
     },
     "output_type": "display_data"
    }
   ],
   "source": [
    "import seaborn as sns\n",
    "sns.pairplot(elec_product_df, diag_kind='kde')"
   ]
  },
  {
   "cell_type": "code",
   "execution_count": 9,
   "metadata": {
    "colab": {
     "base_uri": "https://localhost:8080/",
     "height": 316
    },
    "colab_type": "code",
    "executionInfo": {
     "elapsed": 13191,
     "status": "ok",
     "timestamp": 1582469228536,
     "user": {
      "displayName": "Rashmi Tomer",
      "photoUrl": "https://lh3.googleusercontent.com/a-/AAuE7mBnmMOMxexSsUh6_pCS0FgIO7VVHSY8eFBxtZ0UDQ=s64",
      "userId": "11743593445641168994"
     },
     "user_tz": -330
    },
    "id": "Iu9h0PLw_U4T",
    "outputId": "70a8ba2b-0a1b-4ec8-ef31-32661239abe1"
   },
   "outputs": [
    {
     "data": {
      "text/plain": [
       "array([[<matplotlib.axes._subplots.AxesSubplot object at 0x7f9edb066160>]],\n",
       "      dtype=object)"
      ]
     },
     "execution_count": 9,
     "metadata": {
      "tags": []
     },
     "output_type": "execute_result"
    },
    {
     "data": {
      "image/png": "[encoded data removed]",
      "text/plain": [
       "<Figure size 432x288 with 1 Axes>"
      ]
     },
     "metadata": {
      "tags": []
     },
     "output_type": "display_data"
    }
   ],
   "source": [
    "elec_product_df.hist()   # we can see that most of people have given rating 5 to products.Followed by rating 4 and 1.\n",
    "# moderate number of people have rated products as average rating 2 or 3."
   ]
  },
  {
   "cell_type": "code",
   "execution_count": 10,
   "metadata": {
    "colab": {
     "base_uri": "https://localhost:8080/",
     "height": 283
    },
    "colab_type": "code",
    "executionInfo": {
     "elapsed": 13548,
     "status": "ok",
     "timestamp": 1582469228912,
     "user": {
      "displayName": "Rashmi Tomer",
      "photoUrl": "https://lh3.googleusercontent.com/a-/AAuE7mBnmMOMxexSsUh6_pCS0FgIO7VVHSY8eFBxtZ0UDQ=s64",
      "userId": "11743593445641168994"
     },
     "user_tz": -330
    },
    "id": "ctX0-WlaM9Fm",
    "outputId": "82b2c1da-2490-4a8e-be31-22759463b2ff"
   },
   "outputs": [
    {
     "data": {
      "text/plain": [
       "<matplotlib.axes._subplots.AxesSubplot at 0x7f9ef0d9ae80>"
      ]
     },
     "execution_count": 10,
     "metadata": {
      "tags": []
     },
     "output_type": "execute_result"
    },
    {
     "data": {
      "image/png": "[encoded data removed]",
      "text/plain": [
       "<Figure size 432x288 with 1 Axes>"
      ]
     },
     "metadata": {
      "tags": []
     },
     "output_type": "display_data"
    }
   ],
   "source": [
    "elec_product_df.boxplot()"
   ]
  },
  {
   "cell_type": "code",
   "execution_count": 11,
   "metadata": {
    "colab": {
     "base_uri": "https://localhost:8080/",
     "height": 87
    },
    "colab_type": "code",
    "executionInfo": {
     "elapsed": 14369,
     "status": "ok",
     "timestamp": 1582469229751,
     "user": {
      "displayName": "Rashmi Tomer",
      "photoUrl": "https://lh3.googleusercontent.com/a-/AAuE7mBnmMOMxexSsUh6_pCS0FgIO7VVHSY8eFBxtZ0UDQ=s64",
      "userId": "11743593445641168994"
     },
     "user_tz": -330
    },
    "id": "qATVQKvlObr1",
    "outputId": "f5a1b58b-0e89-4bbb-c8e4-5517fdc93f7e"
   },
   "outputs": [
    {
     "data": {
      "text/plain": [
       "userId       0\n",
       "productId    0\n",
       "ratings      0\n",
       "dtype: int64"
      ]
     },
     "execution_count": 11,
     "metadata": {
      "tags": []
     },
     "output_type": "execute_result"
    }
   ],
   "source": [
    "elec_product_df.isnull().sum()  ## no data here has null ratings."
   ]
  },
  {
   "cell_type": "code",
   "execution_count": 0,
   "metadata": {
    "colab": {},
    "colab_type": "code",
    "id": "boeS0G5qR7or"
   },
   "outputs": [],
   "source": [
    "elec_product_subset_df=elec_product_df[0:7824482]   # considerring all the rows in dataset to start with, \n",
    "                                                    ## might have to reduce the size if compute issue"
   ]
  },
  {
   "cell_type": "code",
   "execution_count": 13,
   "metadata": {
    "colab": {
     "base_uri": "https://localhost:8080/",
     "height": 35
    },
    "colab_type": "code",
    "executionInfo": {
     "elapsed": 19196,
     "status": "ok",
     "timestamp": 1582469234604,
     "user": {
      "displayName": "Rashmi Tomer",
      "photoUrl": "https://lh3.googleusercontent.com/a-/AAuE7mBnmMOMxexSsUh6_pCS0FgIO7VVHSY8eFBxtZ0UDQ=s64",
      "userId": "11743593445641168994"
     },
     "user_tz": -330
    },
    "id": "lUNl-EOHMk34",
    "outputId": "71db988a-fceb-48a4-cca3-b39cd80883ce"
   },
   "outputs": [
    {
     "data": {
      "text/plain": [
       "(4201696,)"
      ]
     },
     "execution_count": 13,
     "metadata": {
      "tags": []
     },
     "output_type": "execute_result"
    }
   ],
   "source": [
    "elec_product_subset_df['userId'].unique().shape ## there are 4201696 unique users in orignal dataset"
   ]
  },
  {
   "cell_type": "code",
   "execution_count": 14,
   "metadata": {
    "colab": {
     "base_uri": "https://localhost:8080/",
     "height": 139
    },
    "colab_type": "code",
    "executionInfo": {
     "elapsed": 40744,
     "status": "ok",
     "timestamp": 1582469256164,
     "user": {
      "displayName": "Rashmi Tomer",
      "photoUrl": "https://lh3.googleusercontent.com/a-/AAuE7mBnmMOMxexSsUh6_pCS0FgIO7VVHSY8eFBxtZ0UDQ=s64",
      "userId": "11743593445641168994"
     },
     "user_tz": -330
    },
    "id": "cUKDsfAOR7tn",
    "outputId": "816d443c-c2a4-41f6-9c84-04840a1c76a7"
   },
   "outputs": [
    {
     "data": {
      "text/plain": [
       "userId\n",
       "A5JLAU2ARJ0BO     520\n",
       "ADLVFFE4VBT8      501\n",
       "A3OXHLG6DIBRW8    498\n",
       "A6FIAB28IS79      431\n",
       "A680RUE1FDO8B     406\n",
       "Name: ratings, dtype: int64"
      ]
     },
     "execution_count": 14,
     "metadata": {
      "tags": []
     },
     "output_type": "execute_result"
    }
   ],
   "source": [
    "elec_product_subset_df.groupby('userId')['ratings'].count().sort_values(ascending=False).head()  "
   ]
  },
  {
   "cell_type": "code",
   "execution_count": 15,
   "metadata": {
    "colab": {
     "base_uri": "https://localhost:8080/",
     "height": 35
    },
    "colab_type": "code",
    "executionInfo": {
     "elapsed": 63483,
     "status": "ok",
     "timestamp": 1582469278916,
     "user": {
      "displayName": "Rashmi Tomer",
      "photoUrl": "https://lh3.googleusercontent.com/a-/AAuE7mBnmMOMxexSsUh6_pCS0FgIO7VVHSY8eFBxtZ0UDQ=s64",
      "userId": "11743593445641168994"
     },
     "user_tz": -330
    },
    "id": "0sCTNyksJOBw",
    "outputId": "fd68bb73-54ad-426f-ef9f-390b8d71d193"
   },
   "outputs": [
    {
     "data": {
      "text/plain": [
       "(4201696,)"
      ]
     },
     "execution_count": 15,
     "metadata": {
      "tags": []
     },
     "output_type": "execute_result"
    }
   ],
   "source": [
    "elec_product_subset_df.groupby('userId')['ratings'].count().sort_values(ascending=False).shape   ## (4201696,)"
   ]
  },
  {
   "cell_type": "code",
   "execution_count": 16,
   "metadata": {
    "colab": {
     "base_uri": "https://localhost:8080/",
     "height": 243
    },
    "colab_type": "code",
    "executionInfo": {
     "elapsed": 85113,
     "status": "ok",
     "timestamp": 1582469300556,
     "user": {
      "displayName": "Rashmi Tomer",
      "photoUrl": "https://lh3.googleusercontent.com/a-/AAuE7mBnmMOMxexSsUh6_pCS0FgIO7VVHSY8eFBxtZ0UDQ=s64",
      "userId": "11743593445641168994"
     },
     "user_tz": -330
    },
    "id": "2i4QKfcxR7wO",
    "outputId": "9a551fa0-de8b-4ba0-aa06-9dbf61fda120"
   },
   "outputs": [
    {
     "data": {
      "text/plain": [
       "userId\n",
       "A5JLAU2ARJ0BO     520\n",
       "ADLVFFE4VBT8      501\n",
       "A3OXHLG6DIBRW8    498\n",
       "A6FIAB28IS79      431\n",
       "A680RUE1FDO8B     406\n",
       "                 ... \n",
       "AA8RBTN3J2F5H      50\n",
       "A3KTWUXXB8KKC7     50\n",
       "A1IU4UAV9QIJAI     50\n",
       "A3SP7T2PZ3HSDE     50\n",
       "A17RFKCYS69M3Y     50\n",
       "Name: ratings, Length: 1500, dtype: int64"
      ]
     },
     "execution_count": 16,
     "metadata": {
      "tags": []
     },
     "output_type": "execute_result"
    }
   ],
   "source": [
    "## We have huge number of records , so considerring only those users who have rated at least 50 or more ratings for products.\n",
    "elec_product_subset_df.groupby('userId')['ratings'].count().sort_values(ascending=False).head(n=1500)"
   ]
  },
  {
   "cell_type": "code",
   "execution_count": 0,
   "metadata": {
    "colab": {},
    "colab_type": "code",
    "id": "lbtFugaDR7yy"
   },
   "outputs": [],
   "source": [
    "most_rated_userId= pd.DataFrame(elec_product_subset_df.groupby('userId')['ratings'].count().sort_values(ascending=False).head(n=1500))"
   ]
  },
  {
   "cell_type": "code",
   "execution_count": 18,
   "metadata": {
    "colab": {
     "base_uri": "https://localhost:8080/",
     "height": 35
    },
    "colab_type": "code",
    "executionInfo": {
     "elapsed": 107859,
     "status": "ok",
     "timestamp": 1582469323319,
     "user": {
      "displayName": "Rashmi Tomer",
      "photoUrl": "https://lh3.googleusercontent.com/a-/AAuE7mBnmMOMxexSsUh6_pCS0FgIO7VVHSY8eFBxtZ0UDQ=s64",
      "userId": "11743593445641168994"
     },
     "user_tz": -330
    },
    "id": "iofdmcN2R71g",
    "outputId": "cbd8258a-399c-429d-d110-4efc7946fa8c"
   },
   "outputs": [
    {
     "data": {
      "text/plain": [
       "(1500, 1)"
      ]
     },
     "execution_count": 18,
     "metadata": {
      "tags": []
     },
     "output_type": "execute_result"
    }
   ],
   "source": [
    "most_rated_userId.shape"
   ]
  },
  {
   "cell_type": "code",
   "execution_count": 0,
   "metadata": {
    "colab": {},
    "colab_type": "code",
    "id": "5opHdwPrPN8U"
   },
   "outputs": [],
   "source": [
    "most_rated_userId=most_rated_userId.reset_index()   # resetting index to make userId as column "
   ]
  },
  {
   "cell_type": "code",
   "execution_count": 20,
   "metadata": {
    "colab": {
     "base_uri": "https://localhost:8080/",
     "height": 35
    },
    "colab_type": "code",
    "executionInfo": {
     "elapsed": 107841,
     "status": "ok",
     "timestamp": 1582469323320,
     "user": {
      "displayName": "Rashmi Tomer",
      "photoUrl": "https://lh3.googleusercontent.com/a-/AAuE7mBnmMOMxexSsUh6_pCS0FgIO7VVHSY8eFBxtZ0UDQ=s64",
      "userId": "11743593445641168994"
     },
     "user_tz": -330
    },
    "id": "Opa4BqhJUFTi",
    "outputId": "77081faa-c82a-44dc-cb3d-2d8c5f6a40d3"
   },
   "outputs": [
    {
     "data": {
      "text/plain": [
       "Index(['userId', 'ratings'], dtype='object')"
      ]
     },
     "execution_count": 20,
     "metadata": {
      "tags": []
     },
     "output_type": "execute_result"
    }
   ],
   "source": [
    "most_rated_userId.columns"
   ]
  },
  {
   "cell_type": "code",
   "execution_count": 21,
   "metadata": {
    "colab": {
     "base_uri": "https://localhost:8080/",
     "height": 35
    },
    "colab_type": "code",
    "executionInfo": {
     "elapsed": 107828,
     "status": "ok",
     "timestamp": 1582469323321,
     "user": {
      "displayName": "Rashmi Tomer",
      "photoUrl": "https://lh3.googleusercontent.com/a-/AAuE7mBnmMOMxexSsUh6_pCS0FgIO7VVHSY8eFBxtZ0UDQ=s64",
      "userId": "11743593445641168994"
     },
     "user_tz": -330
    },
    "id": "tE7CRRqBtC4A",
    "outputId": "28b0ad3d-e476-455c-b89b-3e920a2f63ec"
   },
   "outputs": [
    {
     "data": {
      "text/plain": [
       "(1500,)"
      ]
     },
     "execution_count": 21,
     "metadata": {
      "tags": []
     },
     "output_type": "execute_result"
    }
   ],
   "source": [
    "most_rated_userId['userId'].unique().shape"
   ]
  },
  {
   "cell_type": "code",
   "execution_count": 22,
   "metadata": {
    "colab": {
     "base_uri": "https://localhost:8080/",
     "height": 415
    },
    "colab_type": "code",
    "executionInfo": {
     "elapsed": 109626,
     "status": "ok",
     "timestamp": 1582469325172,
     "user": {
      "displayName": "Rashmi Tomer",
      "photoUrl": "https://lh3.googleusercontent.com/a-/AAuE7mBnmMOMxexSsUh6_pCS0FgIO7VVHSY8eFBxtZ0UDQ=s64",
      "userId": "11743593445641168994"
     },
     "user_tz": -330
    },
    "id": "g-PGSkO0VjPg",
    "outputId": "9ea19bf0-006f-431d-bf1e-515da27efe42"
   },
   "outputs": [
    {
     "data": {
      "text/html": [
       "<div>\n",
       "<style scoped>\n",
       "    .dataframe tbody tr th:only-of-type {\n",
       "        vertical-align: middle;\n",
       "    }\n",
       "\n",
       "    .dataframe tbody tr th {\n",
       "        vertical-align: top;\n",
       "    }\n",
       "\n",
       "    .dataframe thead th {\n",
       "        text-align: right;\n",
       "    }\n",
       "</style>\n",
       "<table border=\"1\" class=\"dataframe\">\n",
       "  <thead>\n",
       "    <tr style=\"text-align: right;\">\n",
       "      <th></th>\n",
       "      <th>userId</th>\n",
       "      <th>productId</th>\n",
       "      <th>ratings</th>\n",
       "    </tr>\n",
       "  </thead>\n",
       "  <tbody>\n",
       "    <tr>\n",
       "      <th>94</th>\n",
       "      <td>A3BY5KCNQZXV5U</td>\n",
       "      <td>0594451647</td>\n",
       "      <td>5.0</td>\n",
       "    </tr>\n",
       "    <tr>\n",
       "      <th>118</th>\n",
       "      <td>AT09WGFUM934H</td>\n",
       "      <td>0594481813</td>\n",
       "      <td>3.0</td>\n",
       "    </tr>\n",
       "    <tr>\n",
       "      <th>177</th>\n",
       "      <td>A32HSNCNPRUMTR</td>\n",
       "      <td>0970407998</td>\n",
       "      <td>1.0</td>\n",
       "    </tr>\n",
       "    <tr>\n",
       "      <th>178</th>\n",
       "      <td>A17HMM1M7T9PJ1</td>\n",
       "      <td>0970407998</td>\n",
       "      <td>4.0</td>\n",
       "    </tr>\n",
       "    <tr>\n",
       "      <th>492</th>\n",
       "      <td>A3CLWR1UUZT6TG</td>\n",
       "      <td>0972683275</td>\n",
       "      <td>5.0</td>\n",
       "    </tr>\n",
       "    <tr>\n",
       "      <th>...</th>\n",
       "      <td>...</td>\n",
       "      <td>...</td>\n",
       "      <td>...</td>\n",
       "    </tr>\n",
       "    <tr>\n",
       "      <th>7824426</th>\n",
       "      <td>A1E1LEVQ9VQNK</td>\n",
       "      <td>B00LGQ6HL8</td>\n",
       "      <td>5.0</td>\n",
       "    </tr>\n",
       "    <tr>\n",
       "      <th>7824427</th>\n",
       "      <td>A2NYK9KWFMJV4Y</td>\n",
       "      <td>B00LGQ6HL8</td>\n",
       "      <td>5.0</td>\n",
       "    </tr>\n",
       "    <tr>\n",
       "      <th>7824436</th>\n",
       "      <td>A3AYSYSLHU26U9</td>\n",
       "      <td>B00LI4ZZO8</td>\n",
       "      <td>4.0</td>\n",
       "    </tr>\n",
       "    <tr>\n",
       "      <th>7824438</th>\n",
       "      <td>A2NYK9KWFMJV4Y</td>\n",
       "      <td>B00LI4ZZO8</td>\n",
       "      <td>5.0</td>\n",
       "    </tr>\n",
       "    <tr>\n",
       "      <th>7824444</th>\n",
       "      <td>A2BYV7S1QP2YIG</td>\n",
       "      <td>B00LKG1MC8</td>\n",
       "      <td>5.0</td>\n",
       "    </tr>\n",
       "  </tbody>\n",
       "</table>\n",
       "<p>123871 rows × 3 columns</p>\n",
       "</div>"
      ],
      "text/plain": [
       "                 userId   productId  ratings\n",
       "94       A3BY5KCNQZXV5U  0594451647      5.0\n",
       "118       AT09WGFUM934H  0594481813      3.0\n",
       "177      A32HSNCNPRUMTR  0970407998      1.0\n",
       "178      A17HMM1M7T9PJ1  0970407998      4.0\n",
       "492      A3CLWR1UUZT6TG  0972683275      5.0\n",
       "...                 ...         ...      ...\n",
       "7824426   A1E1LEVQ9VQNK  B00LGQ6HL8      5.0\n",
       "7824427  A2NYK9KWFMJV4Y  B00LGQ6HL8      5.0\n",
       "7824436  A3AYSYSLHU26U9  B00LI4ZZO8      4.0\n",
       "7824438  A2NYK9KWFMJV4Y  B00LI4ZZO8      5.0\n",
       "7824444  A2BYV7S1QP2YIG  B00LKG1MC8      5.0\n",
       "\n",
       "[123871 rows x 3 columns]"
      ]
     },
     "execution_count": 22,
     "metadata": {
      "tags": []
     },
     "output_type": "execute_result"
    }
   ],
   "source": [
    "pd.DataFrame(elec_product_subset_df[elec_product_subset_df[\"userId\"].isin(most_rated_userId[\"userId\"])])"
   ]
  },
  {
   "cell_type": "code",
   "execution_count": 0,
   "metadata": {
    "colab": {},
    "colab_type": "code",
    "id": "uKTSmXn_R736"
   },
   "outputs": [],
   "source": [
    "## now we have list of those users, who have rated atleast 50 products.\n",
    "elec_product_subset2_df=elec_product_subset_df[elec_product_subset_df[\"userId\"].isin(most_rated_userId[\"userId\"])]"
   ]
  },
  {
   "cell_type": "code",
   "execution_count": 24,
   "metadata": {
    "colab": {
     "base_uri": "https://localhost:8080/",
     "height": 35
    },
    "colab_type": "code",
    "executionInfo": {
     "elapsed": 109978,
     "status": "ok",
     "timestamp": 1582469325542,
     "user": {
      "displayName": "Rashmi Tomer",
      "photoUrl": "https://lh3.googleusercontent.com/a-/AAuE7mBnmMOMxexSsUh6_pCS0FgIO7VVHSY8eFBxtZ0UDQ=s64",
      "userId": "11743593445641168994"
     },
     "user_tz": -330
    },
    "id": "Ugw6Oyi0R7rp",
    "outputId": "7cc84d66-e583-407b-c8da-566b5e65f3e5"
   },
   "outputs": [
    {
     "data": {
      "text/plain": [
       "(123871,)"
      ]
     },
     "execution_count": 24,
     "metadata": {
      "tags": []
     },
     "output_type": "execute_result"
    }
   ],
   "source": [
    "## we will work on elec_product_subset2_df\n",
    "elec_product_subset2_df.userId.shape   ## the number of users is now reduced to 123871 from 42,01,696"
   ]
  },
  {
   "cell_type": "code",
   "execution_count": 25,
   "metadata": {
    "colab": {
     "base_uri": "https://localhost:8080/",
     "height": 202
    },
    "colab_type": "code",
    "executionInfo": {
     "elapsed": 109968,
     "status": "ok",
     "timestamp": 1582469325543,
     "user": {
      "displayName": "Rashmi Tomer",
      "photoUrl": "https://lh3.googleusercontent.com/a-/AAuE7mBnmMOMxexSsUh6_pCS0FgIO7VVHSY8eFBxtZ0UDQ=s64",
      "userId": "11743593445641168994"
     },
     "user_tz": -330
    },
    "id": "0agKvujgOfsk",
    "outputId": "0fa0bfd5-af5b-4f30-e74b-a1a9642a51ec"
   },
   "outputs": [
    {
     "data": {
      "text/html": [
       "<div>\n",
       "<style scoped>\n",
       "    .dataframe tbody tr th:only-of-type {\n",
       "        vertical-align: middle;\n",
       "    }\n",
       "\n",
       "    .dataframe tbody tr th {\n",
       "        vertical-align: top;\n",
       "    }\n",
       "\n",
       "    .dataframe thead th {\n",
       "        text-align: right;\n",
       "    }\n",
       "</style>\n",
       "<table border=\"1\" class=\"dataframe\">\n",
       "  <thead>\n",
       "    <tr style=\"text-align: right;\">\n",
       "      <th></th>\n",
       "      <th>userId</th>\n",
       "      <th>productId</th>\n",
       "      <th>ratings</th>\n",
       "    </tr>\n",
       "  </thead>\n",
       "  <tbody>\n",
       "    <tr>\n",
       "      <th>94</th>\n",
       "      <td>A3BY5KCNQZXV5U</td>\n",
       "      <td>0594451647</td>\n",
       "      <td>5.0</td>\n",
       "    </tr>\n",
       "    <tr>\n",
       "      <th>118</th>\n",
       "      <td>AT09WGFUM934H</td>\n",
       "      <td>0594481813</td>\n",
       "      <td>3.0</td>\n",
       "    </tr>\n",
       "    <tr>\n",
       "      <th>177</th>\n",
       "      <td>A32HSNCNPRUMTR</td>\n",
       "      <td>0970407998</td>\n",
       "      <td>1.0</td>\n",
       "    </tr>\n",
       "    <tr>\n",
       "      <th>178</th>\n",
       "      <td>A17HMM1M7T9PJ1</td>\n",
       "      <td>0970407998</td>\n",
       "      <td>4.0</td>\n",
       "    </tr>\n",
       "    <tr>\n",
       "      <th>492</th>\n",
       "      <td>A3CLWR1UUZT6TG</td>\n",
       "      <td>0972683275</td>\n",
       "      <td>5.0</td>\n",
       "    </tr>\n",
       "  </tbody>\n",
       "</table>\n",
       "</div>"
      ],
      "text/plain": [
       "             userId   productId  ratings\n",
       "94   A3BY5KCNQZXV5U  0594451647      5.0\n",
       "118   AT09WGFUM934H  0594481813      3.0\n",
       "177  A32HSNCNPRUMTR  0970407998      1.0\n",
       "178  A17HMM1M7T9PJ1  0970407998      4.0\n",
       "492  A3CLWR1UUZT6TG  0972683275      5.0"
      ]
     },
     "execution_count": 25,
     "metadata": {
      "tags": []
     },
     "output_type": "execute_result"
    }
   ],
   "source": [
    "elec_product_subset2_df.head()"
   ]
  },
  {
   "cell_type": "code",
   "execution_count": 26,
   "metadata": {
    "colab": {
     "base_uri": "https://localhost:8080/",
     "height": 139
    },
    "colab_type": "code",
    "executionInfo": {
     "elapsed": 109951,
     "status": "ok",
     "timestamp": 1582469325543,
     "user": {
      "displayName": "Rashmi Tomer",
      "photoUrl": "https://lh3.googleusercontent.com/a-/AAuE7mBnmMOMxexSsUh6_pCS0FgIO7VVHSY8eFBxtZ0UDQ=s64",
      "userId": "11743593445641168994"
     },
     "user_tz": -330
    },
    "id": "KRyHoYw8Ofv-",
    "outputId": "c5a1414a-2a67-40d9-a490-f060032d90e5"
   },
   "outputs": [
    {
     "data": {
      "text/plain": [
       "productId\n",
       "0594451647    5.000000\n",
       "0594481813    3.000000\n",
       "0970407998    2.500000\n",
       "0972683275    5.000000\n",
       "1400501466    3.333333\n",
       "Name: ratings, dtype: float64"
      ]
     },
     "execution_count": 26,
     "metadata": {
      "tags": []
     },
     "output_type": "execute_result"
    }
   ],
   "source": [
    "elec_product_subset2_df.groupby('productId')['ratings'].mean().head()   ## finding the average rating given for a product, by selected users"
   ]
  },
  {
   "cell_type": "code",
   "execution_count": 27,
   "metadata": {
    "colab": {
     "base_uri": "https://localhost:8080/",
     "height": 139
    },
    "colab_type": "code",
    "executionInfo": {
     "elapsed": 109939,
     "status": "ok",
     "timestamp": 1582469325544,
     "user": {
      "displayName": "Rashmi Tomer",
      "photoUrl": "https://lh3.googleusercontent.com/a-/AAuE7mBnmMOMxexSsUh6_pCS0FgIO7VVHSY8eFBxtZ0UDQ=s64",
      "userId": "11743593445641168994"
     },
     "user_tz": -330
    },
    "id": "hBOJhBPzMe5V",
    "outputId": "de807951-309d-4766-f0c5-54b2f04f79ae"
   },
   "outputs": [
    {
     "data": {
      "text/plain": [
       "productId\n",
       "B00LKG1MC8    5.0\n",
       "B002QWKSX4    5.0\n",
       "B002QXZPFE    5.0\n",
       "B002R0DWNS    5.0\n",
       "B002R0T03Y    5.0\n",
       "Name: ratings, dtype: float64"
      ]
     },
     "execution_count": 27,
     "metadata": {
      "tags": []
     },
     "output_type": "execute_result"
    }
   ],
   "source": [
    "## Here to see what all products have got best rating i.e 5 , picking top 5 (head) of them\n",
    "elec_product_subset2_df.groupby('productId')['ratings'].mean().sort_values(ascending=False).head()  "
   ]
  },
  {
   "cell_type": "code",
   "execution_count": 28,
   "metadata": {
    "colab": {
     "base_uri": "https://localhost:8080/",
     "height": 139
    },
    "colab_type": "code",
    "executionInfo": {
     "elapsed": 109928,
     "status": "ok",
     "timestamp": 1582469325545,
     "user": {
      "displayName": "Rashmi Tomer",
      "photoUrl": "https://lh3.googleusercontent.com/a-/AAuE7mBnmMOMxexSsUh6_pCS0FgIO7VVHSY8eFBxtZ0UDQ=s64",
      "userId": "11743593445641168994"
     },
     "user_tz": -330
    },
    "id": "N77PNJbOGN0L",
    "outputId": "bfafb3f9-8c00-4f80-eb83-a6d5d643b167"
   },
   "outputs": [
    {
     "data": {
      "text/plain": [
       "productId\n",
       "B0088CJT4U    205\n",
       "B003ES5ZUU    179\n",
       "B000N99BBC    164\n",
       "B007WTAJTO    159\n",
       "B00829TIEK    149\n",
       "Name: ratings, dtype: int64"
      ]
     },
     "execution_count": 28,
     "metadata": {
      "tags": []
     },
     "output_type": "execute_result"
    }
   ],
   "source": [
    "## we can also, consider recommending those products that have got maximun times ratings, \n",
    "elec_product_subset2_df.groupby('productId')['ratings'].count().sort_values(ascending=False).head()  "
   ]
  },
  {
   "cell_type": "markdown",
   "metadata": {
    "colab_type": "text",
    "id": "tHK-sIxAyG_x"
   },
   "source": [
    "## Combining the both cases, of best rating and max number of ratings being given by set of users, we can recommend the products\n",
    "### BASED ON POPULARITY"
   ]
  },
  {
   "cell_type": "code",
   "execution_count": 0,
   "metadata": {
    "colab": {},
    "colab_type": "code",
    "id": "mu-PzF-VIGjy"
   },
   "outputs": [],
   "source": [
    "Pr_ratings_mean_count = pd.DataFrame(elec_product_subset2_df.groupby('productId')['ratings'].mean()) \n",
    "Pr_ratings_mean_count['rating_counts'] = pd.DataFrame(elec_product_subset2_df.groupby('productId')['ratings'].count().sort_values(ascending=False))  "
   ]
  },
  {
   "cell_type": "code",
   "execution_count": 30,
   "metadata": {
    "colab": {
     "base_uri": "https://localhost:8080/",
     "height": 233
    },
    "colab_type": "code",
    "executionInfo": {
     "elapsed": 110274,
     "status": "ok",
     "timestamp": 1582469325908,
     "user": {
      "displayName": "Rashmi Tomer",
      "photoUrl": "https://lh3.googleusercontent.com/a-/AAuE7mBnmMOMxexSsUh6_pCS0FgIO7VVHSY8eFBxtZ0UDQ=s64",
      "userId": "11743593445641168994"
     },
     "user_tz": -330
    },
    "id": "MX9sV8D7H-3t",
    "outputId": "a2939a66-111c-485b-a8b5-d669b8f8a727"
   },
   "outputs": [
    {
     "data": {
      "text/html": [
       "<div>\n",
       "<style scoped>\n",
       "    .dataframe tbody tr th:only-of-type {\n",
       "        vertical-align: middle;\n",
       "    }\n",
       "\n",
       "    .dataframe tbody tr th {\n",
       "        vertical-align: top;\n",
       "    }\n",
       "\n",
       "    .dataframe thead th {\n",
       "        text-align: right;\n",
       "    }\n",
       "</style>\n",
       "<table border=\"1\" class=\"dataframe\">\n",
       "  <thead>\n",
       "    <tr style=\"text-align: right;\">\n",
       "      <th></th>\n",
       "      <th>ratings</th>\n",
       "      <th>rating_counts</th>\n",
       "    </tr>\n",
       "    <tr>\n",
       "      <th>productId</th>\n",
       "      <th></th>\n",
       "      <th></th>\n",
       "    </tr>\n",
       "  </thead>\n",
       "  <tbody>\n",
       "    <tr>\n",
       "      <th>B0088CJT4U</th>\n",
       "      <td>4.214634</td>\n",
       "      <td>205</td>\n",
       "    </tr>\n",
       "    <tr>\n",
       "      <th>B003ES5ZUU</th>\n",
       "      <td>4.860335</td>\n",
       "      <td>179</td>\n",
       "    </tr>\n",
       "    <tr>\n",
       "      <th>B000N99BBC</th>\n",
       "      <td>4.774390</td>\n",
       "      <td>164</td>\n",
       "    </tr>\n",
       "    <tr>\n",
       "      <th>B007WTAJTO</th>\n",
       "      <td>4.698113</td>\n",
       "      <td>159</td>\n",
       "    </tr>\n",
       "    <tr>\n",
       "      <th>B00829TIEK</th>\n",
       "      <td>4.436242</td>\n",
       "      <td>149</td>\n",
       "    </tr>\n",
       "  </tbody>\n",
       "</table>\n",
       "</div>"
      ],
      "text/plain": [
       "             ratings  rating_counts\n",
       "productId                          \n",
       "B0088CJT4U  4.214634            205\n",
       "B003ES5ZUU  4.860335            179\n",
       "B000N99BBC  4.774390            164\n",
       "B007WTAJTO  4.698113            159\n",
       "B00829TIEK  4.436242            149"
      ]
     },
     "execution_count": 30,
     "metadata": {
      "tags": []
     },
     "output_type": "execute_result"
    }
   ],
   "source": [
    "Pr_ratings_mean_count.sort_values(by=\"rating_counts\",ascending=False).head()  ## Top 5 recommendations based on Popularity."
   ]
  },
  {
   "cell_type": "code",
   "execution_count": 0,
   "metadata": {
    "colab": {},
    "colab_type": "code",
    "id": "XRduFljtPcYV"
   },
   "outputs": [],
   "source": [
    "## the above model have a limitation that it is not personalised. SO to capture the user's interst based RECOMMENDATIONS,We need to \n",
    "## Build Collaborative Filtering model.\n",
    "\n",
    "## we would use Suprise lib for it, to do a user- user collaborative filterring first."
   ]
  },
  {
   "cell_type": "code",
   "execution_count": 32,
   "metadata": {
    "colab": {
     "base_uri": "https://localhost:8080/",
     "height": 104
    },
    "colab_type": "code",
    "executionInfo": {
     "elapsed": 113741,
     "status": "ok",
     "timestamp": 1582469329390,
     "user": {
      "displayName": "Rashmi Tomer",
      "photoUrl": "https://lh3.googleusercontent.com/a-/AAuE7mBnmMOMxexSsUh6_pCS0FgIO7VVHSY8eFBxtZ0UDQ=s64",
      "userId": "11743593445641168994"
     },
     "user_tz": -330
    },
    "id": "U7XfQ8ATTy6t",
    "outputId": "8ebe956f-6456-4de7-b863-6dc598f7d859"
   },
   "outputs": [
    {
     "name": "stdout",
     "output_type": "stream",
     "text": [
      "Requirement already satisfied: scikit-surprise in /usr/local/lib/python3.6/dist-packages (1.1.0)\n",
      "Requirement already satisfied: six>=1.10.0 in /usr/local/lib/python3.6/dist-packages (from scikit-surprise) (1.12.0)\n",
      "Requirement already satisfied: joblib>=0.11 in /usr/local/lib/python3.6/dist-packages (from scikit-surprise) (0.14.1)\n",
      "Requirement already satisfied: scipy>=1.0.0 in /usr/local/lib/python3.6/dist-packages (from scikit-surprise) (1.4.1)\n",
      "Requirement already satisfied: numpy>=1.11.2 in /usr/local/lib/python3.6/dist-packages (from scikit-surprise) (1.17.5)\n"
     ]
    }
   ],
   "source": [
    "pip install scikit-surprise"
   ]
  },
  {
   "cell_type": "code",
   "execution_count": 0,
   "metadata": {
    "colab": {},
    "colab_type": "code",
    "id": "FsyhNcpURuMF"
   },
   "outputs": [],
   "source": [
    "from surprise import KNNWithMeans\n",
    "from surprise import Dataset\n",
    "from surprise import accuracy\n",
    "from surprise.model_selection import train_test_split"
   ]
  },
  {
   "cell_type": "code",
   "execution_count": 0,
   "metadata": {
    "colab": {},
    "colab_type": "code",
    "id": "E1mYs3LcVBFK"
   },
   "outputs": [],
   "source": [
    "from surprise import Reader\n",
    "reader = Reader(rating_scale=(1, 5))"
   ]
  },
  {
   "cell_type": "code",
   "execution_count": 0,
   "metadata": {
    "colab": {},
    "colab_type": "code",
    "id": "E-_5gxbZRuPZ"
   },
   "outputs": [],
   "source": [
    "# Picking the first Loaded the ratings_electronics dataset in Suprise dataset format.  userId::productId::Ratings\n",
    "data = Dataset.load_from_df(elec_product_subset2_df[['userId', 'productId', 'ratings']], reader)\n",
    "\n",
    "## splitting it into train and test data 70:30 ratio\n",
    "trainset, testset = train_test_split(data, test_size=.30)"
   ]
  },
  {
   "cell_type": "code",
   "execution_count": 36,
   "metadata": {
    "colab": {
     "base_uri": "https://localhost:8080/",
     "height": 87
    },
    "colab_type": "code",
    "executionInfo": {
     "elapsed": 115347,
     "status": "ok",
     "timestamp": 1582469331023,
     "user": {
      "displayName": "Rashmi Tomer",
      "photoUrl": "https://lh3.googleusercontent.com/a-/AAuE7mBnmMOMxexSsUh6_pCS0FgIO7VVHSY8eFBxtZ0UDQ=s64",
      "userId": "11743593445641168994"
     },
     "user_tz": -330
    },
    "id": "0-mw76XCRuec",
    "outputId": "cd85b598-d3b6-4365-efcb-19b485d39828"
   },
   "outputs": [
    {
     "name": "stdout",
     "output_type": "stream",
     "text": [
      "Estimating biases using als...\n",
      "Computing the pearson_baseline similarity matrix...\n",
      "Done computing similarity matrix.\n"
     ]
    },
    {
     "data": {
      "text/plain": [
       "<surprise.prediction_algorithms.knns.KNNWithMeans at 0x7f9edaf6ba20>"
      ]
     },
     "execution_count": 36,
     "metadata": {
      "tags": []
     },
     "output_type": "execute_result"
    }
   ],
   "source": [
    "# Use user_based true/false to switch between user-based or item-based collaborative filtering\n",
    "algo = KNNWithMeans(k=50, sim_options={'name': 'pearson_baseline', 'user_based': True})\n",
    "algo.fit(trainset)"
   ]
  },
  {
   "cell_type": "code",
   "execution_count": 37,
   "metadata": {
    "colab": {
     "base_uri": "https://localhost:8080/",
     "height": 35
    },
    "colab_type": "code",
    "executionInfo": {
     "elapsed": 115336,
     "status": "ok",
     "timestamp": 1582469331024,
     "user": {
      "displayName": "Rashmi Tomer",
      "photoUrl": "https://lh3.googleusercontent.com/a-/AAuE7mBnmMOMxexSsUh6_pCS0FgIO7VVHSY8eFBxtZ0UDQ=s64",
      "userId": "11743593445641168994"
     },
     "user_tz": -330
    },
    "id": "7ZZx0PEFRuhw",
    "outputId": "462afced-b6a8-45f6-90cd-b22eca2c38e2"
   },
   "outputs": [
    {
     "name": "stdout",
     "output_type": "stream",
     "text": [
      "user: 196        item: 302        r_ui = None   est = 4.26   {'was_impossible': True, 'reason': 'User and/or item is unkown.'}\n"
     ]
    }
   ],
   "source": [
    "# we can now query for specific predicions\n",
    "uid = str(196)  # raw user id\n",
    "iid = str(302)  # raw product id\n",
    "# get a prediction for specific users and items.\n",
    "pred = algo.predict(uid, iid, verbose=True)"
   ]
  },
  {
   "cell_type": "code",
   "execution_count": 0,
   "metadata": {
    "colab": {},
    "colab_type": "code",
    "id": "I9seAJufYQnS"
   },
   "outputs": [],
   "source": [
    "# run the trained model against the testset\n",
    "test_pred = algo.test(testset)"
   ]
  },
  {
   "cell_type": "code",
   "execution_count": 39,
   "metadata": {
    "colab": {
     "base_uri": "https://localhost:8080/",
     "height": 211
    },
    "colab_type": "code",
    "executionInfo": {
     "elapsed": 115722,
     "status": "ok",
     "timestamp": 1582469331431,
     "user": {
      "displayName": "Rashmi Tomer",
      "photoUrl": "https://lh3.googleusercontent.com/a-/AAuE7mBnmMOMxexSsUh6_pCS0FgIO7VVHSY8eFBxtZ0UDQ=s64",
      "userId": "11743593445641168994"
     },
     "user_tz": -330
    },
    "id": "-GTXf32mYVIz",
    "outputId": "a27f2280-1837-4e56-9104-c1dba356445f"
   },
   "outputs": [
    {
     "data": {
      "text/plain": [
       "[Prediction(uid='A1NAA1R38JSNHV', iid='B0034JLTNG', r_ui=5.0, est=4.571428571428571, details={'actual_k': 0, 'was_impossible': False}),\n",
       " Prediction(uid='A1ODOGXEYECQQ8', iid='B00008OE46', r_ui=5.0, est=4.325842696629214, details={'actual_k': 0, 'was_impossible': False}),\n",
       " Prediction(uid='A1R3GN9MEJFXM3', iid='B004286VMW', r_ui=5.0, est=5, details={'actual_k': 2, 'was_impossible': False}),\n",
       " Prediction(uid='A1435P5AMCPB3X', iid='B00008N6XL', r_ui=4.0, est=4.262221914680137, details={'was_impossible': True, 'reason': 'User and/or item is unkown.'}),\n",
       " Prediction(uid='ABH9D1TEOJ56E', iid='B0000CH58M', r_ui=4.0, est=3.9761904761904763, details={'actual_k': 0, 'was_impossible': False}),\n",
       " Prediction(uid='A1X2LENOF84LCQ', iid='B001NPEB5Q', r_ui=4.0, est=3.94542596935626, details={'actual_k': 2, 'was_impossible': False}),\n",
       " Prediction(uid='A3DOPYDOS49I3T', iid='B0010Y414Q', r_ui=5.0, est=4.904761904761905, details={'actual_k': 0, 'was_impossible': False}),\n",
       " Prediction(uid='A1SDPA1J98UP4L', iid='B007BJHETS', r_ui=5.0, est=4.3128205128205135, details={'actual_k': 1, 'was_impossible': False}),\n",
       " Prediction(uid='A4GGT6O0GQNV2', iid='B009EEGVY2', r_ui=5.0, est=4.4523809523809526, details={'actual_k': 0, 'was_impossible': False}),\n",
       " Prediction(uid='ABQWMANK4AR63', iid='B0031RGKZI', r_ui=5.0, est=5, details={'actual_k': 1, 'was_impossible': False})]"
      ]
     },
     "execution_count": 39,
     "metadata": {
      "tags": []
     },
     "output_type": "execute_result"
    }
   ],
   "source": [
    "test_pred[0:10]  "
   ]
  },
  {
   "cell_type": "markdown",
   "metadata": {
    "colab_type": "text",
    "id": "8IRx3Z9eyR-4"
   },
   "source": [
    "### Getting RMSE\n"
   ]
  },
  {
   "cell_type": "code",
   "execution_count": 40,
   "metadata": {
    "colab": {
     "base_uri": "https://localhost:8080/",
     "height": 69
    },
    "colab_type": "code",
    "executionInfo": {
     "elapsed": 116258,
     "status": "ok",
     "timestamp": 1582469331996,
     "user": {
      "displayName": "Rashmi Tomer",
      "photoUrl": "https://lh3.googleusercontent.com/a-/AAuE7mBnmMOMxexSsUh6_pCS0FgIO7VVHSY8eFBxtZ0UDQ=s64",
      "userId": "11743593445641168994"
     },
     "user_tz": -330
    },
    "id": "tKMV7whqx17r",
    "outputId": "bd9f05b2-e771-4bb8-d714-25d997e667de"
   },
   "outputs": [
    {
     "name": "stdout",
     "output_type": "stream",
     "text": [
      "User-based Model : Test Set\n",
      "RMSE: 1.0570\n"
     ]
    },
    {
     "data": {
      "text/plain": [
       "1.057031272419681"
      ]
     },
     "execution_count": 40,
     "metadata": {
      "tags": []
     },
     "output_type": "execute_result"
    }
   ],
   "source": [
    "print(\"User-based Model : Test Set\")\n",
    "accuracy.rmse(test_pred, verbose=True)  ### root Mean Square error RMSE"
   ]
  },
  {
   "cell_type": "code",
   "execution_count": 41,
   "metadata": {
    "colab": {
     "base_uri": "https://localhost:8080/",
     "height": 52
    },
    "colab_type": "code",
    "executionInfo": {
     "elapsed": 116241,
     "status": "ok",
     "timestamp": 1582469331997,
     "user": {
      "displayName": "Rashmi Tomer",
      "photoUrl": "https://lh3.googleusercontent.com/a-/AAuE7mBnmMOMxexSsUh6_pCS0FgIO7VVHSY8eFBxtZ0UDQ=s64",
      "userId": "11743593445641168994"
     },
     "user_tz": -330
    },
    "id": "UCrT0pRjyYTp",
    "outputId": "fbd235c4-a016-4a9a-8d99-985ab951631d"
   },
   "outputs": [
    {
     "name": "stdout",
     "output_type": "stream",
     "text": [
      "MSE: 1.1173\n"
     ]
    },
    {
     "data": {
      "text/plain": [
       "1.1173151108731703"
      ]
     },
     "execution_count": 41,
     "metadata": {
      "tags": []
     },
     "output_type": "execute_result"
    }
   ],
   "source": [
    "accuracy.mse(test_pred, verbose=True)  ## mean square error"
   ]
  },
  {
   "cell_type": "code",
   "execution_count": 42,
   "metadata": {
    "colab": {
     "base_uri": "https://localhost:8080/",
     "height": 52
    },
    "colab_type": "code",
    "executionInfo": {
     "elapsed": 116183,
     "status": "ok",
     "timestamp": 1582469331998,
     "user": {
      "displayName": "Rashmi Tomer",
      "photoUrl": "https://lh3.googleusercontent.com/a-/AAuE7mBnmMOMxexSsUh6_pCS0FgIO7VVHSY8eFBxtZ0UDQ=s64",
      "userId": "11743593445641168994"
     },
     "user_tz": -330
    },
    "id": "ue-qQ6GGzC69",
    "outputId": "8c0a48c3-1605-43f6-db73-1fc408ce7bd7"
   },
   "outputs": [
    {
     "name": "stdout",
     "output_type": "stream",
     "text": [
      "MAE:  0.7782\n"
     ]
    },
    {
     "data": {
      "text/plain": [
       "0.778192921181348"
      ]
     },
     "execution_count": 42,
     "metadata": {
      "tags": []
     },
     "output_type": "execute_result"
    }
   ],
   "source": [
    "accuracy.mae(test_pred, verbose=True)  ## mean Absolute error"
   ]
  },
  {
   "cell_type": "markdown",
   "metadata": {
    "colab_type": "text",
    "id": "kpGqPhqqHh-e"
   },
   "source": [
    "## Let us try to run Item item Collaborative on same data"
   ]
  },
  {
   "cell_type": "code",
   "execution_count": 0,
   "metadata": {
    "colab": {},
    "colab_type": "code",
    "id": "a9DDWuGPRqnu"
   },
   "outputs": [],
   "source": [
    "# Use user_based true/false to switch between user-based or item-based collaborative filtering\n",
    "#algo = KNNWithMeans(k=1, sim_options={'name': 'pearson_baseline', 'user_based': False})\n",
    "# algo.fit(trainset)\n",
    "\n",
    "## NOTE :this on running on local threw memory error and on collab kernal crashed .Hence commenting below code, and moving \n",
    "## onto other collaborative filterring methods and algos."
   ]
  },
  {
   "cell_type": "code",
   "execution_count": 0,
   "metadata": {
    "colab": {},
    "colab_type": "code",
    "id": "mv33SY5jOHyO"
   },
   "outputs": [],
   "source": [
    "# run the trained model against the testset\n",
    "# test_pred = algo.test(testset)"
   ]
  },
  {
   "cell_type": "code",
   "execution_count": 0,
   "metadata": {
    "colab": {},
    "colab_type": "code",
    "id": "Eg5T-IApOPtS"
   },
   "outputs": [],
   "source": [
    "# print(\"Item-Item Model : Test Set\")\n",
    "# accuracy.rmse(test_pred, verbose=True)  ### root Mean Square error RMSE"
   ]
  },
  {
   "cell_type": "markdown",
   "metadata": {
    "colab_type": "text",
    "id": "K_efrXw2MVPN"
   },
   "source": [
    "## Using Collaborative filterring user Other algo in suprise like SVD, if it gives lesser RMSE"
   ]
  },
  {
   "cell_type": "code",
   "execution_count": 46,
   "metadata": {
    "colab": {
     "base_uri": "https://localhost:8080/",
     "height": 35
    },
    "colab_type": "code",
    "executionInfo": {
     "elapsed": 122523,
     "status": "ok",
     "timestamp": 1582469338402,
     "user": {
      "displayName": "Rashmi Tomer",
      "photoUrl": "https://lh3.googleusercontent.com/a-/AAuE7mBnmMOMxexSsUh6_pCS0FgIO7VVHSY8eFBxtZ0UDQ=s64",
      "userId": "11743593445641168994"
     },
     "user_tz": -330
    },
    "id": "Y4mbzbdpMLKL",
    "outputId": "d4fe3123-5555-481c-9ddb-9cbe5bf4ffa0"
   },
   "outputs": [
    {
     "data": {
      "text/plain": [
       "<surprise.prediction_algorithms.matrix_factorization.SVD at 0x7f9edaf6bdd8>"
      ]
     },
     "execution_count": 46,
     "metadata": {
      "tags": []
     },
     "output_type": "execute_result"
    }
   ],
   "source": [
    "from surprise import SVD, accuracy\n",
    "algo3 = SVD()\n",
    "algo3.fit(trainset)"
   ]
  },
  {
   "cell_type": "code",
   "execution_count": 0,
   "metadata": {
    "colab": {},
    "colab_type": "code",
    "id": "KE9FsOS-IxiE"
   },
   "outputs": [],
   "source": [
    "# run the trained model against the testset\n",
    "test_pred = algo3.test(testset)"
   ]
  },
  {
   "cell_type": "code",
   "execution_count": 48,
   "metadata": {
    "colab": {
     "base_uri": "https://localhost:8080/",
     "height": 69
    },
    "colab_type": "code",
    "executionInfo": {
     "elapsed": 122907,
     "status": "ok",
     "timestamp": 1582469338804,
     "user": {
      "displayName": "Rashmi Tomer",
      "photoUrl": "https://lh3.googleusercontent.com/a-/AAuE7mBnmMOMxexSsUh6_pCS0FgIO7VVHSY8eFBxtZ0UDQ=s64",
      "userId": "11743593445641168994"
     },
     "user_tz": -330
    },
    "id": "FChwCwm6HYlY",
    "outputId": "e1e083e5-7ba5-4b39-a777-2a0db6969f65"
   },
   "outputs": [
    {
     "name": "stdout",
     "output_type": "stream",
     "text": [
      "User-based Model : Test Set\n",
      "RMSE: 0.9840\n"
     ]
    },
    {
     "data": {
      "text/plain": [
       "0.9839903362560541"
      ]
     },
     "execution_count": 48,
     "metadata": {
      "tags": []
     },
     "output_type": "execute_result"
    }
   ],
   "source": [
    "print(\"User-based Model : Test Set\")\n",
    "accuracy.rmse(test_pred, verbose=True)  ### root Mean Square error RMSE"
   ]
  },
  {
   "cell_type": "markdown",
   "metadata": {
    "colab_type": "text",
    "id": "9-wl5HkQTSMQ"
   },
   "source": [
    "#### Using BaseLine Algo of suprise, for Lesser RMSE"
   ]
  },
  {
   "cell_type": "code",
   "execution_count": 49,
   "metadata": {
    "colab": {
     "base_uri": "https://localhost:8080/",
     "height": 87
    },
    "colab_type": "code",
    "executionInfo": {
     "elapsed": 123228,
     "status": "ok",
     "timestamp": 1582469339298,
     "user": {
      "displayName": "Rashmi Tomer",
      "photoUrl": "https://lh3.googleusercontent.com/a-/AAuE7mBnmMOMxexSsUh6_pCS0FgIO7VVHSY8eFBxtZ0UDQ=s64",
      "userId": "11743593445641168994"
     },
     "user_tz": -330
    },
    "id": "j_N_ZekJRwrG",
    "outputId": "8bdbec26-59a2-4f2b-e394-94ac35decffd"
   },
   "outputs": [
    {
     "name": "stdout",
     "output_type": "stream",
     "text": [
      "Using ALS\n",
      "Estimating biases using als...\n",
      "RMSE: 0.9780\n"
     ]
    },
    {
     "data": {
      "text/plain": [
       "0.9780005529353443"
      ]
     },
     "execution_count": 49,
     "metadata": {
      "tags": []
     },
     "output_type": "execute_result"
    }
   ],
   "source": [
    "from surprise import BaselineOnly\n",
    "print('Using ALS')\n",
    "\n",
    "bsl_options = {'method': 'als',\n",
    "               'n_epochs': 5,\n",
    "               'reg_u': 12,\n",
    "               'reg_i': 5\n",
    "               }\n",
    "algo4 = BaselineOnly(bsl_options=bsl_options)\n",
    "predictions = algo4.fit(trainset).test(testset)\n",
    "accuracy.rmse(predictions)"
   ]
  },
  {
   "cell_type": "markdown",
   "metadata": {
    "colab_type": "text",
    "id": "1aYJssbOZMYi"
   },
   "source": [
    "## Generating top 5 recommendations\n"
   ]
  },
  {
   "cell_type": "code",
   "execution_count": 0,
   "metadata": {
    "colab": {},
    "colab_type": "code",
    "id": "owyK2-3XZQo7"
   },
   "outputs": [],
   "source": [
    "testset_new = trainset.build_anti_testset()"
   ]
  },
  {
   "cell_type": "code",
   "execution_count": 51,
   "metadata": {
    "colab": {
     "base_uri": "https://localhost:8080/",
     "height": 35
    },
    "colab_type": "code",
    "executionInfo": {
     "elapsed": 169498,
     "status": "ok",
     "timestamp": 1582469385600,
     "user": {
      "displayName": "Rashmi Tomer",
      "photoUrl": "https://lh3.googleusercontent.com/a-/AAuE7mBnmMOMxexSsUh6_pCS0FgIO7VVHSY8eFBxtZ0UDQ=s64",
      "userId": "11743593445641168994"
     },
     "user_tz": -330
    },
    "id": "9jhWgB2kZRAR",
    "outputId": "3155e607-6047-4ace-fca5-fa5c668088b4"
   },
   "outputs": [
    {
     "data": {
      "text/plain": [
       "56733291"
      ]
     },
     "execution_count": 51,
     "metadata": {
      "tags": []
     },
     "output_type": "execute_result"
    }
   ],
   "source": [
    "len(testset_new)"
   ]
  },
  {
   "cell_type": "code",
   "execution_count": 52,
   "metadata": {
    "colab": {
     "base_uri": "https://localhost:8080/",
     "height": 104
    },
    "colab_type": "code",
    "executionInfo": {
     "elapsed": 169491,
     "status": "ok",
     "timestamp": 1582469385601,
     "user": {
      "displayName": "Rashmi Tomer",
      "photoUrl": "https://lh3.googleusercontent.com/a-/AAuE7mBnmMOMxexSsUh6_pCS0FgIO7VVHSY8eFBxtZ0UDQ=s64",
      "userId": "11743593445641168994"
     },
     "user_tz": -330
    },
    "id": "x9n-YJgBZeiC",
    "outputId": "302717d9-afd6-4e6e-f942-3aaf69242de4"
   },
   "outputs": [
    {
     "data": {
      "text/plain": [
       "[('A1X1CEGHTHMBL1', 'B000OLDG60', 4.262221914680137),\n",
       " ('A1X1CEGHTHMBL1', 'B00335LX9G', 4.262221914680137),\n",
       " ('A1X1CEGHTHMBL1', 'B00A8O0710', 4.262221914680137),\n",
       " ('A1X1CEGHTHMBL1', 'B009D1UWUA', 4.262221914680137),\n",
       " ('A1X1CEGHTHMBL1', 'B0084L73QQ', 4.262221914680137)]"
      ]
     },
     "execution_count": 52,
     "metadata": {
      "tags": []
     },
     "output_type": "execute_result"
    }
   ],
   "source": [
    "testset_new[0:5]   ## let us see the testset"
   ]
  },
  {
   "cell_type": "code",
   "execution_count": 0,
   "metadata": {
    "colab": {},
    "colab_type": "code",
    "id": "B6pmGMdEZek7"
   },
   "outputs": [],
   "source": [
    "predictions = algo4.test(testset_new[0:20000000])   ## Lets run and recommend the products for 2,00,00,000 users of trainset."
   ]
  },
  {
   "cell_type": "code",
   "execution_count": 0,
   "metadata": {
    "colab": {},
    "colab_type": "code",
    "id": "6fmwP_OlZeoB"
   },
   "outputs": [],
   "source": [
    "predictions_df = pd.DataFrame([[x.uid,x.iid,x.est] for x in predictions])"
   ]
  },
  {
   "cell_type": "code",
   "execution_count": 0,
   "metadata": {
    "colab": {},
    "colab_type": "code",
    "id": "8FoDdWfbZlp9"
   },
   "outputs": [],
   "source": [
    "predictions_df.columns = [\"userId\",\"productId\",\"est_rating\"]\n",
    "predictions_df.sort_values(by = [\"userId\", \"est_rating\"],ascending=False,inplace=True)"
   ]
  },
  {
   "cell_type": "code",
   "execution_count": 56,
   "metadata": {
    "colab": {
     "base_uri": "https://localhost:8080/",
     "height": 415
    },
    "colab_type": "code",
    "executionInfo": {
     "elapsed": 405205,
     "status": "ok",
     "timestamp": 1582469621341,
     "user": {
      "displayName": "Rashmi Tomer",
      "photoUrl": "https://lh3.googleusercontent.com/a-/AAuE7mBnmMOMxexSsUh6_pCS0FgIO7VVHSY8eFBxtZ0UDQ=s64",
      "userId": "11743593445641168994"
     },
     "user_tz": -330
    },
    "id": "MzJusBJfZltY",
    "outputId": "19946836-ae99-43ad-b939-556f71eed620"
   },
   "outputs": [
    {
     "data": {
      "text/html": [
       "<div>\n",
       "<style scoped>\n",
       "    .dataframe tbody tr th:only-of-type {\n",
       "        vertical-align: middle;\n",
       "    }\n",
       "\n",
       "    .dataframe tbody tr th {\n",
       "        vertical-align: top;\n",
       "    }\n",
       "\n",
       "    .dataframe thead th {\n",
       "        text-align: right;\n",
       "    }\n",
       "</style>\n",
       "<table border=\"1\" class=\"dataframe\">\n",
       "  <thead>\n",
       "    <tr style=\"text-align: right;\">\n",
       "      <th></th>\n",
       "      <th>userId</th>\n",
       "      <th>productId</th>\n",
       "      <th>est_rating</th>\n",
       "    </tr>\n",
       "  </thead>\n",
       "  <tbody>\n",
       "    <tr>\n",
       "      <th>7939309</th>\n",
       "      <td>AZMY6E8B52L2T</td>\n",
       "      <td>B005KAK2FI</td>\n",
       "      <td>5.000000</td>\n",
       "    </tr>\n",
       "    <tr>\n",
       "      <th>7939353</th>\n",
       "      <td>AZMY6E8B52L2T</td>\n",
       "      <td>B000M5U9GI</td>\n",
       "      <td>5.000000</td>\n",
       "    </tr>\n",
       "    <tr>\n",
       "      <th>7939468</th>\n",
       "      <td>AZMY6E8B52L2T</td>\n",
       "      <td>B001TUYTZM</td>\n",
       "      <td>5.000000</td>\n",
       "    </tr>\n",
       "    <tr>\n",
       "      <th>7939490</th>\n",
       "      <td>AZMY6E8B52L2T</td>\n",
       "      <td>B00C20KWP4</td>\n",
       "      <td>5.000000</td>\n",
       "    </tr>\n",
       "    <tr>\n",
       "      <th>7939500</th>\n",
       "      <td>AZMY6E8B52L2T</td>\n",
       "      <td>B003CJTQJC</td>\n",
       "      <td>5.000000</td>\n",
       "    </tr>\n",
       "    <tr>\n",
       "      <th>...</th>\n",
       "      <td>...</td>\n",
       "      <td>...</td>\n",
       "      <td>...</td>\n",
       "    </tr>\n",
       "    <tr>\n",
       "      <th>5487489</th>\n",
       "      <td>A100UD67AHFODS</td>\n",
       "      <td>B001F50UDG</td>\n",
       "      <td>3.047587</td>\n",
       "    </tr>\n",
       "    <tr>\n",
       "      <th>5490969</th>\n",
       "      <td>A100UD67AHFODS</td>\n",
       "      <td>B004OBUFYW</td>\n",
       "      <td>3.003009</td>\n",
       "    </tr>\n",
       "    <tr>\n",
       "      <th>5483392</th>\n",
       "      <td>A100UD67AHFODS</td>\n",
       "      <td>B007GR44PM</td>\n",
       "      <td>2.944501</td>\n",
       "    </tr>\n",
       "    <tr>\n",
       "      <th>5482070</th>\n",
       "      <td>A100UD67AHFODS</td>\n",
       "      <td>B000UF3FT8</td>\n",
       "      <td>2.891766</td>\n",
       "    </tr>\n",
       "    <tr>\n",
       "      <th>5481484</th>\n",
       "      <td>A100UD67AHFODS</td>\n",
       "      <td>B0054YF0C0</td>\n",
       "      <td>2.636039</td>\n",
       "    </tr>\n",
       "  </tbody>\n",
       "</table>\n",
       "<p>20000000 rows × 3 columns</p>\n",
       "</div>"
      ],
      "text/plain": [
       "                 userId   productId  est_rating\n",
       "7939309   AZMY6E8B52L2T  B005KAK2FI    5.000000\n",
       "7939353   AZMY6E8B52L2T  B000M5U9GI    5.000000\n",
       "7939468   AZMY6E8B52L2T  B001TUYTZM    5.000000\n",
       "7939490   AZMY6E8B52L2T  B00C20KWP4    5.000000\n",
       "7939500   AZMY6E8B52L2T  B003CJTQJC    5.000000\n",
       "...                 ...         ...         ...\n",
       "5487489  A100UD67AHFODS  B001F50UDG    3.047587\n",
       "5490969  A100UD67AHFODS  B004OBUFYW    3.003009\n",
       "5483392  A100UD67AHFODS  B007GR44PM    2.944501\n",
       "5482070  A100UD67AHFODS  B000UF3FT8    2.891766\n",
       "5481484  A100UD67AHFODS  B0054YF0C0    2.636039\n",
       "\n",
       "[20000000 rows x 3 columns]"
      ]
     },
     "execution_count": 56,
     "metadata": {
      "tags": []
     },
     "output_type": "execute_result"
    }
   ],
   "source": [
    "predictions_df"
   ]
  },
  {
   "cell_type": "code",
   "execution_count": 0,
   "metadata": {
    "colab": {},
    "colab_type": "code",
    "id": "E_FWB5ZLZmA1"
   },
   "outputs": [],
   "source": [
    "top_5_recos = predictions_df.groupby(\"userId\").head(5).reset_index(drop=True)  ## top 5 products for a userid."
   ]
  },
  {
   "cell_type": "code",
   "execution_count": 58,
   "metadata": {
    "colab": {
     "base_uri": "https://localhost:8080/",
     "height": 386
    },
    "colab_type": "code",
    "executionInfo": {
     "elapsed": 407171,
     "status": "ok",
     "timestamp": 1582469623317,
     "user": {
      "displayName": "Rashmi Tomer",
      "photoUrl": "https://lh3.googleusercontent.com/a-/AAuE7mBnmMOMxexSsUh6_pCS0FgIO7VVHSY8eFBxtZ0UDQ=s64",
      "userId": "11743593445641168994"
     },
     "user_tz": -330
    },
    "id": "m5plH040Zsos",
    "outputId": "2f02932e-f397-41ce-8867-c8f8a11fb2af"
   },
   "outputs": [
    {
     "data": {
      "text/html": [
       "<div>\n",
       "<style scoped>\n",
       "    .dataframe tbody tr th:only-of-type {\n",
       "        vertical-align: middle;\n",
       "    }\n",
       "\n",
       "    .dataframe tbody tr th {\n",
       "        vertical-align: top;\n",
       "    }\n",
       "\n",
       "    .dataframe thead th {\n",
       "        text-align: right;\n",
       "    }\n",
       "</style>\n",
       "<table border=\"1\" class=\"dataframe\">\n",
       "  <thead>\n",
       "    <tr style=\"text-align: right;\">\n",
       "      <th></th>\n",
       "      <th>userId</th>\n",
       "      <th>productId</th>\n",
       "      <th>est_rating</th>\n",
       "    </tr>\n",
       "  </thead>\n",
       "  <tbody>\n",
       "    <tr>\n",
       "      <th>0</th>\n",
       "      <td>AZMY6E8B52L2T</td>\n",
       "      <td>B005KAK2FI</td>\n",
       "      <td>5.000000</td>\n",
       "    </tr>\n",
       "    <tr>\n",
       "      <th>1</th>\n",
       "      <td>AZMY6E8B52L2T</td>\n",
       "      <td>B000M5U9GI</td>\n",
       "      <td>5.000000</td>\n",
       "    </tr>\n",
       "    <tr>\n",
       "      <th>2</th>\n",
       "      <td>AZMY6E8B52L2T</td>\n",
       "      <td>B001TUYTZM</td>\n",
       "      <td>5.000000</td>\n",
       "    </tr>\n",
       "    <tr>\n",
       "      <th>3</th>\n",
       "      <td>AZMY6E8B52L2T</td>\n",
       "      <td>B00C20KWP4</td>\n",
       "      <td>5.000000</td>\n",
       "    </tr>\n",
       "    <tr>\n",
       "      <th>4</th>\n",
       "      <td>AZMY6E8B52L2T</td>\n",
       "      <td>B003CJTQJC</td>\n",
       "      <td>5.000000</td>\n",
       "    </tr>\n",
       "    <tr>\n",
       "      <th>5</th>\n",
       "      <td>AZCE11PSTCH1L</td>\n",
       "      <td>B000JV9LUK</td>\n",
       "      <td>4.983104</td>\n",
       "    </tr>\n",
       "    <tr>\n",
       "      <th>6</th>\n",
       "      <td>AZCE11PSTCH1L</td>\n",
       "      <td>B001TH7T2U</td>\n",
       "      <td>4.967786</td>\n",
       "    </tr>\n",
       "    <tr>\n",
       "      <th>7</th>\n",
       "      <td>AZCE11PSTCH1L</td>\n",
       "      <td>B000M2TAN4</td>\n",
       "      <td>4.936054</td>\n",
       "    </tr>\n",
       "    <tr>\n",
       "      <th>8</th>\n",
       "      <td>AZCE11PSTCH1L</td>\n",
       "      <td>B0052SCU8U</td>\n",
       "      <td>4.934658</td>\n",
       "    </tr>\n",
       "    <tr>\n",
       "      <th>9</th>\n",
       "      <td>AZCE11PSTCH1L</td>\n",
       "      <td>B0010Z28XG</td>\n",
       "      <td>4.929424</td>\n",
       "    </tr>\n",
       "    <tr>\n",
       "      <th>10</th>\n",
       "      <td>AYGEKID3G7DPW</td>\n",
       "      <td>B000JV9LUK</td>\n",
       "      <td>4.249717</td>\n",
       "    </tr>\n",
       "  </tbody>\n",
       "</table>\n",
       "</div>"
      ],
      "text/plain": [
       "           userId   productId  est_rating\n",
       "0   AZMY6E8B52L2T  B005KAK2FI    5.000000\n",
       "1   AZMY6E8B52L2T  B000M5U9GI    5.000000\n",
       "2   AZMY6E8B52L2T  B001TUYTZM    5.000000\n",
       "3   AZMY6E8B52L2T  B00C20KWP4    5.000000\n",
       "4   AZMY6E8B52L2T  B003CJTQJC    5.000000\n",
       "5   AZCE11PSTCH1L  B000JV9LUK    4.983104\n",
       "6   AZCE11PSTCH1L  B001TH7T2U    4.967786\n",
       "7   AZCE11PSTCH1L  B000M2TAN4    4.936054\n",
       "8   AZCE11PSTCH1L  B0052SCU8U    4.934658\n",
       "9   AZCE11PSTCH1L  B0010Z28XG    4.929424\n",
       "10  AYGEKID3G7DPW  B000JV9LUK    4.249717"
      ]
     },
     "execution_count": 58,
     "metadata": {
      "tags": []
     },
     "output_type": "execute_result"
    }
   ],
   "source": [
    "top_5_recos[0:11]"
   ]
  },
  {
   "cell_type": "code",
   "execution_count": 59,
   "metadata": {
    "colab": {
     "base_uri": "https://localhost:8080/",
     "height": 202
    },
    "colab_type": "code",
    "executionInfo": {
     "elapsed": 407163,
     "status": "ok",
     "timestamp": 1582469623318,
     "user": {
      "displayName": "Rashmi Tomer",
      "photoUrl": "https://lh3.googleusercontent.com/a-/AAuE7mBnmMOMxexSsUh6_pCS0FgIO7VVHSY8eFBxtZ0UDQ=s64",
      "userId": "11743593445641168994"
     },
     "user_tz": -330
    },
    "id": "d8bP5oa_fSoQ",
    "outputId": "ad99fff5-d051-4736-90dc-037c08ccbb3d"
   },
   "outputs": [
    {
     "data": {
      "text/html": [
       "<div>\n",
       "<style scoped>\n",
       "    .dataframe tbody tr th:only-of-type {\n",
       "        vertical-align: middle;\n",
       "    }\n",
       "\n",
       "    .dataframe tbody tr th {\n",
       "        vertical-align: top;\n",
       "    }\n",
       "\n",
       "    .dataframe thead th {\n",
       "        text-align: right;\n",
       "    }\n",
       "</style>\n",
       "<table border=\"1\" class=\"dataframe\">\n",
       "  <thead>\n",
       "    <tr style=\"text-align: right;\">\n",
       "      <th></th>\n",
       "      <th>userId</th>\n",
       "      <th>productId</th>\n",
       "      <th>est_rating</th>\n",
       "    </tr>\n",
       "  </thead>\n",
       "  <tbody>\n",
       "    <tr>\n",
       "      <th>0</th>\n",
       "      <td>AZMY6E8B52L2T</td>\n",
       "      <td>B005KAK2FI</td>\n",
       "      <td>5.0</td>\n",
       "    </tr>\n",
       "    <tr>\n",
       "      <th>1</th>\n",
       "      <td>AZMY6E8B52L2T</td>\n",
       "      <td>B000M5U9GI</td>\n",
       "      <td>5.0</td>\n",
       "    </tr>\n",
       "    <tr>\n",
       "      <th>2</th>\n",
       "      <td>AZMY6E8B52L2T</td>\n",
       "      <td>B001TUYTZM</td>\n",
       "      <td>5.0</td>\n",
       "    </tr>\n",
       "    <tr>\n",
       "      <th>3</th>\n",
       "      <td>AZMY6E8B52L2T</td>\n",
       "      <td>B00C20KWP4</td>\n",
       "      <td>5.0</td>\n",
       "    </tr>\n",
       "    <tr>\n",
       "      <th>4</th>\n",
       "      <td>AZMY6E8B52L2T</td>\n",
       "      <td>B003CJTQJC</td>\n",
       "      <td>5.0</td>\n",
       "    </tr>\n",
       "  </tbody>\n",
       "</table>\n",
       "</div>"
      ],
      "text/plain": [
       "          userId   productId  est_rating\n",
       "0  AZMY6E8B52L2T  B005KAK2FI         5.0\n",
       "1  AZMY6E8B52L2T  B000M5U9GI         5.0\n",
       "2  AZMY6E8B52L2T  B001TUYTZM         5.0\n",
       "3  AZMY6E8B52L2T  B00C20KWP4         5.0\n",
       "4  AZMY6E8B52L2T  B003CJTQJC         5.0"
      ]
     },
     "execution_count": 59,
     "metadata": {
      "tags": []
     },
     "output_type": "execute_result"
    }
   ],
   "source": [
    "## so for user id at 0th row, if we want to see top 5 recommendations,\n",
    "top_5_recos[top_5_recos[\"userId\"]==top_5_recos.userId[0]]"
   ]
  },
  {
   "cell_type": "code",
   "execution_count": 0,
   "metadata": {
    "colab": {},
    "colab_type": "code",
    "id": "fw77uJ6NYVQC"
   },
   "outputs": [],
   "source": [
    "### so based on user's ratings and behavour of purchase, we have sugegsted them new products to them."
   ]
  },
  {
   "cell_type": "markdown",
   "metadata": {
    "colab_type": "text",
    "id": "-yz43JgL3Ngl"
   },
   "source": [
    "## Conclusion:\n",
    "###### We had **7824482** records, 4 columns (userId,ProductId,Ratings, Timestamp) in orignal dataset.\n",
    "###### For our model we dropped timestamp and found **users who have rated at least 50 products.**\n",
    "Note: There were 4201696 unique users in orignal data set given.\n",
    "###### Then trained the popularity model on those **123871** Users records, who have rated 50 or more products.\n",
    "###### Then we built the **user-user collaborative filterring model**. The **RMSE** we have got on Test data(30% of trainset) is rmse 1.0504.We also found **MAE =0.70, MSE=1.098** over this Test data.\n",
    "###### Then **we recommended 5 products for 2,00,00,000 users of Anti-trainset**.\n",
    "\n",
    "Further to it, **we tried, SVD()** for collab flterring and got a lesser **RMSE of 0.98**. \n",
    "I could again reduce the RMSE using **BaseLineOnly**() algo of Collab filterring, to **0.97**. \n",
    "\n",
    "###### Here overall, we started from recommending using generic popularity model. But that was not personalised for users hence we moved to user -user Collaborative filterring model where based on purchase behaviour of user, we suggested him/her other similar and high rated products.\n",
    "###### However, **for New products, Collaborative filterring might suffer from Cold start problem, since we wont have any rating at all, for that product. Hence, in that case we might have to go back, for Popularity model to recommend products**."
   ]
  },
  {
   "cell_type": "code",
   "execution_count": 0,
   "metadata": {
    "colab": {},
    "colab_type": "code",
    "id": "eCEYPS4Pbl7X"
   },
   "outputs": [],
   "source": []
  }
 ],
 "metadata": {
  "accelerator": "TPU",
  "colab": {
   "collapsed_sections": [],
   "machine_shape": "hm",
   "name": "Recommendation Systems_R5_Project.ipynb",
   "provenance": []
  },
  "kernelspec": {
   "display_name": "Python 3",
   "language": "python",
   "name": "python3"
  },
  "language_info": {
   "codemirror_mode": {
    "name": "ipython",
    "version": 3
   },
   "file_extension": ".py",
   "mimetype": "text/x-python",
   "name": "python",
   "nbconvert_exporter": "python",
   "pygments_lexer": "ipython3",
   "version": "3.7.4"
  }
 },
 "nbformat": 4,
 "nbformat_minor": 1
}
