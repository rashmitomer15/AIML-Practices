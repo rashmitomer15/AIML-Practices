{
 "cells": [
  {
   "cell_type": "markdown",
   "metadata": {
    "colab_type": "text",
    "id": "GS2yqbg91dnu"
   },
   "source": [
    "##The Street View House Numbers (SVHN) Dataset\n",
    "\n",
    "\n",
    "SVHN is a real-world image dataset for developing machine learning and object recognition algorithms with the minimal requirement on data formatting but comes from a significantly harder, unsolved, real-world problem (recognizing digits and numbers in natural scene images). SVHN is obtained from house numbers in Google Street View images.\n",
    "\n",
    "http://ufldl.stanford.edu/housenumbers \n",
    "\n"
   ]
  },
  {
   "cell_type": "markdown",
   "metadata": {
    "colab_type": "text",
    "id": "8R_LAsUC1MAv"
   },
   "source": [
    "In this project, we will use the dataset with images centered around a single digit (many of the\n",
    "images do contain some distractors at the sides). Although we are taking a sample of\n",
    "the data which is simpler, it is more complex than MNIST because of the distractors.\n"
   ]
  },
  {
   "cell_type": "code",
   "execution_count": 21,
   "metadata": {
    "colab": {
     "base_uri": "https://localhost:8080/",
     "height": 35
    },
    "colab_type": "code",
    "executionInfo": {
     "elapsed": 1634,
     "status": "ok",
     "timestamp": 1584479228433,
     "user": {
      "displayName": "Rashmi Tomer",
      "photoUrl": "https://lh3.googleusercontent.com/a-/AOh14GhNPDj_ox5N9VvP38J_9l6p7mJxGbcbLnM0y4420g=s64",
      "userId": "11743593445641168994"
     },
     "user_tz": -330
    },
    "id": "VS4alIemgBss",
    "outputId": "a2bace26-1648-4702-ae7b-3aafee4673fd"
   },
   "outputs": [
    {
     "name": "stdout",
     "output_type": "stream",
     "text": [
      "TensorFlow is already loaded. Please restart the runtime to change versions.\n"
     ]
    }
   ],
   "source": [
    "import h5py\n",
    "import numpy as np\n",
    "import keras\n",
    "import tensorflow as tf\n",
    "\n",
    "import warnings\n",
    "warnings.filterwarnings('ignore', category=DeprecationWarning)\n",
    "\n",
    "%tensorflow_version 2.x"
   ]
  },
  {
   "cell_type": "code",
   "execution_count": 0,
   "metadata": {
    "colab": {},
    "colab_type": "code",
    "id": "Gb_7w-wJ5_fw"
   },
   "outputs": [],
   "source": [
    "tf.reset_default_graph()\n",
    "tf.set_random_seed(42)"
   ]
  },
  {
   "cell_type": "code",
   "execution_count": 23,
   "metadata": {
    "colab": {
     "base_uri": "https://localhost:8080/",
     "height": 35
    },
    "colab_type": "code",
    "executionInfo": {
     "elapsed": 1661,
     "status": "ok",
     "timestamp": 1584479229165,
     "user": {
      "displayName": "Rashmi Tomer",
      "photoUrl": "https://lh3.googleusercontent.com/a-/AOh14GhNPDj_ox5N9VvP38J_9l6p7mJxGbcbLnM0y4420g=s64",
      "userId": "11743593445641168994"
     },
     "user_tz": -330
    },
    "id": "7nY4Ny-6hvEZ",
    "outputId": "484d2c70-f09d-4f48-a0ad-b377adb956e2"
   },
   "outputs": [
    {
     "name": "stdout",
     "output_type": "stream",
     "text": [
      "Drive already mounted at /content/drive; to attempt to forcibly remount, call drive.mount(\"/content/drive\", force_remount=True).\n"
     ]
    }
   ],
   "source": [
    "from google.colab import drive\n",
    "drive.mount('/content/drive')"
   ]
  },
  {
   "cell_type": "markdown",
   "metadata": {
    "colab_type": "text",
    "id": "BkUzPEo2zd5d"
   },
   "source": [
    "## Loading the Dataset"
   ]
  },
  {
   "cell_type": "code",
   "execution_count": 0,
   "metadata": {
    "colab": {},
    "colab_type": "code",
    "id": "6Ry3mJzMhh70"
   },
   "outputs": [],
   "source": [
    "h5f=h5py.File('/content/drive/My Drive/ClassNotes/Project 10 SVHN_single_grey/SVHN_single_grey1.h5','r')"
   ]
  },
  {
   "cell_type": "code",
   "execution_count": 0,
   "metadata": {
    "colab": {},
    "colab_type": "code",
    "id": "qmgEyxARhlSU"
   },
   "outputs": [],
   "source": [
    "#Load Train, test X, y \n",
    "X_train=h5f['X_train'][:]\n",
    "X_test=h5f['X_test'][:]\n",
    "\n",
    "y_train=h5f['y_train'][:]\n",
    "y_test=h5f['y_test'][:]"
   ]
  },
  {
   "cell_type": "code",
   "execution_count": 0,
   "metadata": {
    "colab": {},
    "colab_type": "code",
    "id": "bNc0SoBShlVr"
   },
   "outputs": [],
   "source": [
    "h5f.close()"
   ]
  },
  {
   "cell_type": "code",
   "execution_count": 27,
   "metadata": {
    "colab": {
     "base_uri": "https://localhost:8080/",
     "height": 87
    },
    "colab_type": "code",
    "executionInfo": {
     "elapsed": 2857,
     "status": "ok",
     "timestamp": 1584479231497,
     "user": {
      "displayName": "Rashmi Tomer",
      "photoUrl": "https://lh3.googleusercontent.com/a-/AOh14GhNPDj_ox5N9VvP38J_9l6p7mJxGbcbLnM0y4420g=s64",
      "userId": "11743593445641168994"
     },
     "user_tz": -330
    },
    "id": "Erm1ifHMiINs",
    "outputId": "4dbb55cd-c067-48f1-c630-5c07137bfbe4"
   },
   "outputs": [
    {
     "name": "stdout",
     "output_type": "stream",
     "text": [
      "Train X shape (42000, 32, 32)\n",
      "Test shape (18000, 32, 32)\n",
      "Train y shape (42000,)\n",
      "Train y shape (18000,)\n"
     ]
    }
   ],
   "source": [
    "print('Train X shape',X_train.shape)   ## there is a total fo 60,000 records of which 42,000 used for training 18000 as test\n",
    "print('Test shape',X_test.shape)\n",
    "print('Train y shape',y_train.shape)\n",
    "print('Train y shape',y_test.shape)"
   ]
  },
  {
   "cell_type": "code",
   "execution_count": 28,
   "metadata": {
    "colab": {
     "base_uri": "https://localhost:8080/",
     "height": 35
    },
    "colab_type": "code",
    "executionInfo": {
     "elapsed": 2566,
     "status": "ok",
     "timestamp": 1584479231498,
     "user": {
      "displayName": "Rashmi Tomer",
      "photoUrl": "https://lh3.googleusercontent.com/a-/AOh14GhNPDj_ox5N9VvP38J_9l6p7mJxGbcbLnM0y4420g=s64",
      "userId": "11743593445641168994"
     },
     "user_tz": -330
    },
    "id": "9RFvt3VukFVa",
    "outputId": "08bb95c0-3b6b-4ea5-ad86-c9f3f3180c5c"
   },
   "outputs": [
    {
     "data": {
      "text/plain": [
       "dtype('uint8')"
      ]
     },
     "execution_count": 28,
     "metadata": {
      "tags": []
     },
     "output_type": "execute_result"
    }
   ],
   "source": [
    "y_train.dtype"
   ]
  },
  {
   "cell_type": "markdown",
   "metadata": {
    "colab_type": "text",
    "id": "NPrOA0tWzywq"
   },
   "source": [
    "##One-hot encode the target vector converting target vectors (integers) to binary class matrix - number of classes: 10"
   ]
  },
  {
   "cell_type": "code",
   "execution_count": 0,
   "metadata": {
    "colab": {},
    "colab_type": "code",
    "id": "3Ay9OkurlWPt"
   },
   "outputs": [],
   "source": [
    "y_train = keras.utils.to_categorical(y_train, num_classes=10)\n",
    "y_test = keras.utils.to_categorical(y_test, num_classes=10)"
   ]
  },
  {
   "cell_type": "code",
   "execution_count": 30,
   "metadata": {
    "colab": {
     "base_uri": "https://localhost:8080/",
     "height": 69
    },
    "colab_type": "code",
    "executionInfo": {
     "elapsed": 1649,
     "status": "ok",
     "timestamp": 1584479231498,
     "user": {
      "displayName": "Rashmi Tomer",
      "photoUrl": "https://lh3.googleusercontent.com/a-/AOh14GhNPDj_ox5N9VvP38J_9l6p7mJxGbcbLnM0y4420g=s64",
      "userId": "11743593445641168994"
     },
     "user_tz": -330
    },
    "id": "P5wJR9eql9TL",
    "outputId": "baf8ec89-b3c1-41e2-a5e1-7b96b1d77dde"
   },
   "outputs": [
    {
     "name": "stdout",
     "output_type": "stream",
     "text": [
      "(42000, 10)\n",
      "First 5 examples now are:  [[0. 0. 1. 0. 0. 0. 0. 0. 0. 0.]\n",
      " [0. 0. 0. 0. 0. 0. 1. 0. 0. 0.]]\n"
     ]
    }
   ],
   "source": [
    "print(y_train.shape)\n",
    "print('First 5 examples now are: ', y_train[0:2])"
   ]
  },
  {
   "cell_type": "markdown",
   "metadata": {
    "colab_type": "text",
    "id": "qFpxUBrPnw_4"
   },
   "source": [
    "## Visualizing the first 10 images in the dataset and their labels\n"
   ]
  },
  {
   "cell_type": "code",
   "execution_count": 31,
   "metadata": {
    "colab": {
     "base_uri": "https://localhost:8080/",
     "height": 251
    },
    "colab_type": "code",
    "executionInfo": {
     "elapsed": 1586,
     "status": "ok",
     "timestamp": 1584479232417,
     "user": {
      "displayName": "Rashmi Tomer",
      "photoUrl": "https://lh3.googleusercontent.com/a-/AOh14GhNPDj_ox5N9VvP38J_9l6p7mJxGbcbLnM0y4420g=s64",
      "userId": "11743593445641168994"
     },
     "user_tz": -330
    },
    "id": "hyWhXgjIns3T",
    "outputId": "8fc2478a-2340-4646-adca-25b3f32321a5"
   },
   "outputs": [
    {
     "name": "stdout",
     "output_type": "stream",
     "text": [
      "label for each of the below image: 2\n",
      "label for each of the below image: 6\n",
      "label for each of the below image: 7\n",
      "label for each of the below image: 4\n",
      "label for each of the below image: 4\n",
      "label for each of the below image: 0\n",
      "label for each of the below image: 3\n",
      "label for each of the below image: 0\n",
      "label for each of the below image: 7\n",
      "label for each of the below image: 3\n"
     ]
    },
    {
     "data": {
      "image/png": "[encoded data removed]",
      "text/plain": [
       "<Figure size 720x72 with 10 Axes>"
      ]
     },
     "metadata": {
      "tags": []
     },
     "output_type": "display_data"
    }
   ],
   "source": [
    "%matplotlib inline\n",
    "import matplotlib.pyplot as plt\n",
    "import warnings\n",
    "warnings.filterwarnings('ignore', category=DeprecationWarning)\n",
    "\n",
    "plt.figure(figsize=(10, 1))\n",
    "for i in range(10):\n",
    "    plt.subplot(1, 10, i+1)\n",
    "    plt.imshow(X_train[i].reshape(32, 32), cmap=\"gray\")\n",
    "    plt.axis('off')\n",
    "    print('label for each of the below image: %s' % (np.argmax(y_train[0:10][i])))\n",
    "plt.show()"
   ]
  },
  {
   "cell_type": "markdown",
   "metadata": {
    "colab_type": "text",
    "id": "1_kwP0k-24qf"
   },
   "source": [
    "## Now before fit lets log the data for TensorBoard"
   ]
  },
  {
   "cell_type": "code",
   "execution_count": 0,
   "metadata": {
    "colab": {},
    "colab_type": "code",
    "id": "GtqT0B7225M1"
   },
   "outputs": [],
   "source": [
    "tensorBoard=keras.callbacks.TensorBoard(log_dir='/content/drive/My Drive/ClassNotes/Project 10 SVHN_single_grey/SVHN1')"
   ]
  },
  {
   "cell_type": "markdown",
   "metadata": {
    "colab_type": "text",
    "id": "EIeNwtjm0OgR"
   },
   "source": [
    "### Initializing the model in Keras and reshaping followed by Batch Normalisation.\n",
    "### Applying ReLU to hidden dense and Dropout\n"
   ]
  },
  {
   "cell_type": "code",
   "execution_count": 13,
   "metadata": {
    "colab": {
     "base_uri": "https://localhost:8080/",
     "height": 228
    },
    "colab_type": "code",
    "executionInfo": {
     "elapsed": 4695,
     "status": "ok",
     "timestamp": 1584473618325,
     "user": {
      "displayName": "Rashmi Tomer",
      "photoUrl": "https://lh3.googleusercontent.com/a-/AOh14GhNPDj_ox5N9VvP38J_9l6p7mJxGbcbLnM0y4420g=s64",
      "userId": "11743593445641168994"
     },
     "user_tz": -330
    },
    "id": "MgnUw2YqmNCx",
    "outputId": "45f6290f-3189-434f-b3aa-03733972aa3f"
   },
   "outputs": [
    {
     "name": "stdout",
     "output_type": "stream",
     "text": [
      "WARNING:tensorflow:From /usr/local/lib/python3.6/dist-packages/keras/backend/tensorflow_backend.py:66: The name tf.get_default_graph is deprecated. Please use tf.compat.v1.get_default_graph instead.\n",
      "\n",
      "WARNING:tensorflow:From /usr/local/lib/python3.6/dist-packages/keras/backend/tensorflow_backend.py:541: The name tf.placeholder is deprecated. Please use tf.compat.v1.placeholder instead.\n",
      "\n",
      "WARNING:tensorflow:From /usr/local/lib/python3.6/dist-packages/keras/backend/tensorflow_backend.py:148: The name tf.placeholder_with_default is deprecated. Please use tf.compat.v1.placeholder_with_default instead.\n",
      "\n",
      "WARNING:tensorflow:From /usr/local/lib/python3.6/dist-packages/keras/backend/tensorflow_backend.py:4432: The name tf.random_uniform is deprecated. Please use tf.random.uniform instead.\n",
      "\n",
      "WARNING:tensorflow:From /usr/local/lib/python3.6/dist-packages/keras/backend/tensorflow_backend.py:3733: calling dropout (from tensorflow.python.ops.nn_ops) with keep_prob is deprecated and will be removed in a future version.\n",
      "Instructions for updating:\n",
      "Please use `rate` instead of `keep_prob`. Rate should be set to `rate = 1 - keep_prob`.\n"
     ]
    }
   ],
   "source": [
    "# Initialize Sequential model\n",
    "model = keras.models.Sequential()\n",
    "\n",
    "# Reshape data from 2D to 1D -> 32x32 to 1024\n",
    "model.add(keras.layers.Reshape((1024,),input_shape=(32,32,)))\n",
    "\n",
    "# Normalize the data\n",
    "model.add(keras.layers.BatchNormalization())\n",
    "\n",
    "# Hidden layers \n",
    "model.add(keras.layers.Dense(1000, activation='relu', name='Layer_1'))\n",
    "# Normalize the data\n",
    "model.add(keras.layers.BatchNormalization())\n",
    "model.add(keras.layers.Dense(500, activation='relu', name='Layer_2'))\n",
    "\n",
    "# Dropout layer\n",
    "model.add(keras.layers.Dropout(0.005))\n",
    "model.add(keras.layers.Dense(250, activation='relu', name='Layer_3'))\n",
    "\n",
    "# Normalize the data\n",
    "model.add(keras.layers.BatchNormalization())\n",
    "# Hidden layers\n",
    "model.add(keras.layers.Dense(250, activation='relu', name='Layer_4'))\n",
    "model.add(keras.layers.Dense(100, activation='relu', name='Layer_5'))\n",
    "# Dropout layer\n",
    "model.add(keras.layers.Dropout(0.025))\n",
    "# Hidden layers\n",
    "model.add(keras.layers.Dense(50, activation='relu', name='Layer_6'))\n",
    "#Output layer\n",
    "model.add(keras.layers.Dense(10, activation='softmax', name='Output'))"
   ]
  },
  {
   "cell_type": "markdown",
   "metadata": {
    "colab_type": "text",
    "id": "gkfsEBXi0n5H"
   },
   "source": [
    "## Compiling the model created and see the model.summary"
   ]
  },
  {
   "cell_type": "code",
   "execution_count": 14,
   "metadata": {
    "colab": {
     "base_uri": "https://localhost:8080/",
     "height": 696
    },
    "colab_type": "code",
    "executionInfo": {
     "elapsed": 4686,
     "status": "ok",
     "timestamp": 1584473618326,
     "user": {
      "displayName": "Rashmi Tomer",
      "photoUrl": "https://lh3.googleusercontent.com/a-/AOh14GhNPDj_ox5N9VvP38J_9l6p7mJxGbcbLnM0y4420g=s64",
      "userId": "11743593445641168994"
     },
     "user_tz": -330
    },
    "id": "xA1A7EpbmtVH",
    "outputId": "744b63e7-1b13-4525-faa9-2cde63f44af0"
   },
   "outputs": [
    {
     "name": "stdout",
     "output_type": "stream",
     "text": [
      "WARNING:tensorflow:From /usr/local/lib/python3.6/dist-packages/keras/optimizers.py:793: The name tf.train.Optimizer is deprecated. Please use tf.compat.v1.train.Optimizer instead.\n",
      "\n",
      "WARNING:tensorflow:From /usr/local/lib/python3.6/dist-packages/keras/backend/tensorflow_backend.py:3576: The name tf.log is deprecated. Please use tf.math.log instead.\n",
      "\n",
      "Model: \"sequential_1\"\n",
      "_________________________________________________________________\n",
      "Layer (type)                 Output Shape              Param #   \n",
      "=================================================================\n",
      "reshape_1 (Reshape)          (None, 1024)              0         \n",
      "_________________________________________________________________\n",
      "batch_normalization_1 (Batch (None, 1024)              4096      \n",
      "_________________________________________________________________\n",
      "Layer_1 (Dense)              (None, 1000)              1025000   \n",
      "_________________________________________________________________\n",
      "batch_normalization_2 (Batch (None, 1000)              4000      \n",
      "_________________________________________________________________\n",
      "Layer_2 (Dense)              (None, 500)               500500    \n",
      "_________________________________________________________________\n",
      "dropout_1 (Dropout)          (None, 500)               0         \n",
      "_________________________________________________________________\n",
      "Layer_3 (Dense)              (None, 250)               125250    \n",
      "_________________________________________________________________\n",
      "batch_normalization_3 (Batch (None, 250)               1000      \n",
      "_________________________________________________________________\n",
      "Layer_4 (Dense)              (None, 250)               62750     \n",
      "_________________________________________________________________\n",
      "Layer_5 (Dense)              (None, 100)               25100     \n",
      "_________________________________________________________________\n",
      "dropout_2 (Dropout)          (None, 100)               0         \n",
      "_________________________________________________________________\n",
      "Layer_6 (Dense)              (None, 50)                5050      \n",
      "_________________________________________________________________\n",
      "Output (Dense)               (None, 10)                510       \n",
      "=================================================================\n",
      "Total params: 1,753,256\n",
      "Trainable params: 1,748,708\n",
      "Non-trainable params: 4,548\n",
      "_________________________________________________________________\n"
     ]
    }
   ],
   "source": [
    "model.compile(optimizer='adam', loss='categorical_crossentropy', metrics=['accuracy'])\n",
    "model.summary()"
   ]
  },
  {
   "cell_type": "markdown",
   "metadata": {
    "colab_type": "text",
    "id": "DP0zdnc300qX"
   },
   "source": [
    "## Lets fit the model to train and test data"
   ]
  },
  {
   "cell_type": "code",
   "execution_count": 15,
   "metadata": {
    "colab": {
     "base_uri": "https://localhost:8080/",
     "height": 1000
    },
    "colab_type": "code",
    "executionInfo": {
     "elapsed": 1159416,
     "status": "ok",
     "timestamp": 1584474773064,
     "user": {
      "displayName": "Rashmi Tomer",
      "photoUrl": "https://lh3.googleusercontent.com/a-/AOh14GhNPDj_ox5N9VvP38J_9l6p7mJxGbcbLnM0y4420g=s64",
      "userId": "11743593445641168994"
     },
     "user_tz": -330
    },
    "id": "_u-qbK1hm0Ab",
    "outputId": "1a2a8057-4494-419d-b170-2878e4f80fbc"
   },
   "outputs": [
    {
     "name": "stdout",
     "output_type": "stream",
     "text": [
      "WARNING:tensorflow:From /tensorflow-1.15.0/python3.6/tensorflow_core/python/ops/math_grad.py:1424: where (from tensorflow.python.ops.array_ops) is deprecated and will be removed in a future version.\n",
      "Instructions for updating:\n",
      "Use tf.where in 2.0, which has the same broadcast rule as np.where\n",
      "WARNING:tensorflow:From /usr/local/lib/python3.6/dist-packages/keras/backend/tensorflow_backend.py:1033: The name tf.assign_add is deprecated. Please use tf.compat.v1.assign_add instead.\n",
      "\n",
      "WARNING:tensorflow:From /usr/local/lib/python3.6/dist-packages/keras/backend/tensorflow_backend.py:1020: The name tf.assign is deprecated. Please use tf.compat.v1.assign instead.\n",
      "\n",
      "WARNING:tensorflow:From /usr/local/lib/python3.6/dist-packages/keras/backend/tensorflow_backend.py:3005: The name tf.Session is deprecated. Please use tf.compat.v1.Session instead.\n",
      "\n",
      "Train on 42000 samples, validate on 18000 samples\n",
      "Epoch 1/50\n",
      "WARNING:tensorflow:From /usr/local/lib/python3.6/dist-packages/keras/backend/tensorflow_backend.py:190: The name tf.get_default_session is deprecated. Please use tf.compat.v1.get_default_session instead.\n",
      "\n",
      "WARNING:tensorflow:From /usr/local/lib/python3.6/dist-packages/keras/backend/tensorflow_backend.py:197: The name tf.ConfigProto is deprecated. Please use tf.compat.v1.ConfigProto instead.\n",
      "\n",
      "WARNING:tensorflow:From /usr/local/lib/python3.6/dist-packages/keras/backend/tensorflow_backend.py:207: The name tf.global_variables is deprecated. Please use tf.compat.v1.global_variables instead.\n",
      "\n",
      "WARNING:tensorflow:From /usr/local/lib/python3.6/dist-packages/keras/backend/tensorflow_backend.py:216: The name tf.is_variable_initialized is deprecated. Please use tf.compat.v1.is_variable_initialized instead.\n",
      "\n",
      "WARNING:tensorflow:From /usr/local/lib/python3.6/dist-packages/keras/backend/tensorflow_backend.py:223: The name tf.variables_initializer is deprecated. Please use tf.compat.v1.variables_initializer instead.\n",
      "\n",
      "42000/42000 [==============================] - 25s 588us/step - loss: 1.5084 - acc: 0.4850 - val_loss: 1.0461 - val_acc: 0.6626\n",
      "Epoch 2/50\n",
      "42000/42000 [==============================] - 23s 550us/step - loss: 1.0661 - acc: 0.6576 - val_loss: 0.8731 - val_acc: 0.7229\n",
      "Epoch 3/50\n",
      "42000/42000 [==============================] - 23s 547us/step - loss: 0.9343 - acc: 0.7028 - val_loss: 0.7974 - val_acc: 0.7521\n",
      "Epoch 4/50\n",
      "42000/42000 [==============================] - 23s 550us/step - loss: 0.8468 - acc: 0.7317 - val_loss: 0.6969 - val_acc: 0.7914\n",
      "Epoch 5/50\n",
      "42000/42000 [==============================] - 23s 557us/step - loss: 0.7600 - acc: 0.7596 - val_loss: 0.6601 - val_acc: 0.7973\n",
      "Epoch 6/50\n",
      "42000/42000 [==============================] - 23s 547us/step - loss: 0.7140 - acc: 0.7735 - val_loss: 0.6278 - val_acc: 0.8053\n",
      "Epoch 7/50\n",
      "42000/42000 [==============================] - 23s 545us/step - loss: 0.6719 - acc: 0.7876 - val_loss: 0.6194 - val_acc: 0.8111\n",
      "Epoch 8/50\n",
      "42000/42000 [==============================] - 23s 548us/step - loss: 0.6409 - acc: 0.7973 - val_loss: 0.5923 - val_acc: 0.8203\n",
      "Epoch 9/50\n",
      "42000/42000 [==============================] - 23s 546us/step - loss: 0.6091 - acc: 0.8071 - val_loss: 0.5466 - val_acc: 0.8358\n",
      "Epoch 10/50\n",
      "42000/42000 [==============================] - 23s 547us/step - loss: 0.5749 - acc: 0.8192 - val_loss: 0.5466 - val_acc: 0.8340\n",
      "Epoch 11/50\n",
      "42000/42000 [==============================] - 23s 545us/step - loss: 0.5558 - acc: 0.8242 - val_loss: 0.5379 - val_acc: 0.8371\n",
      "Epoch 12/50\n",
      "42000/42000 [==============================] - 23s 546us/step - loss: 0.5367 - acc: 0.8288 - val_loss: 0.5165 - val_acc: 0.8458\n",
      "Epoch 13/50\n",
      "42000/42000 [==============================] - 23s 547us/step - loss: 0.5106 - acc: 0.8368 - val_loss: 0.5302 - val_acc: 0.8407\n",
      "Epoch 14/50\n",
      "42000/42000 [==============================] - 23s 548us/step - loss: 0.4962 - acc: 0.8429 - val_loss: 0.5159 - val_acc: 0.8436\n",
      "Epoch 15/50\n",
      "42000/42000 [==============================] - 23s 551us/step - loss: 0.4815 - acc: 0.8471 - val_loss: 0.5053 - val_acc: 0.8495\n",
      "Epoch 16/50\n",
      "42000/42000 [==============================] - 23s 549us/step - loss: 0.4668 - acc: 0.8518 - val_loss: 0.4972 - val_acc: 0.8560\n",
      "Epoch 17/50\n",
      "42000/42000 [==============================] - 23s 548us/step - loss: 0.4500 - acc: 0.8557 - val_loss: 0.4970 - val_acc: 0.8509\n",
      "Epoch 18/50\n",
      "42000/42000 [==============================] - 23s 556us/step - loss: 0.4360 - acc: 0.8614 - val_loss: 0.5138 - val_acc: 0.8462\n",
      "Epoch 19/50\n",
      "42000/42000 [==============================] - 23s 548us/step - loss: 0.4280 - acc: 0.8633 - val_loss: 0.4867 - val_acc: 0.8569\n",
      "Epoch 20/50\n",
      "42000/42000 [==============================] - 23s 546us/step - loss: 0.4159 - acc: 0.8670 - val_loss: 0.4984 - val_acc: 0.8520\n",
      "Epoch 21/50\n",
      "42000/42000 [==============================] - 23s 546us/step - loss: 0.4037 - acc: 0.8710 - val_loss: 0.4855 - val_acc: 0.8613\n",
      "Epoch 22/50\n",
      "42000/42000 [==============================] - 23s 547us/step - loss: 0.3942 - acc: 0.8729 - val_loss: 0.4978 - val_acc: 0.8573\n",
      "Epoch 23/50\n",
      "42000/42000 [==============================] - 23s 548us/step - loss: 0.3828 - acc: 0.8771 - val_loss: 0.4779 - val_acc: 0.8608\n",
      "Epoch 24/50\n",
      "42000/42000 [==============================] - 23s 546us/step - loss: 0.3783 - acc: 0.8790 - val_loss: 0.4799 - val_acc: 0.8644\n",
      "Epoch 25/50\n",
      "42000/42000 [==============================] - 23s 544us/step - loss: 0.3677 - acc: 0.8806 - val_loss: 0.4812 - val_acc: 0.8617\n",
      "Epoch 26/50\n",
      "42000/42000 [==============================] - 23s 546us/step - loss: 0.3623 - acc: 0.8827 - val_loss: 0.4761 - val_acc: 0.8641\n",
      "Epoch 27/50\n",
      "42000/42000 [==============================] - 23s 546us/step - loss: 0.3553 - acc: 0.8862 - val_loss: 0.4811 - val_acc: 0.8633\n",
      "Epoch 28/50\n",
      "42000/42000 [==============================] - 23s 550us/step - loss: 0.3403 - acc: 0.8907 - val_loss: 0.4848 - val_acc: 0.8652\n",
      "Epoch 29/50\n",
      "42000/42000 [==============================] - 23s 546us/step - loss: 0.3407 - acc: 0.8905 - val_loss: 0.4974 - val_acc: 0.8593\n",
      "Epoch 30/50\n",
      "42000/42000 [==============================] - 23s 545us/step - loss: 0.3346 - acc: 0.8914 - val_loss: 0.4611 - val_acc: 0.8710\n",
      "Epoch 31/50\n",
      "42000/42000 [==============================] - 23s 551us/step - loss: 0.3266 - acc: 0.8935 - val_loss: 0.4947 - val_acc: 0.8594\n",
      "Epoch 32/50\n",
      "42000/42000 [==============================] - 23s 555us/step - loss: 0.3191 - acc: 0.8982 - val_loss: 0.4780 - val_acc: 0.8649\n",
      "Epoch 33/50\n",
      "42000/42000 [==============================] - 23s 545us/step - loss: 0.3130 - acc: 0.8988 - val_loss: 0.4800 - val_acc: 0.8673\n",
      "Epoch 34/50\n",
      "42000/42000 [==============================] - 23s 549us/step - loss: 0.3080 - acc: 0.9015 - val_loss: 0.5096 - val_acc: 0.8614\n",
      "Epoch 35/50\n",
      "42000/42000 [==============================] - 23s 548us/step - loss: 0.3022 - acc: 0.9036 - val_loss: 0.4697 - val_acc: 0.8704\n",
      "Epoch 36/50\n",
      "42000/42000 [==============================] - 23s 548us/step - loss: 0.3014 - acc: 0.9040 - val_loss: 0.4772 - val_acc: 0.8677\n",
      "Epoch 37/50\n",
      "42000/42000 [==============================] - 23s 548us/step - loss: 0.2927 - acc: 0.9054 - val_loss: 0.4957 - val_acc: 0.8667\n",
      "Epoch 38/50\n",
      "42000/42000 [==============================] - 23s 549us/step - loss: 0.2891 - acc: 0.9054 - val_loss: 0.5010 - val_acc: 0.8614\n",
      "Epoch 39/50\n",
      "42000/42000 [==============================] - 23s 549us/step - loss: 0.2803 - acc: 0.9114 - val_loss: 0.4817 - val_acc: 0.8681\n",
      "Epoch 40/50\n",
      "42000/42000 [==============================] - 23s 550us/step - loss: 0.2785 - acc: 0.9097 - val_loss: 0.4905 - val_acc: 0.8671\n",
      "Epoch 41/50\n",
      "42000/42000 [==============================] - 23s 552us/step - loss: 0.2730 - acc: 0.9112 - val_loss: 0.4969 - val_acc: 0.8683\n",
      "Epoch 42/50\n",
      "42000/42000 [==============================] - 23s 550us/step - loss: 0.2678 - acc: 0.9138 - val_loss: 0.4874 - val_acc: 0.8701\n",
      "Epoch 43/50\n",
      "42000/42000 [==============================] - 23s 548us/step - loss: 0.2561 - acc: 0.9163 - val_loss: 0.4910 - val_acc: 0.8683\n",
      "Epoch 44/50\n",
      "42000/42000 [==============================] - 23s 551us/step - loss: 0.2622 - acc: 0.9145 - val_loss: 0.4895 - val_acc: 0.8701\n",
      "Epoch 45/50\n",
      "42000/42000 [==============================] - 23s 556us/step - loss: 0.2584 - acc: 0.9161 - val_loss: 0.5229 - val_acc: 0.8606\n",
      "Epoch 46/50\n",
      "42000/42000 [==============================] - 23s 547us/step - loss: 0.2595 - acc: 0.9162 - val_loss: 0.4898 - val_acc: 0.8701\n",
      "Epoch 47/50\n",
      "42000/42000 [==============================] - 23s 547us/step - loss: 0.2502 - acc: 0.9180 - val_loss: 0.4997 - val_acc: 0.8688\n",
      "Epoch 48/50\n",
      "42000/42000 [==============================] - 23s 544us/step - loss: 0.2467 - acc: 0.9201 - val_loss: 0.4979 - val_acc: 0.8666\n",
      "Epoch 49/50\n",
      "42000/42000 [==============================] - 23s 545us/step - loss: 0.2406 - acc: 0.9217 - val_loss: 0.4986 - val_acc: 0.8685\n",
      "Epoch 50/50\n",
      "42000/42000 [==============================] - 23s 545us/step - loss: 0.2393 - acc: 0.9223 - val_loss: 0.4801 - val_acc: 0.8745\n"
     ]
    }
   ],
   "source": [
    "history=model.fit(X_train, y_train, validation_data=(X_test, y_test), epochs=50, batch_size = 32) \n",
    " ## it will run in collab"
   ]
  },
  {
   "cell_type": "markdown",
   "metadata": {
    "colab_type": "text",
    "id": "2ayXeUwT0ymE"
   },
   "source": [
    "## Finally, looking at the classification accuracy metrics and graph."
   ]
  },
  {
   "cell_type": "code",
   "execution_count": 16,
   "metadata": {
    "colab": {
     "base_uri": "https://localhost:8080/",
     "height": 52
    },
    "colab_type": "code",
    "executionInfo": {
     "elapsed": 1164489,
     "status": "ok",
     "timestamp": 1584474778148,
     "user": {
      "displayName": "Rashmi Tomer",
      "photoUrl": "https://lh3.googleusercontent.com/a-/AOh14GhNPDj_ox5N9VvP38J_9l6p7mJxGbcbLnM0y4420g=s64",
      "userId": "11743593445641168994"
     },
     "user_tz": -330
    },
    "id": "-7vO62eMsZe1",
    "outputId": "8dfc2ae4-cb0e-4a53-987a-b07e74c81d95"
   },
   "outputs": [
    {
     "name": "stdout",
     "output_type": "stream",
     "text": [
      "Train Loss= 0.09294690461119726 ; Accuracy= 0.9736190476190476\n",
      "Test Loss= 0.4800873236457507 ; Accuracy= 0.8745\n"
     ]
    }
   ],
   "source": [
    "score_train = model.evaluate(X_train, y_train,verbose=0)\n",
    "print(\"Train Loss=\",score_train[0],\"; Accuracy=\",score_train[1])\n",
    "score = model.evaluate(X_test, y_test,verbose=0)\n",
    "print(\"Test Loss=\",score[0],\"; Accuracy=\",score[1])"
   ]
  },
  {
   "cell_type": "markdown",
   "metadata": {
    "colab_type": "text",
    "id": "JAMe-_JN4QbQ"
   },
   "source": [
    "### Clearly this model with 3 Batch Normalization layer, 2 Drop-Out and 6 dense layers, seems overfit, for 50 epochs we got 97 on Train and 87 and train."
   ]
  },
  {
   "cell_type": "code",
   "execution_count": 17,
   "metadata": {
    "colab": {
     "base_uri": "https://localhost:8080/",
     "height": 295
    },
    "colab_type": "code",
    "executionInfo": {
     "elapsed": 1164483,
     "status": "ok",
     "timestamp": 1584474778149,
     "user": {
      "displayName": "Rashmi Tomer",
      "photoUrl": "https://lh3.googleusercontent.com/a-/AOh14GhNPDj_ox5N9VvP38J_9l6p7mJxGbcbLnM0y4420g=s64",
      "userId": "11743593445641168994"
     },
     "user_tz": -330
    },
    "id": "cg6Ipqy_sZir",
    "outputId": "f1898e6e-b635-448b-8fe7-753989c39927"
   },
   "outputs": [
    {
     "data": {
      "image/png": "[encoded data removed]",
      "text/plain": [
       "<Figure size 432x288 with 1 Axes>"
      ]
     },
     "metadata": {
      "tags": []
     },
     "output_type": "display_data"
    }
   ],
   "source": [
    "plt.plot(np.array(history.history['acc']) * 100)\n",
    "plt.plot(np.array(history.history['val_acc']) * 100)\n",
    "plt.ylabel('accuracy')\n",
    "plt.xlabel('epochs')\n",
    "plt.legend(['train', 'validation'])\n",
    "plt.title('Accuracy over epochs')\n",
    "plt.show()"
   ]
  },
  {
   "cell_type": "markdown",
   "metadata": {
    "colab_type": "text",
    "id": "rf78e19T4OCY"
   },
   "source": [
    "## Lets us try few more models and variation to improve the accuracy"
   ]
  },
  {
   "cell_type": "code",
   "execution_count": 33,
   "metadata": {
    "colab": {
     "base_uri": "https://localhost:8080/",
     "height": 537
    },
    "colab_type": "code",
    "executionInfo": {
     "elapsed": 1691,
     "status": "ok",
     "timestamp": 1584479247933,
     "user": {
      "displayName": "Rashmi Tomer",
      "photoUrl": "https://lh3.googleusercontent.com/a-/AOh14GhNPDj_ox5N9VvP38J_9l6p7mJxGbcbLnM0y4420g=s64",
      "userId": "11743593445641168994"
     },
     "user_tz": -330
    },
    "id": "Nj0PHJ-y3i9_",
    "outputId": "c16f2398-3007-4495-daa4-c4297a6021e7"
   },
   "outputs": [
    {
     "name": "stdout",
     "output_type": "stream",
     "text": [
      "Model: \"sequential_1\"\n",
      "_________________________________________________________________\n",
      "Layer (type)                 Output Shape              Param #   \n",
      "=================================================================\n",
      "reshape_1 (Reshape)          (None, 1024)              0         \n",
      "_________________________________________________________________\n",
      "batch_normalization_1 (Batch (None, 1024)              4096      \n",
      "_________________________________________________________________\n",
      "Layer_1 (Dense)              (None, 1000)              1025000   \n",
      "_________________________________________________________________\n",
      "batch_normalization_2 (Batch (None, 1000)              4000      \n",
      "_________________________________________________________________\n",
      "Layer_2 (Dense)              (None, 700)               700700    \n",
      "_________________________________________________________________\n",
      "Layer_3 (Dense)              (None, 550)               385550    \n",
      "_________________________________________________________________\n",
      "dropout_1 (Dropout)          (None, 550)               0         \n",
      "_________________________________________________________________\n",
      "Layer_4 (Dense)              (None, 300)               165300    \n",
      "_________________________________________________________________\n",
      "Layer_5 (Dense)              (None, 100)               30100     \n",
      "_________________________________________________________________\n",
      "Layer_6 (Dense)              (None, 40)                4040      \n",
      "_________________________________________________________________\n",
      "Output (Dense)               (None, 10)                410       \n",
      "=================================================================\n",
      "Total params: 2,319,196\n",
      "Trainable params: 2,315,148\n",
      "Non-trainable params: 4,048\n",
      "_________________________________________________________________\n"
     ]
    }
   ],
   "source": [
    "# Initialize Sequential model\n",
    "model2 = keras.models.Sequential()\n",
    "\n",
    "# Reshape data from 2D to 1D -> 32x32 to 1024\n",
    "model2.add(keras.layers.Reshape((1024,),input_shape=(32,32,)))\n",
    "\n",
    "# Normalize the data\n",
    "model2.add(keras.layers.BatchNormalization())\n",
    "\n",
    "# Hidden layers \n",
    "model2.add(keras.layers.Dense(1000, activation='relu', name='Layer_1'))\n",
    "# Normalize the data\n",
    "model2.add(keras.layers.BatchNormalization())\n",
    "model2.add(keras.layers.Dense(700, activation='relu', name='Layer_2'))\n",
    "model2.add(keras.layers.Dense(550, activation='relu', name='Layer_3'))\n",
    "# Dropout layer\n",
    "model2.add(keras.layers.Dropout(0.025))\n",
    "# Hidden layers\n",
    "model2.add(keras.layers.Dense(300, activation='relu', name='Layer_4'))\n",
    "model2.add(keras.layers.Dense(100, activation='relu', name='Layer_5'))\n",
    "# Hidden layers\n",
    "model2.add(keras.layers.Dense(40, activation='relu', name='Layer_6'))\n",
    "\n",
    "#Output layer\n",
    "model2.add(keras.layers.Dense(10, activation='softmax', name='Output'))\n",
    "model2.compile(optimizer='adam', loss='categorical_crossentropy', metrics=['accuracy'])\n",
    "model2.summary()"
   ]
  },
  {
   "cell_type": "code",
   "execution_count": 34,
   "metadata": {
    "colab": {
     "base_uri": "https://localhost:8080/",
     "height": 1000
    },
    "colab_type": "code",
    "executionInfo": {
     "elapsed": 1162768,
     "status": "ok",
     "timestamp": 1584480412038,
     "user": {
      "displayName": "Rashmi Tomer",
      "photoUrl": "https://lh3.googleusercontent.com/a-/AOh14GhNPDj_ox5N9VvP38J_9l6p7mJxGbcbLnM0y4420g=s64",
      "userId": "11743593445641168994"
     },
     "user_tz": -330
    },
    "id": "c_SlxpLo3jBK",
    "outputId": "74a6d5eb-d189-4ab9-a54a-aa470bd2f163"
   },
   "outputs": [
    {
     "name": "stdout",
     "output_type": "stream",
     "text": [
      "Train on 42000 samples, validate on 18000 samples\n",
      "Epoch 1/50\n",
      "42000/42000 [==============================] - 23s 557us/step - loss: 0.2293 - acc: 0.9262 - val_loss: 0.5216 - val_acc: 0.8671\n",
      "Epoch 2/50\n",
      "42000/42000 [==============================] - 23s 543us/step - loss: 0.2368 - acc: 0.9236 - val_loss: 0.4858 - val_acc: 0.8719\n",
      "Epoch 3/50\n",
      "42000/42000 [==============================] - 23s 559us/step - loss: 0.2286 - acc: 0.9258 - val_loss: 0.4925 - val_acc: 0.8715\n",
      "Epoch 4/50\n",
      "42000/42000 [==============================] - 23s 553us/step - loss: 0.2285 - acc: 0.9258 - val_loss: 0.5265 - val_acc: 0.8674\n",
      "Epoch 5/50\n",
      "42000/42000 [==============================] - 23s 551us/step - loss: 0.2281 - acc: 0.9260 - val_loss: 0.5101 - val_acc: 0.8717\n",
      "Epoch 6/50\n",
      "42000/42000 [==============================] - 23s 552us/step - loss: 0.2249 - acc: 0.9273 - val_loss: 0.5130 - val_acc: 0.8713\n",
      "Epoch 7/50\n",
      "42000/42000 [==============================] - 23s 550us/step - loss: 0.2247 - acc: 0.9276 - val_loss: 0.5104 - val_acc: 0.8698\n",
      "Epoch 8/50\n",
      "42000/42000 [==============================] - 23s 551us/step - loss: 0.2175 - acc: 0.9281 - val_loss: 0.5231 - val_acc: 0.8688\n",
      "Epoch 9/50\n",
      "42000/42000 [==============================] - 23s 556us/step - loss: 0.2121 - acc: 0.9313 - val_loss: 0.5232 - val_acc: 0.8691\n",
      "Epoch 10/50\n",
      "42000/42000 [==============================] - 23s 550us/step - loss: 0.2158 - acc: 0.9298 - val_loss: 0.5268 - val_acc: 0.8644\n",
      "Epoch 11/50\n",
      "42000/42000 [==============================] - 23s 550us/step - loss: 0.2087 - acc: 0.9325 - val_loss: 0.5146 - val_acc: 0.8698\n",
      "Epoch 12/50\n",
      "42000/42000 [==============================] - 23s 551us/step - loss: 0.2135 - acc: 0.9315 - val_loss: 0.5160 - val_acc: 0.8714\n",
      "Epoch 13/50\n",
      "42000/42000 [==============================] - 23s 552us/step - loss: 0.2042 - acc: 0.9339 - val_loss: 0.5129 - val_acc: 0.8699\n",
      "Epoch 14/50\n",
      "42000/42000 [==============================] - 23s 549us/step - loss: 0.2058 - acc: 0.9329 - val_loss: 0.5022 - val_acc: 0.8738\n",
      "Epoch 15/50\n",
      "42000/42000 [==============================] - 23s 551us/step - loss: 0.2002 - acc: 0.9346 - val_loss: 0.5114 - val_acc: 0.8757\n",
      "Epoch 16/50\n",
      "42000/42000 [==============================] - 23s 556us/step - loss: 0.2007 - acc: 0.9343 - val_loss: 0.5042 - val_acc: 0.8713\n",
      "Epoch 17/50\n",
      "42000/42000 [==============================] - 23s 551us/step - loss: 0.1979 - acc: 0.9362 - val_loss: 0.5071 - val_acc: 0.8746\n",
      "Epoch 18/50\n",
      "42000/42000 [==============================] - 23s 552us/step - loss: 0.1983 - acc: 0.9362 - val_loss: 0.5366 - val_acc: 0.8711\n",
      "Epoch 19/50\n",
      "42000/42000 [==============================] - 23s 550us/step - loss: 0.1932 - acc: 0.9369 - val_loss: 0.5172 - val_acc: 0.8715\n",
      "Epoch 20/50\n",
      "42000/42000 [==============================] - 23s 549us/step - loss: 0.1944 - acc: 0.9377 - val_loss: 0.5347 - val_acc: 0.8696\n",
      "Epoch 21/50\n",
      "42000/42000 [==============================] - 23s 550us/step - loss: 0.1877 - acc: 0.9397 - val_loss: 0.5217 - val_acc: 0.8734\n",
      "Epoch 22/50\n",
      "42000/42000 [==============================] - 23s 551us/step - loss: 0.1918 - acc: 0.9388 - val_loss: 0.5287 - val_acc: 0.8713\n",
      "Epoch 23/50\n",
      "42000/42000 [==============================] - 23s 553us/step - loss: 0.1859 - acc: 0.9396 - val_loss: 0.5365 - val_acc: 0.8699\n",
      "Epoch 24/50\n",
      "42000/42000 [==============================] - 23s 555us/step - loss: 0.1825 - acc: 0.9407 - val_loss: 0.5244 - val_acc: 0.8691\n",
      "Epoch 25/50\n",
      "42000/42000 [==============================] - 23s 556us/step - loss: 0.1827 - acc: 0.9408 - val_loss: 0.5246 - val_acc: 0.8759\n",
      "Epoch 26/50\n",
      "42000/42000 [==============================] - 23s 556us/step - loss: 0.1838 - acc: 0.9400 - val_loss: 0.5398 - val_acc: 0.8725\n",
      "Epoch 27/50\n",
      "42000/42000 [==============================] - 23s 555us/step - loss: 0.1826 - acc: 0.9406 - val_loss: 0.5495 - val_acc: 0.8677\n",
      "Epoch 28/50\n",
      "42000/42000 [==============================] - 23s 553us/step - loss: 0.1790 - acc: 0.9412 - val_loss: 0.5374 - val_acc: 0.8711\n",
      "Epoch 29/50\n",
      "42000/42000 [==============================] - 24s 561us/step - loss: 0.1771 - acc: 0.9434 - val_loss: 0.5119 - val_acc: 0.8744\n",
      "Epoch 30/50\n",
      "42000/42000 [==============================] - 24s 567us/step - loss: 0.1750 - acc: 0.9435 - val_loss: 0.5192 - val_acc: 0.8734\n",
      "Epoch 31/50\n",
      "42000/42000 [==============================] - 23s 556us/step - loss: 0.1744 - acc: 0.9436 - val_loss: 0.5596 - val_acc: 0.8684\n",
      "Epoch 32/50\n",
      "42000/42000 [==============================] - 23s 556us/step - loss: 0.1766 - acc: 0.9422 - val_loss: 0.5549 - val_acc: 0.8721\n",
      "Epoch 33/50\n",
      "42000/42000 [==============================] - 23s 558us/step - loss: 0.1693 - acc: 0.9456 - val_loss: 0.5284 - val_acc: 0.8734\n",
      "Epoch 34/50\n",
      "42000/42000 [==============================] - 23s 554us/step - loss: 0.1708 - acc: 0.9451 - val_loss: 0.5351 - val_acc: 0.8714\n",
      "Epoch 35/50\n",
      "42000/42000 [==============================] - 23s 555us/step - loss: 0.1698 - acc: 0.9454 - val_loss: 0.5534 - val_acc: 0.8707\n",
      "Epoch 36/50\n",
      "42000/42000 [==============================] - 23s 552us/step - loss: 0.1698 - acc: 0.9456 - val_loss: 0.5643 - val_acc: 0.8687\n",
      "Epoch 37/50\n",
      "42000/42000 [==============================] - 23s 551us/step - loss: 0.1638 - acc: 0.9477 - val_loss: 0.5533 - val_acc: 0.8727\n",
      "Epoch 38/50\n",
      "42000/42000 [==============================] - 23s 547us/step - loss: 0.1646 - acc: 0.9468 - val_loss: 0.5374 - val_acc: 0.8717\n",
      "Epoch 39/50\n",
      "42000/42000 [==============================] - 23s 548us/step - loss: 0.1634 - acc: 0.9474 - val_loss: 0.5639 - val_acc: 0.8696\n",
      "Epoch 40/50\n",
      "42000/42000 [==============================] - 23s 549us/step - loss: 0.1660 - acc: 0.9466 - val_loss: 0.5411 - val_acc: 0.8677\n",
      "Epoch 41/50\n",
      "42000/42000 [==============================] - 23s 549us/step - loss: 0.1651 - acc: 0.9468 - val_loss: 0.5298 - val_acc: 0.8735\n",
      "Epoch 42/50\n",
      "42000/42000 [==============================] - 23s 548us/step - loss: 0.1580 - acc: 0.9491 - val_loss: 0.5542 - val_acc: 0.8686\n",
      "Epoch 43/50\n",
      "42000/42000 [==============================] - 23s 559us/step - loss: 0.1596 - acc: 0.9491 - val_loss: 0.5570 - val_acc: 0.8727\n",
      "Epoch 44/50\n",
      "42000/42000 [==============================] - 23s 551us/step - loss: 0.1556 - acc: 0.9490 - val_loss: 0.5545 - val_acc: 0.8736\n",
      "Epoch 45/50\n",
      "42000/42000 [==============================] - 23s 550us/step - loss: 0.1537 - acc: 0.9504 - val_loss: 0.5591 - val_acc: 0.8713\n",
      "Epoch 46/50\n",
      "42000/42000 [==============================] - 23s 549us/step - loss: 0.1575 - acc: 0.9488 - val_loss: 0.5595 - val_acc: 0.8734\n",
      "Epoch 47/50\n",
      "42000/42000 [==============================] - 23s 547us/step - loss: 0.1581 - acc: 0.9486 - val_loss: 0.5697 - val_acc: 0.8710\n",
      "Epoch 48/50\n",
      "42000/42000 [==============================] - 23s 551us/step - loss: 0.1615 - acc: 0.9486 - val_loss: 0.5501 - val_acc: 0.8733\n",
      "Epoch 49/50\n",
      "42000/42000 [==============================] - 23s 552us/step - loss: 0.1522 - acc: 0.9509 - val_loss: 0.5632 - val_acc: 0.8755\n",
      "Epoch 50/50\n",
      "42000/42000 [==============================] - 23s 547us/step - loss: 0.1521 - acc: 0.9511 - val_loss: 0.5369 - val_acc: 0.8753\n"
     ]
    }
   ],
   "source": [
    "history=model2.fit(X_train, y_train, validation_data=(X_test, y_test), epochs=50, batch_size = 32) \n",
    " ## it will run in collab"
   ]
  },
  {
   "cell_type": "markdown",
   "metadata": {
    "colab_type": "text",
    "id": "BUskRoxqWxCJ"
   },
   "source": [
    "##### In This model2 with 2 Batch Normalization layer, 1 Drop-Out and 6 dense layers, seems overfit, for 50 epochs, we got 95 on Train and 87.5 and train."
   ]
  },
  {
   "cell_type": "code",
   "execution_count": 35,
   "metadata": {
    "colab": {
     "base_uri": "https://localhost:8080/",
     "height": 52
    },
    "colab_type": "code",
    "executionInfo": {
     "elapsed": 6831,
     "status": "ok",
     "timestamp": 1584480440691,
     "user": {
      "displayName": "Rashmi Tomer",
      "photoUrl": "https://lh3.googleusercontent.com/a-/AOh14GhNPDj_ox5N9VvP38J_9l6p7mJxGbcbLnM0y4420g=s64",
      "userId": "11743593445641168994"
     },
     "user_tz": -330
    },
    "id": "ogIjGAtU4JKZ",
    "outputId": "9a5d45e1-6a27-4293-ba33-2b054f4be50c"
   },
   "outputs": [
    {
     "name": "stdout",
     "output_type": "stream",
     "text": [
      "Train Loss= 0.04329721327228028 ; Accuracy= 0.9896904761904762\n",
      "Test Loss= 0.5368925941785176 ; Accuracy= 0.8753333333333333\n"
     ]
    }
   ],
   "source": [
    "score_train = model2.evaluate(X_train, y_train,verbose=0)\n",
    "print(\"Train Loss=\",score_train[0],\"; Accuracy=\",score_train[1])\n",
    "score = model2.evaluate(X_test, y_test,verbose=0)\n",
    "print(\"Test Loss=\",score[0],\"; Accuracy=\",score[1])"
   ]
  },
  {
   "cell_type": "markdown",
   "metadata": {
    "colab_type": "text",
    "id": "1IHxJ0mJ-drQ"
   },
   "source": [
    "On comparison to Model1(97.3 and 87.4 for train and test),  Using the model2 as above we could improve the Accuracy of train and test to 98.9 and approx 87.5 respectively."
   ]
  },
  {
   "cell_type": "code",
   "execution_count": 0,
   "metadata": {
    "colab": {},
    "colab_type": "code",
    "id": "B-plzzCSZXz_"
   },
   "outputs": [],
   "source": []
  }
 ],
 "metadata": {
  "accelerator": "GPU",
  "colab": {
   "collapsed_sections": [],
   "name": "Project10-CNN-The Street View House Numbers (SVHN) Dataset.ipynb",
   "provenance": []
  },
  "kernelspec": {
   "display_name": "Python 3",
   "language": "python",
   "name": "python3"
  },
  "language_info": {
   "codemirror_mode": {
    "name": "ipython",
    "version": 3
   },
   "file_extension": ".py",
   "mimetype": "text/x-python",
   "name": "python",
   "nbconvert_exporter": "python",
   "pygments_lexer": "ipython3",
   "version": "3.7.6"
  }
 },
 "nbformat": 4,
 "nbformat_minor": 1
}
