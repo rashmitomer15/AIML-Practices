{
 "cells": [
  {
   "cell_type": "markdown",
   "metadata": {
    "colab_type": "text",
    "id": "xpAuMVCwfWs8"
   },
   "source": [
    "# LSTM Long Short Term Memory\n"
   ]
  },
  {
   "cell_type": "markdown",
   "metadata": {},
   "source": [
    "#### Using LSTM to predict the Google stock price, using daily stock price data from year 2012 to 2016. Building an LSTM to predict the stock price for Jan 2017 !!"
   ]
  },
  {
   "cell_type": "markdown",
   "metadata": {
    "colab_type": "text",
    "id": "nxJfRe4bfYVA"
   },
   "source": [
    "## Part 1 - Data Preprocessing"
   ]
  },
  {
   "cell_type": "markdown",
   "metadata": {
    "colab_type": "text",
    "id": "ir9zwETrfbrp"
   },
   "source": [
    "### Importing the libraries"
   ]
  },
  {
   "cell_type": "code",
   "execution_count": 1,
   "metadata": {
    "colab": {},
    "colab_type": "code",
    "id": "ZT1f24vHffuf"
   },
   "outputs": [],
   "source": [
    "import numpy as np\n",
    "import matplotlib.pyplot as plt\n",
    "import pandas as pd"
   ]
  },
  {
   "cell_type": "markdown",
   "metadata": {
    "colab_type": "text",
    "id": "nQ47JAxrgmaL"
   },
   "source": [
    "### Importing the training set"
   ]
  },
  {
   "cell_type": "code",
   "execution_count": 2,
   "metadata": {
    "colab": {},
    "colab_type": "code",
    "id": "1xiv3pJOgqY3"
   },
   "outputs": [],
   "source": [
    "dataset_train = pd.read_csv('Google_Stock_Price_Train.csv')\n",
    "training_set = dataset_train.iloc[:, 1:2].values"
   ]
  },
  {
   "cell_type": "markdown",
   "metadata": {
    "colab_type": "text",
    "id": "HT8_2UJegtG5"
   },
   "source": [
    "### Feature Scaling"
   ]
  },
  {
   "cell_type": "code",
   "execution_count": 3,
   "metadata": {
    "colab": {},
    "colab_type": "code",
    "id": "OTrF2kR7gx9x"
   },
   "outputs": [],
   "source": [
    "from sklearn.preprocessing import MinMaxScaler\n",
    "sc = MinMaxScaler(feature_range = (0, 1))\n",
    "training_set_scaled = sc.fit_transform(training_set)"
   ]
  },
  {
   "cell_type": "markdown",
   "metadata": {
    "colab_type": "text",
    "id": "JyYgYocqhNUg"
   },
   "source": [
    "### Creating a data structure with 60 timesteps and 1 output"
   ]
  },
  {
   "cell_type": "code",
   "execution_count": 4,
   "metadata": {
    "colab": {},
    "colab_type": "code",
    "id": "iofU21B0i6ST"
   },
   "outputs": [],
   "source": [
    "X_train = []\n",
    "y_train = []\n",
    "for i in range(60, 1258):\n",
    "    X_train.append(training_set_scaled[i-60:i, 0])\n",
    "    y_train.append(training_set_scaled[i, 0])\n",
    "X_train, y_train = np.array(X_train), np.array(y_train)"
   ]
  },
  {
   "cell_type": "markdown",
   "metadata": {
    "colab_type": "text",
    "id": "D8yaN7Zvi95l"
   },
   "source": [
    "### Reshaping"
   ]
  },
  {
   "cell_type": "code",
   "execution_count": 5,
   "metadata": {
    "colab": {},
    "colab_type": "code",
    "id": "FOXqJHmNjBkz"
   },
   "outputs": [],
   "source": [
    "X_train = np.reshape(X_train, (X_train.shape[0], X_train.shape[1], 1))"
   ]
  },
  {
   "cell_type": "markdown",
   "metadata": {
    "colab_type": "text",
    "id": "ZRRSOJeVjEWV"
   },
   "source": [
    "## Part 2 - Building and Training the LSTM"
   ]
  },
  {
   "cell_type": "markdown",
   "metadata": {
    "colab_type": "text",
    "id": "k4XV88JMjHXG"
   },
   "source": [
    "### Importing the Keras libraries and packages"
   ]
  },
  {
   "cell_type": "code",
   "execution_count": 7,
   "metadata": {
    "colab": {
     "base_uri": "https://localhost:8080/",
     "height": 34
    },
    "colab_type": "code",
    "id": "9JRnqsxEjKsD",
    "outputId": "b3e23e78-18aa-4396-c923-c877b8de60e4"
   },
   "outputs": [],
   "source": [
    "from tensorflow.keras.models import Sequential\n",
    "from tensorflow.keras.layers import Dense\n",
    "from tensorflow.keras.layers import LSTM\n",
    "from tensorflow.keras.layers import Dropout"
   ]
  },
  {
   "cell_type": "markdown",
   "metadata": {
    "colab_type": "text",
    "id": "FEIE-1s9jNzC"
   },
   "source": [
    "### Initialising the LSTM"
   ]
  },
  {
   "cell_type": "code",
   "execution_count": 8,
   "metadata": {
    "colab": {},
    "colab_type": "code",
    "id": "1338dJ0UjRKH"
   },
   "outputs": [],
   "source": [
    "regressor = Sequential()"
   ]
  },
  {
   "cell_type": "markdown",
   "metadata": {
    "colab_type": "text",
    "id": "62eg1OPGjT8z"
   },
   "source": [
    "### Adding the first LSTM layer and some Dropout regularisation"
   ]
  },
  {
   "cell_type": "code",
   "execution_count": 9,
   "metadata": {
    "colab": {},
    "colab_type": "code",
    "id": "2hIinyXUjbVU"
   },
   "outputs": [],
   "source": [
    "regressor.add(LSTM(units = 50, return_sequences = True, input_shape = (X_train.shape[1], 1)))\n",
    "regressor.add(Dropout(0.2))"
   ]
  },
  {
   "cell_type": "markdown",
   "metadata": {
    "colab_type": "text",
    "id": "3XBIYLyOjlMx"
   },
   "source": [
    "### Adding a second LSTM layer and some Dropout regularisation"
   ]
  },
  {
   "cell_type": "code",
   "execution_count": 10,
   "metadata": {
    "colab": {},
    "colab_type": "code",
    "id": "UG7nrVaSjuZ2"
   },
   "outputs": [],
   "source": [
    "regressor.add(LSTM(units = 50, return_sequences = True))\n",
    "regressor.add(Dropout(0.2))"
   ]
  },
  {
   "cell_type": "markdown",
   "metadata": {
    "colab_type": "text",
    "id": "Ey3fHVnGj1cu"
   },
   "source": [
    "### Adding a third LSTM layer and some Dropout regularisation"
   ]
  },
  {
   "cell_type": "code",
   "execution_count": 11,
   "metadata": {
    "colab": {},
    "colab_type": "code",
    "id": "PuNi6PgFj7jO"
   },
   "outputs": [],
   "source": [
    "regressor.add(LSTM(units = 50, return_sequences = True))\n",
    "regressor.add(Dropout(0.2))"
   ]
  },
  {
   "cell_type": "markdown",
   "metadata": {
    "colab_type": "text",
    "id": "SYTrtfTmj933"
   },
   "source": [
    "### Adding a fourth LSTM layer and some Dropout regularisation"
   ]
  },
  {
   "cell_type": "code",
   "execution_count": 12,
   "metadata": {
    "colab": {},
    "colab_type": "code",
    "id": "Jp4Ty8fRkBYV"
   },
   "outputs": [],
   "source": [
    "regressor.add(LSTM(units = 50))\n",
    "regressor.add(Dropout(0.2))"
   ]
  },
  {
   "cell_type": "markdown",
   "metadata": {
    "colab_type": "text",
    "id": "9ABI6rOIkHhk"
   },
   "source": [
    "### Adding the output layer"
   ]
  },
  {
   "cell_type": "code",
   "execution_count": 13,
   "metadata": {
    "colab": {},
    "colab_type": "code",
    "id": "aM6R1z4WkME8"
   },
   "outputs": [],
   "source": [
    "regressor.add(Dense(units = 1))"
   ]
  },
  {
   "cell_type": "markdown",
   "metadata": {
    "colab_type": "text",
    "id": "zLx4K7uUkPSh"
   },
   "source": [
    "### Compiling the RNN"
   ]
  },
  {
   "cell_type": "code",
   "execution_count": 14,
   "metadata": {
    "colab": {},
    "colab_type": "code",
    "id": "XTrhVN-tkbko"
   },
   "outputs": [],
   "source": [
    "regressor.compile(optimizer = 'adam', loss = 'mean_squared_error')"
   ]
  },
  {
   "cell_type": "markdown",
   "metadata": {
    "colab_type": "text",
    "id": "-mPhwKGkkebi"
   },
   "source": [
    "### Fitting the RNN to the Training set"
   ]
  },
  {
   "cell_type": "code",
   "execution_count": 22,
   "metadata": {
    "colab": {
     "base_uri": "https://localhost:8080/",
     "height": 1000
    },
    "colab_type": "code",
    "id": "I06Nkrz5kkb-",
    "outputId": "dc9d947a-4d5c-4dbc-ed45-31bf44b98dfb"
   },
   "outputs": [
    {
     "name": "stdout",
     "output_type": "stream",
     "text": [
      "Epoch 1/150\n",
      "38/38 [==============================] - 6s 163ms/step - loss: 0.0014\n",
      "Epoch 2/150\n",
      "38/38 [==============================] - 6s 158ms/step - loss: 0.0017\n",
      "Epoch 3/150\n",
      "38/38 [==============================] - 6s 151ms/step - loss: 0.0013\n",
      "Epoch 4/150\n",
      "38/38 [==============================] - 6s 166ms/step - loss: 0.0013\n",
      "Epoch 5/150\n",
      "38/38 [==============================] - 6s 166ms/step - loss: 0.0013\n",
      "Epoch 6/150\n",
      "38/38 [==============================] - 6s 169ms/step - loss: 0.0014 1s - lo\n",
      "Epoch 7/150\n",
      "38/38 [==============================] - 6s 155ms/step - loss: 0.0013\n",
      "Epoch 8/150\n",
      "38/38 [==============================] - 6s 166ms/step - loss: 0.0013 0s - loss: \n",
      "Epoch 9/150\n",
      "38/38 [==============================] - 6s 165ms/step - loss: 0.0014\n",
      "Epoch 10/150\n",
      "38/38 [==============================] - 7s 172ms/step - loss: 0.0014\n",
      "Epoch 11/150\n",
      "38/38 [==============================] - 6s 166ms/step - loss: 0.0015\n",
      "Epoch 12/150\n",
      "38/38 [==============================] - 6s 165ms/step - loss: 0.0014\n",
      "Epoch 13/150\n",
      "38/38 [==============================] - 6s 171ms/step - loss: 0.0012TA: 1s - loss\n",
      "Epoch 14/150\n",
      "38/38 [==============================] - 6s 161ms/step - loss: 0.0014- ETA: 1s - \n",
      "Epoch 15/150\n",
      "38/38 [==============================] - 6s 168ms/step - loss: 0.0011\n",
      "Epoch 16/150\n",
      "38/38 [==============================] - 6s 158ms/step - loss: 0.0012\n",
      "Epoch 17/150\n",
      "38/38 [==============================] - 6s 167ms/step - loss: 0.0013\n",
      "Epoch 18/150\n",
      "38/38 [==============================] - 7s 173ms/step - loss: 0.0013\n",
      "Epoch 19/150\n",
      "38/38 [==============================] - 6s 168ms/step - loss: 0.0014\n",
      "Epoch 20/150\n",
      "38/38 [==============================] - 6s 170ms/step - loss: 0.0013\n",
      "Epoch 21/150\n",
      "38/38 [==============================] - 7s 172ms/step - loss: 0.0013\n",
      "Epoch 22/150\n",
      "38/38 [==============================] - 7s 172ms/step - loss: 0.0012\n",
      "Epoch 23/150\n",
      "38/38 [==============================] - 6s 163ms/step - loss: 0.0012\n",
      "Epoch 24/150\n",
      "38/38 [==============================] - 6s 150ms/step - loss: 0.0011\n",
      "Epoch 25/150\n",
      "38/38 [==============================] - 6s 148ms/step - loss: 0.0014 1s \n",
      "Epoch 26/150\n",
      "38/38 [==============================] - 6s 168ms/step - loss: 0.0012\n",
      "Epoch 27/150\n",
      "38/38 [==============================] - 6s 163ms/step - loss: 0.0013\n",
      "Epoch 28/150\n",
      "38/38 [==============================] - 6s 158ms/step - loss: 0.0013\n",
      "Epoch 29/150\n",
      "38/38 [==============================] - 6s 166ms/step - loss: 0.0014\n",
      "Epoch 30/150\n",
      "38/38 [==============================] - 6s 152ms/step - loss: 0.0013\n",
      "Epoch 31/150\n",
      "38/38 [==============================] - 5s 122ms/step - loss: 0.0011\n",
      "Epoch 32/150\n",
      "38/38 [==============================] - 5s 119ms/step - loss: 0.0011\n",
      "Epoch 33/150\n",
      "38/38 [==============================] - 6s 149ms/step - loss: 0.0012\n",
      "Epoch 34/150\n",
      "38/38 [==============================] - 5s 140ms/step - loss: 0.0011 0s - loss:\n",
      "Epoch 35/150\n",
      "38/38 [==============================] - 7s 173ms/step - loss: 0.0011\n",
      "Epoch 36/150\n",
      "38/38 [==============================] - 6s 162ms/step - loss: 0.0011 \n",
      "Epoch 37/150\n",
      "38/38 [==============================] - 6s 166ms/step - loss: 0.0011\n",
      "Epoch 38/150\n",
      "38/38 [==============================] - 6s 151ms/step - loss: 0.0011\n",
      "Epoch 39/150\n",
      "38/38 [==============================] - 6s 170ms/step - loss: 0.0012\n",
      "Epoch 40/150\n",
      "38/38 [==============================] - 6s 161ms/step - loss: 0.0012\n",
      "Epoch 41/150\n",
      "38/38 [==============================] - 3s 84ms/step - loss: 0.0011\n",
      "Epoch 42/150\n",
      "38/38 [==============================] - 3s 87ms/step - loss: 0.0013\n",
      "Epoch 43/150\n",
      "38/38 [==============================] - 3s 85ms/step - loss: 0.0011\n",
      "Epoch 44/150\n",
      "38/38 [==============================] - 4s 108ms/step - loss: 0.0011\n",
      "Epoch 45/150\n",
      "38/38 [==============================] - 4s 113ms/step - loss: 0.0011\n",
      "Epoch 46/150\n",
      "38/38 [==============================] - 4s 112ms/step - loss: 0.0013\n",
      "Epoch 47/150\n",
      "38/38 [==============================] - 6s 167ms/step - loss: 0.0012\n",
      "Epoch 48/150\n",
      "38/38 [==============================] - 6s 169ms/step - loss: 0.0011\n",
      "Epoch 49/150\n",
      "38/38 [==============================] - 6s 160ms/step - loss: 0.0012\n",
      "Epoch 50/150\n",
      "38/38 [==============================] - 6s 158ms/step - loss: 0.0011\n",
      "Epoch 51/150\n",
      "38/38 [==============================] - 5s 142ms/step - loss: 0.0011\n",
      "Epoch 52/150\n",
      "38/38 [==============================] - 5s 130ms/step - loss: 0.0011\n",
      "Epoch 53/150\n",
      "38/38 [==============================] - 5s 136ms/step - loss: 0.0010\n",
      "Epoch 54/150\n",
      "38/38 [==============================] - 6s 169ms/step - loss: 0.0011\n",
      "Epoch 55/150\n",
      "38/38 [==============================] - 6s 168ms/step - loss: 0.0012\n",
      "Epoch 56/150\n",
      "38/38 [==============================] - 6s 170ms/step - loss: 0.0012\n",
      "Epoch 57/150\n",
      "38/38 [==============================] - 6s 171ms/step - loss: 0.0011\n",
      "Epoch 58/150\n",
      "38/38 [==============================] - 6s 147ms/step - loss: 0.0011\n",
      "Epoch 59/150\n",
      "38/38 [==============================] - 6s 166ms/step - loss: 0.0012\n",
      "Epoch 60/150\n",
      "38/38 [==============================] - 6s 169ms/step - loss: 0.0013\n",
      "Epoch 61/150\n",
      "38/38 [==============================] - 7s 175ms/step - loss: 0.0011\n",
      "Epoch 62/150\n",
      "38/38 [==============================] - 7s 180ms/step - loss: 0.0011\n",
      "Epoch 63/150\n",
      "38/38 [==============================] - 7s 174ms/step - loss: 0.0011\n",
      "Epoch 64/150\n",
      "38/38 [==============================] - 7s 181ms/step - loss: 0.0011\n",
      "Epoch 65/150\n",
      "38/38 [==============================] - 7s 174ms/step - loss: 9.6588e-043 - ETA: 0s - loss: 9.66\n",
      "Epoch 66/150\n",
      "38/38 [==============================] - 7s 171ms/step - loss: 0.0010\n",
      "Epoch 67/150\n",
      "38/38 [==============================] - 7s 179ms/step - loss: 0.0011\n",
      "Epoch 68/150\n",
      "38/38 [==============================] - 7s 174ms/step - loss: 0.0012ETA: - ETA: 2s\n",
      "Epoch 69/150\n",
      "38/38 [==============================] - 6s 167ms/step - loss: 0.0011\n",
      "Epoch 70/150\n",
      "38/38 [==============================] - 6s 158ms/step - loss: 9.7887e-04\n",
      "Epoch 71/150\n",
      "38/38 [==============================] - 6s 169ms/step - loss: 0.0012\n",
      "Epoch 72/150\n",
      "38/38 [==============================] - 6s 170ms/step - loss: 0.0010\n",
      "Epoch 73/150\n",
      "38/38 [==============================] - 6s 171ms/step - loss: 0.0011\n",
      "Epoch 74/150\n",
      "38/38 [==============================] - ETA: 0s - loss: 0.001 - 7s 172ms/step - loss: 0.0011\n",
      "Epoch 75/150\n",
      "38/38 [==============================] - 7s 178ms/step - loss: 0.0011\n",
      "Epoch 76/150\n",
      "38/38 [==============================] - 7s 172ms/step - loss: 9.5921e-04\n",
      "Epoch 77/150\n",
      "38/38 [==============================] - 7s 173ms/step - loss: 0.0011\n",
      "Epoch 78/150\n",
      "38/38 [==============================] - 7s 172ms/step - loss: 9.7678e-04\n",
      "Epoch 79/150\n",
      "38/38 [==============================] - 7s 179ms/step - loss: 0.0011\n",
      "Epoch 80/150\n",
      "38/38 [==============================] - 7s 175ms/step - loss: 0.0011ETA: 3\n",
      "Epoch 81/150\n",
      "38/38 [==============================] - 7s 172ms/step - loss: 0.0012\n",
      "Epoch 82/150\n",
      "38/38 [==============================] - 6s 165ms/step - loss: 0.0011\n",
      "Epoch 83/150\n",
      "38/38 [==============================] - 6s 169ms/step - loss: 9.2842e-04 1s - loss:\n",
      "Epoch 84/150\n",
      "38/38 [==============================] - 6s 165ms/step - loss: 9.7619e-04\n",
      "Epoch 85/150\n",
      "38/38 [==============================] - 7s 172ms/step - loss: 0.0011 2s -\n",
      "Epoch 86/150\n",
      "38/38 [==============================] - 6s 171ms/step - loss: 0.0010\n",
      "Epoch 87/150\n",
      "38/38 [==============================] - 7s 174ms/step - loss: 0.0010\n",
      "Epoch 88/150\n",
      "38/38 [==============================] - 7s 176ms/step - loss: 0.0010\n",
      "Epoch 89/150\n",
      "38/38 [==============================] - 7s 171ms/step - loss: 0.0012\n",
      "Epoch 90/150\n",
      "38/38 [==============================] - 6s 171ms/step - loss: 0.0010\n",
      "Epoch 91/150\n",
      "38/38 [==============================] - 7s 174ms/step - loss: 9.2730e-04\n",
      "Epoch 92/150\n",
      "38/38 [==============================] - 7s 172ms/step - loss: 9.0628e-04\n",
      "Epoch 93/150\n",
      "38/38 [==============================] - 6s 169ms/step - loss: 0.0010\n",
      "Epoch 94/150\n",
      "38/38 [==============================] - 7s 176ms/step - loss: 0.0011\n",
      "Epoch 95/150\n",
      "38/38 [==============================] - 6s 169ms/step - loss: 0.0010\n",
      "Epoch 96/150\n",
      "38/38 [==============================] - 6s 148ms/step - loss: 9.3648e-04\n",
      "Epoch 97/150\n"
     ]
    },
    {
     "name": "stdout",
     "output_type": "stream",
     "text": [
      "38/38 [==============================] - 6s 160ms/step - loss: 9.8028e-04\n",
      "Epoch 98/150\n",
      "38/38 [==============================] - 6s 145ms/step - loss: 9.2081e-04\n",
      "Epoch 99/150\n",
      "38/38 [==============================] - 7s 174ms/step - loss: 0.0011\n",
      "Epoch 100/150\n",
      "38/38 [==============================] - 6s 167ms/step - loss: 9.7525e-04\n",
      "Epoch 101/150\n",
      "38/38 [==============================] - 7s 172ms/step - loss: 0.0010ETA: 0s - loss: 0.00\n",
      "Epoch 102/150\n",
      "38/38 [==============================] - 6s 171ms/step - loss: 0.0012\n",
      "Epoch 103/150\n",
      "38/38 [==============================] - 7s 173ms/step - loss: 0.0010\n",
      "Epoch 104/150\n",
      "38/38 [==============================] - 7s 172ms/step - loss: 9.5891e-04\n",
      "Epoch 105/150\n",
      "38/38 [==============================] - 6s 161ms/step - loss: 9.8364e-04\n",
      "Epoch 106/150\n",
      "38/38 [==============================] - 4s 101ms/step - loss: 0.0012\n",
      "Epoch 107/150\n",
      "38/38 [==============================] - 3s 89ms/step - loss: 0.0012\n",
      "Epoch 108/150\n",
      "38/38 [==============================] - 3s 89ms/step - loss: 0.0010\n",
      "Epoch 109/150\n",
      "38/38 [==============================] - 4s 112ms/step - loss: 0.0011\n",
      "Epoch 110/150\n",
      "38/38 [==============================] - 6s 168ms/step - loss: 0.0010: 2s\n",
      "Epoch 111/150\n",
      "38/38 [==============================] - 5s 136ms/step - loss: 0.0010\n",
      "Epoch 112/150\n",
      "38/38 [==============================] - 6s 161ms/step - loss: 0.0011\n",
      "Epoch 113/150\n",
      "38/38 [==============================] - 4s 94ms/step - loss: 0.0011\n",
      "Epoch 114/150\n",
      "38/38 [==============================] - 5s 136ms/step - loss: 0.0011\n",
      "Epoch 115/150\n",
      "38/38 [==============================] - 6s 151ms/step - loss: 9.9000e-04\n",
      "Epoch 116/150\n",
      "38/38 [==============================] - 6s 165ms/step - loss: 0.0010\n",
      "Epoch 117/150\n",
      "38/38 [==============================] - 7s 175ms/step - loss: 9.6307e-04\n",
      "Epoch 118/150\n",
      "38/38 [==============================] - 6s 169ms/step - loss: 0.0011\n",
      "Epoch 119/150\n",
      "38/38 [==============================] - 6s 162ms/step - loss: 9.5593e-04\n",
      "Epoch 120/150\n",
      "38/38 [==============================] - 6s 169ms/step - loss: 9.7928e-04 - lo\n",
      "Epoch 121/150\n",
      "38/38 [==============================] - 7s 176ms/step - loss: 0.0012\n",
      "Epoch 122/150\n",
      "38/38 [==============================] - 6s 170ms/step - loss: 9.7674e-04\n",
      "Epoch 123/150\n",
      "38/38 [==============================] - 6s 166ms/step - loss: 8.7082e-04\n",
      "Epoch 124/150\n",
      "38/38 [==============================] - 7s 176ms/step - loss: 0.0012\n",
      "Epoch 125/150\n",
      "38/38 [==============================] - 6s 169ms/step - loss: 0.0011\n",
      "Epoch 126/150\n",
      "38/38 [==============================] - 6s 169ms/step - loss: 0.0010\n",
      "Epoch 127/150\n",
      "38/38 [==============================] - ETA: 0s - loss: 9.2414e-0 - 7s 176ms/step - loss: 9.2414e-04\n",
      "Epoch 128/150\n",
      "38/38 [==============================] - 6s 168ms/step - loss: 9.4292e-04\n",
      "Epoch 129/150\n",
      "38/38 [==============================] - 7s 174ms/step - loss: 0.0011\n",
      "Epoch 130/150\n",
      "38/38 [==============================] - 7s 172ms/step - loss: 9.2594e-04\n",
      "Epoch 131/150\n",
      "38/38 [==============================] - 6s 171ms/step - loss: 9.4204e-04 3s\n",
      "Epoch 132/150\n",
      "38/38 [==============================] - 7s 175ms/step - loss: 8.6338e-04\n",
      "Epoch 133/150\n",
      "38/38 [==============================] - 6s 164ms/step - loss: 9.4709e-04\n",
      "Epoch 134/150\n",
      "38/38 [==============================] - 6s 170ms/step - loss: 9.4683e-04\n",
      "Epoch 135/150\n",
      "38/38 [==============================] - 6s 167ms/step - loss: 0.0012\n",
      "Epoch 136/150\n",
      "38/38 [==============================] - 6s 167ms/step - loss: 8.7008e-04\n",
      "Epoch 137/150\n",
      "38/38 [==============================] - 6s 167ms/step - loss: 9.6458e-04\n",
      "Epoch 138/150\n",
      "38/38 [==============================] - 7s 174ms/step - loss: 0.0010\n",
      "Epoch 139/150\n",
      "38/38 [==============================] - 6s 168ms/step - loss: 9.2929e-04\n",
      "Epoch 140/150\n",
      "38/38 [==============================] - 6s 170ms/step - loss: 0.0010\n",
      "Epoch 141/150\n",
      "38/38 [==============================] - 7s 174ms/step - loss: 9.9160e-04\n",
      "Epoch 142/150\n",
      "38/38 [==============================] - 6s 171ms/step - loss: 8.8602e-04\n",
      "Epoch 143/150\n",
      "38/38 [==============================] - 7s 173ms/step - loss: 8.8410e-04 0s - loss: 8.69\n",
      "Epoch 144/150\n",
      "38/38 [==============================] - 6s 165ms/step - loss: 9.7367e-04\n",
      "Epoch 145/150\n",
      "38/38 [==============================] - 6s 170ms/step - loss: 0.0010 0s - loss: \n",
      "Epoch 146/150\n",
      "38/38 [==============================] - 7s 173ms/step - loss: 9.8126e-04\n",
      "Epoch 147/150\n",
      "38/38 [==============================] - 6s 169ms/step - loss: 9.5569e-04\n",
      "Epoch 148/150\n",
      "38/38 [==============================] - 6s 169ms/step - loss: 9.2231e-04\n",
      "Epoch 149/150\n",
      "38/38 [==============================] - ETA: 0s - loss: 0.001 - 7s 175ms/step - loss: 0.0011\n",
      "Epoch 150/150\n",
      "38/38 [==============================] - 6s 170ms/step - loss: 9.2106e-04\n"
     ]
    },
    {
     "data": {
      "text/plain": [
       "<tensorflow.python.keras.callbacks.History at 0x1d791149cc8>"
      ]
     },
     "execution_count": 22,
     "metadata": {},
     "output_type": "execute_result"
    }
   ],
   "source": [
    "regressor.fit(X_train, y_train, epochs = 150, batch_size = 32)"
   ]
  },
  {
   "cell_type": "markdown",
   "metadata": {
    "colab_type": "text",
    "id": "4hRau_lIkrE8"
   },
   "source": [
    "## Part 3 - Making the predictions and visualising the results"
   ]
  },
  {
   "cell_type": "markdown",
   "metadata": {
    "colab_type": "text",
    "id": "SgJO6qEDksxD"
   },
   "source": [
    "### Getting the real stock price of 2017"
   ]
  },
  {
   "cell_type": "code",
   "execution_count": 23,
   "metadata": {
    "colab": {},
    "colab_type": "code",
    "id": "FmBT2zqukxTz"
   },
   "outputs": [],
   "source": [
    "dataset_test = pd.read_csv('Google_Stock_Price_Test.csv')\n",
    "real_stock_price = dataset_test.iloc[:, 1:2].values"
   ]
  },
  {
   "cell_type": "markdown",
   "metadata": {
    "colab_type": "text",
    "id": "GrvrLblxkz42"
   },
   "source": [
    "### Getting the predicted stock price of 2017"
   ]
  },
  {
   "cell_type": "code",
   "execution_count": 24,
   "metadata": {
    "colab": {},
    "colab_type": "code",
    "id": "emikTvUpk3Ck"
   },
   "outputs": [],
   "source": [
    "dataset_total = pd.concat((dataset_train['Open'], dataset_test['Open']), axis = 0)\n",
    "inputs = dataset_total[len(dataset_total) - len(dataset_test) - 60:].values\n",
    "inputs = inputs.reshape(-1,1)\n",
    "inputs = sc.transform(inputs)\n",
    "X_test = []\n",
    "for i in range(60, 80):\n",
    "    X_test.append(inputs[i-60:i, 0])\n",
    "X_test = np.array(X_test)\n",
    "X_test = np.reshape(X_test, (X_test.shape[0], X_test.shape[1], 1))\n",
    "predicted_stock_price = regressor.predict(X_test)\n",
    "predicted_stock_price = sc.inverse_transform(predicted_stock_price)"
   ]
  },
  {
   "cell_type": "markdown",
   "metadata": {
    "colab_type": "text",
    "id": "iFTNs3YHk6FQ"
   },
   "source": [
    "### Visualising the results"
   ]
  },
  {
   "cell_type": "code",
   "execution_count": 25,
   "metadata": {
    "colab": {
     "base_uri": "https://localhost:8080/",
     "height": 295
    },
    "colab_type": "code",
    "id": "8OUI8U49k9tH",
    "outputId": "db0ed15e-071b-4bae-955e-0eda3df95238"
   },
   "outputs": [
    {
     "data": {
      "image/png": "[encoded data removed]",
      "text/plain": [
       "<Figure size 432x288 with 1 Axes>"
      ]
     },
     "metadata": {
      "needs_background": "light"
     },
     "output_type": "display_data"
    }
   ],
   "source": [
    "plt.plot(real_stock_price, color = 'red', label = 'Real Google Stock Price')\n",
    "plt.plot(predicted_stock_price, color = 'blue', label = 'Predicted Google Stock Price')\n",
    "plt.title('Google Stock Price Prediction')\n",
    "plt.xlabel('Time')\n",
    "plt.ylabel('Google Stock Price')\n",
    "plt.legend()\n",
    "plt.show()"
   ]
  },
  {
   "cell_type": "code",
   "execution_count": null,
   "metadata": {},
   "outputs": [],
   "source": []
  }
 ],
 "metadata": {
  "colab": {
   "collapsed_sections": [],
   "name": "recurrent_neural_network.ipynb",
   "provenance": []
  },
  "kernelspec": {
   "display_name": "Python 3",
   "language": "python",
   "name": "python3"
  },
  "language_info": {
   "codemirror_mode": {
    "name": "ipython",
    "version": 3
   },
   "file_extension": ".py",
   "mimetype": "text/x-python",
   "name": "python",
   "nbconvert_exporter": "python",
   "pygments_lexer": "ipython3",
   "version": "3.7.6"
  }
 },
 "nbformat": 4,
 "nbformat_minor": 1
}
